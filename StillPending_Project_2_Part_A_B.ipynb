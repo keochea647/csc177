{
  "cells": [
    {
      "cell_type": "code",
      "execution_count": null,
      "metadata": {
        "colab": {
          "base_uri": "https://localhost:8080/"
        },
        "id": "Z21d6LedtYiL",
        "outputId": "753598c5-4025-468e-8a2c-1eb97b572e9c"
      },
      "outputs": [
        {
          "output_type": "stream",
          "name": "stdout",
          "text": [
            "Number of instances = 398\n",
            "Number of attributes = 9\n",
            "Number of missing values:\n",
            "\tmpg: 0\n",
            "\tcylinders: 0\n",
            "\tdisplacement: 0\n",
            "\thorsepower: 6\n",
            "\tweight: 0\n",
            "\tacceleration: 0\n",
            "\tyear: 0\n",
            "\torigin: 0\n",
            "\tname: 0\n",
            "~Fill in missing data with median~\n",
            "Number of missing values:\n",
            "\tmpg: 0\n",
            "\tcylinders: 0\n",
            "\tdisplacement: 0\n",
            "\thorsepower: 0\n",
            "\tweight: 0\n",
            "\tacceleration: 0\n",
            "\tyear: 0\n",
            "\torigin: 0\n",
            "\tname: 0\n"
          ]
        }
      ],
      "source": [
        "import os\n",
        "import pandas as pd\n",
        "import numpy as np\n",
        "%matplotlib inline\n",
        "import matplotlib.pyplot as plt\n",
        "from sklearn import linear_model\n",
        "\n",
        "path = \"./data/\"\n",
        "filename_read = os.path.join(path,\"auto-mpg.csv\")\n",
        "\n",
        "mainDF = pd.read_csv(filename_read, na_values=['NA','?'], encoding=\"ISO-8859-1\");\n",
        "\n",
        "print('Number of instances = %d' % (mainDF.shape[0]))\n",
        "print('Number of attributes = %d' % (mainDF.shape[1]))\n",
        "print('Number of missing values:')\n",
        "for col in mainDF.columns:\n",
        "    print('\\t%s: %d' % (col,mainDF[col].isna().sum()))\n",
        "\n",
        "# Convert all missing values in the specified column to the median\n",
        "def missing_median(df, name):\n",
        "    med = df[name].median()\n",
        "    df[name] = df[name].fillna(med)\n",
        "\n",
        "missing_median(mainDF, 'horsepower')\n",
        "print('~Fill in missing data with median~')\n",
        "print('Number of missing values:')\n",
        "for col in mainDF.columns:\n",
        "    print('\\t%s: %d' % (col,mainDF[col].isna().sum()))\n"
      ]
    },
    {
      "cell_type": "code",
      "execution_count": null,
      "metadata": {
        "colab": {
          "base_uri": "https://localhost:8080/",
          "height": 206
        },
        "id": "T90peb3jzwjV",
        "outputId": "85fbff36-b378-4269-f400-d16786088eb3"
      },
      "outputs": [
        {
          "output_type": "execute_result",
          "data": {
            "text/plain": [
              "    mpg  cylinders  displacement  horsepower  weight  acceleration  year  \\\n",
              "0  18.0          8         307.0       130.0    3504          12.0    70   \n",
              "1  15.0          8         350.0       165.0    3693          11.5    70   \n",
              "2  18.0          8         318.0       150.0    3436          11.0    70   \n",
              "3  16.0          8         304.0       150.0    3433          12.0    70   \n",
              "4  17.0          8         302.0       140.0    3449          10.5    70   \n",
              "\n",
              "   origin                       name  \n",
              "0       1  chevrolet chevelle malibu  \n",
              "1       1          buick skylark 320  \n",
              "2       1         plymouth satellite  \n",
              "3       1              amc rebel sst  \n",
              "4       1                ford torino  "
            ],
            "text/html": [
              "\n",
              "  <div id=\"df-3c75b888-8eed-4a7b-b899-79f0686a8814\">\n",
              "    <div class=\"colab-df-container\">\n",
              "      <div>\n",
              "<style scoped>\n",
              "    .dataframe tbody tr th:only-of-type {\n",
              "        vertical-align: middle;\n",
              "    }\n",
              "\n",
              "    .dataframe tbody tr th {\n",
              "        vertical-align: top;\n",
              "    }\n",
              "\n",
              "    .dataframe thead th {\n",
              "        text-align: right;\n",
              "    }\n",
              "</style>\n",
              "<table border=\"1\" class=\"dataframe\">\n",
              "  <thead>\n",
              "    <tr style=\"text-align: right;\">\n",
              "      <th></th>\n",
              "      <th>mpg</th>\n",
              "      <th>cylinders</th>\n",
              "      <th>displacement</th>\n",
              "      <th>horsepower</th>\n",
              "      <th>weight</th>\n",
              "      <th>acceleration</th>\n",
              "      <th>year</th>\n",
              "      <th>origin</th>\n",
              "      <th>name</th>\n",
              "    </tr>\n",
              "  </thead>\n",
              "  <tbody>\n",
              "    <tr>\n",
              "      <th>0</th>\n",
              "      <td>18.0</td>\n",
              "      <td>8</td>\n",
              "      <td>307.0</td>\n",
              "      <td>130.0</td>\n",
              "      <td>3504</td>\n",
              "      <td>12.0</td>\n",
              "      <td>70</td>\n",
              "      <td>1</td>\n",
              "      <td>chevrolet chevelle malibu</td>\n",
              "    </tr>\n",
              "    <tr>\n",
              "      <th>1</th>\n",
              "      <td>15.0</td>\n",
              "      <td>8</td>\n",
              "      <td>350.0</td>\n",
              "      <td>165.0</td>\n",
              "      <td>3693</td>\n",
              "      <td>11.5</td>\n",
              "      <td>70</td>\n",
              "      <td>1</td>\n",
              "      <td>buick skylark 320</td>\n",
              "    </tr>\n",
              "    <tr>\n",
              "      <th>2</th>\n",
              "      <td>18.0</td>\n",
              "      <td>8</td>\n",
              "      <td>318.0</td>\n",
              "      <td>150.0</td>\n",
              "      <td>3436</td>\n",
              "      <td>11.0</td>\n",
              "      <td>70</td>\n",
              "      <td>1</td>\n",
              "      <td>plymouth satellite</td>\n",
              "    </tr>\n",
              "    <tr>\n",
              "      <th>3</th>\n",
              "      <td>16.0</td>\n",
              "      <td>8</td>\n",
              "      <td>304.0</td>\n",
              "      <td>150.0</td>\n",
              "      <td>3433</td>\n",
              "      <td>12.0</td>\n",
              "      <td>70</td>\n",
              "      <td>1</td>\n",
              "      <td>amc rebel sst</td>\n",
              "    </tr>\n",
              "    <tr>\n",
              "      <th>4</th>\n",
              "      <td>17.0</td>\n",
              "      <td>8</td>\n",
              "      <td>302.0</td>\n",
              "      <td>140.0</td>\n",
              "      <td>3449</td>\n",
              "      <td>10.5</td>\n",
              "      <td>70</td>\n",
              "      <td>1</td>\n",
              "      <td>ford torino</td>\n",
              "    </tr>\n",
              "  </tbody>\n",
              "</table>\n",
              "</div>\n",
              "      <button class=\"colab-df-convert\" onclick=\"convertToInteractive('df-3c75b888-8eed-4a7b-b899-79f0686a8814')\"\n",
              "              title=\"Convert this dataframe to an interactive table.\"\n",
              "              style=\"display:none;\">\n",
              "        \n",
              "  <svg xmlns=\"http://www.w3.org/2000/svg\" height=\"24px\"viewBox=\"0 0 24 24\"\n",
              "       width=\"24px\">\n",
              "    <path d=\"M0 0h24v24H0V0z\" fill=\"none\"/>\n",
              "    <path d=\"M18.56 5.44l.94 2.06.94-2.06 2.06-.94-2.06-.94-.94-2.06-.94 2.06-2.06.94zm-11 1L8.5 8.5l.94-2.06 2.06-.94-2.06-.94L8.5 2.5l-.94 2.06-2.06.94zm10 10l.94 2.06.94-2.06 2.06-.94-2.06-.94-.94-2.06-.94 2.06-2.06.94z\"/><path d=\"M17.41 7.96l-1.37-1.37c-.4-.4-.92-.59-1.43-.59-.52 0-1.04.2-1.43.59L10.3 9.45l-7.72 7.72c-.78.78-.78 2.05 0 2.83L4 21.41c.39.39.9.59 1.41.59.51 0 1.02-.2 1.41-.59l7.78-7.78 2.81-2.81c.8-.78.8-2.07 0-2.86zM5.41 20L4 18.59l7.72-7.72 1.47 1.35L5.41 20z\"/>\n",
              "  </svg>\n",
              "      </button>\n",
              "      \n",
              "  <style>\n",
              "    .colab-df-container {\n",
              "      display:flex;\n",
              "      flex-wrap:wrap;\n",
              "      gap: 12px;\n",
              "    }\n",
              "\n",
              "    .colab-df-convert {\n",
              "      background-color: #E8F0FE;\n",
              "      border: none;\n",
              "      border-radius: 50%;\n",
              "      cursor: pointer;\n",
              "      display: none;\n",
              "      fill: #1967D2;\n",
              "      height: 32px;\n",
              "      padding: 0 0 0 0;\n",
              "      width: 32px;\n",
              "    }\n",
              "\n",
              "    .colab-df-convert:hover {\n",
              "      background-color: #E2EBFA;\n",
              "      box-shadow: 0px 1px 2px rgba(60, 64, 67, 0.3), 0px 1px 3px 1px rgba(60, 64, 67, 0.15);\n",
              "      fill: #174EA6;\n",
              "    }\n",
              "\n",
              "    [theme=dark] .colab-df-convert {\n",
              "      background-color: #3B4455;\n",
              "      fill: #D2E3FC;\n",
              "    }\n",
              "\n",
              "    [theme=dark] .colab-df-convert:hover {\n",
              "      background-color: #434B5C;\n",
              "      box-shadow: 0px 1px 3px 1px rgba(0, 0, 0, 0.15);\n",
              "      filter: drop-shadow(0px 1px 2px rgba(0, 0, 0, 0.3));\n",
              "      fill: #FFFFFF;\n",
              "    }\n",
              "  </style>\n",
              "\n",
              "      <script>\n",
              "        const buttonEl =\n",
              "          document.querySelector('#df-3c75b888-8eed-4a7b-b899-79f0686a8814 button.colab-df-convert');\n",
              "        buttonEl.style.display =\n",
              "          google.colab.kernel.accessAllowed ? 'block' : 'none';\n",
              "\n",
              "        async function convertToInteractive(key) {\n",
              "          const element = document.querySelector('#df-3c75b888-8eed-4a7b-b899-79f0686a8814');\n",
              "          const dataTable =\n",
              "            await google.colab.kernel.invokeFunction('convertToInteractive',\n",
              "                                                     [key], {});\n",
              "          if (!dataTable) return;\n",
              "\n",
              "          const docLinkHtml = 'Like what you see? Visit the ' +\n",
              "            '<a target=\"_blank\" href=https://colab.research.google.com/notebooks/data_table.ipynb>data table notebook</a>'\n",
              "            + ' to learn more about interactive tables.';\n",
              "          element.innerHTML = '';\n",
              "          dataTable['output_type'] = 'display_data';\n",
              "          await google.colab.output.renderOutput(dataTable, element);\n",
              "          const docLink = document.createElement('div');\n",
              "          docLink.innerHTML = docLinkHtml;\n",
              "          element.appendChild(docLink);\n",
              "        }\n",
              "      </script>\n",
              "    </div>\n",
              "  </div>\n",
              "  "
            ]
          },
          "metadata": {},
          "execution_count": 72
        }
      ],
      "source": [
        "mainDF.head()"
      ]
    },
    {
      "cell_type": "code",
      "execution_count": null,
      "metadata": {
        "colab": {
          "base_uri": "https://localhost:8080/",
          "height": 206
        },
        "id": "0I01iDFndKCm",
        "outputId": "ed746251-668a-496b-ec6a-10bf49de8975"
      },
      "outputs": [
        {
          "output_type": "execute_result",
          "data": {
            "text/plain": [
              "    mpg  cylinders  horsepower  weight  acceleration\n",
              "0  18.0          8       130.0    3504          12.0\n",
              "1  15.0          8       165.0    3693          11.5\n",
              "2  18.0          8       150.0    3436          11.0\n",
              "3  16.0          8       150.0    3433          12.0\n",
              "4  17.0          8       140.0    3449          10.5"
            ],
            "text/html": [
              "\n",
              "  <div id=\"df-ac3891fc-caf6-4544-9384-ec0525b6a4ac\">\n",
              "    <div class=\"colab-df-container\">\n",
              "      <div>\n",
              "<style scoped>\n",
              "    .dataframe tbody tr th:only-of-type {\n",
              "        vertical-align: middle;\n",
              "    }\n",
              "\n",
              "    .dataframe tbody tr th {\n",
              "        vertical-align: top;\n",
              "    }\n",
              "\n",
              "    .dataframe thead th {\n",
              "        text-align: right;\n",
              "    }\n",
              "</style>\n",
              "<table border=\"1\" class=\"dataframe\">\n",
              "  <thead>\n",
              "    <tr style=\"text-align: right;\">\n",
              "      <th></th>\n",
              "      <th>mpg</th>\n",
              "      <th>cylinders</th>\n",
              "      <th>horsepower</th>\n",
              "      <th>weight</th>\n",
              "      <th>acceleration</th>\n",
              "    </tr>\n",
              "  </thead>\n",
              "  <tbody>\n",
              "    <tr>\n",
              "      <th>0</th>\n",
              "      <td>18.0</td>\n",
              "      <td>8</td>\n",
              "      <td>130.0</td>\n",
              "      <td>3504</td>\n",
              "      <td>12.0</td>\n",
              "    </tr>\n",
              "    <tr>\n",
              "      <th>1</th>\n",
              "      <td>15.0</td>\n",
              "      <td>8</td>\n",
              "      <td>165.0</td>\n",
              "      <td>3693</td>\n",
              "      <td>11.5</td>\n",
              "    </tr>\n",
              "    <tr>\n",
              "      <th>2</th>\n",
              "      <td>18.0</td>\n",
              "      <td>8</td>\n",
              "      <td>150.0</td>\n",
              "      <td>3436</td>\n",
              "      <td>11.0</td>\n",
              "    </tr>\n",
              "    <tr>\n",
              "      <th>3</th>\n",
              "      <td>16.0</td>\n",
              "      <td>8</td>\n",
              "      <td>150.0</td>\n",
              "      <td>3433</td>\n",
              "      <td>12.0</td>\n",
              "    </tr>\n",
              "    <tr>\n",
              "      <th>4</th>\n",
              "      <td>17.0</td>\n",
              "      <td>8</td>\n",
              "      <td>140.0</td>\n",
              "      <td>3449</td>\n",
              "      <td>10.5</td>\n",
              "    </tr>\n",
              "  </tbody>\n",
              "</table>\n",
              "</div>\n",
              "      <button class=\"colab-df-convert\" onclick=\"convertToInteractive('df-ac3891fc-caf6-4544-9384-ec0525b6a4ac')\"\n",
              "              title=\"Convert this dataframe to an interactive table.\"\n",
              "              style=\"display:none;\">\n",
              "        \n",
              "  <svg xmlns=\"http://www.w3.org/2000/svg\" height=\"24px\"viewBox=\"0 0 24 24\"\n",
              "       width=\"24px\">\n",
              "    <path d=\"M0 0h24v24H0V0z\" fill=\"none\"/>\n",
              "    <path d=\"M18.56 5.44l.94 2.06.94-2.06 2.06-.94-2.06-.94-.94-2.06-.94 2.06-2.06.94zm-11 1L8.5 8.5l.94-2.06 2.06-.94-2.06-.94L8.5 2.5l-.94 2.06-2.06.94zm10 10l.94 2.06.94-2.06 2.06-.94-2.06-.94-.94-2.06-.94 2.06-2.06.94z\"/><path d=\"M17.41 7.96l-1.37-1.37c-.4-.4-.92-.59-1.43-.59-.52 0-1.04.2-1.43.59L10.3 9.45l-7.72 7.72c-.78.78-.78 2.05 0 2.83L4 21.41c.39.39.9.59 1.41.59.51 0 1.02-.2 1.41-.59l7.78-7.78 2.81-2.81c.8-.78.8-2.07 0-2.86zM5.41 20L4 18.59l7.72-7.72 1.47 1.35L5.41 20z\"/>\n",
              "  </svg>\n",
              "      </button>\n",
              "      \n",
              "  <style>\n",
              "    .colab-df-container {\n",
              "      display:flex;\n",
              "      flex-wrap:wrap;\n",
              "      gap: 12px;\n",
              "    }\n",
              "\n",
              "    .colab-df-convert {\n",
              "      background-color: #E8F0FE;\n",
              "      border: none;\n",
              "      border-radius: 50%;\n",
              "      cursor: pointer;\n",
              "      display: none;\n",
              "      fill: #1967D2;\n",
              "      height: 32px;\n",
              "      padding: 0 0 0 0;\n",
              "      width: 32px;\n",
              "    }\n",
              "\n",
              "    .colab-df-convert:hover {\n",
              "      background-color: #E2EBFA;\n",
              "      box-shadow: 0px 1px 2px rgba(60, 64, 67, 0.3), 0px 1px 3px 1px rgba(60, 64, 67, 0.15);\n",
              "      fill: #174EA6;\n",
              "    }\n",
              "\n",
              "    [theme=dark] .colab-df-convert {\n",
              "      background-color: #3B4455;\n",
              "      fill: #D2E3FC;\n",
              "    }\n",
              "\n",
              "    [theme=dark] .colab-df-convert:hover {\n",
              "      background-color: #434B5C;\n",
              "      box-shadow: 0px 1px 3px 1px rgba(0, 0, 0, 0.15);\n",
              "      filter: drop-shadow(0px 1px 2px rgba(0, 0, 0, 0.3));\n",
              "      fill: #FFFFFF;\n",
              "    }\n",
              "  </style>\n",
              "\n",
              "      <script>\n",
              "        const buttonEl =\n",
              "          document.querySelector('#df-ac3891fc-caf6-4544-9384-ec0525b6a4ac button.colab-df-convert');\n",
              "        buttonEl.style.display =\n",
              "          google.colab.kernel.accessAllowed ? 'block' : 'none';\n",
              "\n",
              "        async function convertToInteractive(key) {\n",
              "          const element = document.querySelector('#df-ac3891fc-caf6-4544-9384-ec0525b6a4ac');\n",
              "          const dataTable =\n",
              "            await google.colab.kernel.invokeFunction('convertToInteractive',\n",
              "                                                     [key], {});\n",
              "          if (!dataTable) return;\n",
              "\n",
              "          const docLinkHtml = 'Like what you see? Visit the ' +\n",
              "            '<a target=\"_blank\" href=https://colab.research.google.com/notebooks/data_table.ipynb>data table notebook</a>'\n",
              "            + ' to learn more about interactive tables.';\n",
              "          element.innerHTML = '';\n",
              "          dataTable['output_type'] = 'display_data';\n",
              "          await google.colab.output.renderOutput(dataTable, element);\n",
              "          const docLink = document.createElement('div');\n",
              "          docLink.innerHTML = docLinkHtml;\n",
              "          element.appendChild(docLink);\n",
              "        }\n",
              "      </script>\n",
              "    </div>\n",
              "  </div>\n",
              "  "
            ]
          },
          "metadata": {},
          "execution_count": 73
        }
      ],
      "source": [
        "drop_cols_simple = ['displacement','year','origin','name']\n",
        "simpleDF = mainDF\n",
        "simpleDF.drop(drop_cols_simple,inplace=True,axis=1)\n",
        "numTrain = round(simpleDF.shape[0] * 0.8)   # number of training instances\n",
        "numTest = simpleDF.shape[0] - numTrain\n",
        "\n",
        "\n",
        "\n",
        "simpleDF.head(5)"
      ]
    },
    {
      "cell_type": "markdown",
      "metadata": {
        "id": "7miLKN5E6bjF"
      },
      "source": [
        "# Correlation Table"
      ]
    },
    {
      "cell_type": "code",
      "execution_count": null,
      "metadata": {
        "colab": {
          "base_uri": "https://localhost:8080/",
          "height": 206
        },
        "id": "NDQP2Zke1oWv",
        "outputId": "f668ddcf-f018-4f78-96b8-13645343c811"
      },
      "outputs": [
        {
          "output_type": "execute_result",
          "data": {
            "text/plain": [
              "                   mpg  cylinders  horsepower    weight  acceleration\n",
              "mpg           1.000000  -0.775396   -0.773453 -0.831741      0.420289\n",
              "cylinders    -0.775396   1.000000    0.841284  0.896017     -0.505419\n",
              "horsepower   -0.773453   0.841284    1.000000  0.862442     -0.686590\n",
              "weight       -0.831741   0.896017    0.862442  1.000000     -0.417457\n",
              "acceleration  0.420289  -0.505419   -0.686590 -0.417457      1.000000"
            ],
            "text/html": [
              "\n",
              "  <div id=\"df-a27fea9c-9425-48a1-97a7-e9d0d709f5e4\">\n",
              "    <div class=\"colab-df-container\">\n",
              "      <div>\n",
              "<style scoped>\n",
              "    .dataframe tbody tr th:only-of-type {\n",
              "        vertical-align: middle;\n",
              "    }\n",
              "\n",
              "    .dataframe tbody tr th {\n",
              "        vertical-align: top;\n",
              "    }\n",
              "\n",
              "    .dataframe thead th {\n",
              "        text-align: right;\n",
              "    }\n",
              "</style>\n",
              "<table border=\"1\" class=\"dataframe\">\n",
              "  <thead>\n",
              "    <tr style=\"text-align: right;\">\n",
              "      <th></th>\n",
              "      <th>mpg</th>\n",
              "      <th>cylinders</th>\n",
              "      <th>horsepower</th>\n",
              "      <th>weight</th>\n",
              "      <th>acceleration</th>\n",
              "    </tr>\n",
              "  </thead>\n",
              "  <tbody>\n",
              "    <tr>\n",
              "      <th>mpg</th>\n",
              "      <td>1.000000</td>\n",
              "      <td>-0.775396</td>\n",
              "      <td>-0.773453</td>\n",
              "      <td>-0.831741</td>\n",
              "      <td>0.420289</td>\n",
              "    </tr>\n",
              "    <tr>\n",
              "      <th>cylinders</th>\n",
              "      <td>-0.775396</td>\n",
              "      <td>1.000000</td>\n",
              "      <td>0.841284</td>\n",
              "      <td>0.896017</td>\n",
              "      <td>-0.505419</td>\n",
              "    </tr>\n",
              "    <tr>\n",
              "      <th>horsepower</th>\n",
              "      <td>-0.773453</td>\n",
              "      <td>0.841284</td>\n",
              "      <td>1.000000</td>\n",
              "      <td>0.862442</td>\n",
              "      <td>-0.686590</td>\n",
              "    </tr>\n",
              "    <tr>\n",
              "      <th>weight</th>\n",
              "      <td>-0.831741</td>\n",
              "      <td>0.896017</td>\n",
              "      <td>0.862442</td>\n",
              "      <td>1.000000</td>\n",
              "      <td>-0.417457</td>\n",
              "    </tr>\n",
              "    <tr>\n",
              "      <th>acceleration</th>\n",
              "      <td>0.420289</td>\n",
              "      <td>-0.505419</td>\n",
              "      <td>-0.686590</td>\n",
              "      <td>-0.417457</td>\n",
              "      <td>1.000000</td>\n",
              "    </tr>\n",
              "  </tbody>\n",
              "</table>\n",
              "</div>\n",
              "      <button class=\"colab-df-convert\" onclick=\"convertToInteractive('df-a27fea9c-9425-48a1-97a7-e9d0d709f5e4')\"\n",
              "              title=\"Convert this dataframe to an interactive table.\"\n",
              "              style=\"display:none;\">\n",
              "        \n",
              "  <svg xmlns=\"http://www.w3.org/2000/svg\" height=\"24px\"viewBox=\"0 0 24 24\"\n",
              "       width=\"24px\">\n",
              "    <path d=\"M0 0h24v24H0V0z\" fill=\"none\"/>\n",
              "    <path d=\"M18.56 5.44l.94 2.06.94-2.06 2.06-.94-2.06-.94-.94-2.06-.94 2.06-2.06.94zm-11 1L8.5 8.5l.94-2.06 2.06-.94-2.06-.94L8.5 2.5l-.94 2.06-2.06.94zm10 10l.94 2.06.94-2.06 2.06-.94-2.06-.94-.94-2.06-.94 2.06-2.06.94z\"/><path d=\"M17.41 7.96l-1.37-1.37c-.4-.4-.92-.59-1.43-.59-.52 0-1.04.2-1.43.59L10.3 9.45l-7.72 7.72c-.78.78-.78 2.05 0 2.83L4 21.41c.39.39.9.59 1.41.59.51 0 1.02-.2 1.41-.59l7.78-7.78 2.81-2.81c.8-.78.8-2.07 0-2.86zM5.41 20L4 18.59l7.72-7.72 1.47 1.35L5.41 20z\"/>\n",
              "  </svg>\n",
              "      </button>\n",
              "      \n",
              "  <style>\n",
              "    .colab-df-container {\n",
              "      display:flex;\n",
              "      flex-wrap:wrap;\n",
              "      gap: 12px;\n",
              "    }\n",
              "\n",
              "    .colab-df-convert {\n",
              "      background-color: #E8F0FE;\n",
              "      border: none;\n",
              "      border-radius: 50%;\n",
              "      cursor: pointer;\n",
              "      display: none;\n",
              "      fill: #1967D2;\n",
              "      height: 32px;\n",
              "      padding: 0 0 0 0;\n",
              "      width: 32px;\n",
              "    }\n",
              "\n",
              "    .colab-df-convert:hover {\n",
              "      background-color: #E2EBFA;\n",
              "      box-shadow: 0px 1px 2px rgba(60, 64, 67, 0.3), 0px 1px 3px 1px rgba(60, 64, 67, 0.15);\n",
              "      fill: #174EA6;\n",
              "    }\n",
              "\n",
              "    [theme=dark] .colab-df-convert {\n",
              "      background-color: #3B4455;\n",
              "      fill: #D2E3FC;\n",
              "    }\n",
              "\n",
              "    [theme=dark] .colab-df-convert:hover {\n",
              "      background-color: #434B5C;\n",
              "      box-shadow: 0px 1px 3px 1px rgba(0, 0, 0, 0.15);\n",
              "      filter: drop-shadow(0px 1px 2px rgba(0, 0, 0, 0.3));\n",
              "      fill: #FFFFFF;\n",
              "    }\n",
              "  </style>\n",
              "\n",
              "      <script>\n",
              "        const buttonEl =\n",
              "          document.querySelector('#df-a27fea9c-9425-48a1-97a7-e9d0d709f5e4 button.colab-df-convert');\n",
              "        buttonEl.style.display =\n",
              "          google.colab.kernel.accessAllowed ? 'block' : 'none';\n",
              "\n",
              "        async function convertToInteractive(key) {\n",
              "          const element = document.querySelector('#df-a27fea9c-9425-48a1-97a7-e9d0d709f5e4');\n",
              "          const dataTable =\n",
              "            await google.colab.kernel.invokeFunction('convertToInteractive',\n",
              "                                                     [key], {});\n",
              "          if (!dataTable) return;\n",
              "\n",
              "          const docLinkHtml = 'Like what you see? Visit the ' +\n",
              "            '<a target=\"_blank\" href=https://colab.research.google.com/notebooks/data_table.ipynb>data table notebook</a>'\n",
              "            + ' to learn more about interactive tables.';\n",
              "          element.innerHTML = '';\n",
              "          dataTable['output_type'] = 'display_data';\n",
              "          await google.colab.output.renderOutput(dataTable, element);\n",
              "          const docLink = document.createElement('div');\n",
              "          docLink.innerHTML = docLinkHtml;\n",
              "          element.appendChild(docLink);\n",
              "        }\n",
              "      </script>\n",
              "    </div>\n",
              "  </div>\n",
              "  "
            ]
          },
          "metadata": {},
          "execution_count": 74
        }
      ],
      "source": [
        "simpleDF.corr()"
      ]
    },
    {
      "cell_type": "markdown",
      "metadata": {
        "id": "e1-MNGYh7HGI"
      },
      "source": [
        "# Simple Linear Regression\n",
        "Weight (independent) vs MPG (dependent)\n",
        "\n",
        "Weight is normalized (min-max) before any calculations are done."
      ]
    },
    {
      "cell_type": "code",
      "source": [
        "mpg_df = simpleDF.drop(['cylinders','horsepower','acceleration'], axis=1);\n",
        "mpg_df.head()"
      ],
      "metadata": {
        "colab": {
          "base_uri": "https://localhost:8080/",
          "height": 206
        },
        "id": "lLfsBpi5ab5V",
        "outputId": "10436a5a-cb2e-4bc1-b610-91ee3e313404"
      },
      "execution_count": null,
      "outputs": [
        {
          "output_type": "execute_result",
          "data": {
            "text/plain": [
              "    mpg  weight\n",
              "0  18.0    3504\n",
              "1  15.0    3693\n",
              "2  18.0    3436\n",
              "3  16.0    3433\n",
              "4  17.0    3449"
            ],
            "text/html": [
              "\n",
              "  <div id=\"df-bb4146df-7381-4000-94ac-e4f7237b9a5d\">\n",
              "    <div class=\"colab-df-container\">\n",
              "      <div>\n",
              "<style scoped>\n",
              "    .dataframe tbody tr th:only-of-type {\n",
              "        vertical-align: middle;\n",
              "    }\n",
              "\n",
              "    .dataframe tbody tr th {\n",
              "        vertical-align: top;\n",
              "    }\n",
              "\n",
              "    .dataframe thead th {\n",
              "        text-align: right;\n",
              "    }\n",
              "</style>\n",
              "<table border=\"1\" class=\"dataframe\">\n",
              "  <thead>\n",
              "    <tr style=\"text-align: right;\">\n",
              "      <th></th>\n",
              "      <th>mpg</th>\n",
              "      <th>weight</th>\n",
              "    </tr>\n",
              "  </thead>\n",
              "  <tbody>\n",
              "    <tr>\n",
              "      <th>0</th>\n",
              "      <td>18.0</td>\n",
              "      <td>3504</td>\n",
              "    </tr>\n",
              "    <tr>\n",
              "      <th>1</th>\n",
              "      <td>15.0</td>\n",
              "      <td>3693</td>\n",
              "    </tr>\n",
              "    <tr>\n",
              "      <th>2</th>\n",
              "      <td>18.0</td>\n",
              "      <td>3436</td>\n",
              "    </tr>\n",
              "    <tr>\n",
              "      <th>3</th>\n",
              "      <td>16.0</td>\n",
              "      <td>3433</td>\n",
              "    </tr>\n",
              "    <tr>\n",
              "      <th>4</th>\n",
              "      <td>17.0</td>\n",
              "      <td>3449</td>\n",
              "    </tr>\n",
              "  </tbody>\n",
              "</table>\n",
              "</div>\n",
              "      <button class=\"colab-df-convert\" onclick=\"convertToInteractive('df-bb4146df-7381-4000-94ac-e4f7237b9a5d')\"\n",
              "              title=\"Convert this dataframe to an interactive table.\"\n",
              "              style=\"display:none;\">\n",
              "        \n",
              "  <svg xmlns=\"http://www.w3.org/2000/svg\" height=\"24px\"viewBox=\"0 0 24 24\"\n",
              "       width=\"24px\">\n",
              "    <path d=\"M0 0h24v24H0V0z\" fill=\"none\"/>\n",
              "    <path d=\"M18.56 5.44l.94 2.06.94-2.06 2.06-.94-2.06-.94-.94-2.06-.94 2.06-2.06.94zm-11 1L8.5 8.5l.94-2.06 2.06-.94-2.06-.94L8.5 2.5l-.94 2.06-2.06.94zm10 10l.94 2.06.94-2.06 2.06-.94-2.06-.94-.94-2.06-.94 2.06-2.06.94z\"/><path d=\"M17.41 7.96l-1.37-1.37c-.4-.4-.92-.59-1.43-.59-.52 0-1.04.2-1.43.59L10.3 9.45l-7.72 7.72c-.78.78-.78 2.05 0 2.83L4 21.41c.39.39.9.59 1.41.59.51 0 1.02-.2 1.41-.59l7.78-7.78 2.81-2.81c.8-.78.8-2.07 0-2.86zM5.41 20L4 18.59l7.72-7.72 1.47 1.35L5.41 20z\"/>\n",
              "  </svg>\n",
              "      </button>\n",
              "      \n",
              "  <style>\n",
              "    .colab-df-container {\n",
              "      display:flex;\n",
              "      flex-wrap:wrap;\n",
              "      gap: 12px;\n",
              "    }\n",
              "\n",
              "    .colab-df-convert {\n",
              "      background-color: #E8F0FE;\n",
              "      border: none;\n",
              "      border-radius: 50%;\n",
              "      cursor: pointer;\n",
              "      display: none;\n",
              "      fill: #1967D2;\n",
              "      height: 32px;\n",
              "      padding: 0 0 0 0;\n",
              "      width: 32px;\n",
              "    }\n",
              "\n",
              "    .colab-df-convert:hover {\n",
              "      background-color: #E2EBFA;\n",
              "      box-shadow: 0px 1px 2px rgba(60, 64, 67, 0.3), 0px 1px 3px 1px rgba(60, 64, 67, 0.15);\n",
              "      fill: #174EA6;\n",
              "    }\n",
              "\n",
              "    [theme=dark] .colab-df-convert {\n",
              "      background-color: #3B4455;\n",
              "      fill: #D2E3FC;\n",
              "    }\n",
              "\n",
              "    [theme=dark] .colab-df-convert:hover {\n",
              "      background-color: #434B5C;\n",
              "      box-shadow: 0px 1px 3px 1px rgba(0, 0, 0, 0.15);\n",
              "      filter: drop-shadow(0px 1px 2px rgba(0, 0, 0, 0.3));\n",
              "      fill: #FFFFFF;\n",
              "    }\n",
              "  </style>\n",
              "\n",
              "      <script>\n",
              "        const buttonEl =\n",
              "          document.querySelector('#df-bb4146df-7381-4000-94ac-e4f7237b9a5d button.colab-df-convert');\n",
              "        buttonEl.style.display =\n",
              "          google.colab.kernel.accessAllowed ? 'block' : 'none';\n",
              "\n",
              "        async function convertToInteractive(key) {\n",
              "          const element = document.querySelector('#df-bb4146df-7381-4000-94ac-e4f7237b9a5d');\n",
              "          const dataTable =\n",
              "            await google.colab.kernel.invokeFunction('convertToInteractive',\n",
              "                                                     [key], {});\n",
              "          if (!dataTable) return;\n",
              "\n",
              "          const docLinkHtml = 'Like what you see? Visit the ' +\n",
              "            '<a target=\"_blank\" href=https://colab.research.google.com/notebooks/data_table.ipynb>data table notebook</a>'\n",
              "            + ' to learn more about interactive tables.';\n",
              "          element.innerHTML = '';\n",
              "          dataTable['output_type'] = 'display_data';\n",
              "          await google.colab.output.renderOutput(dataTable, element);\n",
              "          const docLink = document.createElement('div');\n",
              "          docLink.innerHTML = docLinkHtml;\n",
              "          element.appendChild(docLink);\n",
              "        }\n",
              "      </script>\n",
              "    </div>\n",
              "  </div>\n",
              "  "
            ]
          },
          "metadata": {},
          "execution_count": 75
        }
      ]
    },
    {
      "cell_type": "code",
      "source": [
        "import collections\n",
        "#Function to normalize columns\n",
        "def normalize_numeric_minmax(df, name):\n",
        "        df[name] = ((df[name] - df[name].min()) / (df[name].max() - df[name].min())).astype(np.float32)\n",
        "# Convert a Pandas dataframe to the x,y inputs that TensorFlow needs\n",
        "def to_xy(df, target):\n",
        "    result = []\n",
        "    for x in df.columns:\n",
        "        if x != target:\n",
        "            result.append(x)\n",
        "    # find out the type of the target column. \n",
        "    target_type = df[target].dtypes\n",
        "    target_type = target_type[0] if isinstance(target_type, collections.Sequence) else target_type\n",
        "    # Encode to int for classification, float otherwise. TensorFlow likes 32 bits.\n",
        "    if target_type in (np.int64, np.int32):\n",
        "        # Classification\n",
        "        dummies = pd.get_dummies(df[target])\n",
        "        return df[result].values.astype(np.float32), dummies.values.astype(np.float32)\n",
        "    else:\n",
        "        # Regression\n",
        "        return df[result].values.astype(np.float32), df[target].values.astype(np.float32)\n",
        "# Regression chart.\n",
        "def chart_regression(pred,y,sort=True):\n",
        "    t = pd.DataFrame({'pred' : pred, 'y' : y.flatten()})\n",
        "    if sort:\n",
        "        t.sort_values(by=['y'],inplace=True)\n",
        "    a = plt.plot(t['y'].tolist(),label='expected')\n",
        "    b = plt.plot(t['pred'].tolist(),label='prediction')\n",
        "    plt.ylabel('output')\n",
        "    plt.legend()\n",
        "    plt.show()\n",
        "\n",
        "#normalizing inputs (dependent variables)    \n",
        "normalize_numeric_minmax(mpg_df,\"weight\")\n",
        "mpg_df.head(100)"
      ],
      "metadata": {
        "colab": {
          "base_uri": "https://localhost:8080/",
          "height": 424
        },
        "id": "o_74I2lBbN8T",
        "outputId": "8a6cb234-3349-4f9b-dce7-f40bcc38ca63"
      },
      "execution_count": null,
      "outputs": [
        {
          "output_type": "execute_result",
          "data": {
            "text/plain": [
              "     mpg    weight\n",
              "0   18.0  0.536150\n",
              "1   15.0  0.589736\n",
              "2   18.0  0.516870\n",
              "3   16.0  0.516019\n",
              "4   17.0  0.520556\n",
              "..   ...       ...\n",
              "95  12.0  0.946413\n",
              "96  13.0  0.626028\n",
              "97  18.0  0.427559\n",
              "98  16.0  0.472073\n",
              "99  18.0  0.377658\n",
              "\n",
              "[100 rows x 2 columns]"
            ],
            "text/html": [
              "\n",
              "  <div id=\"df-3993c1cb-39fb-4b99-aef9-fdf0ac032254\">\n",
              "    <div class=\"colab-df-container\">\n",
              "      <div>\n",
              "<style scoped>\n",
              "    .dataframe tbody tr th:only-of-type {\n",
              "        vertical-align: middle;\n",
              "    }\n",
              "\n",
              "    .dataframe tbody tr th {\n",
              "        vertical-align: top;\n",
              "    }\n",
              "\n",
              "    .dataframe thead th {\n",
              "        text-align: right;\n",
              "    }\n",
              "</style>\n",
              "<table border=\"1\" class=\"dataframe\">\n",
              "  <thead>\n",
              "    <tr style=\"text-align: right;\">\n",
              "      <th></th>\n",
              "      <th>mpg</th>\n",
              "      <th>weight</th>\n",
              "    </tr>\n",
              "  </thead>\n",
              "  <tbody>\n",
              "    <tr>\n",
              "      <th>0</th>\n",
              "      <td>18.0</td>\n",
              "      <td>0.536150</td>\n",
              "    </tr>\n",
              "    <tr>\n",
              "      <th>1</th>\n",
              "      <td>15.0</td>\n",
              "      <td>0.589736</td>\n",
              "    </tr>\n",
              "    <tr>\n",
              "      <th>2</th>\n",
              "      <td>18.0</td>\n",
              "      <td>0.516870</td>\n",
              "    </tr>\n",
              "    <tr>\n",
              "      <th>3</th>\n",
              "      <td>16.0</td>\n",
              "      <td>0.516019</td>\n",
              "    </tr>\n",
              "    <tr>\n",
              "      <th>4</th>\n",
              "      <td>17.0</td>\n",
              "      <td>0.520556</td>\n",
              "    </tr>\n",
              "    <tr>\n",
              "      <th>...</th>\n",
              "      <td>...</td>\n",
              "      <td>...</td>\n",
              "    </tr>\n",
              "    <tr>\n",
              "      <th>95</th>\n",
              "      <td>12.0</td>\n",
              "      <td>0.946413</td>\n",
              "    </tr>\n",
              "    <tr>\n",
              "      <th>96</th>\n",
              "      <td>13.0</td>\n",
              "      <td>0.626028</td>\n",
              "    </tr>\n",
              "    <tr>\n",
              "      <th>97</th>\n",
              "      <td>18.0</td>\n",
              "      <td>0.427559</td>\n",
              "    </tr>\n",
              "    <tr>\n",
              "      <th>98</th>\n",
              "      <td>16.0</td>\n",
              "      <td>0.472073</td>\n",
              "    </tr>\n",
              "    <tr>\n",
              "      <th>99</th>\n",
              "      <td>18.0</td>\n",
              "      <td>0.377658</td>\n",
              "    </tr>\n",
              "  </tbody>\n",
              "</table>\n",
              "<p>100 rows × 2 columns</p>\n",
              "</div>\n",
              "      <button class=\"colab-df-convert\" onclick=\"convertToInteractive('df-3993c1cb-39fb-4b99-aef9-fdf0ac032254')\"\n",
              "              title=\"Convert this dataframe to an interactive table.\"\n",
              "              style=\"display:none;\">\n",
              "        \n",
              "  <svg xmlns=\"http://www.w3.org/2000/svg\" height=\"24px\"viewBox=\"0 0 24 24\"\n",
              "       width=\"24px\">\n",
              "    <path d=\"M0 0h24v24H0V0z\" fill=\"none\"/>\n",
              "    <path d=\"M18.56 5.44l.94 2.06.94-2.06 2.06-.94-2.06-.94-.94-2.06-.94 2.06-2.06.94zm-11 1L8.5 8.5l.94-2.06 2.06-.94-2.06-.94L8.5 2.5l-.94 2.06-2.06.94zm10 10l.94 2.06.94-2.06 2.06-.94-2.06-.94-.94-2.06-.94 2.06-2.06.94z\"/><path d=\"M17.41 7.96l-1.37-1.37c-.4-.4-.92-.59-1.43-.59-.52 0-1.04.2-1.43.59L10.3 9.45l-7.72 7.72c-.78.78-.78 2.05 0 2.83L4 21.41c.39.39.9.59 1.41.59.51 0 1.02-.2 1.41-.59l7.78-7.78 2.81-2.81c.8-.78.8-2.07 0-2.86zM5.41 20L4 18.59l7.72-7.72 1.47 1.35L5.41 20z\"/>\n",
              "  </svg>\n",
              "      </button>\n",
              "      \n",
              "  <style>\n",
              "    .colab-df-container {\n",
              "      display:flex;\n",
              "      flex-wrap:wrap;\n",
              "      gap: 12px;\n",
              "    }\n",
              "\n",
              "    .colab-df-convert {\n",
              "      background-color: #E8F0FE;\n",
              "      border: none;\n",
              "      border-radius: 50%;\n",
              "      cursor: pointer;\n",
              "      display: none;\n",
              "      fill: #1967D2;\n",
              "      height: 32px;\n",
              "      padding: 0 0 0 0;\n",
              "      width: 32px;\n",
              "    }\n",
              "\n",
              "    .colab-df-convert:hover {\n",
              "      background-color: #E2EBFA;\n",
              "      box-shadow: 0px 1px 2px rgba(60, 64, 67, 0.3), 0px 1px 3px 1px rgba(60, 64, 67, 0.15);\n",
              "      fill: #174EA6;\n",
              "    }\n",
              "\n",
              "    [theme=dark] .colab-df-convert {\n",
              "      background-color: #3B4455;\n",
              "      fill: #D2E3FC;\n",
              "    }\n",
              "\n",
              "    [theme=dark] .colab-df-convert:hover {\n",
              "      background-color: #434B5C;\n",
              "      box-shadow: 0px 1px 3px 1px rgba(0, 0, 0, 0.15);\n",
              "      filter: drop-shadow(0px 1px 2px rgba(0, 0, 0, 0.3));\n",
              "      fill: #FFFFFF;\n",
              "    }\n",
              "  </style>\n",
              "\n",
              "      <script>\n",
              "        const buttonEl =\n",
              "          document.querySelector('#df-3993c1cb-39fb-4b99-aef9-fdf0ac032254 button.colab-df-convert');\n",
              "        buttonEl.style.display =\n",
              "          google.colab.kernel.accessAllowed ? 'block' : 'none';\n",
              "\n",
              "        async function convertToInteractive(key) {\n",
              "          const element = document.querySelector('#df-3993c1cb-39fb-4b99-aef9-fdf0ac032254');\n",
              "          const dataTable =\n",
              "            await google.colab.kernel.invokeFunction('convertToInteractive',\n",
              "                                                     [key], {});\n",
              "          if (!dataTable) return;\n",
              "\n",
              "          const docLinkHtml = 'Like what you see? Visit the ' +\n",
              "            '<a target=\"_blank\" href=https://colab.research.google.com/notebooks/data_table.ipynb>data table notebook</a>'\n",
              "            + ' to learn more about interactive tables.';\n",
              "          element.innerHTML = '';\n",
              "          dataTable['output_type'] = 'display_data';\n",
              "          await google.colab.output.renderOutput(dataTable, element);\n",
              "          const docLink = document.createElement('div');\n",
              "          docLink.innerHTML = docLinkHtml;\n",
              "          element.appendChild(docLink);\n",
              "        }\n",
              "      </script>\n",
              "    </div>\n",
              "  </div>\n",
              "  "
            ]
          },
          "metadata": {},
          "execution_count": 76
        }
      ]
    },
    {
      "cell_type": "code",
      "source": [
        "# to xy to convert pandas to tensor flow\n",
        "x1,y1=to_xy(mpg_df,\"mpg\")"
      ],
      "metadata": {
        "id": "NMe2JucebhmM"
      },
      "execution_count": null,
      "outputs": []
    },
    {
      "cell_type": "code",
      "source": [
        "from sklearn.model_selection import train_test_split\n",
        "x1_train, x1_test, y1_train, y1_test = train_test_split(x1,y1, test_size=0.3, random_state=42)"
      ],
      "metadata": {
        "id": "5JZySvv6cLnq"
      },
      "execution_count": null,
      "outputs": []
    },
    {
      "cell_type": "code",
      "source": [
        "# plotting out the training data\n",
        "plt.scatter(x1_train, y1_train, color='black')\n",
        "plt.xlabel('Weight (train)')\n",
        "plt.ylabel('MPG (train)')\n",
        "plt.title('Weight vs MPG for Train Data') "
      ],
      "metadata": {
        "colab": {
          "base_uri": "https://localhost:8080/",
          "height": 312
        },
        "id": "OZktcGjacqR8",
        "outputId": "b95776c2-fe2c-49a3-b817-b7a5253cab8c"
      },
      "execution_count": null,
      "outputs": [
        {
          "output_type": "execute_result",
          "data": {
            "text/plain": [
              "Text(0.5, 1.0, 'Weight vs MPG for Train Data')"
            ]
          },
          "metadata": {},
          "execution_count": 79
        },
        {
          "output_type": "display_data",
          "data": {
            "text/plain": [
              "<Figure size 432x288 with 1 Axes>"
            ],
            "image/png": "[encoded data removed]"
          },
          "metadata": {
            "needs_background": "light"
          }
        }
      ]
    },
    {
      "cell_type": "code",
      "source": [
        "from sklearn import linear_model\n",
        "from sklearn.metrics import mean_squared_error, r2_score\n",
        "\n",
        "# Create linear regression object\n",
        "mpg_regr = linear_model.LinearRegression()\n",
        "# Fit regression model to the training set\n",
        "mpg_regr.fit(x1_train, y1_train)\n",
        "#print(x1_train)"
      ],
      "metadata": {
        "colab": {
          "base_uri": "https://localhost:8080/"
        },
        "id": "Os-Io0uVcZK8",
        "outputId": "eae84aee-2634-4d0a-fe25-e2420dd62b17"
      },
      "execution_count": null,
      "outputs": [
        {
          "output_type": "execute_result",
          "data": {
            "text/plain": [
              "LinearRegression()"
            ]
          },
          "metadata": {},
          "execution_count": 80
        }
      ]
    },
    {
      "cell_type": "code",
      "source": [
        "y1_pred = mpg_regr.predict(x1_test)\n",
        "print('Predicted Function: y = %.2fX + %.2f' % (mpg_regr.coef_, mpg_regr.intercept_))\n",
        "for i in range(10):\n",
        "    print(\"True MPG: \",y1_test[i],\"Prediction : \", y1_pred[i])"
      ],
      "metadata": {
        "colab": {
          "base_uri": "https://localhost:8080/"
        },
        "id": "umLgUkVTdrjH",
        "outputId": "b88fe9c2-0b9f-4a82-ac67-9952f6d75c5d"
      },
      "execution_count": null,
      "outputs": [
        {
          "output_type": "stream",
          "name": "stdout",
          "text": [
            "Predicted Function: y = -27.67X + 34.28\n",
            "True MPG:  33.0 Prediction :  32.85717\n",
            "True MPG:  28.0 Prediction :  26.346588\n",
            "True MPG:  19.0 Prediction :  26.275991\n",
            "True MPG:  13.0 Prediction :  16.031628\n",
            "True MPG:  14.0 Prediction :  13.701937\n",
            "True MPG:  27.0 Prediction :  30.464727\n",
            "True MPG:  24.0 Prediction :  24.464008\n",
            "True MPG:  13.0 Prediction :  9.795586\n",
            "True MPG:  17.0 Prediction :  15.090338\n",
            "True MPG:  21.0 Prediction :  24.385569\n"
          ]
        }
      ]
    },
    {
      "cell_type": "code",
      "source": [
        "# Comparing true versus predicted values\n",
        "plt.scatter(y1_test, y1_pred, color='black')\n",
        "plt.title('Comparing true and predicted values for test set')\n",
        "plt.xlabel('True values for y')\n",
        "plt.ylabel('Predicted values for y')\n",
        "\n",
        "# Model evaluation\n",
        "print(\"Root mean squared error = %.4f\" % np.sqrt(mean_squared_error(y1_test, y1_pred)))\n",
        "print('R-squared = %.4f' % r2_score(y1_test, y1_pred))"
      ],
      "metadata": {
        "colab": {
          "base_uri": "https://localhost:8080/",
          "height": 330
        },
        "id": "KYPWD_HJd6bR",
        "outputId": "f8692a83-07cf-43e7-c205-bee9214ef8f8"
      },
      "execution_count": null,
      "outputs": [
        {
          "output_type": "stream",
          "name": "stdout",
          "text": [
            "Root mean squared error = 3.9777\n",
            "R-squared = 0.7243\n"
          ]
        },
        {
          "output_type": "display_data",
          "data": {
            "text/plain": [
              "<Figure size 432x288 with 1 Axes>"
            ],
            "image/png": "[encoded data removed]"
          },
          "metadata": {
            "needs_background": "light"
          }
        }
      ]
    },
    {
      "cell_type": "code",
      "source": [
        "chart_regression(y1_pred,y1_test)"
      ],
      "metadata": {
        "colab": {
          "base_uri": "https://localhost:8080/",
          "height": 265
        },
        "id": "3bhqUYxieK3j",
        "outputId": "cd480abf-7cad-4675-b964-f3505392e274"
      },
      "execution_count": null,
      "outputs": [
        {
          "output_type": "display_data",
          "data": {
            "text/plain": [
              "<Figure size 432x288 with 1 Axes>"
            ],
            "image/png": "[encoded data removed]"
          },
          "metadata": {
            "needs_background": "light"
          }
        }
      ]
    },
    {
      "cell_type": "code",
      "source": [
        "print('Slope = ', mpg_regr.coef_)\n",
        "print('Intercept = ', mpg_regr.intercept_)\n",
        "\n",
        "plt.scatter(x1_test, y1_test,color='black')\n",
        "plt.plot(x1_test, y1_pred,color='purple',linewidth=3)\n",
        "titlestr = 'Predicted Function: y = %.2fX + %.2f' % (mpg_regr.coef_, mpg_regr.intercept_)\n",
        "plt.title(titlestr)\n",
        "plt.xlabel('Weight(test)')\n",
        "plt.ylabel('MPG(test)')"
      ],
      "metadata": {
        "colab": {
          "base_uri": "https://localhost:8080/",
          "height": 347
        },
        "id": "VIoM5jof9bdz",
        "outputId": "cd5f5dd0-72fe-4dc4-8ff3-bec38c073d5e"
      },
      "execution_count": null,
      "outputs": [
        {
          "output_type": "stream",
          "name": "stdout",
          "text": [
            "Slope =  [-27.66606]\n",
            "Intercept =  34.284794\n"
          ]
        },
        {
          "output_type": "execute_result",
          "data": {
            "text/plain": [
              "Text(0, 0.5, 'MPG(test)')"
            ]
          },
          "metadata": {},
          "execution_count": 84
        },
        {
          "output_type": "display_data",
          "data": {
            "text/plain": [
              "<Figure size 432x288 with 1 Axes>"
            ],
            "image/png": "[encoded data removed]"
          },
          "metadata": {
            "needs_background": "light"
          }
        }
      ]
    },
    {
      "cell_type": "markdown",
      "source": [
        "### Prediction of Value Outside Range\n",
        "Greater than 2, since the data was already normalized using min-max."
      ],
      "metadata": {
        "id": "1pbtRHN-PN5B"
      }
    },
    {
      "cell_type": "code",
      "source": [
        "outside_value = np.array([[3]])\n",
        "pred_outside = mpg_regr.predict(outside_value)\n",
        "print(\"Prediction : \", pred_outside)"
      ],
      "metadata": {
        "colab": {
          "base_uri": "https://localhost:8080/"
        },
        "id": "jMA5c0T-PGHi",
        "outputId": "593438a9-2014-45d5-bca5-7d535622530f"
      },
      "execution_count": null,
      "outputs": [
        {
          "output_type": "stream",
          "name": "stdout",
          "text": [
            "Prediction :  [-48.71338463]\n"
          ]
        }
      ]
    },
    {
      "cell_type": "markdown",
      "source": [
        "Prediction Function with Test and Training data swapped"
      ],
      "metadata": {
        "id": "n-xkNAriRO1F"
      }
    },
    {
      "cell_type": "code",
      "source": [
        "mpg_regr_testdata = linear_model.LinearRegression()\n",
        "mpg_regr_testdata.fit(x1_test, y1_test)\n",
        "y1_pred_testdata = mpg_regr_testdata.predict(x1_train)\n",
        "print('Predicted Function: y = %.2fX + %.2f' % (mpg_regr_testdata.coef_, mpg_regr_testdata.intercept_))\n",
        "for i in range(10):\n",
        "    print(\"True MPG: \",y1_train[i],\"Prediction : \", y1_pred_testdata[i])"
      ],
      "metadata": {
        "colab": {
          "base_uri": "https://localhost:8080/"
        },
        "id": "ibuL9KzpQ3KQ",
        "outputId": "254ad6ef-f3e2-4adf-87fe-aad1fdb4bc2e"
      },
      "execution_count": null,
      "outputs": [
        {
          "output_type": "stream",
          "name": "stdout",
          "text": [
            "Predicted Function: y = -25.96X + 33.25\n",
            "True MPG:  15.0 Prediction :  12.441818\n",
            "True MPG:  21.0 Prediction :  27.449055\n",
            "True MPG:  21.0 Prediction :  26.080076\n",
            "True MPG:  20.5 Prediction :  21.899542\n",
            "True MPG:  21.0 Prediction :  25.631111\n",
            "True MPG:  25.4 Prediction :  23.776367\n",
            "True MPG:  34.1 Prediction :  30.510855\n",
            "True MPG:  27.0 Prediction :  23.408361\n",
            "True MPG:  36.0 Prediction :  29.48044\n",
            "True MPG:  31.6 Prediction :  25.726791\n"
          ]
        }
      ]
    },
    {
      "cell_type": "markdown",
      "source": [
        "###Cross Validation"
      ],
      "metadata": {
        "id": "ukd-cP3f2ycW"
      }
    },
    {
      "cell_type": "code",
      "source": [
        "from sklearn.model_selection import KFold\n",
        "from sklearn.model_selection import RepeatedKFold\n",
        "\n",
        "rkfx1,rkfy1=to_xy(mpg_df,\"mpg\")  \n",
        "rkf = RepeatedKFold(n_splits=10, n_repeats=4, random_state=None)  \n",
        "rkfcount = 1\n",
        "for train_index, test_index in rkf.split(rkfx1): \n",
        "  #print(\"Train:\", train_index, \"Validation:\",test_index) \n",
        "  rkfx1_train, rkfx1_test = rkfx1[train_index], rkfx1[test_index]  \n",
        "  rkfy1_train, rkfy1_test = rkfy1[train_index], rkfy1[test_index]\n",
        "  rkf1_regr = linear_model.LinearRegression()\n",
        "  rkf1_regr.fit(rkfx1_train, rkfy1_train)\n",
        "  rkf1_pred = rkf1_regr.predict(rkfx1_test)\n",
        "  print(rkfcount)\n",
        "  print('Predicted Function: y = %.2fX + %.2f' % (rkf1_regr.coef_, rkf1_regr.intercept_))\n",
        "  #for i in range(5):\n",
        "    #print(\"True MPG: \",rkfy1_test[i],\"Prediction : \", rkf1_pred[i])\n",
        "  print(\"Root mean squared error = %.4f\" % np.sqrt(mean_squared_error(rkfy1_test, rkf1_pred)))\n",
        "  print('R-squared = %.4f' % r2_score(rkfy1_test, rkf1_pred))\n",
        "  rkfcount = rkfcount + 1"
      ],
      "metadata": {
        "colab": {
          "base_uri": "https://localhost:8080/"
        },
        "id": "craj99yM2w6G",
        "outputId": "ebb58a6b-1814-4f24-f273-c06872a6c068"
      },
      "execution_count": null,
      "outputs": [
        {
          "output_type": "stream",
          "name": "stdout",
          "text": [
            "1\n",
            "Predicted Function: y = -26.86X + 33.84\n",
            "Root mean squared error = 4.1265\n",
            "R-squared = 0.7276\n",
            "2\n",
            "Predicted Function: y = -26.55X + 33.60\n",
            "Root mean squared error = 5.5287\n",
            "R-squared = 0.6083\n",
            "3\n",
            "Predicted Function: y = -27.03X + 33.99\n",
            "Root mean squared error = 3.9641\n",
            "R-squared = 0.7281\n",
            "4\n",
            "Predicted Function: y = -27.64X + 34.24\n",
            "Root mean squared error = 4.2902\n",
            "R-squared = 0.6048\n",
            "5\n",
            "Predicted Function: y = -27.12X + 33.90\n",
            "Root mean squared error = 4.5426\n",
            "R-squared = 0.5687\n",
            "6\n",
            "Predicted Function: y = -27.07X + 33.97\n",
            "Root mean squared error = 3.7359\n",
            "R-squared = 0.7747\n",
            "7\n",
            "Predicted Function: y = -27.14X + 34.00\n",
            "Root mean squared error = 4.9072\n",
            "R-squared = 0.5751\n",
            "8\n",
            "Predicted Function: y = -27.27X + 33.89\n",
            "Root mean squared error = 4.2933\n",
            "R-squared = 0.7446\n",
            "9\n",
            "Predicted Function: y = -26.93X + 33.95\n",
            "Root mean squared error = 4.3139\n",
            "R-squared = 0.6678\n",
            "10\n",
            "Predicted Function: y = -27.12X + 33.96\n",
            "Root mean squared error = 3.4620\n",
            "R-squared = 0.7265\n",
            "11\n",
            "Predicted Function: y = -26.90X + 33.88\n",
            "Root mean squared error = 4.1110\n",
            "R-squared = 0.7442\n",
            "12\n",
            "Predicted Function: y = -27.04X + 34.09\n",
            "Root mean squared error = 4.6085\n",
            "R-squared = 0.6042\n",
            "13\n",
            "Predicted Function: y = -27.50X + 34.16\n",
            "Root mean squared error = 3.5343\n",
            "R-squared = 0.7017\n",
            "14\n",
            "Predicted Function: y = -27.20X + 33.99\n",
            "Root mean squared error = 4.7076\n",
            "R-squared = 0.6765\n",
            "15\n",
            "Predicted Function: y = -27.42X + 34.08\n",
            "Root mean squared error = 3.7473\n",
            "R-squared = 0.7276\n",
            "16\n",
            "Predicted Function: y = -27.05X + 33.90\n",
            "Root mean squared error = 3.9966\n",
            "R-squared = 0.7339\n",
            "17\n",
            "Predicted Function: y = -27.06X + 33.81\n",
            "Root mean squared error = 5.5638\n",
            "R-squared = 0.5981\n",
            "18\n",
            "Predicted Function: y = -26.97X + 33.82\n",
            "Root mean squared error = 3.7329\n",
            "R-squared = 0.7371\n",
            "19\n",
            "Predicted Function: y = -27.05X + 33.95\n",
            "Root mean squared error = 3.5604\n",
            "R-squared = 0.7738\n",
            "20\n",
            "Predicted Function: y = -26.59X + 33.66\n",
            "Root mean squared error = 5.4181\n",
            "R-squared = 0.5864\n",
            "21\n",
            "Predicted Function: y = -27.12X + 33.98\n",
            "Root mean squared error = 3.8752\n",
            "R-squared = 0.7347\n",
            "22\n",
            "Predicted Function: y = -26.87X + 33.85\n",
            "Root mean squared error = 4.6204\n",
            "R-squared = 0.6810\n",
            "23\n",
            "Predicted Function: y = -26.85X + 33.81\n",
            "Root mean squared error = 5.0379\n",
            "R-squared = 0.5466\n",
            "24\n",
            "Predicted Function: y = -27.34X + 34.07\n",
            "Root mean squared error = 4.5911\n",
            "R-squared = 0.6494\n",
            "25\n",
            "Predicted Function: y = -26.97X + 33.96\n",
            "Root mean squared error = 3.5627\n",
            "R-squared = 0.7267\n",
            "26\n",
            "Predicted Function: y = -27.20X + 34.06\n",
            "Root mean squared error = 4.4765\n",
            "R-squared = 0.6251\n",
            "27\n",
            "Predicted Function: y = -27.11X + 33.87\n",
            "Root mean squared error = 4.2722\n",
            "R-squared = 0.7094\n",
            "28\n",
            "Predicted Function: y = -27.00X + 33.90\n",
            "Root mean squared error = 4.7894\n",
            "R-squared = 0.6578\n",
            "29\n",
            "Predicted Function: y = -27.17X + 33.88\n",
            "Root mean squared error = 4.2126\n",
            "R-squared = 0.7423\n",
            "30\n",
            "Predicted Function: y = -27.13X + 33.98\n",
            "Root mean squared error = 3.7392\n",
            "R-squared = 0.7208\n",
            "31\n",
            "Predicted Function: y = -27.30X + 34.06\n",
            "Root mean squared error = 5.1286\n",
            "R-squared = 0.5381\n",
            "32\n",
            "Predicted Function: y = -27.44X + 34.11\n",
            "Root mean squared error = 4.1260\n",
            "R-squared = 0.7106\n",
            "33\n",
            "Predicted Function: y = -27.22X + 34.03\n",
            "Root mean squared error = 3.4594\n",
            "R-squared = 0.7751\n",
            "34\n",
            "Predicted Function: y = -27.04X + 33.86\n",
            "Root mean squared error = 3.7480\n",
            "R-squared = 0.7750\n",
            "35\n",
            "Predicted Function: y = -27.24X + 33.98\n",
            "Root mean squared error = 4.1783\n",
            "R-squared = 0.6862\n",
            "36\n",
            "Predicted Function: y = -26.66X + 33.74\n",
            "Root mean squared error = 4.2253\n",
            "R-squared = 0.7329\n",
            "37\n",
            "Predicted Function: y = -26.76X + 33.86\n",
            "Root mean squared error = 5.3758\n",
            "R-squared = 0.5943\n",
            "38\n",
            "Predicted Function: y = -27.40X + 34.14\n",
            "Root mean squared error = 3.5641\n",
            "R-squared = 0.7179\n",
            "39\n",
            "Predicted Function: y = -26.86X + 33.73\n",
            "Root mean squared error = 4.1921\n",
            "R-squared = 0.7312\n",
            "40\n",
            "Predicted Function: y = -26.89X + 33.85\n",
            "Root mean squared error = 5.0466\n",
            "R-squared = 0.6237\n"
          ]
        }
      ]
    },
    {
      "cell_type": "markdown",
      "source": [
        "# Multiple Linear Regression\n",
        "MPG (Dependent) vs Weight and Horsepower (Independent)"
      ],
      "metadata": {
        "id": "HbDtV2ZQhqF_"
      }
    },
    {
      "cell_type": "code",
      "source": [
        "# dep: MPG   |   indep: weight, horsepower\n",
        "mpg_mlrDF = simpleDF.drop(['cylinders','acceleration'], axis=1)\n",
        "mpg_mlrDF.head()"
      ],
      "metadata": {
        "colab": {
          "base_uri": "https://localhost:8080/"
        },
        "id": "_kvU8kBEhoP9",
        "outputId": "ce729541-94e0-4a66-cdd2-178e93e5754b"
      },
      "execution_count": null,
      "outputs": [
        {
          "output_type": "execute_result",
          "data": {
            "text/plain": [
              "    mpg  horsepower  weight\n",
              "0  18.0       130.0    3504\n",
              "1  15.0       165.0    3693\n",
              "2  18.0       150.0    3436\n",
              "3  16.0       150.0    3433\n",
              "4  17.0       140.0    3449"
            ],
            "text/html": [
              "\n",
              "  <div id=\"df-89cd5f01-9384-48ee-81c0-0efed83885e1\">\n",
              "    <div class=\"colab-df-container\">\n",
              "      <div>\n",
              "<style scoped>\n",
              "    .dataframe tbody tr th:only-of-type {\n",
              "        vertical-align: middle;\n",
              "    }\n",
              "\n",
              "    .dataframe tbody tr th {\n",
              "        vertical-align: top;\n",
              "    }\n",
              "\n",
              "    .dataframe thead th {\n",
              "        text-align: right;\n",
              "    }\n",
              "</style>\n",
              "<table border=\"1\" class=\"dataframe\">\n",
              "  <thead>\n",
              "    <tr style=\"text-align: right;\">\n",
              "      <th></th>\n",
              "      <th>mpg</th>\n",
              "      <th>horsepower</th>\n",
              "      <th>weight</th>\n",
              "    </tr>\n",
              "  </thead>\n",
              "  <tbody>\n",
              "    <tr>\n",
              "      <th>0</th>\n",
              "      <td>18.0</td>\n",
              "      <td>130.0</td>\n",
              "      <td>3504</td>\n",
              "    </tr>\n",
              "    <tr>\n",
              "      <th>1</th>\n",
              "      <td>15.0</td>\n",
              "      <td>165.0</td>\n",
              "      <td>3693</td>\n",
              "    </tr>\n",
              "    <tr>\n",
              "      <th>2</th>\n",
              "      <td>18.0</td>\n",
              "      <td>150.0</td>\n",
              "      <td>3436</td>\n",
              "    </tr>\n",
              "    <tr>\n",
              "      <th>3</th>\n",
              "      <td>16.0</td>\n",
              "      <td>150.0</td>\n",
              "      <td>3433</td>\n",
              "    </tr>\n",
              "    <tr>\n",
              "      <th>4</th>\n",
              "      <td>17.0</td>\n",
              "      <td>140.0</td>\n",
              "      <td>3449</td>\n",
              "    </tr>\n",
              "  </tbody>\n",
              "</table>\n",
              "</div>\n",
              "      <button class=\"colab-df-convert\" onclick=\"convertToInteractive('df-89cd5f01-9384-48ee-81c0-0efed83885e1')\"\n",
              "              title=\"Convert this dataframe to an interactive table.\"\n",
              "              style=\"display:none;\">\n",
              "        \n",
              "  <svg xmlns=\"http://www.w3.org/2000/svg\" height=\"24px\"viewBox=\"0 0 24 24\"\n",
              "       width=\"24px\">\n",
              "    <path d=\"M0 0h24v24H0V0z\" fill=\"none\"/>\n",
              "    <path d=\"M18.56 5.44l.94 2.06.94-2.06 2.06-.94-2.06-.94-.94-2.06-.94 2.06-2.06.94zm-11 1L8.5 8.5l.94-2.06 2.06-.94-2.06-.94L8.5 2.5l-.94 2.06-2.06.94zm10 10l.94 2.06.94-2.06 2.06-.94-2.06-.94-.94-2.06-.94 2.06-2.06.94z\"/><path d=\"M17.41 7.96l-1.37-1.37c-.4-.4-.92-.59-1.43-.59-.52 0-1.04.2-1.43.59L10.3 9.45l-7.72 7.72c-.78.78-.78 2.05 0 2.83L4 21.41c.39.39.9.59 1.41.59.51 0 1.02-.2 1.41-.59l7.78-7.78 2.81-2.81c.8-.78.8-2.07 0-2.86zM5.41 20L4 18.59l7.72-7.72 1.47 1.35L5.41 20z\"/>\n",
              "  </svg>\n",
              "      </button>\n",
              "      \n",
              "  <style>\n",
              "    .colab-df-container {\n",
              "      display:flex;\n",
              "      flex-wrap:wrap;\n",
              "      gap: 12px;\n",
              "    }\n",
              "\n",
              "    .colab-df-convert {\n",
              "      background-color: #E8F0FE;\n",
              "      border: none;\n",
              "      border-radius: 50%;\n",
              "      cursor: pointer;\n",
              "      display: none;\n",
              "      fill: #1967D2;\n",
              "      height: 32px;\n",
              "      padding: 0 0 0 0;\n",
              "      width: 32px;\n",
              "    }\n",
              "\n",
              "    .colab-df-convert:hover {\n",
              "      background-color: #E2EBFA;\n",
              "      box-shadow: 0px 1px 2px rgba(60, 64, 67, 0.3), 0px 1px 3px 1px rgba(60, 64, 67, 0.15);\n",
              "      fill: #174EA6;\n",
              "    }\n",
              "\n",
              "    [theme=dark] .colab-df-convert {\n",
              "      background-color: #3B4455;\n",
              "      fill: #D2E3FC;\n",
              "    }\n",
              "\n",
              "    [theme=dark] .colab-df-convert:hover {\n",
              "      background-color: #434B5C;\n",
              "      box-shadow: 0px 1px 3px 1px rgba(0, 0, 0, 0.15);\n",
              "      filter: drop-shadow(0px 1px 2px rgba(0, 0, 0, 0.3));\n",
              "      fill: #FFFFFF;\n",
              "    }\n",
              "  </style>\n",
              "\n",
              "      <script>\n",
              "        const buttonEl =\n",
              "          document.querySelector('#df-89cd5f01-9384-48ee-81c0-0efed83885e1 button.colab-df-convert');\n",
              "        buttonEl.style.display =\n",
              "          google.colab.kernel.accessAllowed ? 'block' : 'none';\n",
              "\n",
              "        async function convertToInteractive(key) {\n",
              "          const element = document.querySelector('#df-89cd5f01-9384-48ee-81c0-0efed83885e1');\n",
              "          const dataTable =\n",
              "            await google.colab.kernel.invokeFunction('convertToInteractive',\n",
              "                                                     [key], {});\n",
              "          if (!dataTable) return;\n",
              "\n",
              "          const docLinkHtml = 'Like what you see? Visit the ' +\n",
              "            '<a target=\"_blank\" href=https://colab.research.google.com/notebooks/data_table.ipynb>data table notebook</a>'\n",
              "            + ' to learn more about interactive tables.';\n",
              "          element.innerHTML = '';\n",
              "          dataTable['output_type'] = 'display_data';\n",
              "          await google.colab.output.renderOutput(dataTable, element);\n",
              "          const docLink = document.createElement('div');\n",
              "          docLink.innerHTML = docLinkHtml;\n",
              "          element.appendChild(docLink);\n",
              "        }\n",
              "      </script>\n",
              "    </div>\n",
              "  </div>\n",
              "  "
            ]
          },
          "metadata": {},
          "execution_count": 88
        }
      ]
    },
    {
      "cell_type": "code",
      "source": [
        "normalize_numeric_minmax(mpg_mlrDF,'weight')\n",
        "normalize_numeric_minmax(mpg_mlrDF,'horsepower')\n",
        "mpg_mlrDF.head()"
      ],
      "metadata": {
        "colab": {
          "base_uri": "https://localhost:8080/"
        },
        "id": "3kg12eWEn5qg",
        "outputId": "2d77c3a7-5a2f-4d58-885a-9f222c8921c4"
      },
      "execution_count": null,
      "outputs": [
        {
          "output_type": "execute_result",
          "data": {
            "text/plain": [
              "    mpg  horsepower    weight\n",
              "0  18.0    0.456522  0.536150\n",
              "1  15.0    0.646739  0.589736\n",
              "2  18.0    0.565217  0.516870\n",
              "3  16.0    0.565217  0.516019\n",
              "4  17.0    0.510870  0.520556"
            ],
            "text/html": [
              "\n",
              "  <div id=\"df-ba3a06f7-e3ef-4107-ac19-a93ec4496890\">\n",
              "    <div class=\"colab-df-container\">\n",
              "      <div>\n",
              "<style scoped>\n",
              "    .dataframe tbody tr th:only-of-type {\n",
              "        vertical-align: middle;\n",
              "    }\n",
              "\n",
              "    .dataframe tbody tr th {\n",
              "        vertical-align: top;\n",
              "    }\n",
              "\n",
              "    .dataframe thead th {\n",
              "        text-align: right;\n",
              "    }\n",
              "</style>\n",
              "<table border=\"1\" class=\"dataframe\">\n",
              "  <thead>\n",
              "    <tr style=\"text-align: right;\">\n",
              "      <th></th>\n",
              "      <th>mpg</th>\n",
              "      <th>horsepower</th>\n",
              "      <th>weight</th>\n",
              "    </tr>\n",
              "  </thead>\n",
              "  <tbody>\n",
              "    <tr>\n",
              "      <th>0</th>\n",
              "      <td>18.0</td>\n",
              "      <td>0.456522</td>\n",
              "      <td>0.536150</td>\n",
              "    </tr>\n",
              "    <tr>\n",
              "      <th>1</th>\n",
              "      <td>15.0</td>\n",
              "      <td>0.646739</td>\n",
              "      <td>0.589736</td>\n",
              "    </tr>\n",
              "    <tr>\n",
              "      <th>2</th>\n",
              "      <td>18.0</td>\n",
              "      <td>0.565217</td>\n",
              "      <td>0.516870</td>\n",
              "    </tr>\n",
              "    <tr>\n",
              "      <th>3</th>\n",
              "      <td>16.0</td>\n",
              "      <td>0.565217</td>\n",
              "      <td>0.516019</td>\n",
              "    </tr>\n",
              "    <tr>\n",
              "      <th>4</th>\n",
              "      <td>17.0</td>\n",
              "      <td>0.510870</td>\n",
              "      <td>0.520556</td>\n",
              "    </tr>\n",
              "  </tbody>\n",
              "</table>\n",
              "</div>\n",
              "      <button class=\"colab-df-convert\" onclick=\"convertToInteractive('df-ba3a06f7-e3ef-4107-ac19-a93ec4496890')\"\n",
              "              title=\"Convert this dataframe to an interactive table.\"\n",
              "              style=\"display:none;\">\n",
              "        \n",
              "  <svg xmlns=\"http://www.w3.org/2000/svg\" height=\"24px\"viewBox=\"0 0 24 24\"\n",
              "       width=\"24px\">\n",
              "    <path d=\"M0 0h24v24H0V0z\" fill=\"none\"/>\n",
              "    <path d=\"M18.56 5.44l.94 2.06.94-2.06 2.06-.94-2.06-.94-.94-2.06-.94 2.06-2.06.94zm-11 1L8.5 8.5l.94-2.06 2.06-.94-2.06-.94L8.5 2.5l-.94 2.06-2.06.94zm10 10l.94 2.06.94-2.06 2.06-.94-2.06-.94-.94-2.06-.94 2.06-2.06.94z\"/><path d=\"M17.41 7.96l-1.37-1.37c-.4-.4-.92-.59-1.43-.59-.52 0-1.04.2-1.43.59L10.3 9.45l-7.72 7.72c-.78.78-.78 2.05 0 2.83L4 21.41c.39.39.9.59 1.41.59.51 0 1.02-.2 1.41-.59l7.78-7.78 2.81-2.81c.8-.78.8-2.07 0-2.86zM5.41 20L4 18.59l7.72-7.72 1.47 1.35L5.41 20z\"/>\n",
              "  </svg>\n",
              "      </button>\n",
              "      \n",
              "  <style>\n",
              "    .colab-df-container {\n",
              "      display:flex;\n",
              "      flex-wrap:wrap;\n",
              "      gap: 12px;\n",
              "    }\n",
              "\n",
              "    .colab-df-convert {\n",
              "      background-color: #E8F0FE;\n",
              "      border: none;\n",
              "      border-radius: 50%;\n",
              "      cursor: pointer;\n",
              "      display: none;\n",
              "      fill: #1967D2;\n",
              "      height: 32px;\n",
              "      padding: 0 0 0 0;\n",
              "      width: 32px;\n",
              "    }\n",
              "\n",
              "    .colab-df-convert:hover {\n",
              "      background-color: #E2EBFA;\n",
              "      box-shadow: 0px 1px 2px rgba(60, 64, 67, 0.3), 0px 1px 3px 1px rgba(60, 64, 67, 0.15);\n",
              "      fill: #174EA6;\n",
              "    }\n",
              "\n",
              "    [theme=dark] .colab-df-convert {\n",
              "      background-color: #3B4455;\n",
              "      fill: #D2E3FC;\n",
              "    }\n",
              "\n",
              "    [theme=dark] .colab-df-convert:hover {\n",
              "      background-color: #434B5C;\n",
              "      box-shadow: 0px 1px 3px 1px rgba(0, 0, 0, 0.15);\n",
              "      filter: drop-shadow(0px 1px 2px rgba(0, 0, 0, 0.3));\n",
              "      fill: #FFFFFF;\n",
              "    }\n",
              "  </style>\n",
              "\n",
              "      <script>\n",
              "        const buttonEl =\n",
              "          document.querySelector('#df-ba3a06f7-e3ef-4107-ac19-a93ec4496890 button.colab-df-convert');\n",
              "        buttonEl.style.display =\n",
              "          google.colab.kernel.accessAllowed ? 'block' : 'none';\n",
              "\n",
              "        async function convertToInteractive(key) {\n",
              "          const element = document.querySelector('#df-ba3a06f7-e3ef-4107-ac19-a93ec4496890');\n",
              "          const dataTable =\n",
              "            await google.colab.kernel.invokeFunction('convertToInteractive',\n",
              "                                                     [key], {});\n",
              "          if (!dataTable) return;\n",
              "\n",
              "          const docLinkHtml = 'Like what you see? Visit the ' +\n",
              "            '<a target=\"_blank\" href=https://colab.research.google.com/notebooks/data_table.ipynb>data table notebook</a>'\n",
              "            + ' to learn more about interactive tables.';\n",
              "          element.innerHTML = '';\n",
              "          dataTable['output_type'] = 'display_data';\n",
              "          await google.colab.output.renderOutput(dataTable, element);\n",
              "          const docLink = document.createElement('div');\n",
              "          docLink.innerHTML = docLinkHtml;\n",
              "          element.appendChild(docLink);\n",
              "        }\n",
              "      </script>\n",
              "    </div>\n",
              "  </div>\n",
              "  "
            ]
          },
          "metadata": {},
          "execution_count": 89
        }
      ]
    },
    {
      "cell_type": "code",
      "source": [
        "x2,y2=to_xy(mpg_mlrDF,'mpg')\n",
        "# 30% test, 70% train\n",
        "x2_train, x2_test, y2_train, y2_test = train_test_split(x2,y2, test_size=0.3, random_state=42)\n",
        "\n",
        "horseTest = x2_test[:, 0]\n",
        "horseTrain = x2_train[:, 0]\n",
        "weightTest = x2_test[:, 1]\n",
        "weightTrain = x2_train[:, 1]\n",
        "\n",
        "# create linear regression object\n",
        "mpgMLR_regr = linear_model.LinearRegression()\n",
        "horse_regr = linear_model.LinearRegression()\n",
        "weight_regr = linear_model.LinearRegression()\n",
        "mpgMLR_regr_testdata = linear_model.LinearRegression()\n",
        "\n",
        "# fit regression model to training set\n",
        "mpgMLR_regr.fit(x2_train,y2_train)\n",
        "horse_regr.fit(horseTrain.reshape(-1,1),y2_train)\n",
        "weight_regr.fit(weightTrain.reshape(-1,1),y2_train)\n",
        "mpgMLR_regr_testdata.fit(x2_test, y2_test)\n",
        "\n",
        "# prediction set\n",
        "y2_pred = mpgMLR_regr.predict(x2_test)\n",
        "horsey2_pred = horse_regr.predict(horseTest.reshape(-1,1))\n",
        "weighty2_pred = weight_regr.predict(weightTest.reshape(-1,1))\n",
        "y2_pred_testdata = mpgMLR_regr_testdata.predict(x2_train)"
      ],
      "metadata": {
        "id": "HSyxYMcZoHDi"
      },
      "execution_count": null,
      "outputs": []
    },
    {
      "cell_type": "code",
      "source": [
        "print('Intercept: \\n', mpgMLR_regr.intercept_)\n",
        "print('Coefficients: \\n', mpgMLR_regr.coef_)"
      ],
      "metadata": {
        "colab": {
          "base_uri": "https://localhost:8080/"
        },
        "id": "YIUn6q6dsWjp",
        "outputId": "3e1607f4-f05d-490f-f27e-7fcf0ef3bda5"
      },
      "execution_count": null,
      "outputs": [
        {
          "output_type": "stream",
          "name": "stdout",
          "text": [
            "Intercept: \n",
            " 34.61667\n",
            "Coefficients: \n",
            " [ -8.991634 -21.349674]\n"
          ]
        }
      ]
    },
    {
      "cell_type": "code",
      "source": [
        "fig, ax = plt.subplots(2, figsize=(20,10))\n",
        "ax[0].scatter(horseTest,y2_test, color='black')\n",
        "ax[0].set_xlabel('horsepower')\n",
        "ax[0].set_ylabel('MPG')\n",
        "ax[0].plot(horseTest, horsey2_pred , color='blue', linewidth=3)\n",
        "titlestr = 'Predicted Function: y = %.2fx + %.2f' % (horse_regr.coef_[0],horse_regr.intercept_)\n",
        "ax[0].set_title(titlestr)\n",
        "\n",
        "ax[1].scatter(weightTest,y2_test, color='black')\n",
        "ax[1].set_xlabel('weight')\n",
        "ax[1].set_ylabel('MPG')\n",
        "ax[1].plot(weightTest, weighty2_pred, color='purple', linewidth=3)\n",
        "titlestr = 'Predicted Function: y = %.2fx + %.2f' % (weight_regr.coef_[0],weight_regr.intercept_)\n",
        "ax[1].set_title(titlestr)\n"
      ],
      "metadata": {
        "colab": {
          "base_uri": "https://localhost:8080/"
        },
        "id": "9sVQLekszrCt",
        "outputId": "ec3e79e6-709b-4b45-bfba-22d9b13db172"
      },
      "execution_count": null,
      "outputs": [
        {
          "output_type": "execute_result",
          "data": {
            "text/plain": [
              "Text(0.5, 1.0, 'Predicted Function: y = -27.67x + 34.28')"
            ]
          },
          "metadata": {},
          "execution_count": 92
        },
        {
          "output_type": "display_data",
          "data": {
            "text/plain": [
              "<Figure size 1440x720 with 2 Axes>"
            ],
            "image/png": "[encoded data removed]"
          },
          "metadata": {
            "needs_background": "light"
          }
        }
      ]
    },
    {
      "cell_type": "code",
      "source": [
        "print(\"\\nPrediction Table for MPG based off Horsepower\")\n",
        "print('Predicted Function: y = %.2fx + %.2f' % (horse_regr.coef_[0],horse_regr.intercept_))\n",
        "for i in range(4):\n",
        "    print(\"True MPG : \",y2_test[i],\"| Prediction : \", horsey2_pred[i],\"| HP : \", horseTest[i])\n",
        "print(\"\\nPrediction Table for MPG based off Weight\")\n",
        "print('Predicted Function: y = %.2fx + %.2f' % (weight_regr.coef_[0],weight_regr.intercept_))\n",
        "for i in range(4):\n",
        "    print(\"True MPG : \",y2_test[i],\"| Prediction : \", weighty2_pred[i],\"| Weight : \", weightTest[i])\n",
        "print(\"\\nPrediction Table for MPG based off Horsepower and Weight\")\n",
        "print('Predicted Function: y = %.2fx1 + %.2fx2 + %.2f' % (mpgMLR_regr.coef_[1],mpgMLR_regr.coef_[0],mpgMLR_regr.intercept_))\n",
        "for i in range(4):\n",
        "    print(\"True MPG : \",y2_test[i],\"| Prediction : \", y2_pred[i],\"| HP : \", horseTest[i], \"and Weight : \", weightTest[i])"
      ],
      "metadata": {
        "colab": {
          "base_uri": "https://localhost:8080/"
        },
        "id": "9FnP4E13J5FX",
        "outputId": "db56c1fb-4b27-4b45-bfdf-906b05829763"
      },
      "execution_count": null,
      "outputs": [
        {
          "output_type": "stream",
          "name": "stdout",
          "text": [
            "\n",
            "Prediction Table for MPG based off Horsepower\n",
            "Predicted Function: y = -30.35x + 32.92\n",
            "True MPG :  33.0 | Prediction :  31.763006 | HP :  0.038043477\n",
            "True MPG :  28.0 | Prediction :  27.475115 | HP :  0.17934783\n",
            "True MPG :  19.0 | Prediction :  24.011818 | HP :  0.29347825\n",
            "True MPG :  13.0 | Prediction :  15.765873 | HP :  0.5652174\n",
            "\n",
            "Prediction Table for MPG based off Weight\n",
            "Predicted Function: y = -27.67x + 34.28\n",
            "True MPG :  33.0 | Prediction :  32.85717 | Weight :  0.051601928\n",
            "True MPG :  28.0 | Prediction :  26.346588 | Weight :  0.2869294\n",
            "True MPG :  19.0 | Prediction :  26.275991 | Weight :  0.28948113\n",
            "True MPG :  13.0 | Prediction :  16.031628 | Weight :  0.6597675\n",
            "\n",
            "Prediction Table for MPG based off Horsepower and Weight\n",
            "Predicted Function: y = -21.35x1 + -8.99x2 + 34.62\n",
            "True MPG :  33.0 | Prediction :  33.172913 | HP :  0.038043477 and Weight :  0.051601928\n",
            "True MPG :  28.0 | Prediction :  26.87819 | HP :  0.17934783 and Weight :  0.2869294\n",
            "True MPG :  19.0 | Prediction :  25.797493 | HP :  0.29347825 and Weight :  0.28948113\n",
            "True MPG :  13.0 | Prediction :  15.44862 | HP :  0.5652174 and Weight :  0.6597675\n"
          ]
        }
      ]
    },
    {
      "cell_type": "code",
      "source": [
        "# Comparing true versus predicted values\n",
        "plt.scatter(y2_test, y2_pred, color='black')\n",
        "plt.title('Comparing true and predicted values for test set')\n",
        "plt.xlabel('True values for y')\n",
        "plt.ylabel('Predicted values for y')\n",
        "\n",
        "# Model evaluation\n",
        "print(\"Root mean squared error = %.4f\" % np.sqrt(mean_squared_error(y2_test, y2_pred)))\n",
        "print('R-squared = %.4f' % r2_score(y2_test, y2_pred))"
      ],
      "metadata": {
        "colab": {
          "base_uri": "https://localhost:8080/"
        },
        "id": "PDWpJdjoo2o7",
        "outputId": "76dcad46-45bb-47b7-b63f-bffba7657195"
      },
      "execution_count": null,
      "outputs": [
        {
          "output_type": "stream",
          "name": "stdout",
          "text": [
            "Root mean squared error = 3.9490\n",
            "R-squared = 0.7283\n"
          ]
        },
        {
          "output_type": "display_data",
          "data": {
            "text/plain": [
              "<Figure size 432x288 with 1 Axes>"
            ],
            "image/png": "[encoded data removed]"
          },
          "metadata": {
            "needs_background": "light"
          }
        }
      ]
    },
    {
      "cell_type": "code",
      "source": [
        "chart_regression(y2_pred,y2_test)"
      ],
      "metadata": {
        "colab": {
          "base_uri": "https://localhost:8080/"
        },
        "id": "pnapxbQzo8XI",
        "outputId": "f56edc8d-4a9d-4956-e3fc-4c7b3e536be3"
      },
      "execution_count": null,
      "outputs": [
        {
          "output_type": "display_data",
          "data": {
            "text/plain": [
              "<Figure size 432x288 with 1 Axes>"
            ],
            "image/png": "[encoded data removed]"
          },
          "metadata": {
            "needs_background": "light"
          }
        }
      ]
    },
    {
      "cell_type": "markdown",
      "source": [
        "### Prediction of Value Outside Range\n",
        "Greater than 2, since the data was already normalized using min-max. Deciding attribute is horsepower."
      ],
      "metadata": {
        "id": "ezAFmksjLlkn"
      }
    },
    {
      "cell_type": "code",
      "source": [
        "outside_value = np.array([[3]])\n",
        "pred_outside = horse_regr.predict(outside_value)\n",
        "print(\"Prediction : \", pred_outside)"
      ],
      "metadata": {
        "colab": {
          "base_uri": "https://localhost:8080/"
        },
        "id": "QSD5POoBLyxL",
        "outputId": "3d05adba-73b7-454c-9d20-db8b4effae3a"
      },
      "execution_count": null,
      "outputs": [
        {
          "output_type": "stream",
          "name": "stdout",
          "text": [
            "Prediction :  [-58.11779976]\n"
          ]
        }
      ]
    },
    {
      "cell_type": "markdown",
      "source": [
        "Prediction Function with Test and Training data swapped"
      ],
      "metadata": {
        "id": "5VvhDx8FPrdP"
      }
    },
    {
      "cell_type": "code",
      "source": [
        "print('Slope = ', mpgMLR_regr_testdata.coef_)\n",
        "print('Intercept = ', mpgMLR_regr_testdata.intercept_)\n",
        "\n",
        "print(\"\\nPrediction Table for Chance of Admit based off GRE Score and CGPA\")\n",
        "print('Predicted Function: y = %.2fx1 + %.2fx2 + %.2f' % (mpgMLR_regr_testdata.coef_[1],mpgMLR_regr_testdata.coef_[0],mpgMLR_regr_testdata.intercept_))\n",
        "for i in range(10):\n",
        "    print(\"True Chance of Admit : \",y2_train[i],\"| Prediction : \", y2_pred_testdata[i],\"| GRE Score : \", horseTrain[i], \"and CGPA : \", weightTrain[i])"
      ],
      "metadata": {
        "colab": {
          "base_uri": "https://localhost:8080/"
        },
        "id": "zFaFD5sJPxpb",
        "outputId": "09f64fb4-f869-4565-dd45-55f84b35b32f"
      },
      "execution_count": null,
      "outputs": [
        {
          "output_type": "stream",
          "name": "stdout",
          "text": [
            "Slope =  [ -7.545222 -19.586317]\n",
            "Intercept =  33.371933\n",
            "\n",
            "Prediction Table for Chance of Admit based off GRE Score and CGPA\n",
            "Predicted Function: y = -19.59x1 + -7.55x2 + 33.37\n",
            "True Chance of Admit :  15.0 | Prediction :  13.613235 | GRE Score :  0.5380435 and CGPA :  0.801531\n",
            "True Chance of Admit :  21.0 | Prediction :  27.929798 | GRE Score :  0.14130434 and CGPA :  0.22341934\n",
            "True Chance of Admit :  21.0 | Prediction :  26.363808 | GRE Score :  0.21195652 and CGPA :  0.27615538\n",
            "True Chance of Admit :  20.5 | Prediction :  22.799496 | GRE Score :  0.26630434 and CGPA :  0.43719876\n",
            "True Chance of Admit :  21.0 | Prediction :  25.820026 | GRE Score :  0.23913044 and CGPA :  0.29345053\n",
            "True Chance of Admit :  25.4 | Prediction :  23.354435 | GRE Score :  0.38043478 and CGPA :  0.36489934\n",
            "True Chance of Admit :  34.1 | Prediction :  30.403976 | GRE Score :  0.11956522 and CGPA :  0.10547207\n",
            "True Chance of Admit :  27.0 | Prediction :  24.142944 | GRE Score :  0.23913044 and CGPA :  0.3790757\n",
            "True Chance of Admit :  36.0 | Prediction :  29.54451 | GRE Score :  0.13043478 and CGPA :  0.14516586\n",
            "True Chance of Admit :  31.6 | Prediction :  26.548325 | GRE Score :  0.1521739 and CGPA :  0.28976467\n"
          ]
        }
      ]
    },
    {
      "cell_type": "markdown",
      "metadata": {
        "id": "BneTPV_ntmyF"
      },
      "source": [
        "# Part B: Classification"
      ]
    },
    {
      "cell_type": "code",
      "execution_count": null,
      "metadata": {
        "colab": {
          "base_uri": "https://localhost:8080/"
        },
        "id": "novI7CNKz7ET",
        "outputId": "db131ab6-f740-4c21-c7d0-62ed2bf0f803"
      },
      "outputs": [
        {
          "output_type": "stream",
          "name": "stdout",
          "text": [
            "Number of instances = 500\n",
            "Number of attributes = 8\n",
            "Number of missing values:\n",
            "\tGRE Score: 0\n",
            "\tTOEFL Score: 0\n",
            "\tUniversity Rating: 0\n",
            "\tSOP: 0\n",
            "\tLOR : 0\n",
            "\tCGPA: 0\n",
            "\tResearch: 0\n",
            "\tChance of Admit : 0\n"
          ]
        },
        {
          "output_type": "execute_result",
          "data": {
            "text/plain": [
              "   GRE Score  TOEFL Score  University Rating  SOP  LOR   CGPA  Research  \\\n",
              "0        337          118                  4  4.5   4.5  9.65         1   \n",
              "1        324          107                  4  4.0   4.5  8.87         1   \n",
              "2        316          104                  3  3.0   3.5  8.00         1   \n",
              "3        322          110                  3  3.5   2.5  8.67         1   \n",
              "4        314          103                  2  2.0   3.0  8.21         0   \n",
              "\n",
              "   Chance of Admit   \n",
              "0              0.92  \n",
              "1              0.76  \n",
              "2              0.72  \n",
              "3              0.80  \n",
              "4              0.65  "
            ],
            "text/html": [
              "\n",
              "  <div id=\"df-e53e30a7-d9d1-429b-bec9-e3df36a8f20c\">\n",
              "    <div class=\"colab-df-container\">\n",
              "      <div>\n",
              "<style scoped>\n",
              "    .dataframe tbody tr th:only-of-type {\n",
              "        vertical-align: middle;\n",
              "    }\n",
              "\n",
              "    .dataframe tbody tr th {\n",
              "        vertical-align: top;\n",
              "    }\n",
              "\n",
              "    .dataframe thead th {\n",
              "        text-align: right;\n",
              "    }\n",
              "</style>\n",
              "<table border=\"1\" class=\"dataframe\">\n",
              "  <thead>\n",
              "    <tr style=\"text-align: right;\">\n",
              "      <th></th>\n",
              "      <th>GRE Score</th>\n",
              "      <th>TOEFL Score</th>\n",
              "      <th>University Rating</th>\n",
              "      <th>SOP</th>\n",
              "      <th>LOR</th>\n",
              "      <th>CGPA</th>\n",
              "      <th>Research</th>\n",
              "      <th>Chance of Admit</th>\n",
              "    </tr>\n",
              "  </thead>\n",
              "  <tbody>\n",
              "    <tr>\n",
              "      <th>0</th>\n",
              "      <td>337</td>\n",
              "      <td>118</td>\n",
              "      <td>4</td>\n",
              "      <td>4.5</td>\n",
              "      <td>4.5</td>\n",
              "      <td>9.65</td>\n",
              "      <td>1</td>\n",
              "      <td>0.92</td>\n",
              "    </tr>\n",
              "    <tr>\n",
              "      <th>1</th>\n",
              "      <td>324</td>\n",
              "      <td>107</td>\n",
              "      <td>4</td>\n",
              "      <td>4.0</td>\n",
              "      <td>4.5</td>\n",
              "      <td>8.87</td>\n",
              "      <td>1</td>\n",
              "      <td>0.76</td>\n",
              "    </tr>\n",
              "    <tr>\n",
              "      <th>2</th>\n",
              "      <td>316</td>\n",
              "      <td>104</td>\n",
              "      <td>3</td>\n",
              "      <td>3.0</td>\n",
              "      <td>3.5</td>\n",
              "      <td>8.00</td>\n",
              "      <td>1</td>\n",
              "      <td>0.72</td>\n",
              "    </tr>\n",
              "    <tr>\n",
              "      <th>3</th>\n",
              "      <td>322</td>\n",
              "      <td>110</td>\n",
              "      <td>3</td>\n",
              "      <td>3.5</td>\n",
              "      <td>2.5</td>\n",
              "      <td>8.67</td>\n",
              "      <td>1</td>\n",
              "      <td>0.80</td>\n",
              "    </tr>\n",
              "    <tr>\n",
              "      <th>4</th>\n",
              "      <td>314</td>\n",
              "      <td>103</td>\n",
              "      <td>2</td>\n",
              "      <td>2.0</td>\n",
              "      <td>3.0</td>\n",
              "      <td>8.21</td>\n",
              "      <td>0</td>\n",
              "      <td>0.65</td>\n",
              "    </tr>\n",
              "  </tbody>\n",
              "</table>\n",
              "</div>\n",
              "      <button class=\"colab-df-convert\" onclick=\"convertToInteractive('df-e53e30a7-d9d1-429b-bec9-e3df36a8f20c')\"\n",
              "              title=\"Convert this dataframe to an interactive table.\"\n",
              "              style=\"display:none;\">\n",
              "        \n",
              "  <svg xmlns=\"http://www.w3.org/2000/svg\" height=\"24px\"viewBox=\"0 0 24 24\"\n",
              "       width=\"24px\">\n",
              "    <path d=\"M0 0h24v24H0V0z\" fill=\"none\"/>\n",
              "    <path d=\"M18.56 5.44l.94 2.06.94-2.06 2.06-.94-2.06-.94-.94-2.06-.94 2.06-2.06.94zm-11 1L8.5 8.5l.94-2.06 2.06-.94-2.06-.94L8.5 2.5l-.94 2.06-2.06.94zm10 10l.94 2.06.94-2.06 2.06-.94-2.06-.94-.94-2.06-.94 2.06-2.06.94z\"/><path d=\"M17.41 7.96l-1.37-1.37c-.4-.4-.92-.59-1.43-.59-.52 0-1.04.2-1.43.59L10.3 9.45l-7.72 7.72c-.78.78-.78 2.05 0 2.83L4 21.41c.39.39.9.59 1.41.59.51 0 1.02-.2 1.41-.59l7.78-7.78 2.81-2.81c.8-.78.8-2.07 0-2.86zM5.41 20L4 18.59l7.72-7.72 1.47 1.35L5.41 20z\"/>\n",
              "  </svg>\n",
              "      </button>\n",
              "      \n",
              "  <style>\n",
              "    .colab-df-container {\n",
              "      display:flex;\n",
              "      flex-wrap:wrap;\n",
              "      gap: 12px;\n",
              "    }\n",
              "\n",
              "    .colab-df-convert {\n",
              "      background-color: #E8F0FE;\n",
              "      border: none;\n",
              "      border-radius: 50%;\n",
              "      cursor: pointer;\n",
              "      display: none;\n",
              "      fill: #1967D2;\n",
              "      height: 32px;\n",
              "      padding: 0 0 0 0;\n",
              "      width: 32px;\n",
              "    }\n",
              "\n",
              "    .colab-df-convert:hover {\n",
              "      background-color: #E2EBFA;\n",
              "      box-shadow: 0px 1px 2px rgba(60, 64, 67, 0.3), 0px 1px 3px 1px rgba(60, 64, 67, 0.15);\n",
              "      fill: #174EA6;\n",
              "    }\n",
              "\n",
              "    [theme=dark] .colab-df-convert {\n",
              "      background-color: #3B4455;\n",
              "      fill: #D2E3FC;\n",
              "    }\n",
              "\n",
              "    [theme=dark] .colab-df-convert:hover {\n",
              "      background-color: #434B5C;\n",
              "      box-shadow: 0px 1px 3px 1px rgba(0, 0, 0, 0.15);\n",
              "      filter: drop-shadow(0px 1px 2px rgba(0, 0, 0, 0.3));\n",
              "      fill: #FFFFFF;\n",
              "    }\n",
              "  </style>\n",
              "\n",
              "      <script>\n",
              "        const buttonEl =\n",
              "          document.querySelector('#df-e53e30a7-d9d1-429b-bec9-e3df36a8f20c button.colab-df-convert');\n",
              "        buttonEl.style.display =\n",
              "          google.colab.kernel.accessAllowed ? 'block' : 'none';\n",
              "\n",
              "        async function convertToInteractive(key) {\n",
              "          const element = document.querySelector('#df-e53e30a7-d9d1-429b-bec9-e3df36a8f20c');\n",
              "          const dataTable =\n",
              "            await google.colab.kernel.invokeFunction('convertToInteractive',\n",
              "                                                     [key], {});\n",
              "          if (!dataTable) return;\n",
              "\n",
              "          const docLinkHtml = 'Like what you see? Visit the ' +\n",
              "            '<a target=\"_blank\" href=https://colab.research.google.com/notebooks/data_table.ipynb>data table notebook</a>'\n",
              "            + ' to learn more about interactive tables.';\n",
              "          element.innerHTML = '';\n",
              "          dataTable['output_type'] = 'display_data';\n",
              "          await google.colab.output.renderOutput(dataTable, element);\n",
              "          const docLink = document.createElement('div');\n",
              "          docLink.innerHTML = docLinkHtml;\n",
              "          element.appendChild(docLink);\n",
              "        }\n",
              "      </script>\n",
              "    </div>\n",
              "  </div>\n",
              "  "
            ]
          },
          "metadata": {},
          "execution_count": 98
        }
      ],
      "source": [
        "filename_read2 = os.path.join(path,\"Admission_Predict_Ver1.1_small_data_set_for_Linear_Regression.csv\")\n",
        "classDF = pd.read_csv(filename_read2, na_values=['NA','?'], encoding=\"ISO-8859-1\")\n",
        "classDF.drop(['Serial No.'],inplace=True,axis=1)\n",
        "print('Number of instances = %d' % (classDF.shape[0]))\n",
        "print('Number of attributes = %d' % (classDF.shape[1]))\n",
        "print('Number of missing values:')\n",
        "for col in classDF.columns:\n",
        "    print('\\t%s: %d' % (col,classDF[col].isna().sum()))\n",
        "classDF.head()"
      ]
    },
    {
      "cell_type": "code",
      "execution_count": null,
      "metadata": {
        "colab": {
          "base_uri": "https://localhost:8080/"
        },
        "id": "e8_tQ0Dr0fik",
        "outputId": "74ca127a-8108-42ac-f426-70aa7fa66b89"
      },
      "outputs": [
        {
          "output_type": "execute_result",
          "data": {
            "text/plain": [
              "    GRE Score  TOEFL Score  University Rating  SOP  LOR   CGPA  Research  \\\n",
              "0         337          118                  4  4.5   4.5  9.65         1   \n",
              "1         324          107                  4  4.0   4.5  8.87         1   \n",
              "2         316          104                  3  3.0   3.5  8.00         1   \n",
              "3         322          110                  3  3.5   2.5  8.67         1   \n",
              "4         314          103                  2  2.0   3.0  8.21         0   \n",
              "5         330          115                  5  4.5   3.0  9.34         1   \n",
              "6         321          109                  3  3.0   4.0  8.20         1   \n",
              "7         308          101                  2  3.0   4.0  7.90         0   \n",
              "8         302          102                  1  2.0   1.5  8.00         0   \n",
              "9         323          108                  3  3.5   3.0  8.60         0   \n",
              "10        325          106                  3  3.5   4.0  8.40         1   \n",
              "11        327          111                  4  4.0   4.5  9.00         1   \n",
              "12        328          112                  4  4.0   4.5  9.10         1   \n",
              "13        307          109                  3  4.0   3.0  8.00         1   \n",
              "14        311          104                  3  3.5   2.0  8.20         1   \n",
              "15        314          105                  3  3.5   2.5  8.30         0   \n",
              "16        317          107                  3  4.0   3.0  8.70         0   \n",
              "17        319          106                  3  4.0   3.0  8.00         1   \n",
              "18        318          110                  3  4.0   3.0  8.80         0   \n",
              "19        303          102                  3  3.5   3.0  8.50         0   \n",
              "\n",
              "   Admission Chance  \n",
              "0     More than 75%  \n",
              "1     More than 75%  \n",
              "2    Between 50-75%  \n",
              "3     More than 75%  \n",
              "4    Between 50-75%  \n",
              "5     More than 75%  \n",
              "6    Between 50-75%  \n",
              "7    Between 50-75%  \n",
              "8    Between 50-75%  \n",
              "9     Less than 50%  \n",
              "10   Between 50-75%  \n",
              "11    More than 75%  \n",
              "12    More than 75%  \n",
              "13   Between 50-75%  \n",
              "14   Between 50-75%  \n",
              "15   Between 50-75%  \n",
              "16   Between 50-75%  \n",
              "17   Between 50-75%  \n",
              "18   Between 50-75%  \n",
              "19   Between 50-75%  "
            ],
            "text/html": [
              "\n",
              "  <div id=\"df-3adf4967-d3c4-44b8-8988-63f257c1d8ef\">\n",
              "    <div class=\"colab-df-container\">\n",
              "      <div>\n",
              "<style scoped>\n",
              "    .dataframe tbody tr th:only-of-type {\n",
              "        vertical-align: middle;\n",
              "    }\n",
              "\n",
              "    .dataframe tbody tr th {\n",
              "        vertical-align: top;\n",
              "    }\n",
              "\n",
              "    .dataframe thead th {\n",
              "        text-align: right;\n",
              "    }\n",
              "</style>\n",
              "<table border=\"1\" class=\"dataframe\">\n",
              "  <thead>\n",
              "    <tr style=\"text-align: right;\">\n",
              "      <th></th>\n",
              "      <th>GRE Score</th>\n",
              "      <th>TOEFL Score</th>\n",
              "      <th>University Rating</th>\n",
              "      <th>SOP</th>\n",
              "      <th>LOR</th>\n",
              "      <th>CGPA</th>\n",
              "      <th>Research</th>\n",
              "      <th>Admission Chance</th>\n",
              "    </tr>\n",
              "  </thead>\n",
              "  <tbody>\n",
              "    <tr>\n",
              "      <th>0</th>\n",
              "      <td>337</td>\n",
              "      <td>118</td>\n",
              "      <td>4</td>\n",
              "      <td>4.5</td>\n",
              "      <td>4.5</td>\n",
              "      <td>9.65</td>\n",
              "      <td>1</td>\n",
              "      <td>More than 75%</td>\n",
              "    </tr>\n",
              "    <tr>\n",
              "      <th>1</th>\n",
              "      <td>324</td>\n",
              "      <td>107</td>\n",
              "      <td>4</td>\n",
              "      <td>4.0</td>\n",
              "      <td>4.5</td>\n",
              "      <td>8.87</td>\n",
              "      <td>1</td>\n",
              "      <td>More than 75%</td>\n",
              "    </tr>\n",
              "    <tr>\n",
              "      <th>2</th>\n",
              "      <td>316</td>\n",
              "      <td>104</td>\n",
              "      <td>3</td>\n",
              "      <td>3.0</td>\n",
              "      <td>3.5</td>\n",
              "      <td>8.00</td>\n",
              "      <td>1</td>\n",
              "      <td>Between 50-75%</td>\n",
              "    </tr>\n",
              "    <tr>\n",
              "      <th>3</th>\n",
              "      <td>322</td>\n",
              "      <td>110</td>\n",
              "      <td>3</td>\n",
              "      <td>3.5</td>\n",
              "      <td>2.5</td>\n",
              "      <td>8.67</td>\n",
              "      <td>1</td>\n",
              "      <td>More than 75%</td>\n",
              "    </tr>\n",
              "    <tr>\n",
              "      <th>4</th>\n",
              "      <td>314</td>\n",
              "      <td>103</td>\n",
              "      <td>2</td>\n",
              "      <td>2.0</td>\n",
              "      <td>3.0</td>\n",
              "      <td>8.21</td>\n",
              "      <td>0</td>\n",
              "      <td>Between 50-75%</td>\n",
              "    </tr>\n",
              "    <tr>\n",
              "      <th>5</th>\n",
              "      <td>330</td>\n",
              "      <td>115</td>\n",
              "      <td>5</td>\n",
              "      <td>4.5</td>\n",
              "      <td>3.0</td>\n",
              "      <td>9.34</td>\n",
              "      <td>1</td>\n",
              "      <td>More than 75%</td>\n",
              "    </tr>\n",
              "    <tr>\n",
              "      <th>6</th>\n",
              "      <td>321</td>\n",
              "      <td>109</td>\n",
              "      <td>3</td>\n",
              "      <td>3.0</td>\n",
              "      <td>4.0</td>\n",
              "      <td>8.20</td>\n",
              "      <td>1</td>\n",
              "      <td>Between 50-75%</td>\n",
              "    </tr>\n",
              "    <tr>\n",
              "      <th>7</th>\n",
              "      <td>308</td>\n",
              "      <td>101</td>\n",
              "      <td>2</td>\n",
              "      <td>3.0</td>\n",
              "      <td>4.0</td>\n",
              "      <td>7.90</td>\n",
              "      <td>0</td>\n",
              "      <td>Between 50-75%</td>\n",
              "    </tr>\n",
              "    <tr>\n",
              "      <th>8</th>\n",
              "      <td>302</td>\n",
              "      <td>102</td>\n",
              "      <td>1</td>\n",
              "      <td>2.0</td>\n",
              "      <td>1.5</td>\n",
              "      <td>8.00</td>\n",
              "      <td>0</td>\n",
              "      <td>Between 50-75%</td>\n",
              "    </tr>\n",
              "    <tr>\n",
              "      <th>9</th>\n",
              "      <td>323</td>\n",
              "      <td>108</td>\n",
              "      <td>3</td>\n",
              "      <td>3.5</td>\n",
              "      <td>3.0</td>\n",
              "      <td>8.60</td>\n",
              "      <td>0</td>\n",
              "      <td>Less than 50%</td>\n",
              "    </tr>\n",
              "    <tr>\n",
              "      <th>10</th>\n",
              "      <td>325</td>\n",
              "      <td>106</td>\n",
              "      <td>3</td>\n",
              "      <td>3.5</td>\n",
              "      <td>4.0</td>\n",
              "      <td>8.40</td>\n",
              "      <td>1</td>\n",
              "      <td>Between 50-75%</td>\n",
              "    </tr>\n",
              "    <tr>\n",
              "      <th>11</th>\n",
              "      <td>327</td>\n",
              "      <td>111</td>\n",
              "      <td>4</td>\n",
              "      <td>4.0</td>\n",
              "      <td>4.5</td>\n",
              "      <td>9.00</td>\n",
              "      <td>1</td>\n",
              "      <td>More than 75%</td>\n",
              "    </tr>\n",
              "    <tr>\n",
              "      <th>12</th>\n",
              "      <td>328</td>\n",
              "      <td>112</td>\n",
              "      <td>4</td>\n",
              "      <td>4.0</td>\n",
              "      <td>4.5</td>\n",
              "      <td>9.10</td>\n",
              "      <td>1</td>\n",
              "      <td>More than 75%</td>\n",
              "    </tr>\n",
              "    <tr>\n",
              "      <th>13</th>\n",
              "      <td>307</td>\n",
              "      <td>109</td>\n",
              "      <td>3</td>\n",
              "      <td>4.0</td>\n",
              "      <td>3.0</td>\n",
              "      <td>8.00</td>\n",
              "      <td>1</td>\n",
              "      <td>Between 50-75%</td>\n",
              "    </tr>\n",
              "    <tr>\n",
              "      <th>14</th>\n",
              "      <td>311</td>\n",
              "      <td>104</td>\n",
              "      <td>3</td>\n",
              "      <td>3.5</td>\n",
              "      <td>2.0</td>\n",
              "      <td>8.20</td>\n",
              "      <td>1</td>\n",
              "      <td>Between 50-75%</td>\n",
              "    </tr>\n",
              "    <tr>\n",
              "      <th>15</th>\n",
              "      <td>314</td>\n",
              "      <td>105</td>\n",
              "      <td>3</td>\n",
              "      <td>3.5</td>\n",
              "      <td>2.5</td>\n",
              "      <td>8.30</td>\n",
              "      <td>0</td>\n",
              "      <td>Between 50-75%</td>\n",
              "    </tr>\n",
              "    <tr>\n",
              "      <th>16</th>\n",
              "      <td>317</td>\n",
              "      <td>107</td>\n",
              "      <td>3</td>\n",
              "      <td>4.0</td>\n",
              "      <td>3.0</td>\n",
              "      <td>8.70</td>\n",
              "      <td>0</td>\n",
              "      <td>Between 50-75%</td>\n",
              "    </tr>\n",
              "    <tr>\n",
              "      <th>17</th>\n",
              "      <td>319</td>\n",
              "      <td>106</td>\n",
              "      <td>3</td>\n",
              "      <td>4.0</td>\n",
              "      <td>3.0</td>\n",
              "      <td>8.00</td>\n",
              "      <td>1</td>\n",
              "      <td>Between 50-75%</td>\n",
              "    </tr>\n",
              "    <tr>\n",
              "      <th>18</th>\n",
              "      <td>318</td>\n",
              "      <td>110</td>\n",
              "      <td>3</td>\n",
              "      <td>4.0</td>\n",
              "      <td>3.0</td>\n",
              "      <td>8.80</td>\n",
              "      <td>0</td>\n",
              "      <td>Between 50-75%</td>\n",
              "    </tr>\n",
              "    <tr>\n",
              "      <th>19</th>\n",
              "      <td>303</td>\n",
              "      <td>102</td>\n",
              "      <td>3</td>\n",
              "      <td>3.5</td>\n",
              "      <td>3.0</td>\n",
              "      <td>8.50</td>\n",
              "      <td>0</td>\n",
              "      <td>Between 50-75%</td>\n",
              "    </tr>\n",
              "  </tbody>\n",
              "</table>\n",
              "</div>\n",
              "      <button class=\"colab-df-convert\" onclick=\"convertToInteractive('df-3adf4967-d3c4-44b8-8988-63f257c1d8ef')\"\n",
              "              title=\"Convert this dataframe to an interactive table.\"\n",
              "              style=\"display:none;\">\n",
              "        \n",
              "  <svg xmlns=\"http://www.w3.org/2000/svg\" height=\"24px\"viewBox=\"0 0 24 24\"\n",
              "       width=\"24px\">\n",
              "    <path d=\"M0 0h24v24H0V0z\" fill=\"none\"/>\n",
              "    <path d=\"M18.56 5.44l.94 2.06.94-2.06 2.06-.94-2.06-.94-.94-2.06-.94 2.06-2.06.94zm-11 1L8.5 8.5l.94-2.06 2.06-.94-2.06-.94L8.5 2.5l-.94 2.06-2.06.94zm10 10l.94 2.06.94-2.06 2.06-.94-2.06-.94-.94-2.06-.94 2.06-2.06.94z\"/><path d=\"M17.41 7.96l-1.37-1.37c-.4-.4-.92-.59-1.43-.59-.52 0-1.04.2-1.43.59L10.3 9.45l-7.72 7.72c-.78.78-.78 2.05 0 2.83L4 21.41c.39.39.9.59 1.41.59.51 0 1.02-.2 1.41-.59l7.78-7.78 2.81-2.81c.8-.78.8-2.07 0-2.86zM5.41 20L4 18.59l7.72-7.72 1.47 1.35L5.41 20z\"/>\n",
              "  </svg>\n",
              "      </button>\n",
              "      \n",
              "  <style>\n",
              "    .colab-df-container {\n",
              "      display:flex;\n",
              "      flex-wrap:wrap;\n",
              "      gap: 12px;\n",
              "    }\n",
              "\n",
              "    .colab-df-convert {\n",
              "      background-color: #E8F0FE;\n",
              "      border: none;\n",
              "      border-radius: 50%;\n",
              "      cursor: pointer;\n",
              "      display: none;\n",
              "      fill: #1967D2;\n",
              "      height: 32px;\n",
              "      padding: 0 0 0 0;\n",
              "      width: 32px;\n",
              "    }\n",
              "\n",
              "    .colab-df-convert:hover {\n",
              "      background-color: #E2EBFA;\n",
              "      box-shadow: 0px 1px 2px rgba(60, 64, 67, 0.3), 0px 1px 3px 1px rgba(60, 64, 67, 0.15);\n",
              "      fill: #174EA6;\n",
              "    }\n",
              "\n",
              "    [theme=dark] .colab-df-convert {\n",
              "      background-color: #3B4455;\n",
              "      fill: #D2E3FC;\n",
              "    }\n",
              "\n",
              "    [theme=dark] .colab-df-convert:hover {\n",
              "      background-color: #434B5C;\n",
              "      box-shadow: 0px 1px 3px 1px rgba(0, 0, 0, 0.15);\n",
              "      filter: drop-shadow(0px 1px 2px rgba(0, 0, 0, 0.3));\n",
              "      fill: #FFFFFF;\n",
              "    }\n",
              "  </style>\n",
              "\n",
              "      <script>\n",
              "        const buttonEl =\n",
              "          document.querySelector('#df-3adf4967-d3c4-44b8-8988-63f257c1d8ef button.colab-df-convert');\n",
              "        buttonEl.style.display =\n",
              "          google.colab.kernel.accessAllowed ? 'block' : 'none';\n",
              "\n",
              "        async function convertToInteractive(key) {\n",
              "          const element = document.querySelector('#df-3adf4967-d3c4-44b8-8988-63f257c1d8ef');\n",
              "          const dataTable =\n",
              "            await google.colab.kernel.invokeFunction('convertToInteractive',\n",
              "                                                     [key], {});\n",
              "          if (!dataTable) return;\n",
              "\n",
              "          const docLinkHtml = 'Like what you see? Visit the ' +\n",
              "            '<a target=\"_blank\" href=https://colab.research.google.com/notebooks/data_table.ipynb>data table notebook</a>'\n",
              "            + ' to learn more about interactive tables.';\n",
              "          element.innerHTML = '';\n",
              "          dataTable['output_type'] = 'display_data';\n",
              "          await google.colab.output.renderOutput(dataTable, element);\n",
              "          const docLink = document.createElement('div');\n",
              "          docLink.innerHTML = docLinkHtml;\n",
              "          element.appendChild(docLink);\n",
              "        }\n",
              "      </script>\n",
              "    </div>\n",
              "  </div>\n",
              "  "
            ]
          },
          "metadata": {},
          "execution_count": 99
        }
      ],
      "source": [
        "# discretizing Chance of Admit\n",
        "#bins = [0, 33.33, 66.67, 100]\n",
        "classDF['Chance of Admit '] = pd.to_numeric(classDF['Chance of Admit '], errors='coerce')\n",
        "#classDF['Chance of Admit'] = pd.cut(classDF['Chance of Admit ', bin])\n",
        "classDF.loc[classDF['Chance of Admit '].between(0,0.5, 'left'),'Admission Chance'] = 'Less than 50%'\n",
        "classDF.loc[classDF['Chance of Admit '].between(0.5,0.75,'both'),'Admission Chance'] = 'Between 50-75%'\n",
        "classDF.loc[classDF['Chance of Admit '].between(0.75,1,'right'), 'Admission Chance'] = 'More than 75%'\n",
        "classDF.drop(['Chance of Admit '],inplace=True,axis=1)\n",
        "classDF.head(20)"
      ]
    },
    {
      "cell_type": "code",
      "execution_count": null,
      "metadata": {
        "colab": {
          "base_uri": "https://localhost:8080/"
        },
        "id": "-lBo6afqDnUc",
        "outputId": "2cde58fc-af53-46c9-b855-2675d4d3891c"
      },
      "outputs": [
        {
          "output_type": "stream",
          "name": "stdout",
          "text": [
            "Between 50-75%    253\n",
            "More than 75%     210\n",
            "Less than 50%      37\n",
            "Name: Admission Chance, dtype: int64\n"
          ]
        }
      ],
      "source": [
        "print(classDF['Admission Chance'].value_counts().sort_values(ascending=False))"
      ]
    },
    {
      "cell_type": "code",
      "execution_count": null,
      "metadata": {
        "id": "LVlj-gtnE1SI"
      },
      "outputs": [],
      "source": [
        "from sklearn import tree\n",
        "# ['GRE Score','TOEFL Score','University Rating','SOP','LOR ','CGPA','Research']\n",
        "classX_train, classX_test, classY_train, classY_test = train_test_split(classDF[['GRE Score','TOEFL Score','University Rating','SOP','LOR ','CGPA','Research']],classDF['Admission Chance'],test_size=0.20, random_state=50)\n",
        "\n",
        "clf = tree.DecisionTreeClassifier(criterion='entropy',max_depth=7)\n",
        "clf = clf.fit(classX_train, classY_train)"
      ]
    },
    {
      "cell_type": "code",
      "source": [
        "import graphviz  \n",
        "\n",
        "dot_data = tree.export_graphviz(clf, out_file =None,feature_names =classX_train.columns,class_names=['Between 50-75%','Less than 50%','More than 75%'], filled=True, rounded=True, special_characters=True)  \n",
        "\n",
        "graph = graphviz.Source(dot_data)  \n",
        "graph"
      ],
      "metadata": {
        "colab": {
          "base_uri": "https://localhost:8080/"
        },
        "id": "JOk87Yf47735",
        "outputId": "1ca143dd-a880-43ab-8816-b8984409e78b"
      },
      "execution_count": null,
      "outputs": [
        {
          "output_type": "execute_result",
          "data": {
            "text/plain": [
              "<graphviz.files.Source at 0x7f3df8d93ca0>"
            ],
            "image/svg+xml": "<?xml version=\"1.0\" encoding=\"UTF-8\" standalone=\"no\"?>\n<!DOCTYPE svg PUBLIC \"-//W3C//DTD SVG 1.1//EN\"\n \"http://www.w3.org/Graphics/SVG/1.1/DTD/svg11.dtd\">\n<!-- Generated by graphviz version 2.40.1 (20161225.0304)\n -->\n<!-- Title: Tree Pages: 1 -->\n<svg width=\"4821pt\" height=\"909pt\"\n viewBox=\"0.00 0.00 4820.50 909.00\" xmlns=\"http://www.w3.org/2000/svg\" xmlns:xlink=\"http://www.w3.org/1999/xlink\">\n<g id=\"graph0\" class=\"graph\" transform=\"scale(1 1) rotate(0) translate(4 905)\">\n<title>Tree</title>\n<polygon fill=\"#ffffff\" stroke=\"transparent\" points=\"-4,4 -4,-905 4816.5,-905 4816.5,4 -4,4\"/>\n<!-- 0 -->\n<g id=\"node1\" class=\"node\">\n<title>0</title>\n<path fill=\"#fbece1\" stroke=\"#000000\" d=\"M2564,-901C2564,-901 2411,-901 2411,-901 2405,-901 2399,-895 2399,-889 2399,-889 2399,-830 2399,-830 2399,-824 2405,-818 2411,-818 2411,-818 2564,-818 2564,-818 2570,-818 2576,-824 2576,-830 2576,-830 2576,-889 2576,-889 2576,-895 2570,-901 2564,-901\"/>\n<text text-anchor=\"start\" x=\"2445.5\" y=\"-885.8\" font-family=\"Helvetica,sans-Serif\" font-size=\"14.00\" fill=\"#000000\">CGPA ≤ 8.61</text>\n<text text-anchor=\"start\" x=\"2436.5\" y=\"-870.8\" font-family=\"Helvetica,sans-Serif\" font-size=\"14.00\" fill=\"#000000\">entropy = 1.316</text>\n<text text-anchor=\"start\" x=\"2439.5\" y=\"-855.8\" font-family=\"Helvetica,sans-Serif\" font-size=\"14.00\" fill=\"#000000\">samples = 400</text>\n<text text-anchor=\"start\" x=\"2417.5\" y=\"-840.8\" font-family=\"Helvetica,sans-Serif\" font-size=\"14.00\" fill=\"#000000\">value = [202, 32, 166]</text>\n<text text-anchor=\"start\" x=\"2407\" y=\"-825.8\" font-family=\"Helvetica,sans-Serif\" font-size=\"14.00\" fill=\"#000000\">class = Between 50&#45;75%</text>\n</g>\n<!-- 1 -->\n<g id=\"node2\" class=\"node\">\n<title>1</title>\n<path fill=\"#eba069\" stroke=\"#000000\" d=\"M2035,-782C2035,-782 1882,-782 1882,-782 1876,-782 1870,-776 1870,-770 1870,-770 1870,-711 1870,-711 1870,-705 1876,-699 1882,-699 1882,-699 2035,-699 2035,-699 2041,-699 2047,-705 2047,-711 2047,-711 2047,-770 2047,-770 2047,-776 2041,-782 2035,-782\"/>\n<text text-anchor=\"start\" x=\"1912.5\" y=\"-766.8\" font-family=\"Helvetica,sans-Serif\" font-size=\"14.00\" fill=\"#000000\">CGPA ≤ 7.665</text>\n<text text-anchor=\"start\" x=\"1907.5\" y=\"-751.8\" font-family=\"Helvetica,sans-Serif\" font-size=\"14.00\" fill=\"#000000\">entropy = 0.912</text>\n<text text-anchor=\"start\" x=\"1910.5\" y=\"-736.8\" font-family=\"Helvetica,sans-Serif\" font-size=\"14.00\" fill=\"#000000\">samples = 212</text>\n<text text-anchor=\"start\" x=\"1892.5\" y=\"-721.8\" font-family=\"Helvetica,sans-Serif\" font-size=\"14.00\" fill=\"#000000\">value = [168, 32, 12]</text>\n<text text-anchor=\"start\" x=\"1878\" y=\"-706.8\" font-family=\"Helvetica,sans-Serif\" font-size=\"14.00\" fill=\"#000000\">class = Between 50&#45;75%</text>\n</g>\n<!-- 0&#45;&gt;1 -->\n<g id=\"edge1\" class=\"edge\">\n<title>0&#45;&gt;1</title>\n<path fill=\"none\" stroke=\"#000000\" d=\"M2398.9573,-839.5821C2304.5492,-818.3447 2155.406,-784.7945 2057.259,-762.7161\"/>\n<polygon fill=\"#000000\" stroke=\"#000000\" points=\"2057.8559,-759.263 2047.3316,-760.4829 2056.3196,-766.0923 2057.8559,-759.263\"/>\n<text text-anchor=\"middle\" x=\"2060.6986\" y=\"-777.9093\" font-family=\"Helvetica,sans-Serif\" font-size=\"14.00\" fill=\"#000000\">True</text>\n</g>\n<!-- 50 -->\n<g id=\"node51\" class=\"node\">\n<title>50</title>\n<path fill=\"#9d65eb\" stroke=\"#000000\" d=\"M3293.5,-782C3293.5,-782 3153.5,-782 3153.5,-782 3147.5,-782 3141.5,-776 3141.5,-770 3141.5,-770 3141.5,-711 3141.5,-711 3141.5,-705 3147.5,-699 3153.5,-699 3153.5,-699 3293.5,-699 3293.5,-699 3299.5,-699 3305.5,-705 3305.5,-711 3305.5,-711 3305.5,-770 3305.5,-770 3305.5,-776 3299.5,-782 3293.5,-782\"/>\n<text text-anchor=\"start\" x=\"3177.5\" y=\"-766.8\" font-family=\"Helvetica,sans-Serif\" font-size=\"14.00\" fill=\"#000000\">CGPA ≤ 8.845</text>\n<text text-anchor=\"start\" x=\"3172.5\" y=\"-751.8\" font-family=\"Helvetica,sans-Serif\" font-size=\"14.00\" fill=\"#000000\">entropy = 0.682</text>\n<text text-anchor=\"start\" x=\"3175.5\" y=\"-736.8\" font-family=\"Helvetica,sans-Serif\" font-size=\"14.00\" fill=\"#000000\">samples = 188</text>\n<text text-anchor=\"start\" x=\"3161.5\" y=\"-721.8\" font-family=\"Helvetica,sans-Serif\" font-size=\"14.00\" fill=\"#000000\">value = [34, 0, 154]</text>\n<text text-anchor=\"start\" x=\"3149.5\" y=\"-706.8\" font-family=\"Helvetica,sans-Serif\" font-size=\"14.00\" fill=\"#000000\">class = More than 75%</text>\n</g>\n<!-- 0&#45;&gt;50 -->\n<g id=\"edge50\" class=\"edge\">\n<title>0&#45;&gt;50</title>\n<path fill=\"none\" stroke=\"#000000\" d=\"M2576.2788,-845.1458C2716.7594,-822.4323 2988.9345,-778.4257 3131.4371,-755.3852\"/>\n<polygon fill=\"#000000\" stroke=\"#000000\" points=\"3132.1565,-758.8144 3141.4697,-753.7631 3131.0392,-751.9041 3132.1565,-758.8144\"/>\n<text text-anchor=\"middle\" x=\"3126.8402\" y=\"-770.3357\" font-family=\"Helvetica,sans-Serif\" font-size=\"14.00\" fill=\"#000000\">False</text>\n</g>\n<!-- 2 -->\n<g id=\"node3\" class=\"node\">\n<title>2</title>\n<path fill=\"#bdf6d5\" stroke=\"#000000\" d=\"M816,-663C816,-663 677,-663 677,-663 671,-663 665,-657 665,-651 665,-651 665,-592 665,-592 665,-586 671,-580 677,-580 677,-580 816,-580 816,-580 822,-580 828,-586 828,-592 828,-592 828,-651 828,-651 828,-657 822,-663 816,-663\"/>\n<text text-anchor=\"start\" x=\"683.5\" y=\"-647.8\" font-family=\"Helvetica,sans-Serif\" font-size=\"14.00\" fill=\"#000000\">GRE Score ≤ 300.5</text>\n<text text-anchor=\"start\" x=\"695.5\" y=\"-632.8\" font-family=\"Helvetica,sans-Serif\" font-size=\"14.00\" fill=\"#000000\">entropy = 0.971</text>\n<text text-anchor=\"start\" x=\"702.5\" y=\"-617.8\" font-family=\"Helvetica,sans-Serif\" font-size=\"14.00\" fill=\"#000000\">samples = 30</text>\n<text text-anchor=\"start\" x=\"689\" y=\"-602.8\" font-family=\"Helvetica,sans-Serif\" font-size=\"14.00\" fill=\"#000000\">value = [12, 18, 0]</text>\n<text text-anchor=\"start\" x=\"673\" y=\"-587.8\" font-family=\"Helvetica,sans-Serif\" font-size=\"14.00\" fill=\"#000000\">class = Less than 50%</text>\n</g>\n<!-- 1&#45;&gt;2 -->\n<g id=\"edge2\" class=\"edge\">\n<title>1&#45;&gt;2</title>\n<path fill=\"none\" stroke=\"#000000\" d=\"M1869.8698,-731.7979C1646.9652,-709.912 1064.7234,-652.7447 838.375,-630.5207\"/>\n<polygon fill=\"#000000\" stroke=\"#000000\" points=\"838.4875,-627.015 828.1933,-629.521 837.8034,-633.9815 838.4875,-627.015\"/>\n</g>\n<!-- 17 -->\n<g id=\"node18\" class=\"node\">\n<title>17</title>\n<path fill=\"#e99558\" stroke=\"#000000\" d=\"M2035,-663C2035,-663 1882,-663 1882,-663 1876,-663 1870,-657 1870,-651 1870,-651 1870,-592 1870,-592 1870,-586 1876,-580 1882,-580 1882,-580 2035,-580 2035,-580 2041,-580 2047,-586 2047,-592 2047,-592 2047,-651 2047,-651 2047,-657 2041,-663 2035,-663\"/>\n<text text-anchor=\"start\" x=\"1916.5\" y=\"-647.8\" font-family=\"Helvetica,sans-Serif\" font-size=\"14.00\" fill=\"#000000\">CGPA ≤ 8.25</text>\n<text text-anchor=\"start\" x=\"1907.5\" y=\"-632.8\" font-family=\"Helvetica,sans-Serif\" font-size=\"14.00\" fill=\"#000000\">entropy = 0.734</text>\n<text text-anchor=\"start\" x=\"1910.5\" y=\"-617.8\" font-family=\"Helvetica,sans-Serif\" font-size=\"14.00\" fill=\"#000000\">samples = 182</text>\n<text text-anchor=\"start\" x=\"1892.5\" y=\"-602.8\" font-family=\"Helvetica,sans-Serif\" font-size=\"14.00\" fill=\"#000000\">value = [156, 14, 12]</text>\n<text text-anchor=\"start\" x=\"1878\" y=\"-587.8\" font-family=\"Helvetica,sans-Serif\" font-size=\"14.00\" fill=\"#000000\">class = Between 50&#45;75%</text>\n</g>\n<!-- 1&#45;&gt;17 -->\n<g id=\"edge17\" class=\"edge\">\n<title>1&#45;&gt;17</title>\n<path fill=\"none\" stroke=\"#000000\" d=\"M1958.5,-698.8796C1958.5,-690.6838 1958.5,-681.9891 1958.5,-673.5013\"/>\n<polygon fill=\"#000000\" stroke=\"#000000\" points=\"1962.0001,-673.298 1958.5,-663.2981 1955.0001,-673.2981 1962.0001,-673.298\"/>\n</g>\n<!-- 3 -->\n<g id=\"node4\" class=\"node\">\n<title>3</title>\n<path fill=\"#53e892\" stroke=\"#000000\" d=\"M339,-544C339,-544 200,-544 200,-544 194,-544 188,-538 188,-532 188,-532 188,-473 188,-473 188,-467 194,-461 200,-461 200,-461 339,-461 339,-461 345,-461 351,-467 351,-473 351,-473 351,-532 351,-532 351,-538 345,-544 339,-544\"/>\n<text text-anchor=\"start\" x=\"230.5\" y=\"-528.8\" font-family=\"Helvetica,sans-Serif\" font-size=\"14.00\" fill=\"#000000\">LOR &#160;≤ 2.75</text>\n<text text-anchor=\"start\" x=\"218.5\" y=\"-513.8\" font-family=\"Helvetica,sans-Serif\" font-size=\"14.00\" fill=\"#000000\">entropy = 0.523</text>\n<text text-anchor=\"start\" x=\"225.5\" y=\"-498.8\" font-family=\"Helvetica,sans-Serif\" font-size=\"14.00\" fill=\"#000000\">samples = 17</text>\n<text text-anchor=\"start\" x=\"216\" y=\"-483.8\" font-family=\"Helvetica,sans-Serif\" font-size=\"14.00\" fill=\"#000000\">value = [2, 15, 0]</text>\n<text text-anchor=\"start\" x=\"196\" y=\"-468.8\" font-family=\"Helvetica,sans-Serif\" font-size=\"14.00\" fill=\"#000000\">class = Less than 50%</text>\n</g>\n<!-- 2&#45;&gt;3 -->\n<g id=\"edge3\" class=\"edge\">\n<title>2&#45;&gt;3</title>\n<path fill=\"none\" stroke=\"#000000\" d=\"M664.7719,-601.1108C580.4329,-580.0703 449.1386,-547.3155 361.282,-525.3974\"/>\n<polygon fill=\"#000000\" stroke=\"#000000\" points=\"361.8727,-521.9375 351.3228,-522.9128 360.1782,-528.7294 361.8727,-521.9375\"/>\n</g>\n<!-- 10 -->\n<g id=\"node11\" class=\"node\">\n<title>10</title>\n<path fill=\"#eda774\" stroke=\"#000000\" d=\"M823,-544C823,-544 670,-544 670,-544 664,-544 658,-538 658,-532 658,-532 658,-473 658,-473 658,-467 664,-461 670,-461 670,-461 823,-461 823,-461 829,-461 835,-467 835,-473 835,-473 835,-532 835,-532 835,-538 829,-544 823,-544\"/>\n<text text-anchor=\"start\" x=\"700.5\" y=\"-528.8\" font-family=\"Helvetica,sans-Serif\" font-size=\"14.00\" fill=\"#000000\">CGPA ≤ 7.655</text>\n<text text-anchor=\"start\" x=\"695.5\" y=\"-513.8\" font-family=\"Helvetica,sans-Serif\" font-size=\"14.00\" fill=\"#000000\">entropy = 0.779</text>\n<text text-anchor=\"start\" x=\"702.5\" y=\"-498.8\" font-family=\"Helvetica,sans-Serif\" font-size=\"14.00\" fill=\"#000000\">samples = 13</text>\n<text text-anchor=\"start\" x=\"693\" y=\"-483.8\" font-family=\"Helvetica,sans-Serif\" font-size=\"14.00\" fill=\"#000000\">value = [10, 3, 0]</text>\n<text text-anchor=\"start\" x=\"666\" y=\"-468.8\" font-family=\"Helvetica,sans-Serif\" font-size=\"14.00\" fill=\"#000000\">class = Between 50&#45;75%</text>\n</g>\n<!-- 2&#45;&gt;10 -->\n<g id=\"edge10\" class=\"edge\">\n<title>2&#45;&gt;10</title>\n<path fill=\"none\" stroke=\"#000000\" d=\"M746.5,-579.8796C746.5,-571.6838 746.5,-562.9891 746.5,-554.5013\"/>\n<polygon fill=\"#000000\" stroke=\"#000000\" points=\"750.0001,-554.298 746.5,-544.2981 743.0001,-554.2981 750.0001,-554.298\"/>\n</g>\n<!-- 4 -->\n<g id=\"node5\" class=\"node\">\n<title>4</title>\n<path fill=\"#39e581\" stroke=\"#000000\" d=\"M158,-417.5C158,-417.5 19,-417.5 19,-417.5 13,-417.5 7,-411.5 7,-405.5 7,-405.5 7,-361.5 7,-361.5 7,-355.5 13,-349.5 19,-349.5 19,-349.5 158,-349.5 158,-349.5 164,-349.5 170,-355.5 170,-361.5 170,-361.5 170,-405.5 170,-405.5 170,-411.5 164,-417.5 158,-417.5\"/>\n<text text-anchor=\"start\" x=\"46\" y=\"-402.3\" font-family=\"Helvetica,sans-Serif\" font-size=\"14.00\" fill=\"#000000\">entropy = 0.0</text>\n<text text-anchor=\"start\" x=\"44.5\" y=\"-387.3\" font-family=\"Helvetica,sans-Serif\" font-size=\"14.00\" fill=\"#000000\">samples = 11</text>\n<text text-anchor=\"start\" x=\"35\" y=\"-372.3\" font-family=\"Helvetica,sans-Serif\" font-size=\"14.00\" fill=\"#000000\">value = [0, 11, 0]</text>\n<text text-anchor=\"start\" x=\"15\" y=\"-357.3\" font-family=\"Helvetica,sans-Serif\" font-size=\"14.00\" fill=\"#000000\">class = Less than 50%</text>\n</g>\n<!-- 3&#45;&gt;4 -->\n<g id=\"edge4\" class=\"edge\">\n<title>3&#45;&gt;4</title>\n<path fill=\"none\" stroke=\"#000000\" d=\"M206.195,-460.8796C187.7097,-448.7263 167.5557,-435.4759 149.2335,-423.4297\"/>\n<polygon fill=\"#000000\" stroke=\"#000000\" points=\"150.6801,-420.1921 140.4014,-417.623 146.8345,-426.0412 150.6801,-420.1921\"/>\n</g>\n<!-- 5 -->\n<g id=\"node6\" class=\"node\">\n<title>5</title>\n<path fill=\"#9cf2c0\" stroke=\"#000000\" d=\"M339,-425C339,-425 200,-425 200,-425 194,-425 188,-419 188,-413 188,-413 188,-354 188,-354 188,-348 194,-342 200,-342 200,-342 339,-342 339,-342 345,-342 351,-348 351,-354 351,-354 351,-413 351,-413 351,-419 345,-425 339,-425\"/>\n<text text-anchor=\"start\" x=\"227.5\" y=\"-409.8\" font-family=\"Helvetica,sans-Serif\" font-size=\"14.00\" fill=\"#000000\">CGPA ≤ 7.44</text>\n<text text-anchor=\"start\" x=\"218.5\" y=\"-394.8\" font-family=\"Helvetica,sans-Serif\" font-size=\"14.00\" fill=\"#000000\">entropy = 0.918</text>\n<text text-anchor=\"start\" x=\"230\" y=\"-379.8\" font-family=\"Helvetica,sans-Serif\" font-size=\"14.00\" fill=\"#000000\">samples = 6</text>\n<text text-anchor=\"start\" x=\"220\" y=\"-364.8\" font-family=\"Helvetica,sans-Serif\" font-size=\"14.00\" fill=\"#000000\">value = [2, 4, 0]</text>\n<text text-anchor=\"start\" x=\"196\" y=\"-349.8\" font-family=\"Helvetica,sans-Serif\" font-size=\"14.00\" fill=\"#000000\">class = Less than 50%</text>\n</g>\n<!-- 3&#45;&gt;5 -->\n<g id=\"edge5\" class=\"edge\">\n<title>3&#45;&gt;5</title>\n<path fill=\"none\" stroke=\"#000000\" d=\"M269.5,-460.8796C269.5,-452.6838 269.5,-443.9891 269.5,-435.5013\"/>\n<polygon fill=\"#000000\" stroke=\"#000000\" points=\"273.0001,-435.298 269.5,-425.2981 266.0001,-435.2981 273.0001,-435.298\"/>\n</g>\n<!-- 6 -->\n<g id=\"node7\" class=\"node\">\n<title>6</title>\n<path fill=\"#39e581\" stroke=\"#000000\" d=\"M151,-298.5C151,-298.5 12,-298.5 12,-298.5 6,-298.5 0,-292.5 0,-286.5 0,-286.5 0,-242.5 0,-242.5 0,-236.5 6,-230.5 12,-230.5 12,-230.5 151,-230.5 151,-230.5 157,-230.5 163,-236.5 163,-242.5 163,-242.5 163,-286.5 163,-286.5 163,-292.5 157,-298.5 151,-298.5\"/>\n<text text-anchor=\"start\" x=\"39\" y=\"-283.3\" font-family=\"Helvetica,sans-Serif\" font-size=\"14.00\" fill=\"#000000\">entropy = 0.0</text>\n<text text-anchor=\"start\" x=\"42\" y=\"-268.3\" font-family=\"Helvetica,sans-Serif\" font-size=\"14.00\" fill=\"#000000\">samples = 3</text>\n<text text-anchor=\"start\" x=\"32\" y=\"-253.3\" font-family=\"Helvetica,sans-Serif\" font-size=\"14.00\" fill=\"#000000\">value = [0, 3, 0]</text>\n<text text-anchor=\"start\" x=\"8\" y=\"-238.3\" font-family=\"Helvetica,sans-Serif\" font-size=\"14.00\" fill=\"#000000\">class = Less than 50%</text>\n</g>\n<!-- 5&#45;&gt;6 -->\n<g id=\"edge6\" class=\"edge\">\n<title>5&#45;&gt;6</title>\n<path fill=\"none\" stroke=\"#000000\" d=\"M203.7467,-341.8796C184.372,-329.6158 163.2324,-316.2348 144.0637,-304.1015\"/>\n<polygon fill=\"#000000\" stroke=\"#000000\" points=\"145.7302,-301.0141 135.4087,-298.623 141.9863,-306.9288 145.7302,-301.0141\"/>\n</g>\n<!-- 7 -->\n<g id=\"node8\" class=\"node\">\n<title>7</title>\n<path fill=\"#f2c09c\" stroke=\"#000000\" d=\"M346,-306C346,-306 193,-306 193,-306 187,-306 181,-300 181,-294 181,-294 181,-235 181,-235 181,-229 187,-223 193,-223 193,-223 346,-223 346,-223 352,-223 358,-229 358,-235 358,-235 358,-294 358,-294 358,-300 352,-306 346,-306\"/>\n<text text-anchor=\"start\" x=\"203\" y=\"-290.8\" font-family=\"Helvetica,sans-Serif\" font-size=\"14.00\" fill=\"#000000\">TOEFL Score ≤ 98.0</text>\n<text text-anchor=\"start\" x=\"218.5\" y=\"-275.8\" font-family=\"Helvetica,sans-Serif\" font-size=\"14.00\" fill=\"#000000\">entropy = 0.918</text>\n<text text-anchor=\"start\" x=\"230\" y=\"-260.8\" font-family=\"Helvetica,sans-Serif\" font-size=\"14.00\" fill=\"#000000\">samples = 3</text>\n<text text-anchor=\"start\" x=\"220\" y=\"-245.8\" font-family=\"Helvetica,sans-Serif\" font-size=\"14.00\" fill=\"#000000\">value = [2, 1, 0]</text>\n<text text-anchor=\"start\" x=\"189\" y=\"-230.8\" font-family=\"Helvetica,sans-Serif\" font-size=\"14.00\" fill=\"#000000\">class = Between 50&#45;75%</text>\n</g>\n<!-- 5&#45;&gt;7 -->\n<g id=\"edge7\" class=\"edge\">\n<title>5&#45;&gt;7</title>\n<path fill=\"none\" stroke=\"#000000\" d=\"M269.5,-341.8796C269.5,-333.6838 269.5,-324.9891 269.5,-316.5013\"/>\n<polygon fill=\"#000000\" stroke=\"#000000\" points=\"273.0001,-316.298 269.5,-306.2981 266.0001,-316.2981 273.0001,-316.298\"/>\n</g>\n<!-- 8 -->\n<g id=\"node9\" class=\"node\">\n<title>8</title>\n<path fill=\"#39e581\" stroke=\"#000000\" d=\"M151,-179.5C151,-179.5 12,-179.5 12,-179.5 6,-179.5 0,-173.5 0,-167.5 0,-167.5 0,-123.5 0,-123.5 0,-117.5 6,-111.5 12,-111.5 12,-111.5 151,-111.5 151,-111.5 157,-111.5 163,-117.5 163,-123.5 163,-123.5 163,-167.5 163,-167.5 163,-173.5 157,-179.5 151,-179.5\"/>\n<text text-anchor=\"start\" x=\"39\" y=\"-164.3\" font-family=\"Helvetica,sans-Serif\" font-size=\"14.00\" fill=\"#000000\">entropy = 0.0</text>\n<text text-anchor=\"start\" x=\"42\" y=\"-149.3\" font-family=\"Helvetica,sans-Serif\" font-size=\"14.00\" fill=\"#000000\">samples = 1</text>\n<text text-anchor=\"start\" x=\"32\" y=\"-134.3\" font-family=\"Helvetica,sans-Serif\" font-size=\"14.00\" fill=\"#000000\">value = [0, 1, 0]</text>\n<text text-anchor=\"start\" x=\"8\" y=\"-119.3\" font-family=\"Helvetica,sans-Serif\" font-size=\"14.00\" fill=\"#000000\">class = Less than 50%</text>\n</g>\n<!-- 7&#45;&gt;8 -->\n<g id=\"edge8\" class=\"edge\">\n<title>7&#45;&gt;8</title>\n<path fill=\"none\" stroke=\"#000000\" d=\"M203.7467,-222.8796C184.372,-210.6158 163.2324,-197.2348 144.0637,-185.1015\"/>\n<polygon fill=\"#000000\" stroke=\"#000000\" points=\"145.7302,-182.0141 135.4087,-179.623 141.9863,-187.9288 145.7302,-182.0141\"/>\n</g>\n<!-- 9 -->\n<g id=\"node10\" class=\"node\">\n<title>9</title>\n<path fill=\"#e58139\" stroke=\"#000000\" d=\"M346,-179.5C346,-179.5 193,-179.5 193,-179.5 187,-179.5 181,-173.5 181,-167.5 181,-167.5 181,-123.5 181,-123.5 181,-117.5 187,-111.5 193,-111.5 193,-111.5 346,-111.5 346,-111.5 352,-111.5 358,-117.5 358,-123.5 358,-123.5 358,-167.5 358,-167.5 358,-173.5 352,-179.5 346,-179.5\"/>\n<text text-anchor=\"start\" x=\"227\" y=\"-164.3\" font-family=\"Helvetica,sans-Serif\" font-size=\"14.00\" fill=\"#000000\">entropy = 0.0</text>\n<text text-anchor=\"start\" x=\"230\" y=\"-149.3\" font-family=\"Helvetica,sans-Serif\" font-size=\"14.00\" fill=\"#000000\">samples = 2</text>\n<text text-anchor=\"start\" x=\"220\" y=\"-134.3\" font-family=\"Helvetica,sans-Serif\" font-size=\"14.00\" fill=\"#000000\">value = [2, 0, 0]</text>\n<text text-anchor=\"start\" x=\"189\" y=\"-119.3\" font-family=\"Helvetica,sans-Serif\" font-size=\"14.00\" fill=\"#000000\">class = Between 50&#45;75%</text>\n</g>\n<!-- 7&#45;&gt;9 -->\n<g id=\"edge9\" class=\"edge\">\n<title>7&#45;&gt;9</title>\n<path fill=\"none\" stroke=\"#000000\" d=\"M269.5,-222.8796C269.5,-212.2134 269.5,-200.7021 269.5,-189.9015\"/>\n<polygon fill=\"#000000\" stroke=\"#000000\" points=\"273.0001,-189.8149 269.5,-179.8149 266.0001,-189.815 273.0001,-189.8149\"/>\n</g>\n<!-- 11 -->\n<g id=\"node12\" class=\"node\">\n<title>11</title>\n<path fill=\"#e88e4d\" stroke=\"#000000\" d=\"M729,-425C729,-425 576,-425 576,-425 570,-425 564,-419 564,-413 564,-413 564,-354 564,-354 564,-348 570,-342 576,-342 576,-342 729,-342 729,-342 735,-342 741,-348 741,-354 741,-354 741,-413 741,-413 741,-419 735,-425 729,-425\"/>\n<text text-anchor=\"start\" x=\"586\" y=\"-409.8\" font-family=\"Helvetica,sans-Serif\" font-size=\"14.00\" fill=\"#000000\">TOEFL Score ≤ 97.5</text>\n<text text-anchor=\"start\" x=\"601.5\" y=\"-394.8\" font-family=\"Helvetica,sans-Serif\" font-size=\"14.00\" fill=\"#000000\">entropy = 0.439</text>\n<text text-anchor=\"start\" x=\"608.5\" y=\"-379.8\" font-family=\"Helvetica,sans-Serif\" font-size=\"14.00\" fill=\"#000000\">samples = 11</text>\n<text text-anchor=\"start\" x=\"599\" y=\"-364.8\" font-family=\"Helvetica,sans-Serif\" font-size=\"14.00\" fill=\"#000000\">value = [10, 1, 0]</text>\n<text text-anchor=\"start\" x=\"572\" y=\"-349.8\" font-family=\"Helvetica,sans-Serif\" font-size=\"14.00\" fill=\"#000000\">class = Between 50&#45;75%</text>\n</g>\n<!-- 10&#45;&gt;11 -->\n<g id=\"edge11\" class=\"edge\">\n<title>10&#45;&gt;11</title>\n<path fill=\"none\" stroke=\"#000000\" d=\"M713.6234,-460.8796C706.5803,-451.9633 699.0707,-442.4565 691.8126,-433.268\"/>\n<polygon fill=\"#000000\" stroke=\"#000000\" points=\"694.4621,-430.9757 685.517,-425.2981 688.9691,-435.3147 694.4621,-430.9757\"/>\n</g>\n<!-- 16 -->\n<g id=\"node17\" class=\"node\">\n<title>16</title>\n<path fill=\"#39e581\" stroke=\"#000000\" d=\"M910,-417.5C910,-417.5 771,-417.5 771,-417.5 765,-417.5 759,-411.5 759,-405.5 759,-405.5 759,-361.5 759,-361.5 759,-355.5 765,-349.5 771,-349.5 771,-349.5 910,-349.5 910,-349.5 916,-349.5 922,-355.5 922,-361.5 922,-361.5 922,-405.5 922,-405.5 922,-411.5 916,-417.5 910,-417.5\"/>\n<text text-anchor=\"start\" x=\"798\" y=\"-402.3\" font-family=\"Helvetica,sans-Serif\" font-size=\"14.00\" fill=\"#000000\">entropy = 0.0</text>\n<text text-anchor=\"start\" x=\"801\" y=\"-387.3\" font-family=\"Helvetica,sans-Serif\" font-size=\"14.00\" fill=\"#000000\">samples = 2</text>\n<text text-anchor=\"start\" x=\"791\" y=\"-372.3\" font-family=\"Helvetica,sans-Serif\" font-size=\"14.00\" fill=\"#000000\">value = [0, 2, 0]</text>\n<text text-anchor=\"start\" x=\"767\" y=\"-357.3\" font-family=\"Helvetica,sans-Serif\" font-size=\"14.00\" fill=\"#000000\">class = Less than 50%</text>\n</g>\n<!-- 10&#45;&gt;16 -->\n<g id=\"edge16\" class=\"edge\">\n<title>10&#45;&gt;16</title>\n<path fill=\"none\" stroke=\"#000000\" d=\"M779.3766,-460.8796C788.3232,-449.5536 798.0224,-437.2748 807.0029,-425.9058\"/>\n<polygon fill=\"#000000\" stroke=\"#000000\" points=\"809.942,-427.8316 813.3941,-417.8149 804.449,-423.4926 809.942,-427.8316\"/>\n</g>\n<!-- 12 -->\n<g id=\"node13\" class=\"node\">\n<title>12</title>\n<path fill=\"#ffffff\" stroke=\"#000000\" d=\"M631,-306C631,-306 478,-306 478,-306 472,-306 466,-300 466,-294 466,-294 466,-235 466,-235 466,-229 472,-223 478,-223 478,-223 631,-223 631,-223 637,-223 643,-229 643,-235 643,-235 643,-294 643,-294 643,-300 637,-306 631,-306\"/>\n<text text-anchor=\"start\" x=\"516.5\" y=\"-290.8\" font-family=\"Helvetica,sans-Serif\" font-size=\"14.00\" fill=\"#000000\">CGPA ≤ 7.6</text>\n<text text-anchor=\"start\" x=\"512\" y=\"-275.8\" font-family=\"Helvetica,sans-Serif\" font-size=\"14.00\" fill=\"#000000\">entropy = 1.0</text>\n<text text-anchor=\"start\" x=\"515\" y=\"-260.8\" font-family=\"Helvetica,sans-Serif\" font-size=\"14.00\" fill=\"#000000\">samples = 2</text>\n<text text-anchor=\"start\" x=\"505\" y=\"-245.8\" font-family=\"Helvetica,sans-Serif\" font-size=\"14.00\" fill=\"#000000\">value = [1, 1, 0]</text>\n<text text-anchor=\"start\" x=\"474\" y=\"-230.8\" font-family=\"Helvetica,sans-Serif\" font-size=\"14.00\" fill=\"#000000\">class = Between 50&#45;75%</text>\n</g>\n<!-- 11&#45;&gt;12 -->\n<g id=\"edge12\" class=\"edge\">\n<title>11&#45;&gt;12</title>\n<path fill=\"none\" stroke=\"#000000\" d=\"M618.2244,-341.8796C610.8816,-332.9633 603.0524,-323.4565 595.4854,-314.268\"/>\n<polygon fill=\"#000000\" stroke=\"#000000\" points=\"597.9808,-311.7924 588.9219,-306.2981 592.5773,-316.2424 597.9808,-311.7924\"/>\n</g>\n<!-- 15 -->\n<g id=\"node16\" class=\"node\">\n<title>15</title>\n<path fill=\"#e58139\" stroke=\"#000000\" d=\"M826,-298.5C826,-298.5 673,-298.5 673,-298.5 667,-298.5 661,-292.5 661,-286.5 661,-286.5 661,-242.5 661,-242.5 661,-236.5 667,-230.5 673,-230.5 673,-230.5 826,-230.5 826,-230.5 832,-230.5 838,-236.5 838,-242.5 838,-242.5 838,-286.5 838,-286.5 838,-292.5 832,-298.5 826,-298.5\"/>\n<text text-anchor=\"start\" x=\"707\" y=\"-283.3\" font-family=\"Helvetica,sans-Serif\" font-size=\"14.00\" fill=\"#000000\">entropy = 0.0</text>\n<text text-anchor=\"start\" x=\"710\" y=\"-268.3\" font-family=\"Helvetica,sans-Serif\" font-size=\"14.00\" fill=\"#000000\">samples = 9</text>\n<text text-anchor=\"start\" x=\"700\" y=\"-253.3\" font-family=\"Helvetica,sans-Serif\" font-size=\"14.00\" fill=\"#000000\">value = [9, 0, 0]</text>\n<text text-anchor=\"start\" x=\"669\" y=\"-238.3\" font-family=\"Helvetica,sans-Serif\" font-size=\"14.00\" fill=\"#000000\">class = Between 50&#45;75%</text>\n</g>\n<!-- 11&#45;&gt;15 -->\n<g id=\"edge15\" class=\"edge\">\n<title>11&#45;&gt;15</title>\n<path fill=\"none\" stroke=\"#000000\" d=\"M686.4259,-341.8796C695.7476,-330.4436 705.8612,-318.0363 715.2036,-306.575\"/>\n<polygon fill=\"#000000\" stroke=\"#000000\" points=\"717.9237,-308.7775 721.529,-298.8149 712.4979,-304.3548 717.9237,-308.7775\"/>\n</g>\n<!-- 13 -->\n<g id=\"node14\" class=\"node\">\n<title>13</title>\n<path fill=\"#e58139\" stroke=\"#000000\" d=\"M541,-179.5C541,-179.5 388,-179.5 388,-179.5 382,-179.5 376,-173.5 376,-167.5 376,-167.5 376,-123.5 376,-123.5 376,-117.5 382,-111.5 388,-111.5 388,-111.5 541,-111.5 541,-111.5 547,-111.5 553,-117.5 553,-123.5 553,-123.5 553,-167.5 553,-167.5 553,-173.5 547,-179.5 541,-179.5\"/>\n<text text-anchor=\"start\" x=\"422\" y=\"-164.3\" font-family=\"Helvetica,sans-Serif\" font-size=\"14.00\" fill=\"#000000\">entropy = 0.0</text>\n<text text-anchor=\"start\" x=\"425\" y=\"-149.3\" font-family=\"Helvetica,sans-Serif\" font-size=\"14.00\" fill=\"#000000\">samples = 1</text>\n<text text-anchor=\"start\" x=\"415\" y=\"-134.3\" font-family=\"Helvetica,sans-Serif\" font-size=\"14.00\" fill=\"#000000\">value = [1, 0, 0]</text>\n<text text-anchor=\"start\" x=\"384\" y=\"-119.3\" font-family=\"Helvetica,sans-Serif\" font-size=\"14.00\" fill=\"#000000\">class = Between 50&#45;75%</text>\n</g>\n<!-- 12&#45;&gt;13 -->\n<g id=\"edge13\" class=\"edge\">\n<title>12&#45;&gt;13</title>\n<path fill=\"none\" stroke=\"#000000\" d=\"M523.0224,-222.8796C514.4565,-211.5536 505.17,-199.2748 496.5717,-187.9058\"/>\n<polygon fill=\"#000000\" stroke=\"#000000\" points=\"499.2762,-185.6795 490.4525,-179.8149 493.6931,-189.902 499.2762,-185.6795\"/>\n</g>\n<!-- 14 -->\n<g id=\"node15\" class=\"node\">\n<title>14</title>\n<path fill=\"#39e581\" stroke=\"#000000\" d=\"M722,-179.5C722,-179.5 583,-179.5 583,-179.5 577,-179.5 571,-173.5 571,-167.5 571,-167.5 571,-123.5 571,-123.5 571,-117.5 577,-111.5 583,-111.5 583,-111.5 722,-111.5 722,-111.5 728,-111.5 734,-117.5 734,-123.5 734,-123.5 734,-167.5 734,-167.5 734,-173.5 728,-179.5 722,-179.5\"/>\n<text text-anchor=\"start\" x=\"610\" y=\"-164.3\" font-family=\"Helvetica,sans-Serif\" font-size=\"14.00\" fill=\"#000000\">entropy = 0.0</text>\n<text text-anchor=\"start\" x=\"613\" y=\"-149.3\" font-family=\"Helvetica,sans-Serif\" font-size=\"14.00\" fill=\"#000000\">samples = 1</text>\n<text text-anchor=\"start\" x=\"603\" y=\"-134.3\" font-family=\"Helvetica,sans-Serif\" font-size=\"14.00\" fill=\"#000000\">value = [0, 1, 0]</text>\n<text text-anchor=\"start\" x=\"579\" y=\"-119.3\" font-family=\"Helvetica,sans-Serif\" font-size=\"14.00\" fill=\"#000000\">class = Less than 50%</text>\n</g>\n<!-- 12&#45;&gt;14 -->\n<g id=\"edge14\" class=\"edge\">\n<title>12&#45;&gt;14</title>\n<path fill=\"none\" stroke=\"#000000\" d=\"M588.7756,-222.8796C598.1935,-211.4436 608.4113,-199.0363 617.85,-187.575\"/>\n<polygon fill=\"#000000\" stroke=\"#000000\" points=\"620.5853,-189.7592 624.2406,-179.8149 615.1818,-185.3093 620.5853,-189.7592\"/>\n</g>\n<!-- 18 -->\n<g id=\"node19\" class=\"node\">\n<title>18</title>\n<path fill=\"#e99355\" stroke=\"#000000\" d=\"M1822,-544C1822,-544 1669,-544 1669,-544 1663,-544 1657,-538 1657,-532 1657,-532 1657,-473 1657,-473 1657,-467 1663,-461 1669,-461 1669,-461 1822,-461 1822,-461 1828,-461 1834,-467 1834,-473 1834,-473 1834,-532 1834,-532 1834,-538 1828,-544 1822,-544\"/>\n<text text-anchor=\"start\" x=\"1682.5\" y=\"-528.8\" font-family=\"Helvetica,sans-Serif\" font-size=\"14.00\" fill=\"#000000\">GRE Score ≤ 329.0</text>\n<text text-anchor=\"start\" x=\"1694.5\" y=\"-513.8\" font-family=\"Helvetica,sans-Serif\" font-size=\"14.00\" fill=\"#000000\">entropy = 0.592</text>\n<text text-anchor=\"start\" x=\"1697.5\" y=\"-498.8\" font-family=\"Helvetica,sans-Serif\" font-size=\"14.00\" fill=\"#000000\">samples = 104</text>\n<text text-anchor=\"start\" x=\"1688\" y=\"-483.8\" font-family=\"Helvetica,sans-Serif\" font-size=\"14.00\" fill=\"#000000\">value = [91, 12, 1]</text>\n<text text-anchor=\"start\" x=\"1665\" y=\"-468.8\" font-family=\"Helvetica,sans-Serif\" font-size=\"14.00\" fill=\"#000000\">class = Between 50&#45;75%</text>\n</g>\n<!-- 17&#45;&gt;18 -->\n<g id=\"edge18\" class=\"edge\">\n<title>17&#45;&gt;18</title>\n<path fill=\"none\" stroke=\"#000000\" d=\"M1884.0029,-579.8796C1866.1672,-569.915 1847.0114,-559.2129 1828.8059,-549.0418\"/>\n<polygon fill=\"#000000\" stroke=\"#000000\" points=\"1830.392,-545.9188 1819.955,-544.0969 1826.9779,-552.0298 1830.392,-545.9188\"/>\n</g>\n<!-- 33 -->\n<g id=\"node34\" class=\"node\">\n<title>33</title>\n<path fill=\"#ea995f\" stroke=\"#000000\" d=\"M2248,-544C2248,-544 2095,-544 2095,-544 2089,-544 2083,-538 2083,-532 2083,-532 2083,-473 2083,-473 2083,-467 2089,-461 2095,-461 2095,-461 2248,-461 2248,-461 2254,-461 2260,-467 2260,-473 2260,-473 2260,-532 2260,-532 2260,-538 2254,-544 2248,-544\"/>\n<text text-anchor=\"start\" x=\"2125.5\" y=\"-528.8\" font-family=\"Helvetica,sans-Serif\" font-size=\"14.00\" fill=\"#000000\">CGPA ≤ 8.585</text>\n<text text-anchor=\"start\" x=\"2120.5\" y=\"-513.8\" font-family=\"Helvetica,sans-Serif\" font-size=\"14.00\" fill=\"#000000\">entropy = 0.753</text>\n<text text-anchor=\"start\" x=\"2127.5\" y=\"-498.8\" font-family=\"Helvetica,sans-Serif\" font-size=\"14.00\" fill=\"#000000\">samples = 78</text>\n<text text-anchor=\"start\" x=\"2114\" y=\"-483.8\" font-family=\"Helvetica,sans-Serif\" font-size=\"14.00\" fill=\"#000000\">value = [65, 2, 11]</text>\n<text text-anchor=\"start\" x=\"2091\" y=\"-468.8\" font-family=\"Helvetica,sans-Serif\" font-size=\"14.00\" fill=\"#000000\">class = Between 50&#45;75%</text>\n</g>\n<!-- 17&#45;&gt;33 -->\n<g id=\"edge33\" class=\"edge\">\n<title>17&#45;&gt;33</title>\n<path fill=\"none\" stroke=\"#000000\" d=\"M2032.9971,-579.8796C2050.8328,-569.915 2069.9886,-559.2129 2088.1941,-549.0418\"/>\n<polygon fill=\"#000000\" stroke=\"#000000\" points=\"2090.0221,-552.0298 2097.045,-544.0969 2086.608,-545.9188 2090.0221,-552.0298\"/>\n</g>\n<!-- 19 -->\n<g id=\"node20\" class=\"node\">\n<title>19</title>\n<path fill=\"#e89253\" stroke=\"#000000\" d=\"M1402,-425C1402,-425 1249,-425 1249,-425 1243,-425 1237,-419 1237,-413 1237,-413 1237,-354 1237,-354 1237,-348 1243,-342 1249,-342 1249,-342 1402,-342 1402,-342 1408,-342 1414,-348 1414,-354 1414,-354 1414,-413 1414,-413 1414,-419 1408,-425 1402,-425\"/>\n<text text-anchor=\"start\" x=\"1255\" y=\"-409.8\" font-family=\"Helvetica,sans-Serif\" font-size=\"14.00\" fill=\"#000000\">TOEFL Score ≤ 101.5</text>\n<text text-anchor=\"start\" x=\"1274.5\" y=\"-394.8\" font-family=\"Helvetica,sans-Serif\" font-size=\"14.00\" fill=\"#000000\">entropy = 0.519</text>\n<text text-anchor=\"start\" x=\"1277.5\" y=\"-379.8\" font-family=\"Helvetica,sans-Serif\" font-size=\"14.00\" fill=\"#000000\">samples = 103</text>\n<text text-anchor=\"start\" x=\"1268\" y=\"-364.8\" font-family=\"Helvetica,sans-Serif\" font-size=\"14.00\" fill=\"#000000\">value = [91, 12, 0]</text>\n<text text-anchor=\"start\" x=\"1245\" y=\"-349.8\" font-family=\"Helvetica,sans-Serif\" font-size=\"14.00\" fill=\"#000000\">class = Between 50&#45;75%</text>\n</g>\n<!-- 18&#45;&gt;19 -->\n<g id=\"edge19\" class=\"edge\">\n<title>18&#45;&gt;19</title>\n<path fill=\"none\" stroke=\"#000000\" d=\"M1656.942,-477.4086C1588.7888,-458.0985 1494.635,-431.4216 1424.0903,-411.4339\"/>\n<polygon fill=\"#000000\" stroke=\"#000000\" points=\"1424.8733,-408.0181 1414.2979,-408.6594 1422.9651,-414.753 1424.8733,-408.0181\"/>\n</g>\n<!-- 32 -->\n<g id=\"node33\" class=\"node\">\n<title>32</title>\n<path fill=\"#8139e5\" stroke=\"#000000\" d=\"M1815.5,-417.5C1815.5,-417.5 1675.5,-417.5 1675.5,-417.5 1669.5,-417.5 1663.5,-411.5 1663.5,-405.5 1663.5,-405.5 1663.5,-361.5 1663.5,-361.5 1663.5,-355.5 1669.5,-349.5 1675.5,-349.5 1675.5,-349.5 1815.5,-349.5 1815.5,-349.5 1821.5,-349.5 1827.5,-355.5 1827.5,-361.5 1827.5,-361.5 1827.5,-405.5 1827.5,-405.5 1827.5,-411.5 1821.5,-417.5 1815.5,-417.5\"/>\n<text text-anchor=\"start\" x=\"1703\" y=\"-402.3\" font-family=\"Helvetica,sans-Serif\" font-size=\"14.00\" fill=\"#000000\">entropy = 0.0</text>\n<text text-anchor=\"start\" x=\"1706\" y=\"-387.3\" font-family=\"Helvetica,sans-Serif\" font-size=\"14.00\" fill=\"#000000\">samples = 1</text>\n<text text-anchor=\"start\" x=\"1696\" y=\"-372.3\" font-family=\"Helvetica,sans-Serif\" font-size=\"14.00\" fill=\"#000000\">value = [0, 0, 1]</text>\n<text text-anchor=\"start\" x=\"1671.5\" y=\"-357.3\" font-family=\"Helvetica,sans-Serif\" font-size=\"14.00\" fill=\"#000000\">class = More than 75%</text>\n</g>\n<!-- 18&#45;&gt;32 -->\n<g id=\"edge32\" class=\"edge\">\n<title>18&#45;&gt;32</title>\n<path fill=\"none\" stroke=\"#000000\" d=\"M1745.5,-460.8796C1745.5,-450.2134 1745.5,-438.7021 1745.5,-427.9015\"/>\n<polygon fill=\"#000000\" stroke=\"#000000\" points=\"1749.0001,-427.8149 1745.5,-417.8149 1742.0001,-427.815 1749.0001,-427.8149\"/>\n</g>\n<!-- 20 -->\n<g id=\"node21\" class=\"node\">\n<title>20</title>\n<path fill=\"#eca26d\" stroke=\"#000000\" d=\"M1112,-306C1112,-306 959,-306 959,-306 953,-306 947,-300 947,-294 947,-294 947,-235 947,-235 947,-229 953,-223 959,-223 959,-223 1112,-223 1112,-223 1118,-223 1124,-229 1124,-235 1124,-235 1124,-294 1124,-294 1124,-300 1118,-306 1112,-306\"/>\n<text text-anchor=\"start\" x=\"998\" y=\"-290.8\" font-family=\"Helvetica,sans-Serif\" font-size=\"14.00\" fill=\"#000000\">SOP ≤ 3.75</text>\n<text text-anchor=\"start\" x=\"988.5\" y=\"-275.8\" font-family=\"Helvetica,sans-Serif\" font-size=\"14.00\" fill=\"#000000\">entropy = 0.74</text>\n<text text-anchor=\"start\" x=\"991.5\" y=\"-260.8\" font-family=\"Helvetica,sans-Serif\" font-size=\"14.00\" fill=\"#000000\">samples = 43</text>\n<text text-anchor=\"start\" x=\"982\" y=\"-245.8\" font-family=\"Helvetica,sans-Serif\" font-size=\"14.00\" fill=\"#000000\">value = [34, 9, 0]</text>\n<text text-anchor=\"start\" x=\"955\" y=\"-230.8\" font-family=\"Helvetica,sans-Serif\" font-size=\"14.00\" fill=\"#000000\">class = Between 50&#45;75%</text>\n</g>\n<!-- 19&#45;&gt;20 -->\n<g id=\"edge20\" class=\"edge\">\n<title>19&#45;&gt;20</title>\n<path fill=\"none\" stroke=\"#000000\" d=\"M1236.9147,-347.1495C1204.1798,-333.7169 1166.9003,-318.4194 1133.3876,-304.6677\"/>\n<polygon fill=\"#000000\" stroke=\"#000000\" points=\"1134.6223,-301.3911 1124.0421,-300.8328 1131.9648,-307.8671 1134.6223,-301.3911\"/>\n</g>\n<!-- 25 -->\n<g id=\"node26\" class=\"node\">\n<title>25</title>\n<path fill=\"#e68843\" stroke=\"#000000\" d=\"M1402,-306C1402,-306 1249,-306 1249,-306 1243,-306 1237,-300 1237,-294 1237,-294 1237,-235 1237,-235 1237,-229 1243,-223 1249,-223 1249,-223 1402,-223 1402,-223 1408,-223 1414,-229 1414,-235 1414,-235 1414,-294 1414,-294 1414,-300 1408,-306 1402,-306\"/>\n<text text-anchor=\"start\" x=\"1255\" y=\"-290.8\" font-family=\"Helvetica,sans-Serif\" font-size=\"14.00\" fill=\"#000000\">TOEFL Score ≤ 107.5</text>\n<text text-anchor=\"start\" x=\"1274.5\" y=\"-275.8\" font-family=\"Helvetica,sans-Serif\" font-size=\"14.00\" fill=\"#000000\">entropy = 0.286</text>\n<text text-anchor=\"start\" x=\"1281.5\" y=\"-260.8\" font-family=\"Helvetica,sans-Serif\" font-size=\"14.00\" fill=\"#000000\">samples = 60</text>\n<text text-anchor=\"start\" x=\"1272\" y=\"-245.8\" font-family=\"Helvetica,sans-Serif\" font-size=\"14.00\" fill=\"#000000\">value = [57, 3, 0]</text>\n<text text-anchor=\"start\" x=\"1245\" y=\"-230.8\" font-family=\"Helvetica,sans-Serif\" font-size=\"14.00\" fill=\"#000000\">class = Between 50&#45;75%</text>\n</g>\n<!-- 19&#45;&gt;25 -->\n<g id=\"edge25\" class=\"edge\">\n<title>19&#45;&gt;25</title>\n<path fill=\"none\" stroke=\"#000000\" d=\"M1325.5,-341.8796C1325.5,-333.6838 1325.5,-324.9891 1325.5,-316.5013\"/>\n<polygon fill=\"#000000\" stroke=\"#000000\" points=\"1329.0001,-316.298 1325.5,-306.2981 1322.0001,-316.2981 1329.0001,-316.298\"/>\n</g>\n<!-- 21 -->\n<g id=\"node22\" class=\"node\">\n<title>21</title>\n<path fill=\"#ea9b62\" stroke=\"#000000\" d=\"M917,-187C917,-187 764,-187 764,-187 758,-187 752,-181 752,-175 752,-175 752,-116 752,-116 752,-110 758,-104 764,-104 764,-104 917,-104 917,-104 923,-104 929,-110 929,-116 929,-116 929,-175 929,-175 929,-181 923,-187 917,-187\"/>\n<text text-anchor=\"start\" x=\"777.5\" y=\"-171.8\" font-family=\"Helvetica,sans-Serif\" font-size=\"14.00\" fill=\"#000000\">GRE Score ≤ 300.5</text>\n<text text-anchor=\"start\" x=\"789.5\" y=\"-156.8\" font-family=\"Helvetica,sans-Serif\" font-size=\"14.00\" fill=\"#000000\">entropy = 0.659</text>\n<text text-anchor=\"start\" x=\"796.5\" y=\"-141.8\" font-family=\"Helvetica,sans-Serif\" font-size=\"14.00\" fill=\"#000000\">samples = 41</text>\n<text text-anchor=\"start\" x=\"787\" y=\"-126.8\" font-family=\"Helvetica,sans-Serif\" font-size=\"14.00\" fill=\"#000000\">value = [34, 7, 0]</text>\n<text text-anchor=\"start\" x=\"760\" y=\"-111.8\" font-family=\"Helvetica,sans-Serif\" font-size=\"14.00\" fill=\"#000000\">class = Between 50&#45;75%</text>\n</g>\n<!-- 20&#45;&gt;21 -->\n<g id=\"edge21\" class=\"edge\">\n<title>20&#45;&gt;21</title>\n<path fill=\"none\" stroke=\"#000000\" d=\"M967.2985,-222.8796C951.1184,-213.0056 933.7517,-202.4075 917.2208,-192.3193\"/>\n<polygon fill=\"#000000\" stroke=\"#000000\" points=\"919.0223,-189.3185 908.663,-187.0969 915.3759,-195.2938 919.0223,-189.3185\"/>\n</g>\n<!-- 24 -->\n<g id=\"node25\" class=\"node\">\n<title>24</title>\n<path fill=\"#39e581\" stroke=\"#000000\" d=\"M1105,-179.5C1105,-179.5 966,-179.5 966,-179.5 960,-179.5 954,-173.5 954,-167.5 954,-167.5 954,-123.5 954,-123.5 954,-117.5 960,-111.5 966,-111.5 966,-111.5 1105,-111.5 1105,-111.5 1111,-111.5 1117,-117.5 1117,-123.5 1117,-123.5 1117,-167.5 1117,-167.5 1117,-173.5 1111,-179.5 1105,-179.5\"/>\n<text text-anchor=\"start\" x=\"993\" y=\"-164.3\" font-family=\"Helvetica,sans-Serif\" font-size=\"14.00\" fill=\"#000000\">entropy = 0.0</text>\n<text text-anchor=\"start\" x=\"996\" y=\"-149.3\" font-family=\"Helvetica,sans-Serif\" font-size=\"14.00\" fill=\"#000000\">samples = 2</text>\n<text text-anchor=\"start\" x=\"986\" y=\"-134.3\" font-family=\"Helvetica,sans-Serif\" font-size=\"14.00\" fill=\"#000000\">value = [0, 2, 0]</text>\n<text text-anchor=\"start\" x=\"962\" y=\"-119.3\" font-family=\"Helvetica,sans-Serif\" font-size=\"14.00\" fill=\"#000000\">class = Less than 50%</text>\n</g>\n<!-- 20&#45;&gt;24 -->\n<g id=\"edge24\" class=\"edge\">\n<title>20&#45;&gt;24</title>\n<path fill=\"none\" stroke=\"#000000\" d=\"M1035.5,-222.8796C1035.5,-212.2134 1035.5,-200.7021 1035.5,-189.9015\"/>\n<polygon fill=\"#000000\" stroke=\"#000000\" points=\"1039.0001,-189.8149 1035.5,-179.8149 1032.0001,-189.815 1039.0001,-189.8149\"/>\n</g>\n<!-- 22 -->\n<g id=\"node23\" class=\"node\">\n<title>22</title>\n<path fill=\"#e68843\" stroke=\"#000000\" d=\"M718,-68C718,-68 565,-68 565,-68 559,-68 553,-62 553,-56 553,-56 553,-12 553,-12 553,-6 559,0 565,0 565,0 718,0 718,0 724,0 730,-6 730,-12 730,-12 730,-56 730,-56 730,-62 724,-68 718,-68\"/>\n<text text-anchor=\"start\" x=\"590.5\" y=\"-52.8\" font-family=\"Helvetica,sans-Serif\" font-size=\"14.00\" fill=\"#000000\">entropy = 0.286</text>\n<text text-anchor=\"start\" x=\"597.5\" y=\"-37.8\" font-family=\"Helvetica,sans-Serif\" font-size=\"14.00\" fill=\"#000000\">samples = 20</text>\n<text text-anchor=\"start\" x=\"588\" y=\"-22.8\" font-family=\"Helvetica,sans-Serif\" font-size=\"14.00\" fill=\"#000000\">value = [19, 1, 0]</text>\n<text text-anchor=\"start\" x=\"561\" y=\"-7.8\" font-family=\"Helvetica,sans-Serif\" font-size=\"14.00\" fill=\"#000000\">class = Between 50&#45;75%</text>\n</g>\n<!-- 21&#45;&gt;22 -->\n<g id=\"edge22\" class=\"edge\">\n<title>21&#45;&gt;22</title>\n<path fill=\"none\" stroke=\"#000000\" d=\"M766.3997,-103.9815C748.4263,-93.911 729.2678,-83.1764 711.491,-73.2161\"/>\n<polygon fill=\"#000000\" stroke=\"#000000\" points=\"712.7692,-69.9203 702.3344,-68.0856 709.3476,-76.0271 712.7692,-69.9203\"/>\n</g>\n<!-- 23 -->\n<g id=\"node24\" class=\"node\">\n<title>23</title>\n<path fill=\"#efb388\" stroke=\"#000000\" d=\"M913,-68C913,-68 760,-68 760,-68 754,-68 748,-62 748,-56 748,-56 748,-12 748,-12 748,-6 754,0 760,0 760,0 913,0 913,0 919,0 925,-6 925,-12 925,-12 925,-56 925,-56 925,-62 919,-68 913,-68\"/>\n<text text-anchor=\"start\" x=\"785.5\" y=\"-52.8\" font-family=\"Helvetica,sans-Serif\" font-size=\"14.00\" fill=\"#000000\">entropy = 0.863</text>\n<text text-anchor=\"start\" x=\"792.5\" y=\"-37.8\" font-family=\"Helvetica,sans-Serif\" font-size=\"14.00\" fill=\"#000000\">samples = 21</text>\n<text text-anchor=\"start\" x=\"783\" y=\"-22.8\" font-family=\"Helvetica,sans-Serif\" font-size=\"14.00\" fill=\"#000000\">value = [15, 6, 0]</text>\n<text text-anchor=\"start\" x=\"756\" y=\"-7.8\" font-family=\"Helvetica,sans-Serif\" font-size=\"14.00\" fill=\"#000000\">class = Between 50&#45;75%</text>\n</g>\n<!-- 21&#45;&gt;23 -->\n<g id=\"edge23\" class=\"edge\">\n<title>21&#45;&gt;23</title>\n<path fill=\"none\" stroke=\"#000000\" d=\"M839.0105,-103.9815C838.7105,-95.618 838.394,-86.7965 838.0907,-78.3409\"/>\n<polygon fill=\"#000000\" stroke=\"#000000\" points=\"841.5855,-78.1317 837.7292,-68.2637 834.59,-78.3828 841.5855,-78.1317\"/>\n</g>\n<!-- 26 -->\n<g id=\"node27\" class=\"node\">\n<title>26</title>\n<path fill=\"#e6833d\" stroke=\"#000000\" d=\"M1303,-187C1303,-187 1150,-187 1150,-187 1144,-187 1138,-181 1138,-175 1138,-175 1138,-116 1138,-116 1138,-110 1144,-104 1150,-104 1150,-104 1303,-104 1303,-104 1309,-104 1315,-110 1315,-116 1315,-116 1315,-175 1315,-175 1315,-181 1309,-187 1303,-187\"/>\n<text text-anchor=\"start\" x=\"1184.5\" y=\"-171.8\" font-family=\"Helvetica,sans-Serif\" font-size=\"14.00\" fill=\"#000000\">CGPA ≤ 8.19</text>\n<text text-anchor=\"start\" x=\"1175.5\" y=\"-156.8\" font-family=\"Helvetica,sans-Serif\" font-size=\"14.00\" fill=\"#000000\">entropy = 0.137</text>\n<text text-anchor=\"start\" x=\"1182.5\" y=\"-141.8\" font-family=\"Helvetica,sans-Serif\" font-size=\"14.00\" fill=\"#000000\">samples = 52</text>\n<text text-anchor=\"start\" x=\"1173\" y=\"-126.8\" font-family=\"Helvetica,sans-Serif\" font-size=\"14.00\" fill=\"#000000\">value = [51, 1, 0]</text>\n<text text-anchor=\"start\" x=\"1146\" y=\"-111.8\" font-family=\"Helvetica,sans-Serif\" font-size=\"14.00\" fill=\"#000000\">class = Between 50&#45;75%</text>\n</g>\n<!-- 25&#45;&gt;26 -->\n<g id=\"edge26\" class=\"edge\">\n<title>25&#45;&gt;26</title>\n<path fill=\"none\" stroke=\"#000000\" d=\"M1290.8746,-222.8796C1283.382,-213.8733 1275.3881,-204.2644 1267.6721,-194.9897\"/>\n<polygon fill=\"#000000\" stroke=\"#000000\" points=\"1270.3593,-192.7472 1261.2732,-187.2981 1264.9781,-197.224 1270.3593,-192.7472\"/>\n</g>\n<!-- 29 -->\n<g id=\"node30\" class=\"node\">\n<title>29</title>\n<path fill=\"#eeab7b\" stroke=\"#000000\" d=\"M1498,-187C1498,-187 1345,-187 1345,-187 1339,-187 1333,-181 1333,-175 1333,-175 1333,-116 1333,-116 1333,-110 1339,-104 1345,-104 1345,-104 1498,-104 1498,-104 1504,-104 1510,-110 1510,-116 1510,-116 1510,-175 1510,-175 1510,-181 1504,-187 1498,-187\"/>\n<text text-anchor=\"start\" x=\"1379.5\" y=\"-171.8\" font-family=\"Helvetica,sans-Serif\" font-size=\"14.00\" fill=\"#000000\">CGPA ≤ 8.05</text>\n<text text-anchor=\"start\" x=\"1370.5\" y=\"-156.8\" font-family=\"Helvetica,sans-Serif\" font-size=\"14.00\" fill=\"#000000\">entropy = 0.811</text>\n<text text-anchor=\"start\" x=\"1382\" y=\"-141.8\" font-family=\"Helvetica,sans-Serif\" font-size=\"14.00\" fill=\"#000000\">samples = 8</text>\n<text text-anchor=\"start\" x=\"1372\" y=\"-126.8\" font-family=\"Helvetica,sans-Serif\" font-size=\"14.00\" fill=\"#000000\">value = [6, 2, 0]</text>\n<text text-anchor=\"start\" x=\"1341\" y=\"-111.8\" font-family=\"Helvetica,sans-Serif\" font-size=\"14.00\" fill=\"#000000\">class = Between 50&#45;75%</text>\n</g>\n<!-- 25&#45;&gt;29 -->\n<g id=\"edge29\" class=\"edge\">\n<title>25&#45;&gt;29</title>\n<path fill=\"none\" stroke=\"#000000\" d=\"M1359.0761,-222.8796C1366.2691,-213.9633 1373.9384,-204.4565 1381.351,-195.268\"/>\n<polygon fill=\"#000000\" stroke=\"#000000\" points=\"1384.2258,-197.2788 1387.7805,-187.2981 1378.7776,-192.8836 1384.2258,-197.2788\"/>\n</g>\n<!-- 27 -->\n<g id=\"node28\" class=\"node\">\n<title>27</title>\n<path fill=\"#e58139\" stroke=\"#000000\" d=\"M1108,-68C1108,-68 955,-68 955,-68 949,-68 943,-62 943,-56 943,-56 943,-12 943,-12 943,-6 949,0 955,0 955,0 1108,0 1108,0 1114,0 1120,-6 1120,-12 1120,-12 1120,-56 1120,-56 1120,-62 1114,-68 1108,-68\"/>\n<text text-anchor=\"start\" x=\"989\" y=\"-52.8\" font-family=\"Helvetica,sans-Serif\" font-size=\"14.00\" fill=\"#000000\">entropy = 0.0</text>\n<text text-anchor=\"start\" x=\"987.5\" y=\"-37.8\" font-family=\"Helvetica,sans-Serif\" font-size=\"14.00\" fill=\"#000000\">samples = 43</text>\n<text text-anchor=\"start\" x=\"978\" y=\"-22.8\" font-family=\"Helvetica,sans-Serif\" font-size=\"14.00\" fill=\"#000000\">value = [43, 0, 0]</text>\n<text text-anchor=\"start\" x=\"951\" y=\"-7.8\" font-family=\"Helvetica,sans-Serif\" font-size=\"14.00\" fill=\"#000000\">class = Between 50&#45;75%</text>\n</g>\n<!-- 26&#45;&gt;27 -->\n<g id=\"edge27\" class=\"edge\">\n<title>26&#45;&gt;27</title>\n<path fill=\"none\" stroke=\"#000000\" d=\"M1153.8892,-103.9815C1136.277,-93.911 1117.5036,-83.1764 1100.0842,-73.2161\"/>\n<polygon fill=\"#000000\" stroke=\"#000000\" points=\"1101.53,-70.0111 1091.1116,-68.0856 1098.0554,-76.0878 1101.53,-70.0111\"/>\n</g>\n<!-- 28 -->\n<g id=\"node29\" class=\"node\">\n<title>28</title>\n<path fill=\"#e89152\" stroke=\"#000000\" d=\"M1303,-68C1303,-68 1150,-68 1150,-68 1144,-68 1138,-62 1138,-56 1138,-56 1138,-12 1138,-12 1138,-6 1144,0 1150,0 1150,0 1303,0 1303,0 1309,0 1315,-6 1315,-12 1315,-12 1315,-56 1315,-56 1315,-62 1309,-68 1303,-68\"/>\n<text text-anchor=\"start\" x=\"1175.5\" y=\"-52.8\" font-family=\"Helvetica,sans-Serif\" font-size=\"14.00\" fill=\"#000000\">entropy = 0.503</text>\n<text text-anchor=\"start\" x=\"1187\" y=\"-37.8\" font-family=\"Helvetica,sans-Serif\" font-size=\"14.00\" fill=\"#000000\">samples = 9</text>\n<text text-anchor=\"start\" x=\"1177\" y=\"-22.8\" font-family=\"Helvetica,sans-Serif\" font-size=\"14.00\" fill=\"#000000\">value = [8, 1, 0]</text>\n<text text-anchor=\"start\" x=\"1146\" y=\"-7.8\" font-family=\"Helvetica,sans-Serif\" font-size=\"14.00\" fill=\"#000000\">class = Between 50&#45;75%</text>\n</g>\n<!-- 26&#45;&gt;28 -->\n<g id=\"edge28\" class=\"edge\">\n<title>26&#45;&gt;28</title>\n<path fill=\"none\" stroke=\"#000000\" d=\"M1226.5,-103.9815C1226.5,-95.618 1226.5,-86.7965 1226.5,-78.3409\"/>\n<polygon fill=\"#000000\" stroke=\"#000000\" points=\"1230.0001,-78.2636 1226.5,-68.2637 1223.0001,-78.2637 1230.0001,-78.2636\"/>\n</g>\n<!-- 30 -->\n<g id=\"node31\" class=\"node\">\n<title>30</title>\n<path fill=\"#ffffff\" stroke=\"#000000\" d=\"M1498,-68C1498,-68 1345,-68 1345,-68 1339,-68 1333,-62 1333,-56 1333,-56 1333,-12 1333,-12 1333,-6 1339,0 1345,0 1345,0 1498,0 1498,0 1504,0 1510,-6 1510,-12 1510,-12 1510,-56 1510,-56 1510,-62 1504,-68 1498,-68\"/>\n<text text-anchor=\"start\" x=\"1379\" y=\"-52.8\" font-family=\"Helvetica,sans-Serif\" font-size=\"14.00\" fill=\"#000000\">entropy = 1.0</text>\n<text text-anchor=\"start\" x=\"1382\" y=\"-37.8\" font-family=\"Helvetica,sans-Serif\" font-size=\"14.00\" fill=\"#000000\">samples = 4</text>\n<text text-anchor=\"start\" x=\"1372\" y=\"-22.8\" font-family=\"Helvetica,sans-Serif\" font-size=\"14.00\" fill=\"#000000\">value = [2, 2, 0]</text>\n<text text-anchor=\"start\" x=\"1341\" y=\"-7.8\" font-family=\"Helvetica,sans-Serif\" font-size=\"14.00\" fill=\"#000000\">class = Between 50&#45;75%</text>\n</g>\n<!-- 29&#45;&gt;30 -->\n<g id=\"edge30\" class=\"edge\">\n<title>29&#45;&gt;30</title>\n<path fill=\"none\" stroke=\"#000000\" d=\"M1421.5,-103.9815C1421.5,-95.618 1421.5,-86.7965 1421.5,-78.3409\"/>\n<polygon fill=\"#000000\" stroke=\"#000000\" points=\"1425.0001,-78.2636 1421.5,-68.2637 1418.0001,-78.2637 1425.0001,-78.2636\"/>\n</g>\n<!-- 31 -->\n<g id=\"node32\" class=\"node\">\n<title>31</title>\n<path fill=\"#e58139\" stroke=\"#000000\" d=\"M1693,-68C1693,-68 1540,-68 1540,-68 1534,-68 1528,-62 1528,-56 1528,-56 1528,-12 1528,-12 1528,-6 1534,0 1540,0 1540,0 1693,0 1693,0 1699,0 1705,-6 1705,-12 1705,-12 1705,-56 1705,-56 1705,-62 1699,-68 1693,-68\"/>\n<text text-anchor=\"start\" x=\"1574\" y=\"-52.8\" font-family=\"Helvetica,sans-Serif\" font-size=\"14.00\" fill=\"#000000\">entropy = 0.0</text>\n<text text-anchor=\"start\" x=\"1577\" y=\"-37.8\" font-family=\"Helvetica,sans-Serif\" font-size=\"14.00\" fill=\"#000000\">samples = 4</text>\n<text text-anchor=\"start\" x=\"1567\" y=\"-22.8\" font-family=\"Helvetica,sans-Serif\" font-size=\"14.00\" fill=\"#000000\">value = [4, 0, 0]</text>\n<text text-anchor=\"start\" x=\"1536\" y=\"-7.8\" font-family=\"Helvetica,sans-Serif\" font-size=\"14.00\" fill=\"#000000\">class = Between 50&#45;75%</text>\n</g>\n<!-- 29&#45;&gt;31 -->\n<g id=\"edge31\" class=\"edge\">\n<title>29&#45;&gt;31</title>\n<path fill=\"none\" stroke=\"#000000\" d=\"M1494.1108,-103.9815C1511.723,-93.911 1530.4964,-83.1764 1547.9158,-73.2161\"/>\n<polygon fill=\"#000000\" stroke=\"#000000\" points=\"1549.9446,-76.0878 1556.8884,-68.0856 1546.47,-70.0111 1549.9446,-76.0878\"/>\n</g>\n<!-- 34 -->\n<g id=\"node35\" class=\"node\">\n<title>34</title>\n<path fill=\"#ea985e\" stroke=\"#000000\" d=\"M2248,-425C2248,-425 2095,-425 2095,-425 2089,-425 2083,-419 2083,-413 2083,-413 2083,-354 2083,-354 2083,-348 2089,-342 2095,-342 2095,-342 2248,-342 2248,-342 2254,-342 2260,-348 2260,-354 2260,-354 2260,-413 2260,-413 2260,-419 2254,-425 2248,-425\"/>\n<text text-anchor=\"start\" x=\"2132.5\" y=\"-409.8\" font-family=\"Helvetica,sans-Serif\" font-size=\"14.00\" fill=\"#000000\">LOR &#160;≤ 2.25</text>\n<text text-anchor=\"start\" x=\"2120.5\" y=\"-394.8\" font-family=\"Helvetica,sans-Serif\" font-size=\"14.00\" fill=\"#000000\">entropy = 0.695</text>\n<text text-anchor=\"start\" x=\"2127.5\" y=\"-379.8\" font-family=\"Helvetica,sans-Serif\" font-size=\"14.00\" fill=\"#000000\">samples = 76</text>\n<text text-anchor=\"start\" x=\"2114\" y=\"-364.8\" font-family=\"Helvetica,sans-Serif\" font-size=\"14.00\" fill=\"#000000\">value = [64, 1, 11]</text>\n<text text-anchor=\"start\" x=\"2091\" y=\"-349.8\" font-family=\"Helvetica,sans-Serif\" font-size=\"14.00\" fill=\"#000000\">class = Between 50&#45;75%</text>\n</g>\n<!-- 33&#45;&gt;34 -->\n<g id=\"edge34\" class=\"edge\">\n<title>33&#45;&gt;34</title>\n<path fill=\"none\" stroke=\"#000000\" d=\"M2171.5,-460.8796C2171.5,-452.6838 2171.5,-443.9891 2171.5,-435.5013\"/>\n<polygon fill=\"#000000\" stroke=\"#000000\" points=\"2175.0001,-435.298 2171.5,-425.2981 2168.0001,-435.2981 2175.0001,-435.298\"/>\n</g>\n<!-- 47 -->\n<g id=\"node48\" class=\"node\">\n<title>47</title>\n<path fill=\"#ffffff\" stroke=\"#000000\" d=\"M2537,-425C2537,-425 2384,-425 2384,-425 2378,-425 2372,-419 2372,-413 2372,-413 2372,-354 2372,-354 2372,-348 2378,-342 2384,-342 2384,-342 2537,-342 2537,-342 2543,-342 2549,-348 2549,-354 2549,-354 2549,-413 2549,-413 2549,-419 2543,-425 2537,-425\"/>\n<text text-anchor=\"start\" x=\"2390\" y=\"-409.8\" font-family=\"Helvetica,sans-Serif\" font-size=\"14.00\" fill=\"#000000\">TOEFL Score ≤ 109.0</text>\n<text text-anchor=\"start\" x=\"2418\" y=\"-394.8\" font-family=\"Helvetica,sans-Serif\" font-size=\"14.00\" fill=\"#000000\">entropy = 1.0</text>\n<text text-anchor=\"start\" x=\"2421\" y=\"-379.8\" font-family=\"Helvetica,sans-Serif\" font-size=\"14.00\" fill=\"#000000\">samples = 2</text>\n<text text-anchor=\"start\" x=\"2411\" y=\"-364.8\" font-family=\"Helvetica,sans-Serif\" font-size=\"14.00\" fill=\"#000000\">value = [1, 1, 0]</text>\n<text text-anchor=\"start\" x=\"2380\" y=\"-349.8\" font-family=\"Helvetica,sans-Serif\" font-size=\"14.00\" fill=\"#000000\">class = Between 50&#45;75%</text>\n</g>\n<!-- 33&#45;&gt;47 -->\n<g id=\"edge47\" class=\"edge\">\n<title>33&#45;&gt;47</title>\n<path fill=\"none\" stroke=\"#000000\" d=\"M2260.1736,-465.9874C2292.6297,-452.623 2329.5262,-437.4304 2362.7328,-423.7571\"/>\n<polygon fill=\"#000000\" stroke=\"#000000\" points=\"2364.08,-426.9875 2371.9941,-419.9436 2361.4147,-420.5148 2364.08,-426.9875\"/>\n</g>\n<!-- 35 -->\n<g id=\"node36\" class=\"node\">\n<title>35</title>\n<path fill=\"#f6d5bd\" stroke=\"#000000\" d=\"M2154,-306C2154,-306 2001,-306 2001,-306 1995,-306 1989,-300 1989,-294 1989,-294 1989,-235 1989,-235 1989,-229 1995,-223 2001,-223 2001,-223 2154,-223 2154,-223 2160,-223 2166,-229 2166,-235 2166,-235 2166,-294 2166,-294 2166,-300 2160,-306 2154,-306\"/>\n<text text-anchor=\"start\" x=\"2005\" y=\"-290.8\" font-family=\"Helvetica,sans-Serif\" font-size=\"14.00\" fill=\"#000000\">University Rating ≤ 2.5</text>\n<text text-anchor=\"start\" x=\"2035\" y=\"-275.8\" font-family=\"Helvetica,sans-Serif\" font-size=\"14.00\" fill=\"#000000\">entropy = 1.5</text>\n<text text-anchor=\"start\" x=\"2038\" y=\"-260.8\" font-family=\"Helvetica,sans-Serif\" font-size=\"14.00\" fill=\"#000000\">samples = 4</text>\n<text text-anchor=\"start\" x=\"2028\" y=\"-245.8\" font-family=\"Helvetica,sans-Serif\" font-size=\"14.00\" fill=\"#000000\">value = [2, 1, 1]</text>\n<text text-anchor=\"start\" x=\"1997\" y=\"-230.8\" font-family=\"Helvetica,sans-Serif\" font-size=\"14.00\" fill=\"#000000\">class = Between 50&#45;75%</text>\n</g>\n<!-- 34&#45;&gt;35 -->\n<g id=\"edge35\" class=\"edge\">\n<title>34&#45;&gt;35</title>\n<path fill=\"none\" stroke=\"#000000\" d=\"M2138.6234,-341.8796C2131.5803,-332.9633 2124.0707,-323.4565 2116.8126,-314.268\"/>\n<polygon fill=\"#000000\" stroke=\"#000000\" points=\"2119.4621,-311.9757 2110.517,-306.2981 2113.9691,-316.3147 2119.4621,-311.9757\"/>\n</g>\n<!-- 40 -->\n<g id=\"node41\" class=\"node\">\n<title>40</title>\n<path fill=\"#e99559\" stroke=\"#000000\" d=\"M2349,-306C2349,-306 2196,-306 2196,-306 2190,-306 2184,-300 2184,-294 2184,-294 2184,-235 2184,-235 2184,-229 2190,-223 2196,-223 2196,-223 2349,-223 2349,-223 2355,-223 2361,-229 2361,-235 2361,-235 2361,-294 2361,-294 2361,-300 2355,-306 2349,-306\"/>\n<text text-anchor=\"start\" x=\"2200\" y=\"-290.8\" font-family=\"Helvetica,sans-Serif\" font-size=\"14.00\" fill=\"#000000\">University Rating ≤ 3.5</text>\n<text text-anchor=\"start\" x=\"2221.5\" y=\"-275.8\" font-family=\"Helvetica,sans-Serif\" font-size=\"14.00\" fill=\"#000000\">entropy = 0.581</text>\n<text text-anchor=\"start\" x=\"2228.5\" y=\"-260.8\" font-family=\"Helvetica,sans-Serif\" font-size=\"14.00\" fill=\"#000000\">samples = 72</text>\n<text text-anchor=\"start\" x=\"2215\" y=\"-245.8\" font-family=\"Helvetica,sans-Serif\" font-size=\"14.00\" fill=\"#000000\">value = [62, 0, 10]</text>\n<text text-anchor=\"start\" x=\"2192\" y=\"-230.8\" font-family=\"Helvetica,sans-Serif\" font-size=\"14.00\" fill=\"#000000\">class = Between 50&#45;75%</text>\n</g>\n<!-- 34&#45;&gt;40 -->\n<g id=\"edge40\" class=\"edge\">\n<title>34&#45;&gt;40</title>\n<path fill=\"none\" stroke=\"#000000\" d=\"M2206.8249,-341.8796C2214.4689,-332.8733 2222.6243,-323.2644 2230.4961,-313.9897\"/>\n<polygon fill=\"#000000\" stroke=\"#000000\" points=\"2233.2218,-316.1871 2237.0243,-306.2981 2227.8849,-311.6574 2233.2218,-316.1871\"/>\n</g>\n<!-- 36 -->\n<g id=\"node37\" class=\"node\">\n<title>36</title>\n<path fill=\"#ffffff\" stroke=\"#000000\" d=\"M1959,-187C1959,-187 1820,-187 1820,-187 1814,-187 1808,-181 1808,-175 1808,-175 1808,-116 1808,-116 1808,-110 1814,-104 1820,-104 1820,-104 1959,-104 1959,-104 1965,-104 1971,-110 1971,-116 1971,-116 1971,-175 1971,-175 1971,-181 1965,-187 1959,-187\"/>\n<text text-anchor=\"start\" x=\"1819\" y=\"-171.8\" font-family=\"Helvetica,sans-Serif\" font-size=\"14.00\" fill=\"#000000\">TOEFL Score ≤ 105.5</text>\n<text text-anchor=\"start\" x=\"1847\" y=\"-156.8\" font-family=\"Helvetica,sans-Serif\" font-size=\"14.00\" fill=\"#000000\">entropy = 1.0</text>\n<text text-anchor=\"start\" x=\"1850\" y=\"-141.8\" font-family=\"Helvetica,sans-Serif\" font-size=\"14.00\" fill=\"#000000\">samples = 2</text>\n<text text-anchor=\"start\" x=\"1840\" y=\"-126.8\" font-family=\"Helvetica,sans-Serif\" font-size=\"14.00\" fill=\"#000000\">value = [0, 1, 1]</text>\n<text text-anchor=\"start\" x=\"1816\" y=\"-111.8\" font-family=\"Helvetica,sans-Serif\" font-size=\"14.00\" fill=\"#000000\">class = Less than 50%</text>\n</g>\n<!-- 35&#45;&gt;36 -->\n<g id=\"edge36\" class=\"edge\">\n<title>35&#45;&gt;36</title>\n<path fill=\"none\" stroke=\"#000000\" d=\"M2011.7467,-222.8796C1996.2906,-213.0962 1979.7113,-202.6019 1963.9055,-192.5971\"/>\n<polygon fill=\"#000000\" stroke=\"#000000\" points=\"1965.5377,-189.488 1955.2162,-187.0969 1961.7938,-195.4027 1965.5377,-189.488\"/>\n</g>\n<!-- 39 -->\n<g id=\"node40\" class=\"node\">\n<title>39</title>\n<path fill=\"#e58139\" stroke=\"#000000\" d=\"M2154,-179.5C2154,-179.5 2001,-179.5 2001,-179.5 1995,-179.5 1989,-173.5 1989,-167.5 1989,-167.5 1989,-123.5 1989,-123.5 1989,-117.5 1995,-111.5 2001,-111.5 2001,-111.5 2154,-111.5 2154,-111.5 2160,-111.5 2166,-117.5 2166,-123.5 2166,-123.5 2166,-167.5 2166,-167.5 2166,-173.5 2160,-179.5 2154,-179.5\"/>\n<text text-anchor=\"start\" x=\"2035\" y=\"-164.3\" font-family=\"Helvetica,sans-Serif\" font-size=\"14.00\" fill=\"#000000\">entropy = 0.0</text>\n<text text-anchor=\"start\" x=\"2038\" y=\"-149.3\" font-family=\"Helvetica,sans-Serif\" font-size=\"14.00\" fill=\"#000000\">samples = 2</text>\n<text text-anchor=\"start\" x=\"2028\" y=\"-134.3\" font-family=\"Helvetica,sans-Serif\" font-size=\"14.00\" fill=\"#000000\">value = [2, 0, 0]</text>\n<text text-anchor=\"start\" x=\"1997\" y=\"-119.3\" font-family=\"Helvetica,sans-Serif\" font-size=\"14.00\" fill=\"#000000\">class = Between 50&#45;75%</text>\n</g>\n<!-- 35&#45;&gt;39 -->\n<g id=\"edge39\" class=\"edge\">\n<title>35&#45;&gt;39</title>\n<path fill=\"none\" stroke=\"#000000\" d=\"M2077.5,-222.8796C2077.5,-212.2134 2077.5,-200.7021 2077.5,-189.9015\"/>\n<polygon fill=\"#000000\" stroke=\"#000000\" points=\"2081.0001,-189.8149 2077.5,-179.8149 2074.0001,-189.815 2081.0001,-189.8149\"/>\n</g>\n<!-- 37 -->\n<g id=\"node38\" class=\"node\">\n<title>37</title>\n<path fill=\"#39e581\" stroke=\"#000000\" d=\"M1874,-68C1874,-68 1735,-68 1735,-68 1729,-68 1723,-62 1723,-56 1723,-56 1723,-12 1723,-12 1723,-6 1729,0 1735,0 1735,0 1874,0 1874,0 1880,0 1886,-6 1886,-12 1886,-12 1886,-56 1886,-56 1886,-62 1880,-68 1874,-68\"/>\n<text text-anchor=\"start\" x=\"1762\" y=\"-52.8\" font-family=\"Helvetica,sans-Serif\" font-size=\"14.00\" fill=\"#000000\">entropy = 0.0</text>\n<text text-anchor=\"start\" x=\"1765\" y=\"-37.8\" font-family=\"Helvetica,sans-Serif\" font-size=\"14.00\" fill=\"#000000\">samples = 1</text>\n<text text-anchor=\"start\" x=\"1755\" y=\"-22.8\" font-family=\"Helvetica,sans-Serif\" font-size=\"14.00\" fill=\"#000000\">value = [0, 1, 0]</text>\n<text text-anchor=\"start\" x=\"1731\" y=\"-7.8\" font-family=\"Helvetica,sans-Serif\" font-size=\"14.00\" fill=\"#000000\">class = Less than 50%</text>\n</g>\n<!-- 36&#45;&gt;37 -->\n<g id=\"edge37\" class=\"edge\">\n<title>36&#45;&gt;37</title>\n<path fill=\"none\" stroke=\"#000000\" d=\"M1857.8491,-103.9815C1850.9829,-94.9747 1843.7118,-85.4367 1836.8202,-76.3965\"/>\n<polygon fill=\"#000000\" stroke=\"#000000\" points=\"1839.4664,-74.0945 1830.6203,-68.2637 1833.8995,-78.3383 1839.4664,-74.0945\"/>\n</g>\n<!-- 38 -->\n<g id=\"node39\" class=\"node\">\n<title>38</title>\n<path fill=\"#8139e5\" stroke=\"#000000\" d=\"M2056.5,-68C2056.5,-68 1916.5,-68 1916.5,-68 1910.5,-68 1904.5,-62 1904.5,-56 1904.5,-56 1904.5,-12 1904.5,-12 1904.5,-6 1910.5,0 1916.5,0 1916.5,0 2056.5,0 2056.5,0 2062.5,0 2068.5,-6 2068.5,-12 2068.5,-12 2068.5,-56 2068.5,-56 2068.5,-62 2062.5,-68 2056.5,-68\"/>\n<text text-anchor=\"start\" x=\"1944\" y=\"-52.8\" font-family=\"Helvetica,sans-Serif\" font-size=\"14.00\" fill=\"#000000\">entropy = 0.0</text>\n<text text-anchor=\"start\" x=\"1947\" y=\"-37.8\" font-family=\"Helvetica,sans-Serif\" font-size=\"14.00\" fill=\"#000000\">samples = 1</text>\n<text text-anchor=\"start\" x=\"1937\" y=\"-22.8\" font-family=\"Helvetica,sans-Serif\" font-size=\"14.00\" fill=\"#000000\">value = [0, 0, 1]</text>\n<text text-anchor=\"start\" x=\"1912.5\" y=\"-7.8\" font-family=\"Helvetica,sans-Serif\" font-size=\"14.00\" fill=\"#000000\">class = More than 75%</text>\n</g>\n<!-- 36&#45;&gt;38 -->\n<g id=\"edge38\" class=\"edge\">\n<title>36&#45;&gt;38</title>\n<path fill=\"none\" stroke=\"#000000\" d=\"M1925.6192,-103.9815C1933.6147,-94.7908 1942.0913,-85.0472 1950.0979,-75.8436\"/>\n<polygon fill=\"#000000\" stroke=\"#000000\" points=\"1952.7693,-78.1055 1956.6921,-68.2637 1947.488,-73.5111 1952.7693,-78.1055\"/>\n</g>\n<!-- 41 -->\n<g id=\"node42\" class=\"node\">\n<title>41</title>\n<path fill=\"#e88f4f\" stroke=\"#000000\" d=\"M2349,-187C2349,-187 2196,-187 2196,-187 2190,-187 2184,-181 2184,-175 2184,-175 2184,-116 2184,-116 2184,-110 2190,-104 2196,-104 2196,-104 2349,-104 2349,-104 2355,-104 2361,-110 2361,-116 2361,-116 2361,-175 2361,-175 2361,-181 2355,-187 2349,-187\"/>\n<text text-anchor=\"start\" x=\"2206\" y=\"-171.8\" font-family=\"Helvetica,sans-Serif\" font-size=\"14.00\" fill=\"#000000\">TOEFL Score ≤ 99.5</text>\n<text text-anchor=\"start\" x=\"2221.5\" y=\"-156.8\" font-family=\"Helvetica,sans-Serif\" font-size=\"14.00\" fill=\"#000000\">entropy = 0.464</text>\n<text text-anchor=\"start\" x=\"2228.5\" y=\"-141.8\" font-family=\"Helvetica,sans-Serif\" font-size=\"14.00\" fill=\"#000000\">samples = 61</text>\n<text text-anchor=\"start\" x=\"2219\" y=\"-126.8\" font-family=\"Helvetica,sans-Serif\" font-size=\"14.00\" fill=\"#000000\">value = [55, 0, 6]</text>\n<text text-anchor=\"start\" x=\"2192\" y=\"-111.8\" font-family=\"Helvetica,sans-Serif\" font-size=\"14.00\" fill=\"#000000\">class = Between 50&#45;75%</text>\n</g>\n<!-- 40&#45;&gt;41 -->\n<g id=\"edge41\" class=\"edge\">\n<title>40&#45;&gt;41</title>\n<path fill=\"none\" stroke=\"#000000\" d=\"M2272.5,-222.8796C2272.5,-214.6838 2272.5,-205.9891 2272.5,-197.5013\"/>\n<polygon fill=\"#000000\" stroke=\"#000000\" points=\"2276.0001,-197.298 2272.5,-187.2981 2269.0001,-197.2981 2276.0001,-197.298\"/>\n</g>\n<!-- 44 -->\n<g id=\"node45\" class=\"node\">\n<title>44</title>\n<path fill=\"#f4c9aa\" stroke=\"#000000\" d=\"M2629,-187C2629,-187 2476,-187 2476,-187 2470,-187 2464,-181 2464,-175 2464,-175 2464,-116 2464,-116 2464,-110 2470,-104 2476,-104 2476,-104 2629,-104 2629,-104 2635,-104 2641,-110 2641,-116 2641,-116 2641,-175 2641,-175 2641,-181 2635,-187 2629,-187\"/>\n<text text-anchor=\"start\" x=\"2489.5\" y=\"-171.8\" font-family=\"Helvetica,sans-Serif\" font-size=\"14.00\" fill=\"#000000\">GRE Score ≤ 322.0</text>\n<text text-anchor=\"start\" x=\"2501.5\" y=\"-156.8\" font-family=\"Helvetica,sans-Serif\" font-size=\"14.00\" fill=\"#000000\">entropy = 0.946</text>\n<text text-anchor=\"start\" x=\"2508.5\" y=\"-141.8\" font-family=\"Helvetica,sans-Serif\" font-size=\"14.00\" fill=\"#000000\">samples = 11</text>\n<text text-anchor=\"start\" x=\"2503\" y=\"-126.8\" font-family=\"Helvetica,sans-Serif\" font-size=\"14.00\" fill=\"#000000\">value = [7, 0, 4]</text>\n<text text-anchor=\"start\" x=\"2472\" y=\"-111.8\" font-family=\"Helvetica,sans-Serif\" font-size=\"14.00\" fill=\"#000000\">class = Between 50&#45;75%</text>\n</g>\n<!-- 40&#45;&gt;44 -->\n<g id=\"edge44\" class=\"edge\">\n<title>40&#45;&gt;44</title>\n<path fill=\"none\" stroke=\"#000000\" d=\"M2361.0413,-226.6031C2363.8939,-225.3872 2366.7192,-224.1837 2369.5,-223 2397.0236,-211.2842 2426.8939,-198.6149 2454.3645,-186.9818\"/>\n<polygon fill=\"#000000\" stroke=\"#000000\" points=\"2455.7378,-190.2013 2463.5818,-183.0793 2453.0085,-183.7552 2455.7378,-190.2013\"/>\n</g>\n<!-- 42 -->\n<g id=\"node43\" class=\"node\">\n<title>42</title>\n<path fill=\"#c09cf2\" stroke=\"#000000\" d=\"M2238.5,-68C2238.5,-68 2098.5,-68 2098.5,-68 2092.5,-68 2086.5,-62 2086.5,-56 2086.5,-56 2086.5,-12 2086.5,-12 2086.5,-6 2092.5,0 2098.5,0 2098.5,0 2238.5,0 2238.5,0 2244.5,0 2250.5,-6 2250.5,-12 2250.5,-12 2250.5,-56 2250.5,-56 2250.5,-62 2244.5,-68 2238.5,-68\"/>\n<text text-anchor=\"start\" x=\"2117.5\" y=\"-52.8\" font-family=\"Helvetica,sans-Serif\" font-size=\"14.00\" fill=\"#000000\">entropy = 0.918</text>\n<text text-anchor=\"start\" x=\"2129\" y=\"-37.8\" font-family=\"Helvetica,sans-Serif\" font-size=\"14.00\" fill=\"#000000\">samples = 3</text>\n<text text-anchor=\"start\" x=\"2119\" y=\"-22.8\" font-family=\"Helvetica,sans-Serif\" font-size=\"14.00\" fill=\"#000000\">value = [1, 0, 2]</text>\n<text text-anchor=\"start\" x=\"2094.5\" y=\"-7.8\" font-family=\"Helvetica,sans-Serif\" font-size=\"14.00\" fill=\"#000000\">class = More than 75%</text>\n</g>\n<!-- 41&#45;&gt;42 -->\n<g id=\"edge42\" class=\"edge\">\n<title>41&#45;&gt;42</title>\n<path fill=\"none\" stroke=\"#000000\" d=\"M2233.7742,-103.9815C2225.2018,-94.7908 2216.1135,-85.0472 2207.529,-75.8436\"/>\n<polygon fill=\"#000000\" stroke=\"#000000\" points=\"2209.8393,-73.1891 2200.4589,-68.2637 2204.7204,-77.9637 2209.8393,-73.1891\"/>\n</g>\n<!-- 43 -->\n<g id=\"node44\" class=\"node\">\n<title>43</title>\n<path fill=\"#e78a48\" stroke=\"#000000\" d=\"M2434,-68C2434,-68 2281,-68 2281,-68 2275,-68 2269,-62 2269,-56 2269,-56 2269,-12 2269,-12 2269,-6 2275,0 2281,0 2281,0 2434,0 2434,0 2440,0 2446,-6 2446,-12 2446,-12 2446,-56 2446,-56 2446,-62 2440,-68 2434,-68\"/>\n<text text-anchor=\"start\" x=\"2306.5\" y=\"-52.8\" font-family=\"Helvetica,sans-Serif\" font-size=\"14.00\" fill=\"#000000\">entropy = 0.362</text>\n<text text-anchor=\"start\" x=\"2313.5\" y=\"-37.8\" font-family=\"Helvetica,sans-Serif\" font-size=\"14.00\" fill=\"#000000\">samples = 58</text>\n<text text-anchor=\"start\" x=\"2304\" y=\"-22.8\" font-family=\"Helvetica,sans-Serif\" font-size=\"14.00\" fill=\"#000000\">value = [54, 0, 4]</text>\n<text text-anchor=\"start\" x=\"2277\" y=\"-7.8\" font-family=\"Helvetica,sans-Serif\" font-size=\"14.00\" fill=\"#000000\">class = Between 50&#45;75%</text>\n</g>\n<!-- 41&#45;&gt;43 -->\n<g id=\"edge43\" class=\"edge\">\n<title>41&#45;&gt;43</title>\n<path fill=\"none\" stroke=\"#000000\" d=\"M2304.1509,-103.9815C2311.0171,-94.9747 2318.2882,-85.4367 2325.1798,-76.3965\"/>\n<polygon fill=\"#000000\" stroke=\"#000000\" points=\"2328.1005,-78.3383 2331.3797,-68.2637 2322.5336,-74.0945 2328.1005,-78.3383\"/>\n</g>\n<!-- 45 -->\n<g id=\"node46\" class=\"node\">\n<title>45</title>\n<path fill=\"#eca572\" stroke=\"#000000\" d=\"M2629,-68C2629,-68 2476,-68 2476,-68 2470,-68 2464,-62 2464,-56 2464,-56 2464,-12 2464,-12 2464,-6 2470,0 2476,0 2476,0 2629,0 2629,0 2635,0 2641,-6 2641,-12 2641,-12 2641,-56 2641,-56 2641,-62 2635,-68 2629,-68\"/>\n<text text-anchor=\"start\" x=\"2501.5\" y=\"-52.8\" font-family=\"Helvetica,sans-Serif\" font-size=\"14.00\" fill=\"#000000\">entropy = 0.764</text>\n<text text-anchor=\"start\" x=\"2513\" y=\"-37.8\" font-family=\"Helvetica,sans-Serif\" font-size=\"14.00\" fill=\"#000000\">samples = 9</text>\n<text text-anchor=\"start\" x=\"2503\" y=\"-22.8\" font-family=\"Helvetica,sans-Serif\" font-size=\"14.00\" fill=\"#000000\">value = [7, 0, 2]</text>\n<text text-anchor=\"start\" x=\"2472\" y=\"-7.8\" font-family=\"Helvetica,sans-Serif\" font-size=\"14.00\" fill=\"#000000\">class = Between 50&#45;75%</text>\n</g>\n<!-- 44&#45;&gt;45 -->\n<g id=\"edge45\" class=\"edge\">\n<title>44&#45;&gt;45</title>\n<path fill=\"none\" stroke=\"#000000\" d=\"M2552.5,-103.9815C2552.5,-95.618 2552.5,-86.7965 2552.5,-78.3409\"/>\n<polygon fill=\"#000000\" stroke=\"#000000\" points=\"2556.0001,-78.2636 2552.5,-68.2637 2549.0001,-78.2637 2556.0001,-78.2636\"/>\n</g>\n<!-- 46 -->\n<g id=\"node47\" class=\"node\">\n<title>46</title>\n<path fill=\"#8139e5\" stroke=\"#000000\" d=\"M2811.5,-68C2811.5,-68 2671.5,-68 2671.5,-68 2665.5,-68 2659.5,-62 2659.5,-56 2659.5,-56 2659.5,-12 2659.5,-12 2659.5,-6 2665.5,0 2671.5,0 2671.5,0 2811.5,0 2811.5,0 2817.5,0 2823.5,-6 2823.5,-12 2823.5,-12 2823.5,-56 2823.5,-56 2823.5,-62 2817.5,-68 2811.5,-68\"/>\n<text text-anchor=\"start\" x=\"2699\" y=\"-52.8\" font-family=\"Helvetica,sans-Serif\" font-size=\"14.00\" fill=\"#000000\">entropy = 0.0</text>\n<text text-anchor=\"start\" x=\"2702\" y=\"-37.8\" font-family=\"Helvetica,sans-Serif\" font-size=\"14.00\" fill=\"#000000\">samples = 2</text>\n<text text-anchor=\"start\" x=\"2692\" y=\"-22.8\" font-family=\"Helvetica,sans-Serif\" font-size=\"14.00\" fill=\"#000000\">value = [0, 0, 2]</text>\n<text text-anchor=\"start\" x=\"2667.5\" y=\"-7.8\" font-family=\"Helvetica,sans-Serif\" font-size=\"14.00\" fill=\"#000000\">class = More than 75%</text>\n</g>\n<!-- 44&#45;&gt;46 -->\n<g id=\"edge46\" class=\"edge\">\n<title>44&#45;&gt;46</title>\n<path fill=\"none\" stroke=\"#000000\" d=\"M2622.8766,-103.9815C2639.9469,-93.911 2658.1426,-83.1764 2675.0261,-73.2161\"/>\n<polygon fill=\"#000000\" stroke=\"#000000\" points=\"2676.8881,-76.1813 2683.7226,-68.0856 2673.3312,-70.1523 2676.8881,-76.1813\"/>\n</g>\n<!-- 48 -->\n<g id=\"node49\" class=\"node\">\n<title>48</title>\n<path fill=\"#39e581\" stroke=\"#000000\" d=\"M2530,-298.5C2530,-298.5 2391,-298.5 2391,-298.5 2385,-298.5 2379,-292.5 2379,-286.5 2379,-286.5 2379,-242.5 2379,-242.5 2379,-236.5 2385,-230.5 2391,-230.5 2391,-230.5 2530,-230.5 2530,-230.5 2536,-230.5 2542,-236.5 2542,-242.5 2542,-242.5 2542,-286.5 2542,-286.5 2542,-292.5 2536,-298.5 2530,-298.5\"/>\n<text text-anchor=\"start\" x=\"2418\" y=\"-283.3\" font-family=\"Helvetica,sans-Serif\" font-size=\"14.00\" fill=\"#000000\">entropy = 0.0</text>\n<text text-anchor=\"start\" x=\"2421\" y=\"-268.3\" font-family=\"Helvetica,sans-Serif\" font-size=\"14.00\" fill=\"#000000\">samples = 1</text>\n<text text-anchor=\"start\" x=\"2411\" y=\"-253.3\" font-family=\"Helvetica,sans-Serif\" font-size=\"14.00\" fill=\"#000000\">value = [0, 1, 0]</text>\n<text text-anchor=\"start\" x=\"2387\" y=\"-238.3\" font-family=\"Helvetica,sans-Serif\" font-size=\"14.00\" fill=\"#000000\">class = Less than 50%</text>\n</g>\n<!-- 47&#45;&gt;48 -->\n<g id=\"edge48\" class=\"edge\">\n<title>47&#45;&gt;48</title>\n<path fill=\"none\" stroke=\"#000000\" d=\"M2460.5,-341.8796C2460.5,-331.2134 2460.5,-319.7021 2460.5,-308.9015\"/>\n<polygon fill=\"#000000\" stroke=\"#000000\" points=\"2464.0001,-308.8149 2460.5,-298.8149 2457.0001,-308.815 2464.0001,-308.8149\"/>\n</g>\n<!-- 49 -->\n<g id=\"node50\" class=\"node\">\n<title>49</title>\n<path fill=\"#e58139\" stroke=\"#000000\" d=\"M2725,-298.5C2725,-298.5 2572,-298.5 2572,-298.5 2566,-298.5 2560,-292.5 2560,-286.5 2560,-286.5 2560,-242.5 2560,-242.5 2560,-236.5 2566,-230.5 2572,-230.5 2572,-230.5 2725,-230.5 2725,-230.5 2731,-230.5 2737,-236.5 2737,-242.5 2737,-242.5 2737,-286.5 2737,-286.5 2737,-292.5 2731,-298.5 2725,-298.5\"/>\n<text text-anchor=\"start\" x=\"2606\" y=\"-283.3\" font-family=\"Helvetica,sans-Serif\" font-size=\"14.00\" fill=\"#000000\">entropy = 0.0</text>\n<text text-anchor=\"start\" x=\"2609\" y=\"-268.3\" font-family=\"Helvetica,sans-Serif\" font-size=\"14.00\" fill=\"#000000\">samples = 1</text>\n<text text-anchor=\"start\" x=\"2599\" y=\"-253.3\" font-family=\"Helvetica,sans-Serif\" font-size=\"14.00\" fill=\"#000000\">value = [1, 0, 0]</text>\n<text text-anchor=\"start\" x=\"2568\" y=\"-238.3\" font-family=\"Helvetica,sans-Serif\" font-size=\"14.00\" fill=\"#000000\">class = Between 50&#45;75%</text>\n</g>\n<!-- 47&#45;&gt;49 -->\n<g id=\"edge49\" class=\"edge\">\n<title>47&#45;&gt;49</title>\n<path fill=\"none\" stroke=\"#000000\" d=\"M2526.2533,-341.8796C2545.628,-329.6158 2566.7676,-316.2348 2585.9363,-304.1015\"/>\n<polygon fill=\"#000000\" stroke=\"#000000\" points=\"2588.0137,-306.9288 2594.5913,-298.623 2584.2698,-301.0141 2588.0137,-306.9288\"/>\n</g>\n<!-- 51 -->\n<g id=\"node52\" class=\"node\">\n<title>51</title>\n<path fill=\"#fdf6f1\" stroke=\"#000000\" d=\"M3300,-663C3300,-663 3147,-663 3147,-663 3141,-663 3135,-657 3135,-651 3135,-651 3135,-592 3135,-592 3135,-586 3141,-580 3147,-580 3147,-580 3300,-580 3300,-580 3306,-580 3312,-586 3312,-592 3312,-592 3312,-651 3312,-651 3312,-657 3306,-663 3300,-663\"/>\n<text text-anchor=\"start\" x=\"3160.5\" y=\"-647.8\" font-family=\"Helvetica,sans-Serif\" font-size=\"14.00\" fill=\"#000000\">GRE Score ≤ 321.5</text>\n<text text-anchor=\"start\" x=\"3172.5\" y=\"-632.8\" font-family=\"Helvetica,sans-Serif\" font-size=\"14.00\" fill=\"#000000\">entropy = 0.999</text>\n<text text-anchor=\"start\" x=\"3179.5\" y=\"-617.8\" font-family=\"Helvetica,sans-Serif\" font-size=\"14.00\" fill=\"#000000\">samples = 56</text>\n<text text-anchor=\"start\" x=\"3166\" y=\"-602.8\" font-family=\"Helvetica,sans-Serif\" font-size=\"14.00\" fill=\"#000000\">value = [29, 0, 27]</text>\n<text text-anchor=\"start\" x=\"3143\" y=\"-587.8\" font-family=\"Helvetica,sans-Serif\" font-size=\"14.00\" fill=\"#000000\">class = Between 50&#45;75%</text>\n</g>\n<!-- 50&#45;&gt;51 -->\n<g id=\"edge51\" class=\"edge\">\n<title>50&#45;&gt;51</title>\n<path fill=\"none\" stroke=\"#000000\" d=\"M3223.5,-698.8796C3223.5,-690.6838 3223.5,-681.9891 3223.5,-673.5013\"/>\n<polygon fill=\"#000000\" stroke=\"#000000\" points=\"3227.0001,-673.298 3223.5,-663.2981 3220.0001,-673.2981 3227.0001,-673.298\"/>\n</g>\n<!-- 74 -->\n<g id=\"node75\" class=\"node\">\n<title>74</title>\n<path fill=\"#8641e6\" stroke=\"#000000\" d=\"M3854.5,-663C3854.5,-663 3714.5,-663 3714.5,-663 3708.5,-663 3702.5,-657 3702.5,-651 3702.5,-651 3702.5,-592 3702.5,-592 3702.5,-586 3708.5,-580 3714.5,-580 3714.5,-580 3854.5,-580 3854.5,-580 3860.5,-580 3866.5,-586 3866.5,-592 3866.5,-592 3866.5,-651 3866.5,-651 3866.5,-657 3860.5,-663 3854.5,-663\"/>\n<text text-anchor=\"start\" x=\"3747\" y=\"-647.8\" font-family=\"Helvetica,sans-Serif\" font-size=\"14.00\" fill=\"#000000\">SOP ≤ 3.75</text>\n<text text-anchor=\"start\" x=\"3733.5\" y=\"-632.8\" font-family=\"Helvetica,sans-Serif\" font-size=\"14.00\" fill=\"#000000\">entropy = 0.232</text>\n<text text-anchor=\"start\" x=\"3736.5\" y=\"-617.8\" font-family=\"Helvetica,sans-Serif\" font-size=\"14.00\" fill=\"#000000\">samples = 132</text>\n<text text-anchor=\"start\" x=\"3727\" y=\"-602.8\" font-family=\"Helvetica,sans-Serif\" font-size=\"14.00\" fill=\"#000000\">value = [5, 0, 127]</text>\n<text text-anchor=\"start\" x=\"3710.5\" y=\"-587.8\" font-family=\"Helvetica,sans-Serif\" font-size=\"14.00\" fill=\"#000000\">class = More than 75%</text>\n</g>\n<!-- 50&#45;&gt;74 -->\n<g id=\"edge74\" class=\"edge\">\n<title>50&#45;&gt;74</title>\n<path fill=\"none\" stroke=\"#000000\" d=\"M3305.675,-723.0689C3408.6749,-701.2205 3584.7198,-663.8776 3692.2399,-641.0703\"/>\n<polygon fill=\"#000000\" stroke=\"#000000\" points=\"3693.0491,-644.4766 3702.1051,-638.9777 3691.5965,-637.629 3693.0491,-644.4766\"/>\n</g>\n<!-- 52 -->\n<g id=\"node53\" class=\"node\">\n<title>52</title>\n<path fill=\"#f3c5a4\" stroke=\"#000000\" d=\"M3206,-544C3206,-544 3053,-544 3053,-544 3047,-544 3041,-538 3041,-532 3041,-532 3041,-473 3041,-473 3041,-467 3047,-461 3053,-461 3053,-461 3206,-461 3206,-461 3212,-461 3218,-467 3218,-473 3218,-473 3218,-532 3218,-532 3218,-538 3212,-544 3206,-544\"/>\n<text text-anchor=\"start\" x=\"3092\" y=\"-528.8\" font-family=\"Helvetica,sans-Serif\" font-size=\"14.00\" fill=\"#000000\">SOP ≤ 2.75</text>\n<text text-anchor=\"start\" x=\"3078.5\" y=\"-513.8\" font-family=\"Helvetica,sans-Serif\" font-size=\"14.00\" fill=\"#000000\">entropy = 0.935</text>\n<text text-anchor=\"start\" x=\"3085.5\" y=\"-498.8\" font-family=\"Helvetica,sans-Serif\" font-size=\"14.00\" fill=\"#000000\">samples = 37</text>\n<text text-anchor=\"start\" x=\"3072\" y=\"-483.8\" font-family=\"Helvetica,sans-Serif\" font-size=\"14.00\" fill=\"#000000\">value = [24, 0, 13]</text>\n<text text-anchor=\"start\" x=\"3049\" y=\"-468.8\" font-family=\"Helvetica,sans-Serif\" font-size=\"14.00\" fill=\"#000000\">class = Between 50&#45;75%</text>\n</g>\n<!-- 51&#45;&gt;52 -->\n<g id=\"edge52\" class=\"edge\">\n<title>51&#45;&gt;52</title>\n<path fill=\"none\" stroke=\"#000000\" d=\"M3190.6234,-579.8796C3183.5803,-570.9633 3176.0707,-561.4565 3168.8126,-552.268\"/>\n<polygon fill=\"#000000\" stroke=\"#000000\" points=\"3171.4621,-549.9757 3162.517,-544.2981 3165.9691,-554.3147 3171.4621,-549.9757\"/>\n</g>\n<!-- 63 -->\n<g id=\"node64\" class=\"node\">\n<title>63</title>\n<path fill=\"#ae80ee\" stroke=\"#000000\" d=\"M3388.5,-544C3388.5,-544 3248.5,-544 3248.5,-544 3242.5,-544 3236.5,-538 3236.5,-532 3236.5,-532 3236.5,-473 3236.5,-473 3236.5,-467 3242.5,-461 3248.5,-461 3248.5,-461 3388.5,-461 3388.5,-461 3394.5,-461 3400.5,-467 3400.5,-473 3400.5,-473 3400.5,-532 3400.5,-532 3400.5,-538 3394.5,-544 3388.5,-544\"/>\n<text text-anchor=\"start\" x=\"3281\" y=\"-528.8\" font-family=\"Helvetica,sans-Serif\" font-size=\"14.00\" fill=\"#000000\">SOP ≤ 3.75</text>\n<text text-anchor=\"start\" x=\"3267.5\" y=\"-513.8\" font-family=\"Helvetica,sans-Serif\" font-size=\"14.00\" fill=\"#000000\">entropy = 0.831</text>\n<text text-anchor=\"start\" x=\"3274.5\" y=\"-498.8\" font-family=\"Helvetica,sans-Serif\" font-size=\"14.00\" fill=\"#000000\">samples = 19</text>\n<text text-anchor=\"start\" x=\"3265\" y=\"-483.8\" font-family=\"Helvetica,sans-Serif\" font-size=\"14.00\" fill=\"#000000\">value = [5, 0, 14]</text>\n<text text-anchor=\"start\" x=\"3244.5\" y=\"-468.8\" font-family=\"Helvetica,sans-Serif\" font-size=\"14.00\" fill=\"#000000\">class = More than 75%</text>\n</g>\n<!-- 51&#45;&gt;63 -->\n<g id=\"edge63\" class=\"edge\">\n<title>51&#45;&gt;63</title>\n<path fill=\"none\" stroke=\"#000000\" d=\"M3256.7264,-579.8796C3263.8444,-570.9633 3271.4339,-561.4565 3278.7692,-552.268\"/>\n<polygon fill=\"#000000\" stroke=\"#000000\" points=\"3281.6281,-554.2968 3285.1318,-544.2981 3276.1575,-549.9295 3281.6281,-554.2968\"/>\n</g>\n<!-- 53 -->\n<g id=\"node54\" class=\"node\">\n<title>53</title>\n<path fill=\"#e58139\" stroke=\"#000000\" d=\"M3011,-417.5C3011,-417.5 2858,-417.5 2858,-417.5 2852,-417.5 2846,-411.5 2846,-405.5 2846,-405.5 2846,-361.5 2846,-361.5 2846,-355.5 2852,-349.5 2858,-349.5 2858,-349.5 3011,-349.5 3011,-349.5 3017,-349.5 3023,-355.5 3023,-361.5 3023,-361.5 3023,-405.5 3023,-405.5 3023,-411.5 3017,-417.5 3011,-417.5\"/>\n<text text-anchor=\"start\" x=\"2892\" y=\"-402.3\" font-family=\"Helvetica,sans-Serif\" font-size=\"14.00\" fill=\"#000000\">entropy = 0.0</text>\n<text text-anchor=\"start\" x=\"2895\" y=\"-387.3\" font-family=\"Helvetica,sans-Serif\" font-size=\"14.00\" fill=\"#000000\">samples = 5</text>\n<text text-anchor=\"start\" x=\"2885\" y=\"-372.3\" font-family=\"Helvetica,sans-Serif\" font-size=\"14.00\" fill=\"#000000\">value = [5, 0, 0]</text>\n<text text-anchor=\"start\" x=\"2854\" y=\"-357.3\" font-family=\"Helvetica,sans-Serif\" font-size=\"14.00\" fill=\"#000000\">class = Between 50&#45;75%</text>\n</g>\n<!-- 52&#45;&gt;53 -->\n<g id=\"edge53\" class=\"edge\">\n<title>52&#45;&gt;53</title>\n<path fill=\"none\" stroke=\"#000000\" d=\"M3061.2985,-460.8796C3041.1118,-448.5606 3019.078,-435.1143 2999.1247,-422.9376\"/>\n<polygon fill=\"#000000\" stroke=\"#000000\" points=\"3000.7752,-419.8446 2990.4159,-417.623 2997.1287,-425.8199 3000.7752,-419.8446\"/>\n</g>\n<!-- 54 -->\n<g id=\"node55\" class=\"node\">\n<title>54</title>\n<path fill=\"#f7d7c0\" stroke=\"#000000\" d=\"M3206,-425C3206,-425 3053,-425 3053,-425 3047,-425 3041,-419 3041,-413 3041,-413 3041,-354 3041,-354 3041,-348 3047,-342 3053,-342 3053,-342 3206,-342 3206,-342 3212,-342 3218,-348 3218,-354 3218,-354 3218,-413 3218,-413 3218,-419 3212,-425 3206,-425\"/>\n<text text-anchor=\"start\" x=\"3059\" y=\"-409.8\" font-family=\"Helvetica,sans-Serif\" font-size=\"14.00\" fill=\"#000000\">TOEFL Score ≤ 109.5</text>\n<text text-anchor=\"start\" x=\"3078.5\" y=\"-394.8\" font-family=\"Helvetica,sans-Serif\" font-size=\"14.00\" fill=\"#000000\">entropy = 0.974</text>\n<text text-anchor=\"start\" x=\"3085.5\" y=\"-379.8\" font-family=\"Helvetica,sans-Serif\" font-size=\"14.00\" fill=\"#000000\">samples = 32</text>\n<text text-anchor=\"start\" x=\"3072\" y=\"-364.8\" font-family=\"Helvetica,sans-Serif\" font-size=\"14.00\" fill=\"#000000\">value = [19, 0, 13]</text>\n<text text-anchor=\"start\" x=\"3049\" y=\"-349.8\" font-family=\"Helvetica,sans-Serif\" font-size=\"14.00\" fill=\"#000000\">class = Between 50&#45;75%</text>\n</g>\n<!-- 52&#45;&gt;54 -->\n<g id=\"edge54\" class=\"edge\">\n<title>52&#45;&gt;54</title>\n<path fill=\"none\" stroke=\"#000000\" d=\"M3129.5,-460.8796C3129.5,-452.6838 3129.5,-443.9891 3129.5,-435.5013\"/>\n<polygon fill=\"#000000\" stroke=\"#000000\" points=\"3133.0001,-435.298 3129.5,-425.2981 3126.0001,-435.2981 3133.0001,-435.298\"/>\n</g>\n<!-- 55 -->\n<g id=\"node56\" class=\"node\">\n<title>55</title>\n<path fill=\"#ffffff\" stroke=\"#000000\" d=\"M3011,-306C3011,-306 2858,-306 2858,-306 2852,-306 2846,-300 2846,-294 2846,-294 2846,-235 2846,-235 2846,-229 2852,-223 2858,-223 2858,-223 3011,-223 3011,-223 3017,-223 3023,-229 3023,-235 3023,-235 3023,-294 3023,-294 3023,-300 3017,-306 3011,-306\"/>\n<text text-anchor=\"start\" x=\"2895.5\" y=\"-290.8\" font-family=\"Helvetica,sans-Serif\" font-size=\"14.00\" fill=\"#000000\">LOR &#160;≤ 3.25</text>\n<text text-anchor=\"start\" x=\"2892\" y=\"-275.8\" font-family=\"Helvetica,sans-Serif\" font-size=\"14.00\" fill=\"#000000\">entropy = 1.0</text>\n<text text-anchor=\"start\" x=\"2890.5\" y=\"-260.8\" font-family=\"Helvetica,sans-Serif\" font-size=\"14.00\" fill=\"#000000\">samples = 24</text>\n<text text-anchor=\"start\" x=\"2877\" y=\"-245.8\" font-family=\"Helvetica,sans-Serif\" font-size=\"14.00\" fill=\"#000000\">value = [12, 0, 12]</text>\n<text text-anchor=\"start\" x=\"2854\" y=\"-230.8\" font-family=\"Helvetica,sans-Serif\" font-size=\"14.00\" fill=\"#000000\">class = Between 50&#45;75%</text>\n</g>\n<!-- 54&#45;&gt;55 -->\n<g id=\"edge55\" class=\"edge\">\n<title>54&#45;&gt;55</title>\n<path fill=\"none\" stroke=\"#000000\" d=\"M3061.2985,-341.8796C3045.1184,-332.0056 3027.7517,-321.4075 3011.2208,-311.3193\"/>\n<polygon fill=\"#000000\" stroke=\"#000000\" points=\"3013.0223,-308.3185 3002.663,-306.0969 3009.3759,-314.2938 3013.0223,-308.3185\"/>\n</g>\n<!-- 60 -->\n<g id=\"node61\" class=\"node\">\n<title>60</title>\n<path fill=\"#e99355\" stroke=\"#000000\" d=\"M3206,-306C3206,-306 3053,-306 3053,-306 3047,-306 3041,-300 3041,-294 3041,-294 3041,-235 3041,-235 3041,-229 3047,-223 3053,-223 3053,-223 3206,-223 3206,-223 3212,-223 3218,-229 3218,-235 3218,-235 3218,-294 3218,-294 3218,-300 3212,-306 3206,-306\"/>\n<text text-anchor=\"start\" x=\"3066.5\" y=\"-290.8\" font-family=\"Helvetica,sans-Serif\" font-size=\"14.00\" fill=\"#000000\">GRE Score ≤ 320.5</text>\n<text text-anchor=\"start\" x=\"3078.5\" y=\"-275.8\" font-family=\"Helvetica,sans-Serif\" font-size=\"14.00\" fill=\"#000000\">entropy = 0.544</text>\n<text text-anchor=\"start\" x=\"3090\" y=\"-260.8\" font-family=\"Helvetica,sans-Serif\" font-size=\"14.00\" fill=\"#000000\">samples = 8</text>\n<text text-anchor=\"start\" x=\"3080\" y=\"-245.8\" font-family=\"Helvetica,sans-Serif\" font-size=\"14.00\" fill=\"#000000\">value = [7, 0, 1]</text>\n<text text-anchor=\"start\" x=\"3049\" y=\"-230.8\" font-family=\"Helvetica,sans-Serif\" font-size=\"14.00\" fill=\"#000000\">class = Between 50&#45;75%</text>\n</g>\n<!-- 54&#45;&gt;60 -->\n<g id=\"edge60\" class=\"edge\">\n<title>54&#45;&gt;60</title>\n<path fill=\"none\" stroke=\"#000000\" d=\"M3129.5,-341.8796C3129.5,-333.6838 3129.5,-324.9891 3129.5,-316.5013\"/>\n<polygon fill=\"#000000\" stroke=\"#000000\" points=\"3133.0001,-316.298 3129.5,-306.2981 3126.0001,-316.2981 3133.0001,-316.298\"/>\n</g>\n<!-- 56 -->\n<g id=\"node57\" class=\"node\">\n<title>56</title>\n<path fill=\"#8139e5\" stroke=\"#000000\" d=\"M2815.5,-179.5C2815.5,-179.5 2675.5,-179.5 2675.5,-179.5 2669.5,-179.5 2663.5,-173.5 2663.5,-167.5 2663.5,-167.5 2663.5,-123.5 2663.5,-123.5 2663.5,-117.5 2669.5,-111.5 2675.5,-111.5 2675.5,-111.5 2815.5,-111.5 2815.5,-111.5 2821.5,-111.5 2827.5,-117.5 2827.5,-123.5 2827.5,-123.5 2827.5,-167.5 2827.5,-167.5 2827.5,-173.5 2821.5,-179.5 2815.5,-179.5\"/>\n<text text-anchor=\"start\" x=\"2703\" y=\"-164.3\" font-family=\"Helvetica,sans-Serif\" font-size=\"14.00\" fill=\"#000000\">entropy = 0.0</text>\n<text text-anchor=\"start\" x=\"2706\" y=\"-149.3\" font-family=\"Helvetica,sans-Serif\" font-size=\"14.00\" fill=\"#000000\">samples = 4</text>\n<text text-anchor=\"start\" x=\"2696\" y=\"-134.3\" font-family=\"Helvetica,sans-Serif\" font-size=\"14.00\" fill=\"#000000\">value = [0, 0, 4]</text>\n<text text-anchor=\"start\" x=\"2671.5\" y=\"-119.3\" font-family=\"Helvetica,sans-Serif\" font-size=\"14.00\" fill=\"#000000\">class = More than 75%</text>\n</g>\n<!-- 55&#45;&gt;56 -->\n<g id=\"edge56\" class=\"edge\">\n<title>55&#45;&gt;56</title>\n<path fill=\"none\" stroke=\"#000000\" d=\"M2868.397,-222.8796C2848.9192,-210.6158 2827.6671,-197.2348 2808.3965,-185.1015\"/>\n<polygon fill=\"#000000\" stroke=\"#000000\" points=\"2810.0226,-181.9894 2799.6954,-179.623 2806.2929,-187.913 2810.0226,-181.9894\"/>\n</g>\n<!-- 57 -->\n<g id=\"node58\" class=\"node\">\n<title>57</title>\n<path fill=\"#f6d5bd\" stroke=\"#000000\" d=\"M3011,-187C3011,-187 2858,-187 2858,-187 2852,-187 2846,-181 2846,-175 2846,-175 2846,-116 2846,-116 2846,-110 2852,-104 2858,-104 2858,-104 3011,-104 3011,-104 3017,-104 3023,-110 3023,-116 3023,-116 3023,-175 3023,-175 3023,-181 3017,-187 3011,-187\"/>\n<text text-anchor=\"start\" x=\"2871.5\" y=\"-171.8\" font-family=\"Helvetica,sans-Serif\" font-size=\"14.00\" fill=\"#000000\">GRE Score ≤ 320.5</text>\n<text text-anchor=\"start\" x=\"2883.5\" y=\"-156.8\" font-family=\"Helvetica,sans-Serif\" font-size=\"14.00\" fill=\"#000000\">entropy = 0.971</text>\n<text text-anchor=\"start\" x=\"2890.5\" y=\"-141.8\" font-family=\"Helvetica,sans-Serif\" font-size=\"14.00\" fill=\"#000000\">samples = 20</text>\n<text text-anchor=\"start\" x=\"2881\" y=\"-126.8\" font-family=\"Helvetica,sans-Serif\" font-size=\"14.00\" fill=\"#000000\">value = [12, 0, 8]</text>\n<text text-anchor=\"start\" x=\"2854\" y=\"-111.8\" font-family=\"Helvetica,sans-Serif\" font-size=\"14.00\" fill=\"#000000\">class = Between 50&#45;75%</text>\n</g>\n<!-- 55&#45;&gt;57 -->\n<g id=\"edge57\" class=\"edge\">\n<title>55&#45;&gt;57</title>\n<path fill=\"none\" stroke=\"#000000\" d=\"M2934.5,-222.8796C2934.5,-214.6838 2934.5,-205.9891 2934.5,-197.5013\"/>\n<polygon fill=\"#000000\" stroke=\"#000000\" points=\"2938.0001,-197.298 2934.5,-187.2981 2931.0001,-197.2981 2938.0001,-197.298\"/>\n</g>\n<!-- 58 -->\n<g id=\"node59\" class=\"node\">\n<title>58</title>\n<path fill=\"#fae6d7\" stroke=\"#000000\" d=\"M3007,-68C3007,-68 2854,-68 2854,-68 2848,-68 2842,-62 2842,-56 2842,-56 2842,-12 2842,-12 2842,-6 2848,0 2854,0 2854,0 3007,0 3007,0 3013,0 3019,-6 3019,-12 3019,-12 3019,-56 3019,-56 3019,-62 3013,-68 3007,-68\"/>\n<text text-anchor=\"start\" x=\"2879.5\" y=\"-52.8\" font-family=\"Helvetica,sans-Serif\" font-size=\"14.00\" fill=\"#000000\">entropy = 0.991</text>\n<text text-anchor=\"start\" x=\"2886.5\" y=\"-37.8\" font-family=\"Helvetica,sans-Serif\" font-size=\"14.00\" fill=\"#000000\">samples = 18</text>\n<text text-anchor=\"start\" x=\"2877\" y=\"-22.8\" font-family=\"Helvetica,sans-Serif\" font-size=\"14.00\" fill=\"#000000\">value = [10, 0, 8]</text>\n<text text-anchor=\"start\" x=\"2850\" y=\"-7.8\" font-family=\"Helvetica,sans-Serif\" font-size=\"14.00\" fill=\"#000000\">class = Between 50&#45;75%</text>\n</g>\n<!-- 57&#45;&gt;58 -->\n<g id=\"edge58\" class=\"edge\">\n<title>57&#45;&gt;58</title>\n<path fill=\"none\" stroke=\"#000000\" d=\"M2933.0105,-103.9815C2932.7105,-95.618 2932.394,-86.7965 2932.0907,-78.3409\"/>\n<polygon fill=\"#000000\" stroke=\"#000000\" points=\"2935.5855,-78.1317 2931.7292,-68.2637 2928.59,-78.3828 2935.5855,-78.1317\"/>\n</g>\n<!-- 59 -->\n<g id=\"node60\" class=\"node\">\n<title>59</title>\n<path fill=\"#e58139\" stroke=\"#000000\" d=\"M3202,-68C3202,-68 3049,-68 3049,-68 3043,-68 3037,-62 3037,-56 3037,-56 3037,-12 3037,-12 3037,-6 3043,0 3049,0 3049,0 3202,0 3202,0 3208,0 3214,-6 3214,-12 3214,-12 3214,-56 3214,-56 3214,-62 3208,-68 3202,-68\"/>\n<text text-anchor=\"start\" x=\"3083\" y=\"-52.8\" font-family=\"Helvetica,sans-Serif\" font-size=\"14.00\" fill=\"#000000\">entropy = 0.0</text>\n<text text-anchor=\"start\" x=\"3086\" y=\"-37.8\" font-family=\"Helvetica,sans-Serif\" font-size=\"14.00\" fill=\"#000000\">samples = 2</text>\n<text text-anchor=\"start\" x=\"3076\" y=\"-22.8\" font-family=\"Helvetica,sans-Serif\" font-size=\"14.00\" fill=\"#000000\">value = [2, 0, 0]</text>\n<text text-anchor=\"start\" x=\"3045\" y=\"-7.8\" font-family=\"Helvetica,sans-Serif\" font-size=\"14.00\" fill=\"#000000\">class = Between 50&#45;75%</text>\n</g>\n<!-- 57&#45;&gt;59 -->\n<g id=\"edge59\" class=\"edge\">\n<title>57&#45;&gt;59</title>\n<path fill=\"none\" stroke=\"#000000\" d=\"M3005.6214,-103.9815C3022.8723,-93.911 3041.2605,-83.1764 3058.3227,-73.2161\"/>\n<polygon fill=\"#000000\" stroke=\"#000000\" points=\"3060.2396,-76.1499 3067.1112,-68.0856 3056.7105,-70.1045 3060.2396,-76.1499\"/>\n</g>\n<!-- 61 -->\n<g id=\"node62\" class=\"node\">\n<title>61</title>\n<path fill=\"#e58139\" stroke=\"#000000\" d=\"M3206,-179.5C3206,-179.5 3053,-179.5 3053,-179.5 3047,-179.5 3041,-173.5 3041,-167.5 3041,-167.5 3041,-123.5 3041,-123.5 3041,-117.5 3047,-111.5 3053,-111.5 3053,-111.5 3206,-111.5 3206,-111.5 3212,-111.5 3218,-117.5 3218,-123.5 3218,-123.5 3218,-167.5 3218,-167.5 3218,-173.5 3212,-179.5 3206,-179.5\"/>\n<text text-anchor=\"start\" x=\"3087\" y=\"-164.3\" font-family=\"Helvetica,sans-Serif\" font-size=\"14.00\" fill=\"#000000\">entropy = 0.0</text>\n<text text-anchor=\"start\" x=\"3090\" y=\"-149.3\" font-family=\"Helvetica,sans-Serif\" font-size=\"14.00\" fill=\"#000000\">samples = 7</text>\n<text text-anchor=\"start\" x=\"3080\" y=\"-134.3\" font-family=\"Helvetica,sans-Serif\" font-size=\"14.00\" fill=\"#000000\">value = [7, 0, 0]</text>\n<text text-anchor=\"start\" x=\"3049\" y=\"-119.3\" font-family=\"Helvetica,sans-Serif\" font-size=\"14.00\" fill=\"#000000\">class = Between 50&#45;75%</text>\n</g>\n<!-- 60&#45;&gt;61 -->\n<g id=\"edge61\" class=\"edge\">\n<title>60&#45;&gt;61</title>\n<path fill=\"none\" stroke=\"#000000\" d=\"M3129.5,-222.8796C3129.5,-212.2134 3129.5,-200.7021 3129.5,-189.9015\"/>\n<polygon fill=\"#000000\" stroke=\"#000000\" points=\"3133.0001,-189.8149 3129.5,-179.8149 3126.0001,-189.815 3133.0001,-189.8149\"/>\n</g>\n<!-- 62 -->\n<g id=\"node63\" class=\"node\">\n<title>62</title>\n<path fill=\"#8139e5\" stroke=\"#000000\" d=\"M3388.5,-179.5C3388.5,-179.5 3248.5,-179.5 3248.5,-179.5 3242.5,-179.5 3236.5,-173.5 3236.5,-167.5 3236.5,-167.5 3236.5,-123.5 3236.5,-123.5 3236.5,-117.5 3242.5,-111.5 3248.5,-111.5 3248.5,-111.5 3388.5,-111.5 3388.5,-111.5 3394.5,-111.5 3400.5,-117.5 3400.5,-123.5 3400.5,-123.5 3400.5,-167.5 3400.5,-167.5 3400.5,-173.5 3394.5,-179.5 3388.5,-179.5\"/>\n<text text-anchor=\"start\" x=\"3276\" y=\"-164.3\" font-family=\"Helvetica,sans-Serif\" font-size=\"14.00\" fill=\"#000000\">entropy = 0.0</text>\n<text text-anchor=\"start\" x=\"3279\" y=\"-149.3\" font-family=\"Helvetica,sans-Serif\" font-size=\"14.00\" fill=\"#000000\">samples = 1</text>\n<text text-anchor=\"start\" x=\"3269\" y=\"-134.3\" font-family=\"Helvetica,sans-Serif\" font-size=\"14.00\" fill=\"#000000\">value = [0, 0, 1]</text>\n<text text-anchor=\"start\" x=\"3244.5\" y=\"-119.3\" font-family=\"Helvetica,sans-Serif\" font-size=\"14.00\" fill=\"#000000\">class = More than 75%</text>\n</g>\n<!-- 60&#45;&gt;62 -->\n<g id=\"edge62\" class=\"edge\">\n<title>60&#45;&gt;62</title>\n<path fill=\"none\" stroke=\"#000000\" d=\"M3195.603,-222.8796C3215.0808,-210.6158 3236.3329,-197.2348 3255.6035,-185.1015\"/>\n<polygon fill=\"#000000\" stroke=\"#000000\" points=\"3257.7071,-187.913 3264.3046,-179.623 3253.9774,-181.9894 3257.7071,-187.913\"/>\n</g>\n<!-- 64 -->\n<g id=\"node65\" class=\"node\">\n<title>64</title>\n<path fill=\"#d0b5f5\" stroke=\"#000000\" d=\"M3388.5,-425C3388.5,-425 3248.5,-425 3248.5,-425 3242.5,-425 3236.5,-419 3236.5,-413 3236.5,-413 3236.5,-354 3236.5,-354 3236.5,-348 3242.5,-342 3248.5,-342 3248.5,-342 3388.5,-342 3388.5,-342 3394.5,-342 3400.5,-348 3400.5,-354 3400.5,-354 3400.5,-413 3400.5,-413 3400.5,-419 3394.5,-425 3388.5,-425\"/>\n<text text-anchor=\"start\" x=\"3272.5\" y=\"-409.8\" font-family=\"Helvetica,sans-Serif\" font-size=\"14.00\" fill=\"#000000\">CGPA ≤ 8.665</text>\n<text text-anchor=\"start\" x=\"3267.5\" y=\"-394.8\" font-family=\"Helvetica,sans-Serif\" font-size=\"14.00\" fill=\"#000000\">entropy = 0.961</text>\n<text text-anchor=\"start\" x=\"3274.5\" y=\"-379.8\" font-family=\"Helvetica,sans-Serif\" font-size=\"14.00\" fill=\"#000000\">samples = 13</text>\n<text text-anchor=\"start\" x=\"3269\" y=\"-364.8\" font-family=\"Helvetica,sans-Serif\" font-size=\"14.00\" fill=\"#000000\">value = [5, 0, 8]</text>\n<text text-anchor=\"start\" x=\"3244.5\" y=\"-349.8\" font-family=\"Helvetica,sans-Serif\" font-size=\"14.00\" fill=\"#000000\">class = More than 75%</text>\n</g>\n<!-- 63&#45;&gt;64 -->\n<g id=\"edge64\" class=\"edge\">\n<title>63&#45;&gt;64</title>\n<path fill=\"none\" stroke=\"#000000\" d=\"M3318.5,-460.8796C3318.5,-452.6838 3318.5,-443.9891 3318.5,-435.5013\"/>\n<polygon fill=\"#000000\" stroke=\"#000000\" points=\"3322.0001,-435.298 3318.5,-425.2981 3315.0001,-435.2981 3322.0001,-435.298\"/>\n</g>\n<!-- 73 -->\n<g id=\"node74\" class=\"node\">\n<title>73</title>\n<path fill=\"#8139e5\" stroke=\"#000000\" d=\"M3570.5,-417.5C3570.5,-417.5 3430.5,-417.5 3430.5,-417.5 3424.5,-417.5 3418.5,-411.5 3418.5,-405.5 3418.5,-405.5 3418.5,-361.5 3418.5,-361.5 3418.5,-355.5 3424.5,-349.5 3430.5,-349.5 3430.5,-349.5 3570.5,-349.5 3570.5,-349.5 3576.5,-349.5 3582.5,-355.5 3582.5,-361.5 3582.5,-361.5 3582.5,-405.5 3582.5,-405.5 3582.5,-411.5 3576.5,-417.5 3570.5,-417.5\"/>\n<text text-anchor=\"start\" x=\"3458\" y=\"-402.3\" font-family=\"Helvetica,sans-Serif\" font-size=\"14.00\" fill=\"#000000\">entropy = 0.0</text>\n<text text-anchor=\"start\" x=\"3461\" y=\"-387.3\" font-family=\"Helvetica,sans-Serif\" font-size=\"14.00\" fill=\"#000000\">samples = 6</text>\n<text text-anchor=\"start\" x=\"3451\" y=\"-372.3\" font-family=\"Helvetica,sans-Serif\" font-size=\"14.00\" fill=\"#000000\">value = [0, 0, 6]</text>\n<text text-anchor=\"start\" x=\"3426.5\" y=\"-357.3\" font-family=\"Helvetica,sans-Serif\" font-size=\"14.00\" fill=\"#000000\">class = More than 75%</text>\n</g>\n<!-- 63&#45;&gt;73 -->\n<g id=\"edge73\" class=\"edge\">\n<title>63&#45;&gt;73</title>\n<path fill=\"none\" stroke=\"#000000\" d=\"M3382.1548,-460.8796C3400.9111,-448.6158 3421.3761,-435.2348 3439.933,-423.1015\"/>\n<polygon fill=\"#000000\" stroke=\"#000000\" points=\"3441.8575,-426.025 3448.3118,-417.623 3438.0267,-420.1662 3441.8575,-426.025\"/>\n</g>\n<!-- 65 -->\n<g id=\"node66\" class=\"node\">\n<title>65</title>\n<path fill=\"#8139e5\" stroke=\"#000000\" d=\"M3388.5,-298.5C3388.5,-298.5 3248.5,-298.5 3248.5,-298.5 3242.5,-298.5 3236.5,-292.5 3236.5,-286.5 3236.5,-286.5 3236.5,-242.5 3236.5,-242.5 3236.5,-236.5 3242.5,-230.5 3248.5,-230.5 3248.5,-230.5 3388.5,-230.5 3388.5,-230.5 3394.5,-230.5 3400.5,-236.5 3400.5,-242.5 3400.5,-242.5 3400.5,-286.5 3400.5,-286.5 3400.5,-292.5 3394.5,-298.5 3388.5,-298.5\"/>\n<text text-anchor=\"start\" x=\"3276\" y=\"-283.3\" font-family=\"Helvetica,sans-Serif\" font-size=\"14.00\" fill=\"#000000\">entropy = 0.0</text>\n<text text-anchor=\"start\" x=\"3279\" y=\"-268.3\" font-family=\"Helvetica,sans-Serif\" font-size=\"14.00\" fill=\"#000000\">samples = 3</text>\n<text text-anchor=\"start\" x=\"3269\" y=\"-253.3\" font-family=\"Helvetica,sans-Serif\" font-size=\"14.00\" fill=\"#000000\">value = [0, 0, 3]</text>\n<text text-anchor=\"start\" x=\"3244.5\" y=\"-238.3\" font-family=\"Helvetica,sans-Serif\" font-size=\"14.00\" fill=\"#000000\">class = More than 75%</text>\n</g>\n<!-- 64&#45;&gt;65 -->\n<g id=\"edge65\" class=\"edge\">\n<title>64&#45;&gt;65</title>\n<path fill=\"none\" stroke=\"#000000\" d=\"M3318.5,-341.8796C3318.5,-331.2134 3318.5,-319.7021 3318.5,-308.9015\"/>\n<polygon fill=\"#000000\" stroke=\"#000000\" points=\"3322.0001,-308.8149 3318.5,-298.8149 3315.0001,-308.815 3322.0001,-308.8149\"/>\n</g>\n<!-- 66 -->\n<g id=\"node67\" class=\"node\">\n<title>66</title>\n<path fill=\"#ffffff\" stroke=\"#000000\" d=\"M3584,-306C3584,-306 3431,-306 3431,-306 3425,-306 3419,-300 3419,-294 3419,-294 3419,-235 3419,-235 3419,-229 3425,-223 3431,-223 3431,-223 3584,-223 3584,-223 3590,-223 3596,-229 3596,-235 3596,-235 3596,-294 3596,-294 3596,-300 3590,-306 3584,-306\"/>\n<text text-anchor=\"start\" x=\"3437\" y=\"-290.8\" font-family=\"Helvetica,sans-Serif\" font-size=\"14.00\" fill=\"#000000\">TOEFL Score ≤ 110.5</text>\n<text text-anchor=\"start\" x=\"3465\" y=\"-275.8\" font-family=\"Helvetica,sans-Serif\" font-size=\"14.00\" fill=\"#000000\">entropy = 1.0</text>\n<text text-anchor=\"start\" x=\"3463.5\" y=\"-260.8\" font-family=\"Helvetica,sans-Serif\" font-size=\"14.00\" fill=\"#000000\">samples = 10</text>\n<text text-anchor=\"start\" x=\"3458\" y=\"-245.8\" font-family=\"Helvetica,sans-Serif\" font-size=\"14.00\" fill=\"#000000\">value = [5, 0, 5]</text>\n<text text-anchor=\"start\" x=\"3427\" y=\"-230.8\" font-family=\"Helvetica,sans-Serif\" font-size=\"14.00\" fill=\"#000000\">class = Between 50&#45;75%</text>\n</g>\n<!-- 64&#45;&gt;66 -->\n<g id=\"edge66\" class=\"edge\">\n<title>64&#45;&gt;66</title>\n<path fill=\"none\" stroke=\"#000000\" d=\"M3384.603,-341.8796C3400.1413,-332.0962 3416.8088,-321.6019 3432.6987,-311.5971\"/>\n<polygon fill=\"#000000\" stroke=\"#000000\" points=\"3434.8368,-314.3869 3441.4343,-306.0969 3431.1071,-308.4633 3434.8368,-314.3869\"/>\n</g>\n<!-- 67 -->\n<g id=\"node68\" class=\"node\">\n<title>67</title>\n<path fill=\"#c09cf2\" stroke=\"#000000\" d=\"M3573.5,-187C3573.5,-187 3433.5,-187 3433.5,-187 3427.5,-187 3421.5,-181 3421.5,-175 3421.5,-175 3421.5,-116 3421.5,-116 3421.5,-110 3427.5,-104 3433.5,-104 3433.5,-104 3573.5,-104 3573.5,-104 3579.5,-104 3585.5,-110 3585.5,-116 3585.5,-116 3585.5,-175 3585.5,-175 3585.5,-181 3579.5,-187 3573.5,-187\"/>\n<text text-anchor=\"start\" x=\"3431\" y=\"-171.8\" font-family=\"Helvetica,sans-Serif\" font-size=\"14.00\" fill=\"#000000\">University Rating ≤ 3.5</text>\n<text text-anchor=\"start\" x=\"3452.5\" y=\"-156.8\" font-family=\"Helvetica,sans-Serif\" font-size=\"14.00\" fill=\"#000000\">entropy = 0.918</text>\n<text text-anchor=\"start\" x=\"3464\" y=\"-141.8\" font-family=\"Helvetica,sans-Serif\" font-size=\"14.00\" fill=\"#000000\">samples = 6</text>\n<text text-anchor=\"start\" x=\"3454\" y=\"-126.8\" font-family=\"Helvetica,sans-Serif\" font-size=\"14.00\" fill=\"#000000\">value = [2, 0, 4]</text>\n<text text-anchor=\"start\" x=\"3429.5\" y=\"-111.8\" font-family=\"Helvetica,sans-Serif\" font-size=\"14.00\" fill=\"#000000\">class = More than 75%</text>\n</g>\n<!-- 66&#45;&gt;67 -->\n<g id=\"edge67\" class=\"edge\">\n<title>66&#45;&gt;67</title>\n<path fill=\"none\" stroke=\"#000000\" d=\"M3506.101,-222.8796C3505.8255,-214.6838 3505.5332,-205.9891 3505.2479,-197.5013\"/>\n<polygon fill=\"#000000\" stroke=\"#000000\" points=\"3508.739,-197.1748 3504.905,-187.2981 3501.743,-197.41 3508.739,-197.1748\"/>\n</g>\n<!-- 70 -->\n<g id=\"node71\" class=\"node\">\n<title>70</title>\n<path fill=\"#eeab7b\" stroke=\"#000000\" d=\"M3775,-187C3775,-187 3622,-187 3622,-187 3616,-187 3610,-181 3610,-175 3610,-175 3610,-116 3610,-116 3610,-110 3616,-104 3622,-104 3622,-104 3775,-104 3775,-104 3781,-104 3787,-110 3787,-116 3787,-116 3787,-175 3787,-175 3787,-181 3781,-187 3775,-187\"/>\n<text text-anchor=\"start\" x=\"3626\" y=\"-171.8\" font-family=\"Helvetica,sans-Serif\" font-size=\"14.00\" fill=\"#000000\">University Rating ≤ 3.5</text>\n<text text-anchor=\"start\" x=\"3647.5\" y=\"-156.8\" font-family=\"Helvetica,sans-Serif\" font-size=\"14.00\" fill=\"#000000\">entropy = 0.811</text>\n<text text-anchor=\"start\" x=\"3659\" y=\"-141.8\" font-family=\"Helvetica,sans-Serif\" font-size=\"14.00\" fill=\"#000000\">samples = 4</text>\n<text text-anchor=\"start\" x=\"3649\" y=\"-126.8\" font-family=\"Helvetica,sans-Serif\" font-size=\"14.00\" fill=\"#000000\">value = [3, 0, 1]</text>\n<text text-anchor=\"start\" x=\"3618\" y=\"-111.8\" font-family=\"Helvetica,sans-Serif\" font-size=\"14.00\" fill=\"#000000\">class = Between 50&#45;75%</text>\n</g>\n<!-- 66&#45;&gt;70 -->\n<g id=\"edge70\" class=\"edge\">\n<title>66&#45;&gt;70</title>\n<path fill=\"none\" stroke=\"#000000\" d=\"M3574.3025,-222.8796C3590.0053,-213.0962 3606.8491,-202.6019 3622.9071,-192.5971\"/>\n<polygon fill=\"#000000\" stroke=\"#000000\" points=\"3625.0985,-195.3556 3631.7352,-187.0969 3621.3969,-189.4144 3625.0985,-195.3556\"/>\n</g>\n<!-- 68 -->\n<g id=\"node69\" class=\"node\">\n<title>68</title>\n<path fill=\"#8139e5\" stroke=\"#000000\" d=\"M3384.5,-68C3384.5,-68 3244.5,-68 3244.5,-68 3238.5,-68 3232.5,-62 3232.5,-56 3232.5,-56 3232.5,-12 3232.5,-12 3232.5,-6 3238.5,0 3244.5,0 3244.5,0 3384.5,0 3384.5,0 3390.5,0 3396.5,-6 3396.5,-12 3396.5,-12 3396.5,-56 3396.5,-56 3396.5,-62 3390.5,-68 3384.5,-68\"/>\n<text text-anchor=\"start\" x=\"3272\" y=\"-52.8\" font-family=\"Helvetica,sans-Serif\" font-size=\"14.00\" fill=\"#000000\">entropy = 0.0</text>\n<text text-anchor=\"start\" x=\"3275\" y=\"-37.8\" font-family=\"Helvetica,sans-Serif\" font-size=\"14.00\" fill=\"#000000\">samples = 4</text>\n<text text-anchor=\"start\" x=\"3265\" y=\"-22.8\" font-family=\"Helvetica,sans-Serif\" font-size=\"14.00\" fill=\"#000000\">value = [0, 0, 4]</text>\n<text text-anchor=\"start\" x=\"3240.5\" y=\"-7.8\" font-family=\"Helvetica,sans-Serif\" font-size=\"14.00\" fill=\"#000000\">class = More than 75%</text>\n</g>\n<!-- 67&#45;&gt;68 -->\n<g id=\"edge68\" class=\"edge\">\n<title>67&#45;&gt;68</title>\n<path fill=\"none\" stroke=\"#000000\" d=\"M3433.1234,-103.9815C3416.0531,-93.911 3397.8574,-83.1764 3380.9739,-73.2161\"/>\n<polygon fill=\"#000000\" stroke=\"#000000\" points=\"3382.6688,-70.1523 3372.2774,-68.0856 3379.1119,-76.1813 3382.6688,-70.1523\"/>\n</g>\n<!-- 69 -->\n<g id=\"node70\" class=\"node\">\n<title>69</title>\n<path fill=\"#e58139\" stroke=\"#000000\" d=\"M3580,-68C3580,-68 3427,-68 3427,-68 3421,-68 3415,-62 3415,-56 3415,-56 3415,-12 3415,-12 3415,-6 3421,0 3427,0 3427,0 3580,0 3580,0 3586,0 3592,-6 3592,-12 3592,-12 3592,-56 3592,-56 3592,-62 3586,-68 3580,-68\"/>\n<text text-anchor=\"start\" x=\"3461\" y=\"-52.8\" font-family=\"Helvetica,sans-Serif\" font-size=\"14.00\" fill=\"#000000\">entropy = 0.0</text>\n<text text-anchor=\"start\" x=\"3464\" y=\"-37.8\" font-family=\"Helvetica,sans-Serif\" font-size=\"14.00\" fill=\"#000000\">samples = 2</text>\n<text text-anchor=\"start\" x=\"3454\" y=\"-22.8\" font-family=\"Helvetica,sans-Serif\" font-size=\"14.00\" fill=\"#000000\">value = [2, 0, 0]</text>\n<text text-anchor=\"start\" x=\"3423\" y=\"-7.8\" font-family=\"Helvetica,sans-Serif\" font-size=\"14.00\" fill=\"#000000\">class = Between 50&#45;75%</text>\n</g>\n<!-- 67&#45;&gt;69 -->\n<g id=\"edge69\" class=\"edge\">\n<title>67&#45;&gt;69</title>\n<path fill=\"none\" stroke=\"#000000\" d=\"M3503.5,-103.9815C3503.5,-95.618 3503.5,-86.7965 3503.5,-78.3409\"/>\n<polygon fill=\"#000000\" stroke=\"#000000\" points=\"3507.0001,-78.2636 3503.5,-68.2637 3500.0001,-78.2637 3507.0001,-78.2636\"/>\n</g>\n<!-- 71 -->\n<g id=\"node72\" class=\"node\">\n<title>71</title>\n<path fill=\"#e58139\" stroke=\"#000000\" d=\"M3775,-68C3775,-68 3622,-68 3622,-68 3616,-68 3610,-62 3610,-56 3610,-56 3610,-12 3610,-12 3610,-6 3616,0 3622,0 3622,0 3775,0 3775,0 3781,0 3787,-6 3787,-12 3787,-12 3787,-56 3787,-56 3787,-62 3781,-68 3775,-68\"/>\n<text text-anchor=\"start\" x=\"3656\" y=\"-52.8\" font-family=\"Helvetica,sans-Serif\" font-size=\"14.00\" fill=\"#000000\">entropy = 0.0</text>\n<text text-anchor=\"start\" x=\"3659\" y=\"-37.8\" font-family=\"Helvetica,sans-Serif\" font-size=\"14.00\" fill=\"#000000\">samples = 3</text>\n<text text-anchor=\"start\" x=\"3649\" y=\"-22.8\" font-family=\"Helvetica,sans-Serif\" font-size=\"14.00\" fill=\"#000000\">value = [3, 0, 0]</text>\n<text text-anchor=\"start\" x=\"3618\" y=\"-7.8\" font-family=\"Helvetica,sans-Serif\" font-size=\"14.00\" fill=\"#000000\">class = Between 50&#45;75%</text>\n</g>\n<!-- 70&#45;&gt;71 -->\n<g id=\"edge71\" class=\"edge\">\n<title>70&#45;&gt;71</title>\n<path fill=\"none\" stroke=\"#000000\" d=\"M3698.5,-103.9815C3698.5,-95.618 3698.5,-86.7965 3698.5,-78.3409\"/>\n<polygon fill=\"#000000\" stroke=\"#000000\" points=\"3702.0001,-78.2636 3698.5,-68.2637 3695.0001,-78.2637 3702.0001,-78.2636\"/>\n</g>\n<!-- 72 -->\n<g id=\"node73\" class=\"node\">\n<title>72</title>\n<path fill=\"#8139e5\" stroke=\"#000000\" d=\"M3957.5,-68C3957.5,-68 3817.5,-68 3817.5,-68 3811.5,-68 3805.5,-62 3805.5,-56 3805.5,-56 3805.5,-12 3805.5,-12 3805.5,-6 3811.5,0 3817.5,0 3817.5,0 3957.5,0 3957.5,0 3963.5,0 3969.5,-6 3969.5,-12 3969.5,-12 3969.5,-56 3969.5,-56 3969.5,-62 3963.5,-68 3957.5,-68\"/>\n<text text-anchor=\"start\" x=\"3845\" y=\"-52.8\" font-family=\"Helvetica,sans-Serif\" font-size=\"14.00\" fill=\"#000000\">entropy = 0.0</text>\n<text text-anchor=\"start\" x=\"3848\" y=\"-37.8\" font-family=\"Helvetica,sans-Serif\" font-size=\"14.00\" fill=\"#000000\">samples = 1</text>\n<text text-anchor=\"start\" x=\"3838\" y=\"-22.8\" font-family=\"Helvetica,sans-Serif\" font-size=\"14.00\" fill=\"#000000\">value = [0, 0, 1]</text>\n<text text-anchor=\"start\" x=\"3813.5\" y=\"-7.8\" font-family=\"Helvetica,sans-Serif\" font-size=\"14.00\" fill=\"#000000\">class = More than 75%</text>\n</g>\n<!-- 70&#45;&gt;72 -->\n<g id=\"edge72\" class=\"edge\">\n<title>70&#45;&gt;72</title>\n<path fill=\"none\" stroke=\"#000000\" d=\"M3768.8766,-103.9815C3785.9469,-93.911 3804.1426,-83.1764 3821.0261,-73.2161\"/>\n<polygon fill=\"#000000\" stroke=\"#000000\" points=\"3822.8881,-76.1813 3829.7226,-68.0856 3819.3312,-70.1523 3822.8881,-76.1813\"/>\n</g>\n<!-- 75 -->\n<g id=\"node76\" class=\"node\">\n<title>75</title>\n<path fill=\"#9b62ea\" stroke=\"#000000\" d=\"M3854.5,-544C3854.5,-544 3714.5,-544 3714.5,-544 3708.5,-544 3702.5,-538 3702.5,-532 3702.5,-532 3702.5,-473 3702.5,-473 3702.5,-467 3708.5,-461 3714.5,-461 3714.5,-461 3854.5,-461 3854.5,-461 3860.5,-461 3866.5,-467 3866.5,-473 3866.5,-473 3866.5,-532 3866.5,-532 3866.5,-538 3860.5,-544 3854.5,-544\"/>\n<text text-anchor=\"start\" x=\"3745.5\" y=\"-528.8\" font-family=\"Helvetica,sans-Serif\" font-size=\"14.00\" fill=\"#000000\">LOR &#160;≤ 2.75</text>\n<text text-anchor=\"start\" x=\"3733.5\" y=\"-513.8\" font-family=\"Helvetica,sans-Serif\" font-size=\"14.00\" fill=\"#000000\">entropy = 0.663</text>\n<text text-anchor=\"start\" x=\"3740.5\" y=\"-498.8\" font-family=\"Helvetica,sans-Serif\" font-size=\"14.00\" fill=\"#000000\">samples = 29</text>\n<text text-anchor=\"start\" x=\"3731\" y=\"-483.8\" font-family=\"Helvetica,sans-Serif\" font-size=\"14.00\" fill=\"#000000\">value = [5, 0, 24]</text>\n<text text-anchor=\"start\" x=\"3710.5\" y=\"-468.8\" font-family=\"Helvetica,sans-Serif\" font-size=\"14.00\" fill=\"#000000\">class = More than 75%</text>\n</g>\n<!-- 74&#45;&gt;75 -->\n<g id=\"edge75\" class=\"edge\">\n<title>74&#45;&gt;75</title>\n<path fill=\"none\" stroke=\"#000000\" d=\"M3784.5,-579.8796C3784.5,-571.6838 3784.5,-562.9891 3784.5,-554.5013\"/>\n<polygon fill=\"#000000\" stroke=\"#000000\" points=\"3788.0001,-554.298 3784.5,-544.2981 3781.0001,-554.2981 3788.0001,-554.298\"/>\n</g>\n<!-- 88 -->\n<g id=\"node89\" class=\"node\">\n<title>88</title>\n<path fill=\"#8139e5\" stroke=\"#000000\" d=\"M4036.5,-536.5C4036.5,-536.5 3896.5,-536.5 3896.5,-536.5 3890.5,-536.5 3884.5,-530.5 3884.5,-524.5 3884.5,-524.5 3884.5,-480.5 3884.5,-480.5 3884.5,-474.5 3890.5,-468.5 3896.5,-468.5 3896.5,-468.5 4036.5,-468.5 4036.5,-468.5 4042.5,-468.5 4048.5,-474.5 4048.5,-480.5 4048.5,-480.5 4048.5,-524.5 4048.5,-524.5 4048.5,-530.5 4042.5,-536.5 4036.5,-536.5\"/>\n<text text-anchor=\"start\" x=\"3924\" y=\"-521.3\" font-family=\"Helvetica,sans-Serif\" font-size=\"14.00\" fill=\"#000000\">entropy = 0.0</text>\n<text text-anchor=\"start\" x=\"3918.5\" y=\"-506.3\" font-family=\"Helvetica,sans-Serif\" font-size=\"14.00\" fill=\"#000000\">samples = 103</text>\n<text text-anchor=\"start\" x=\"3909\" y=\"-491.3\" font-family=\"Helvetica,sans-Serif\" font-size=\"14.00\" fill=\"#000000\">value = [0, 0, 103]</text>\n<text text-anchor=\"start\" x=\"3892.5\" y=\"-476.3\" font-family=\"Helvetica,sans-Serif\" font-size=\"14.00\" fill=\"#000000\">class = More than 75%</text>\n</g>\n<!-- 74&#45;&gt;88 -->\n<g id=\"edge88\" class=\"edge\">\n<title>74&#45;&gt;88</title>\n<path fill=\"none\" stroke=\"#000000\" d=\"M3848.1548,-579.8796C3866.9111,-567.6158 3887.3761,-554.2348 3905.933,-542.1015\"/>\n<polygon fill=\"#000000\" stroke=\"#000000\" points=\"3907.8575,-545.025 3914.3118,-536.623 3904.0267,-539.1662 3907.8575,-545.025\"/>\n</g>\n<!-- 76 -->\n<g id=\"node77\" class=\"node\">\n<title>76</title>\n<path fill=\"#e58139\" stroke=\"#000000\" d=\"M3861,-417.5C3861,-417.5 3708,-417.5 3708,-417.5 3702,-417.5 3696,-411.5 3696,-405.5 3696,-405.5 3696,-361.5 3696,-361.5 3696,-355.5 3702,-349.5 3708,-349.5 3708,-349.5 3861,-349.5 3861,-349.5 3867,-349.5 3873,-355.5 3873,-361.5 3873,-361.5 3873,-405.5 3873,-405.5 3873,-411.5 3867,-417.5 3861,-417.5\"/>\n<text text-anchor=\"start\" x=\"3742\" y=\"-402.3\" font-family=\"Helvetica,sans-Serif\" font-size=\"14.00\" fill=\"#000000\">entropy = 0.0</text>\n<text text-anchor=\"start\" x=\"3745\" y=\"-387.3\" font-family=\"Helvetica,sans-Serif\" font-size=\"14.00\" fill=\"#000000\">samples = 1</text>\n<text text-anchor=\"start\" x=\"3735\" y=\"-372.3\" font-family=\"Helvetica,sans-Serif\" font-size=\"14.00\" fill=\"#000000\">value = [1, 0, 0]</text>\n<text text-anchor=\"start\" x=\"3704\" y=\"-357.3\" font-family=\"Helvetica,sans-Serif\" font-size=\"14.00\" fill=\"#000000\">class = Between 50&#45;75%</text>\n</g>\n<!-- 75&#45;&gt;76 -->\n<g id=\"edge76\" class=\"edge\">\n<title>75&#45;&gt;76</title>\n<path fill=\"none\" stroke=\"#000000\" d=\"M3784.5,-460.8796C3784.5,-450.2134 3784.5,-438.7021 3784.5,-427.9015\"/>\n<polygon fill=\"#000000\" stroke=\"#000000\" points=\"3788.0001,-427.8149 3784.5,-417.8149 3781.0001,-427.815 3788.0001,-427.8149\"/>\n</g>\n<!-- 77 -->\n<g id=\"node78\" class=\"node\">\n<title>77</title>\n<path fill=\"#965ae9\" stroke=\"#000000\" d=\"M4233.5,-425C4233.5,-425 4093.5,-425 4093.5,-425 4087.5,-425 4081.5,-419 4081.5,-413 4081.5,-413 4081.5,-354 4081.5,-354 4081.5,-348 4087.5,-342 4093.5,-342 4093.5,-342 4233.5,-342 4233.5,-342 4239.5,-342 4245.5,-348 4245.5,-354 4245.5,-354 4245.5,-413 4245.5,-413 4245.5,-419 4239.5,-425 4233.5,-425\"/>\n<text text-anchor=\"start\" x=\"4100.5\" y=\"-409.8\" font-family=\"Helvetica,sans-Serif\" font-size=\"14.00\" fill=\"#000000\">GRE Score ≤ 318.5</text>\n<text text-anchor=\"start\" x=\"4112.5\" y=\"-394.8\" font-family=\"Helvetica,sans-Serif\" font-size=\"14.00\" fill=\"#000000\">entropy = 0.592</text>\n<text text-anchor=\"start\" x=\"4119.5\" y=\"-379.8\" font-family=\"Helvetica,sans-Serif\" font-size=\"14.00\" fill=\"#000000\">samples = 28</text>\n<text text-anchor=\"start\" x=\"4110\" y=\"-364.8\" font-family=\"Helvetica,sans-Serif\" font-size=\"14.00\" fill=\"#000000\">value = [4, 0, 24]</text>\n<text text-anchor=\"start\" x=\"4089.5\" y=\"-349.8\" font-family=\"Helvetica,sans-Serif\" font-size=\"14.00\" fill=\"#000000\">class = More than 75%</text>\n</g>\n<!-- 75&#45;&gt;77 -->\n<g id=\"edge77\" class=\"edge\">\n<title>75&#45;&gt;77</title>\n<path fill=\"none\" stroke=\"#000000\" d=\"M3866.5878,-464.3303C3869.5818,-463.1726 3872.5591,-462.0581 3875.5,-461 3939.8643,-437.8424 4014.4939,-417.9471 4071.6537,-404.114\"/>\n<polygon fill=\"#000000\" stroke=\"#000000\" points=\"4072.4873,-407.5134 4081.3933,-401.7747 4070.8524,-400.707 4072.4873,-407.5134\"/>\n</g>\n<!-- 78 -->\n<g id=\"node79\" class=\"node\">\n<title>78</title>\n<path fill=\"#c09cf2\" stroke=\"#000000\" d=\"M4233.5,-306C4233.5,-306 4093.5,-306 4093.5,-306 4087.5,-306 4081.5,-300 4081.5,-294 4081.5,-294 4081.5,-235 4081.5,-235 4081.5,-229 4087.5,-223 4093.5,-223 4093.5,-223 4233.5,-223 4233.5,-223 4239.5,-223 4245.5,-229 4245.5,-235 4245.5,-235 4245.5,-294 4245.5,-294 4245.5,-300 4239.5,-306 4233.5,-306\"/>\n<text text-anchor=\"start\" x=\"4117.5\" y=\"-290.8\" font-family=\"Helvetica,sans-Serif\" font-size=\"14.00\" fill=\"#000000\">CGPA ≤ 9.175</text>\n<text text-anchor=\"start\" x=\"4112.5\" y=\"-275.8\" font-family=\"Helvetica,sans-Serif\" font-size=\"14.00\" fill=\"#000000\">entropy = 0.918</text>\n<text text-anchor=\"start\" x=\"4124\" y=\"-260.8\" font-family=\"Helvetica,sans-Serif\" font-size=\"14.00\" fill=\"#000000\">samples = 6</text>\n<text text-anchor=\"start\" x=\"4114\" y=\"-245.8\" font-family=\"Helvetica,sans-Serif\" font-size=\"14.00\" fill=\"#000000\">value = [2, 0, 4]</text>\n<text text-anchor=\"start\" x=\"4089.5\" y=\"-230.8\" font-family=\"Helvetica,sans-Serif\" font-size=\"14.00\" fill=\"#000000\">class = More than 75%</text>\n</g>\n<!-- 77&#45;&gt;78 -->\n<g id=\"edge78\" class=\"edge\">\n<title>77&#45;&gt;78</title>\n<path fill=\"none\" stroke=\"#000000\" d=\"M4163.5,-341.8796C4163.5,-333.6838 4163.5,-324.9891 4163.5,-316.5013\"/>\n<polygon fill=\"#000000\" stroke=\"#000000\" points=\"4167.0001,-316.298 4163.5,-306.2981 4160.0001,-316.2981 4167.0001,-316.298\"/>\n</g>\n<!-- 83 -->\n<g id=\"node84\" class=\"node\">\n<title>83</title>\n<path fill=\"#8e4de8\" stroke=\"#000000\" d=\"M4517.5,-306C4517.5,-306 4377.5,-306 4377.5,-306 4371.5,-306 4365.5,-300 4365.5,-294 4365.5,-294 4365.5,-235 4365.5,-235 4365.5,-229 4371.5,-223 4377.5,-223 4377.5,-223 4517.5,-223 4517.5,-223 4523.5,-223 4529.5,-229 4529.5,-235 4529.5,-235 4529.5,-294 4529.5,-294 4529.5,-300 4523.5,-306 4517.5,-306\"/>\n<text text-anchor=\"start\" x=\"4384.5\" y=\"-290.8\" font-family=\"Helvetica,sans-Serif\" font-size=\"14.00\" fill=\"#000000\">GRE Score ≤ 325.5</text>\n<text text-anchor=\"start\" x=\"4396.5\" y=\"-275.8\" font-family=\"Helvetica,sans-Serif\" font-size=\"14.00\" fill=\"#000000\">entropy = 0.439</text>\n<text text-anchor=\"start\" x=\"4403.5\" y=\"-260.8\" font-family=\"Helvetica,sans-Serif\" font-size=\"14.00\" fill=\"#000000\">samples = 22</text>\n<text text-anchor=\"start\" x=\"4394\" y=\"-245.8\" font-family=\"Helvetica,sans-Serif\" font-size=\"14.00\" fill=\"#000000\">value = [2, 0, 20]</text>\n<text text-anchor=\"start\" x=\"4373.5\" y=\"-230.8\" font-family=\"Helvetica,sans-Serif\" font-size=\"14.00\" fill=\"#000000\">class = More than 75%</text>\n</g>\n<!-- 77&#45;&gt;83 -->\n<g id=\"edge83\" class=\"edge\">\n<title>77&#45;&gt;83</title>\n<path fill=\"none\" stroke=\"#000000\" d=\"M4245.6446,-349.0803C4280.082,-334.6505 4320.2684,-317.8118 4355.6777,-302.9748\"/>\n<polygon fill=\"#000000\" stroke=\"#000000\" points=\"4357.178,-306.1411 4365.0485,-299.0483 4354.4728,-299.6849 4357.178,-306.1411\"/>\n</g>\n<!-- 79 -->\n<g id=\"node80\" class=\"node\">\n<title>79</title>\n<path fill=\"#a06aec\" stroke=\"#000000\" d=\"M4139.5,-187C4139.5,-187 3999.5,-187 3999.5,-187 3993.5,-187 3987.5,-181 3987.5,-175 3987.5,-175 3987.5,-116 3987.5,-116 3987.5,-110 3993.5,-104 3999.5,-104 3999.5,-104 4139.5,-104 4139.5,-104 4145.5,-104 4151.5,-110 4151.5,-116 4151.5,-116 4151.5,-175 4151.5,-175 4151.5,-181 4145.5,-187 4139.5,-187\"/>\n<text text-anchor=\"start\" x=\"4030.5\" y=\"-171.8\" font-family=\"Helvetica,sans-Serif\" font-size=\"14.00\" fill=\"#000000\">LOR &#160;≤ 4.75</text>\n<text text-anchor=\"start\" x=\"4018.5\" y=\"-156.8\" font-family=\"Helvetica,sans-Serif\" font-size=\"14.00\" fill=\"#000000\">entropy = 0.722</text>\n<text text-anchor=\"start\" x=\"4030\" y=\"-141.8\" font-family=\"Helvetica,sans-Serif\" font-size=\"14.00\" fill=\"#000000\">samples = 5</text>\n<text text-anchor=\"start\" x=\"4020\" y=\"-126.8\" font-family=\"Helvetica,sans-Serif\" font-size=\"14.00\" fill=\"#000000\">value = [1, 0, 4]</text>\n<text text-anchor=\"start\" x=\"3995.5\" y=\"-111.8\" font-family=\"Helvetica,sans-Serif\" font-size=\"14.00\" fill=\"#000000\">class = More than 75%</text>\n</g>\n<!-- 78&#45;&gt;79 -->\n<g id=\"edge79\" class=\"edge\">\n<title>78&#45;&gt;79</title>\n<path fill=\"none\" stroke=\"#000000\" d=\"M4130.6234,-222.8796C4123.5803,-213.9633 4116.0707,-204.4565 4108.8126,-195.268\"/>\n<polygon fill=\"#000000\" stroke=\"#000000\" points=\"4111.4621,-192.9757 4102.517,-187.2981 4105.9691,-197.3147 4111.4621,-192.9757\"/>\n</g>\n<!-- 82 -->\n<g id=\"node83\" class=\"node\">\n<title>82</title>\n<path fill=\"#e58139\" stroke=\"#000000\" d=\"M4335,-179.5C4335,-179.5 4182,-179.5 4182,-179.5 4176,-179.5 4170,-173.5 4170,-167.5 4170,-167.5 4170,-123.5 4170,-123.5 4170,-117.5 4176,-111.5 4182,-111.5 4182,-111.5 4335,-111.5 4335,-111.5 4341,-111.5 4347,-117.5 4347,-123.5 4347,-123.5 4347,-167.5 4347,-167.5 4347,-173.5 4341,-179.5 4335,-179.5\"/>\n<text text-anchor=\"start\" x=\"4216\" y=\"-164.3\" font-family=\"Helvetica,sans-Serif\" font-size=\"14.00\" fill=\"#000000\">entropy = 0.0</text>\n<text text-anchor=\"start\" x=\"4219\" y=\"-149.3\" font-family=\"Helvetica,sans-Serif\" font-size=\"14.00\" fill=\"#000000\">samples = 1</text>\n<text text-anchor=\"start\" x=\"4209\" y=\"-134.3\" font-family=\"Helvetica,sans-Serif\" font-size=\"14.00\" fill=\"#000000\">value = [1, 0, 0]</text>\n<text text-anchor=\"start\" x=\"4178\" y=\"-119.3\" font-family=\"Helvetica,sans-Serif\" font-size=\"14.00\" fill=\"#000000\">class = Between 50&#45;75%</text>\n</g>\n<!-- 78&#45;&gt;82 -->\n<g id=\"edge82\" class=\"edge\">\n<title>78&#45;&gt;82</title>\n<path fill=\"none\" stroke=\"#000000\" d=\"M4196.7264,-222.8796C4205.7681,-211.5536 4215.5705,-199.2748 4224.6466,-187.9058\"/>\n<polygon fill=\"#000000\" stroke=\"#000000\" points=\"4227.602,-189.8137 4231.1057,-179.8149 4222.1315,-185.4464 4227.602,-189.8137\"/>\n</g>\n<!-- 80 -->\n<g id=\"node81\" class=\"node\">\n<title>80</title>\n<path fill=\"#8139e5\" stroke=\"#000000\" d=\"M4139.5,-68C4139.5,-68 3999.5,-68 3999.5,-68 3993.5,-68 3987.5,-62 3987.5,-56 3987.5,-56 3987.5,-12 3987.5,-12 3987.5,-6 3993.5,0 3999.5,0 3999.5,0 4139.5,0 4139.5,0 4145.5,0 4151.5,-6 4151.5,-12 4151.5,-12 4151.5,-56 4151.5,-56 4151.5,-62 4145.5,-68 4139.5,-68\"/>\n<text text-anchor=\"start\" x=\"4027\" y=\"-52.8\" font-family=\"Helvetica,sans-Serif\" font-size=\"14.00\" fill=\"#000000\">entropy = 0.0</text>\n<text text-anchor=\"start\" x=\"4030\" y=\"-37.8\" font-family=\"Helvetica,sans-Serif\" font-size=\"14.00\" fill=\"#000000\">samples = 4</text>\n<text text-anchor=\"start\" x=\"4020\" y=\"-22.8\" font-family=\"Helvetica,sans-Serif\" font-size=\"14.00\" fill=\"#000000\">value = [0, 0, 4]</text>\n<text text-anchor=\"start\" x=\"3995.5\" y=\"-7.8\" font-family=\"Helvetica,sans-Serif\" font-size=\"14.00\" fill=\"#000000\">class = More than 75%</text>\n</g>\n<!-- 79&#45;&gt;80 -->\n<g id=\"edge80\" class=\"edge\">\n<title>79&#45;&gt;80</title>\n<path fill=\"none\" stroke=\"#000000\" d=\"M4069.5,-103.9815C4069.5,-95.618 4069.5,-86.7965 4069.5,-78.3409\"/>\n<polygon fill=\"#000000\" stroke=\"#000000\" points=\"4073.0001,-78.2636 4069.5,-68.2637 4066.0001,-78.2637 4073.0001,-78.2636\"/>\n</g>\n<!-- 81 -->\n<g id=\"node82\" class=\"node\">\n<title>81</title>\n<path fill=\"#e58139\" stroke=\"#000000\" d=\"M4335,-68C4335,-68 4182,-68 4182,-68 4176,-68 4170,-62 4170,-56 4170,-56 4170,-12 4170,-12 4170,-6 4176,0 4182,0 4182,0 4335,0 4335,0 4341,0 4347,-6 4347,-12 4347,-12 4347,-56 4347,-56 4347,-62 4341,-68 4335,-68\"/>\n<text text-anchor=\"start\" x=\"4216\" y=\"-52.8\" font-family=\"Helvetica,sans-Serif\" font-size=\"14.00\" fill=\"#000000\">entropy = 0.0</text>\n<text text-anchor=\"start\" x=\"4219\" y=\"-37.8\" font-family=\"Helvetica,sans-Serif\" font-size=\"14.00\" fill=\"#000000\">samples = 1</text>\n<text text-anchor=\"start\" x=\"4209\" y=\"-22.8\" font-family=\"Helvetica,sans-Serif\" font-size=\"14.00\" fill=\"#000000\">value = [1, 0, 0]</text>\n<text text-anchor=\"start\" x=\"4178\" y=\"-7.8\" font-family=\"Helvetica,sans-Serif\" font-size=\"14.00\" fill=\"#000000\">class = Between 50&#45;75%</text>\n</g>\n<!-- 79&#45;&gt;81 -->\n<g id=\"edge81\" class=\"edge\">\n<title>79&#45;&gt;81</title>\n<path fill=\"none\" stroke=\"#000000\" d=\"M4139.8766,-103.9815C4156.9469,-93.911 4175.1426,-83.1764 4192.0261,-73.2161\"/>\n<polygon fill=\"#000000\" stroke=\"#000000\" points=\"4193.8881,-76.1813 4200.7226,-68.0856 4190.3312,-70.1523 4193.8881,-76.1813\"/>\n</g>\n<!-- 84 -->\n<g id=\"node85\" class=\"node\">\n<title>84</title>\n<path fill=\"#8139e5\" stroke=\"#000000\" d=\"M4517.5,-179.5C4517.5,-179.5 4377.5,-179.5 4377.5,-179.5 4371.5,-179.5 4365.5,-173.5 4365.5,-167.5 4365.5,-167.5 4365.5,-123.5 4365.5,-123.5 4365.5,-117.5 4371.5,-111.5 4377.5,-111.5 4377.5,-111.5 4517.5,-111.5 4517.5,-111.5 4523.5,-111.5 4529.5,-117.5 4529.5,-123.5 4529.5,-123.5 4529.5,-167.5 4529.5,-167.5 4529.5,-173.5 4523.5,-179.5 4517.5,-179.5\"/>\n<text text-anchor=\"start\" x=\"4405\" y=\"-164.3\" font-family=\"Helvetica,sans-Serif\" font-size=\"14.00\" fill=\"#000000\">entropy = 0.0</text>\n<text text-anchor=\"start\" x=\"4403.5\" y=\"-149.3\" font-family=\"Helvetica,sans-Serif\" font-size=\"14.00\" fill=\"#000000\">samples = 16</text>\n<text text-anchor=\"start\" x=\"4394\" y=\"-134.3\" font-family=\"Helvetica,sans-Serif\" font-size=\"14.00\" fill=\"#000000\">value = [0, 0, 16]</text>\n<text text-anchor=\"start\" x=\"4373.5\" y=\"-119.3\" font-family=\"Helvetica,sans-Serif\" font-size=\"14.00\" fill=\"#000000\">class = More than 75%</text>\n</g>\n<!-- 83&#45;&gt;84 -->\n<g id=\"edge84\" class=\"edge\">\n<title>83&#45;&gt;84</title>\n<path fill=\"none\" stroke=\"#000000\" d=\"M4447.5,-222.8796C4447.5,-212.2134 4447.5,-200.7021 4447.5,-189.9015\"/>\n<polygon fill=\"#000000\" stroke=\"#000000\" points=\"4451.0001,-189.8149 4447.5,-179.8149 4444.0001,-189.815 4451.0001,-189.8149\"/>\n</g>\n<!-- 85 -->\n<g id=\"node86\" class=\"node\">\n<title>85</title>\n<path fill=\"#c09cf2\" stroke=\"#000000\" d=\"M4699.5,-187C4699.5,-187 4559.5,-187 4559.5,-187 4553.5,-187 4547.5,-181 4547.5,-175 4547.5,-175 4547.5,-116 4547.5,-116 4547.5,-110 4553.5,-104 4559.5,-104 4559.5,-104 4699.5,-104 4699.5,-104 4705.5,-104 4711.5,-110 4711.5,-116 4711.5,-116 4711.5,-175 4711.5,-175 4711.5,-181 4705.5,-187 4699.5,-187\"/>\n<text text-anchor=\"start\" x=\"4583.5\" y=\"-171.8\" font-family=\"Helvetica,sans-Serif\" font-size=\"14.00\" fill=\"#000000\">CGPA ≤ 9.075</text>\n<text text-anchor=\"start\" x=\"4578.5\" y=\"-156.8\" font-family=\"Helvetica,sans-Serif\" font-size=\"14.00\" fill=\"#000000\">entropy = 0.918</text>\n<text text-anchor=\"start\" x=\"4590\" y=\"-141.8\" font-family=\"Helvetica,sans-Serif\" font-size=\"14.00\" fill=\"#000000\">samples = 6</text>\n<text text-anchor=\"start\" x=\"4580\" y=\"-126.8\" font-family=\"Helvetica,sans-Serif\" font-size=\"14.00\" fill=\"#000000\">value = [2, 0, 4]</text>\n<text text-anchor=\"start\" x=\"4555.5\" y=\"-111.8\" font-family=\"Helvetica,sans-Serif\" font-size=\"14.00\" fill=\"#000000\">class = More than 75%</text>\n</g>\n<!-- 83&#45;&gt;85 -->\n<g id=\"edge85\" class=\"edge\">\n<title>83&#45;&gt;85</title>\n<path fill=\"none\" stroke=\"#000000\" d=\"M4511.1548,-222.8796C4526.1176,-213.0962 4542.1677,-202.6019 4557.4691,-192.5971\"/>\n<polygon fill=\"#000000\" stroke=\"#000000\" points=\"4559.4269,-195.4989 4565.8812,-187.0969 4555.5961,-189.6401 4559.4269,-195.4989\"/>\n</g>\n<!-- 86 -->\n<g id=\"node87\" class=\"node\">\n<title>86</title>\n<path fill=\"#f2c09c\" stroke=\"#000000\" d=\"M4618,-68C4618,-68 4465,-68 4465,-68 4459,-68 4453,-62 4453,-56 4453,-56 4453,-12 4453,-12 4453,-6 4459,0 4465,0 4465,0 4618,0 4618,0 4624,0 4630,-6 4630,-12 4630,-12 4630,-56 4630,-56 4630,-62 4624,-68 4618,-68\"/>\n<text text-anchor=\"start\" x=\"4490.5\" y=\"-52.8\" font-family=\"Helvetica,sans-Serif\" font-size=\"14.00\" fill=\"#000000\">entropy = 0.918</text>\n<text text-anchor=\"start\" x=\"4502\" y=\"-37.8\" font-family=\"Helvetica,sans-Serif\" font-size=\"14.00\" fill=\"#000000\">samples = 3</text>\n<text text-anchor=\"start\" x=\"4492\" y=\"-22.8\" font-family=\"Helvetica,sans-Serif\" font-size=\"14.00\" fill=\"#000000\">value = [2, 0, 1]</text>\n<text text-anchor=\"start\" x=\"4461\" y=\"-7.8\" font-family=\"Helvetica,sans-Serif\" font-size=\"14.00\" fill=\"#000000\">class = Between 50&#45;75%</text>\n</g>\n<!-- 85&#45;&gt;86 -->\n<g id=\"edge86\" class=\"edge\">\n<title>85&#45;&gt;86</title>\n<path fill=\"none\" stroke=\"#000000\" d=\"M4596.732,-103.9815C4589.551,-94.8828 4581.9421,-85.242 4574.7426,-76.1199\"/>\n<polygon fill=\"#000000\" stroke=\"#000000\" points=\"4577.4849,-73.9451 4568.5422,-68.2637 4571.9901,-78.2818 4577.4849,-73.9451\"/>\n</g>\n<!-- 87 -->\n<g id=\"node88\" class=\"node\">\n<title>87</title>\n<path fill=\"#8139e5\" stroke=\"#000000\" d=\"M4800.5,-68C4800.5,-68 4660.5,-68 4660.5,-68 4654.5,-68 4648.5,-62 4648.5,-56 4648.5,-56 4648.5,-12 4648.5,-12 4648.5,-6 4654.5,0 4660.5,0 4660.5,0 4800.5,0 4800.5,0 4806.5,0 4812.5,-6 4812.5,-12 4812.5,-12 4812.5,-56 4812.5,-56 4812.5,-62 4806.5,-68 4800.5,-68\"/>\n<text text-anchor=\"start\" x=\"4688\" y=\"-52.8\" font-family=\"Helvetica,sans-Serif\" font-size=\"14.00\" fill=\"#000000\">entropy = 0.0</text>\n<text text-anchor=\"start\" x=\"4691\" y=\"-37.8\" font-family=\"Helvetica,sans-Serif\" font-size=\"14.00\" fill=\"#000000\">samples = 3</text>\n<text text-anchor=\"start\" x=\"4681\" y=\"-22.8\" font-family=\"Helvetica,sans-Serif\" font-size=\"14.00\" fill=\"#000000\">value = [0, 0, 3]</text>\n<text text-anchor=\"start\" x=\"4656.5\" y=\"-7.8\" font-family=\"Helvetica,sans-Serif\" font-size=\"14.00\" fill=\"#000000\">class = More than 75%</text>\n</g>\n<!-- 85&#45;&gt;87 -->\n<g id=\"edge87\" class=\"edge\">\n<title>85&#45;&gt;87</title>\n<path fill=\"none\" stroke=\"#000000\" d=\"M4667.1087,-103.9815C4675.4339,-94.7908 4684.26,-85.0472 4692.5968,-75.8436\"/>\n<polygon fill=\"#000000\" stroke=\"#000000\" points=\"4695.3434,-78.0248 4699.463,-68.2637 4690.1554,-73.3254 4695.3434,-78.0248\"/>\n</g>\n</g>\n</svg>\n"
          },
          "metadata": {},
          "execution_count": 102
        }
      ]
    },
    {
      "cell_type": "code",
      "source": [
        "from sklearn.metrics import accuracy_score, confusion_matrix, f1_score, precision_score,recall_score,classification_report\n",
        "\n",
        "# Plot a confusion matrix.\n",
        "# cm is the confusion matrix, names are the names of the classes.\n",
        "def plot_confusion_matrix(cm, names, title='Confusion matrix', cmap=plt.cm.Blues):\n",
        "    plt.imshow(cm, interpolation='nearest', cmap=cmap)\n",
        "    plt.title(title)\n",
        "    plt.colorbar()\n",
        "    tick_marks = np.arange(len(names))\n",
        "    plt.xticks(tick_marks, names, rotation=45)\n",
        "    plt.yticks(tick_marks, names)\n",
        "    plt.tight_layout()\n",
        "    plt.ylabel('True label')\n",
        "    plt.xlabel('Predicted label')\n",
        "\n",
        "predClassY = clf.predict(classX_test)\n",
        "\n",
        "confusion = confusion_matrix(classY_test, predClassY)\n",
        "print(confusion)\n",
        "\n",
        "plot_confusion_matrix(confusion, ['Less than 50%','Between 50-75%','More than 75%'], title='Confusion matrix', cmap=plt.cm.Blues)\n",
        "\n",
        "print('Accuracy on test data is %.2f' % (accuracy_score(classY_test, predClassY)))\n",
        "print('F1 score on test data is %.2f' % (f1_score(classY_test, predClassY, average='weighted')))\n",
        "print('Precision Score on test data is %.2f' % (precision_score(classY_test, predClassY, average='weighted')))\n",
        "print('Recall score on test data is %.2f' % (recall_score(classY_test, predClassY, average='weighted')))\n",
        "print( classification_report(classY_test,predClassY))"
      ],
      "metadata": {
        "colab": {
          "base_uri": "https://localhost:8080/"
        },
        "id": "Ekf_hu_iBaE4",
        "outputId": "0d50c1db-9514-484b-d9cb-251bed20c594"
      },
      "execution_count": null,
      "outputs": [
        {
          "output_type": "stream",
          "name": "stdout",
          "text": [
            "[[43  1  7]\n",
            " [ 3  2  0]\n",
            " [ 5  0 39]]\n",
            "Accuracy on test data is 0.84\n",
            "F1 score on test data is 0.84\n",
            "Precision Score on test data is 0.84\n",
            "Recall score on test data is 0.84\n",
            "                precision    recall  f1-score   support\n",
            "\n",
            "Between 50-75%       0.84      0.84      0.84        51\n",
            " Less than 50%       0.67      0.40      0.50         5\n",
            " More than 75%       0.85      0.89      0.87        44\n",
            "\n",
            "      accuracy                           0.84       100\n",
            "     macro avg       0.79      0.71      0.74       100\n",
            "  weighted avg       0.84      0.84      0.84       100\n",
            "\n"
          ]
        },
        {
          "output_type": "display_data",
          "data": {
            "text/plain": [
              "<Figure size 432x288 with 2 Axes>"
            ],
            "image/png": "[encoded data removed]"
          },
          "metadata": {
            "needs_background": "light"
          }
        }
      ]
    },
    {
      "cell_type": "markdown",
      "source": [
        "# Part B: Admission Regression"
      ],
      "metadata": {
        "id": "XmA-OsTR6xst"
      }
    },
    {
      "cell_type": "code",
      "source": [
        "path = \"./data/\"\n",
        "filename_read3 = os.path.join(path,\"Admission_Predict_Ver1.1_small_data_set_for_Linear_Regression.csv\")\n",
        "mainDF = pd.read_csv(filename_read3, na_values=['NA','?'], encoding=\"ISO-8859-1\");\n",
        "\n",
        "print('Number of instances = %d' % (mainDF.shape[0]))\n",
        "print('Number of attributes = %d' % (mainDF.shape[1]))\n",
        "print('Number of missing values:')\n",
        "for col in mainDF.columns:\n",
        "    print('\\t%s: %d' % (col,mainDF[col].isna().sum()))\n",
        "\n",
        "mainDF.head()"
      ],
      "metadata": {
        "colab": {
          "base_uri": "https://localhost:8080/"
        },
        "id": "F6lik8Bw67Bu",
        "outputId": "2bcb8c9c-6a33-4f92-f0e4-f934b8836a83"
      },
      "execution_count": null,
      "outputs": [
        {
          "output_type": "stream",
          "name": "stdout",
          "text": [
            "Number of instances = 500\n",
            "Number of attributes = 9\n",
            "Number of missing values:\n",
            "\tSerial No.: 0\n",
            "\tGRE Score: 0\n",
            "\tTOEFL Score: 0\n",
            "\tUniversity Rating: 0\n",
            "\tSOP: 0\n",
            "\tLOR : 0\n",
            "\tCGPA: 0\n",
            "\tResearch: 0\n",
            "\tChance of Admit : 0\n"
          ]
        },
        {
          "output_type": "execute_result",
          "data": {
            "text/plain": [
              "   Serial No.  GRE Score  TOEFL Score  University Rating  SOP  LOR   CGPA  \\\n",
              "0           1        337          118                  4  4.5   4.5  9.65   \n",
              "1           2        324          107                  4  4.0   4.5  8.87   \n",
              "2           3        316          104                  3  3.0   3.5  8.00   \n",
              "3           4        322          110                  3  3.5   2.5  8.67   \n",
              "4           5        314          103                  2  2.0   3.0  8.21   \n",
              "\n",
              "   Research  Chance of Admit   \n",
              "0         1              0.92  \n",
              "1         1              0.76  \n",
              "2         1              0.72  \n",
              "3         1              0.80  \n",
              "4         0              0.65  "
            ],
            "text/html": [
              "\n",
              "  <div id=\"df-6c1c1484-f3c4-421e-8150-6912bc280742\">\n",
              "    <div class=\"colab-df-container\">\n",
              "      <div>\n",
              "<style scoped>\n",
              "    .dataframe tbody tr th:only-of-type {\n",
              "        vertical-align: middle;\n",
              "    }\n",
              "\n",
              "    .dataframe tbody tr th {\n",
              "        vertical-align: top;\n",
              "    }\n",
              "\n",
              "    .dataframe thead th {\n",
              "        text-align: right;\n",
              "    }\n",
              "</style>\n",
              "<table border=\"1\" class=\"dataframe\">\n",
              "  <thead>\n",
              "    <tr style=\"text-align: right;\">\n",
              "      <th></th>\n",
              "      <th>Serial No.</th>\n",
              "      <th>GRE Score</th>\n",
              "      <th>TOEFL Score</th>\n",
              "      <th>University Rating</th>\n",
              "      <th>SOP</th>\n",
              "      <th>LOR</th>\n",
              "      <th>CGPA</th>\n",
              "      <th>Research</th>\n",
              "      <th>Chance of Admit</th>\n",
              "    </tr>\n",
              "  </thead>\n",
              "  <tbody>\n",
              "    <tr>\n",
              "      <th>0</th>\n",
              "      <td>1</td>\n",
              "      <td>337</td>\n",
              "      <td>118</td>\n",
              "      <td>4</td>\n",
              "      <td>4.5</td>\n",
              "      <td>4.5</td>\n",
              "      <td>9.65</td>\n",
              "      <td>1</td>\n",
              "      <td>0.92</td>\n",
              "    </tr>\n",
              "    <tr>\n",
              "      <th>1</th>\n",
              "      <td>2</td>\n",
              "      <td>324</td>\n",
              "      <td>107</td>\n",
              "      <td>4</td>\n",
              "      <td>4.0</td>\n",
              "      <td>4.5</td>\n",
              "      <td>8.87</td>\n",
              "      <td>1</td>\n",
              "      <td>0.76</td>\n",
              "    </tr>\n",
              "    <tr>\n",
              "      <th>2</th>\n",
              "      <td>3</td>\n",
              "      <td>316</td>\n",
              "      <td>104</td>\n",
              "      <td>3</td>\n",
              "      <td>3.0</td>\n",
              "      <td>3.5</td>\n",
              "      <td>8.00</td>\n",
              "      <td>1</td>\n",
              "      <td>0.72</td>\n",
              "    </tr>\n",
              "    <tr>\n",
              "      <th>3</th>\n",
              "      <td>4</td>\n",
              "      <td>322</td>\n",
              "      <td>110</td>\n",
              "      <td>3</td>\n",
              "      <td>3.5</td>\n",
              "      <td>2.5</td>\n",
              "      <td>8.67</td>\n",
              "      <td>1</td>\n",
              "      <td>0.80</td>\n",
              "    </tr>\n",
              "    <tr>\n",
              "      <th>4</th>\n",
              "      <td>5</td>\n",
              "      <td>314</td>\n",
              "      <td>103</td>\n",
              "      <td>2</td>\n",
              "      <td>2.0</td>\n",
              "      <td>3.0</td>\n",
              "      <td>8.21</td>\n",
              "      <td>0</td>\n",
              "      <td>0.65</td>\n",
              "    </tr>\n",
              "  </tbody>\n",
              "</table>\n",
              "</div>\n",
              "      <button class=\"colab-df-convert\" onclick=\"convertToInteractive('df-6c1c1484-f3c4-421e-8150-6912bc280742')\"\n",
              "              title=\"Convert this dataframe to an interactive table.\"\n",
              "              style=\"display:none;\">\n",
              "        \n",
              "  <svg xmlns=\"http://www.w3.org/2000/svg\" height=\"24px\"viewBox=\"0 0 24 24\"\n",
              "       width=\"24px\">\n",
              "    <path d=\"M0 0h24v24H0V0z\" fill=\"none\"/>\n",
              "    <path d=\"M18.56 5.44l.94 2.06.94-2.06 2.06-.94-2.06-.94-.94-2.06-.94 2.06-2.06.94zm-11 1L8.5 8.5l.94-2.06 2.06-.94-2.06-.94L8.5 2.5l-.94 2.06-2.06.94zm10 10l.94 2.06.94-2.06 2.06-.94-2.06-.94-.94-2.06-.94 2.06-2.06.94z\"/><path d=\"M17.41 7.96l-1.37-1.37c-.4-.4-.92-.59-1.43-.59-.52 0-1.04.2-1.43.59L10.3 9.45l-7.72 7.72c-.78.78-.78 2.05 0 2.83L4 21.41c.39.39.9.59 1.41.59.51 0 1.02-.2 1.41-.59l7.78-7.78 2.81-2.81c.8-.78.8-2.07 0-2.86zM5.41 20L4 18.59l7.72-7.72 1.47 1.35L5.41 20z\"/>\n",
              "  </svg>\n",
              "      </button>\n",
              "      \n",
              "  <style>\n",
              "    .colab-df-container {\n",
              "      display:flex;\n",
              "      flex-wrap:wrap;\n",
              "      gap: 12px;\n",
              "    }\n",
              "\n",
              "    .colab-df-convert {\n",
              "      background-color: #E8F0FE;\n",
              "      border: none;\n",
              "      border-radius: 50%;\n",
              "      cursor: pointer;\n",
              "      display: none;\n",
              "      fill: #1967D2;\n",
              "      height: 32px;\n",
              "      padding: 0 0 0 0;\n",
              "      width: 32px;\n",
              "    }\n",
              "\n",
              "    .colab-df-convert:hover {\n",
              "      background-color: #E2EBFA;\n",
              "      box-shadow: 0px 1px 2px rgba(60, 64, 67, 0.3), 0px 1px 3px 1px rgba(60, 64, 67, 0.15);\n",
              "      fill: #174EA6;\n",
              "    }\n",
              "\n",
              "    [theme=dark] .colab-df-convert {\n",
              "      background-color: #3B4455;\n",
              "      fill: #D2E3FC;\n",
              "    }\n",
              "\n",
              "    [theme=dark] .colab-df-convert:hover {\n",
              "      background-color: #434B5C;\n",
              "      box-shadow: 0px 1px 3px 1px rgba(0, 0, 0, 0.15);\n",
              "      filter: drop-shadow(0px 1px 2px rgba(0, 0, 0, 0.3));\n",
              "      fill: #FFFFFF;\n",
              "    }\n",
              "  </style>\n",
              "\n",
              "      <script>\n",
              "        const buttonEl =\n",
              "          document.querySelector('#df-6c1c1484-f3c4-421e-8150-6912bc280742 button.colab-df-convert');\n",
              "        buttonEl.style.display =\n",
              "          google.colab.kernel.accessAllowed ? 'block' : 'none';\n",
              "\n",
              "        async function convertToInteractive(key) {\n",
              "          const element = document.querySelector('#df-6c1c1484-f3c4-421e-8150-6912bc280742');\n",
              "          const dataTable =\n",
              "            await google.colab.kernel.invokeFunction('convertToInteractive',\n",
              "                                                     [key], {});\n",
              "          if (!dataTable) return;\n",
              "\n",
              "          const docLinkHtml = 'Like what you see? Visit the ' +\n",
              "            '<a target=\"_blank\" href=https://colab.research.google.com/notebooks/data_table.ipynb>data table notebook</a>'\n",
              "            + ' to learn more about interactive tables.';\n",
              "          element.innerHTML = '';\n",
              "          dataTable['output_type'] = 'display_data';\n",
              "          await google.colab.output.renderOutput(dataTable, element);\n",
              "          const docLink = document.createElement('div');\n",
              "          docLink.innerHTML = docLinkHtml;\n",
              "          element.appendChild(docLink);\n",
              "        }\n",
              "      </script>\n",
              "    </div>\n",
              "  </div>\n",
              "  "
            ]
          },
          "metadata": {},
          "execution_count": 104
        }
      ]
    },
    {
      "cell_type": "code",
      "source": [
        "drop_cols_simple = ['LOR ']\n",
        "simpleDF = mainDF\n",
        "simpleDF.drop(drop_cols_simple,inplace=True,axis=1)\n",
        "numTrain = 20   # number of training instances\n",
        "numTest = simpleDF.shape[0] - numTrain\n",
        "\n",
        "coa_train = simpleDF[:-numTest]\n",
        "coa_test = simpleDF[-numTest:]\n",
        "coa_train = simpleDF[:-numTest]\n",
        "coa_test = simpleDF[-numTest:]\n",
        "\n",
        "print('Number of instances = %d' % (coa_train.shape[0]))\n",
        "print('Number of attributes = %d' % (coa_test.shape[0]))\n",
        "simpleDF.head(20)"
      ],
      "metadata": {
        "colab": {
          "base_uri": "https://localhost:8080/"
        },
        "id": "J-l84x2z7L7N",
        "outputId": "fc3cdb80-3e73-4f93-c327-f11df8f98060"
      },
      "execution_count": null,
      "outputs": [
        {
          "output_type": "stream",
          "name": "stdout",
          "text": [
            "Number of instances = 20\n",
            "Number of attributes = 480\n"
          ]
        },
        {
          "output_type": "execute_result",
          "data": {
            "text/plain": [
              "    Serial No.  GRE Score  TOEFL Score  University Rating  SOP  CGPA  \\\n",
              "0            1        337          118                  4  4.5  9.65   \n",
              "1            2        324          107                  4  4.0  8.87   \n",
              "2            3        316          104                  3  3.0  8.00   \n",
              "3            4        322          110                  3  3.5  8.67   \n",
              "4            5        314          103                  2  2.0  8.21   \n",
              "5            6        330          115                  5  4.5  9.34   \n",
              "6            7        321          109                  3  3.0  8.20   \n",
              "7            8        308          101                  2  3.0  7.90   \n",
              "8            9        302          102                  1  2.0  8.00   \n",
              "9           10        323          108                  3  3.5  8.60   \n",
              "10          11        325          106                  3  3.5  8.40   \n",
              "11          12        327          111                  4  4.0  9.00   \n",
              "12          13        328          112                  4  4.0  9.10   \n",
              "13          14        307          109                  3  4.0  8.00   \n",
              "14          15        311          104                  3  3.5  8.20   \n",
              "15          16        314          105                  3  3.5  8.30   \n",
              "16          17        317          107                  3  4.0  8.70   \n",
              "17          18        319          106                  3  4.0  8.00   \n",
              "18          19        318          110                  3  4.0  8.80   \n",
              "19          20        303          102                  3  3.5  8.50   \n",
              "\n",
              "    Research  Chance of Admit   \n",
              "0          1              0.92  \n",
              "1          1              0.76  \n",
              "2          1              0.72  \n",
              "3          1              0.80  \n",
              "4          0              0.65  \n",
              "5          1              0.90  \n",
              "6          1              0.75  \n",
              "7          0              0.68  \n",
              "8          0              0.50  \n",
              "9          0              0.45  \n",
              "10         1              0.52  \n",
              "11         1              0.84  \n",
              "12         1              0.78  \n",
              "13         1              0.62  \n",
              "14         1              0.61  \n",
              "15         0              0.54  \n",
              "16         0              0.66  \n",
              "17         1              0.65  \n",
              "18         0              0.63  \n",
              "19         0              0.62  "
            ],
            "text/html": [
              "\n",
              "  <div id=\"df-09577a04-7fa8-4214-a737-b8705e0436a7\">\n",
              "    <div class=\"colab-df-container\">\n",
              "      <div>\n",
              "<style scoped>\n",
              "    .dataframe tbody tr th:only-of-type {\n",
              "        vertical-align: middle;\n",
              "    }\n",
              "\n",
              "    .dataframe tbody tr th {\n",
              "        vertical-align: top;\n",
              "    }\n",
              "\n",
              "    .dataframe thead th {\n",
              "        text-align: right;\n",
              "    }\n",
              "</style>\n",
              "<table border=\"1\" class=\"dataframe\">\n",
              "  <thead>\n",
              "    <tr style=\"text-align: right;\">\n",
              "      <th></th>\n",
              "      <th>Serial No.</th>\n",
              "      <th>GRE Score</th>\n",
              "      <th>TOEFL Score</th>\n",
              "      <th>University Rating</th>\n",
              "      <th>SOP</th>\n",
              "      <th>CGPA</th>\n",
              "      <th>Research</th>\n",
              "      <th>Chance of Admit</th>\n",
              "    </tr>\n",
              "  </thead>\n",
              "  <tbody>\n",
              "    <tr>\n",
              "      <th>0</th>\n",
              "      <td>1</td>\n",
              "      <td>337</td>\n",
              "      <td>118</td>\n",
              "      <td>4</td>\n",
              "      <td>4.5</td>\n",
              "      <td>9.65</td>\n",
              "      <td>1</td>\n",
              "      <td>0.92</td>\n",
              "    </tr>\n",
              "    <tr>\n",
              "      <th>1</th>\n",
              "      <td>2</td>\n",
              "      <td>324</td>\n",
              "      <td>107</td>\n",
              "      <td>4</td>\n",
              "      <td>4.0</td>\n",
              "      <td>8.87</td>\n",
              "      <td>1</td>\n",
              "      <td>0.76</td>\n",
              "    </tr>\n",
              "    <tr>\n",
              "      <th>2</th>\n",
              "      <td>3</td>\n",
              "      <td>316</td>\n",
              "      <td>104</td>\n",
              "      <td>3</td>\n",
              "      <td>3.0</td>\n",
              "      <td>8.00</td>\n",
              "      <td>1</td>\n",
              "      <td>0.72</td>\n",
              "    </tr>\n",
              "    <tr>\n",
              "      <th>3</th>\n",
              "      <td>4</td>\n",
              "      <td>322</td>\n",
              "      <td>110</td>\n",
              "      <td>3</td>\n",
              "      <td>3.5</td>\n",
              "      <td>8.67</td>\n",
              "      <td>1</td>\n",
              "      <td>0.80</td>\n",
              "    </tr>\n",
              "    <tr>\n",
              "      <th>4</th>\n",
              "      <td>5</td>\n",
              "      <td>314</td>\n",
              "      <td>103</td>\n",
              "      <td>2</td>\n",
              "      <td>2.0</td>\n",
              "      <td>8.21</td>\n",
              "      <td>0</td>\n",
              "      <td>0.65</td>\n",
              "    </tr>\n",
              "    <tr>\n",
              "      <th>5</th>\n",
              "      <td>6</td>\n",
              "      <td>330</td>\n",
              "      <td>115</td>\n",
              "      <td>5</td>\n",
              "      <td>4.5</td>\n",
              "      <td>9.34</td>\n",
              "      <td>1</td>\n",
              "      <td>0.90</td>\n",
              "    </tr>\n",
              "    <tr>\n",
              "      <th>6</th>\n",
              "      <td>7</td>\n",
              "      <td>321</td>\n",
              "      <td>109</td>\n",
              "      <td>3</td>\n",
              "      <td>3.0</td>\n",
              "      <td>8.20</td>\n",
              "      <td>1</td>\n",
              "      <td>0.75</td>\n",
              "    </tr>\n",
              "    <tr>\n",
              "      <th>7</th>\n",
              "      <td>8</td>\n",
              "      <td>308</td>\n",
              "      <td>101</td>\n",
              "      <td>2</td>\n",
              "      <td>3.0</td>\n",
              "      <td>7.90</td>\n",
              "      <td>0</td>\n",
              "      <td>0.68</td>\n",
              "    </tr>\n",
              "    <tr>\n",
              "      <th>8</th>\n",
              "      <td>9</td>\n",
              "      <td>302</td>\n",
              "      <td>102</td>\n",
              "      <td>1</td>\n",
              "      <td>2.0</td>\n",
              "      <td>8.00</td>\n",
              "      <td>0</td>\n",
              "      <td>0.50</td>\n",
              "    </tr>\n",
              "    <tr>\n",
              "      <th>9</th>\n",
              "      <td>10</td>\n",
              "      <td>323</td>\n",
              "      <td>108</td>\n",
              "      <td>3</td>\n",
              "      <td>3.5</td>\n",
              "      <td>8.60</td>\n",
              "      <td>0</td>\n",
              "      <td>0.45</td>\n",
              "    </tr>\n",
              "    <tr>\n",
              "      <th>10</th>\n",
              "      <td>11</td>\n",
              "      <td>325</td>\n",
              "      <td>106</td>\n",
              "      <td>3</td>\n",
              "      <td>3.5</td>\n",
              "      <td>8.40</td>\n",
              "      <td>1</td>\n",
              "      <td>0.52</td>\n",
              "    </tr>\n",
              "    <tr>\n",
              "      <th>11</th>\n",
              "      <td>12</td>\n",
              "      <td>327</td>\n",
              "      <td>111</td>\n",
              "      <td>4</td>\n",
              "      <td>4.0</td>\n",
              "      <td>9.00</td>\n",
              "      <td>1</td>\n",
              "      <td>0.84</td>\n",
              "    </tr>\n",
              "    <tr>\n",
              "      <th>12</th>\n",
              "      <td>13</td>\n",
              "      <td>328</td>\n",
              "      <td>112</td>\n",
              "      <td>4</td>\n",
              "      <td>4.0</td>\n",
              "      <td>9.10</td>\n",
              "      <td>1</td>\n",
              "      <td>0.78</td>\n",
              "    </tr>\n",
              "    <tr>\n",
              "      <th>13</th>\n",
              "      <td>14</td>\n",
              "      <td>307</td>\n",
              "      <td>109</td>\n",
              "      <td>3</td>\n",
              "      <td>4.0</td>\n",
              "      <td>8.00</td>\n",
              "      <td>1</td>\n",
              "      <td>0.62</td>\n",
              "    </tr>\n",
              "    <tr>\n",
              "      <th>14</th>\n",
              "      <td>15</td>\n",
              "      <td>311</td>\n",
              "      <td>104</td>\n",
              "      <td>3</td>\n",
              "      <td>3.5</td>\n",
              "      <td>8.20</td>\n",
              "      <td>1</td>\n",
              "      <td>0.61</td>\n",
              "    </tr>\n",
              "    <tr>\n",
              "      <th>15</th>\n",
              "      <td>16</td>\n",
              "      <td>314</td>\n",
              "      <td>105</td>\n",
              "      <td>3</td>\n",
              "      <td>3.5</td>\n",
              "      <td>8.30</td>\n",
              "      <td>0</td>\n",
              "      <td>0.54</td>\n",
              "    </tr>\n",
              "    <tr>\n",
              "      <th>16</th>\n",
              "      <td>17</td>\n",
              "      <td>317</td>\n",
              "      <td>107</td>\n",
              "      <td>3</td>\n",
              "      <td>4.0</td>\n",
              "      <td>8.70</td>\n",
              "      <td>0</td>\n",
              "      <td>0.66</td>\n",
              "    </tr>\n",
              "    <tr>\n",
              "      <th>17</th>\n",
              "      <td>18</td>\n",
              "      <td>319</td>\n",
              "      <td>106</td>\n",
              "      <td>3</td>\n",
              "      <td>4.0</td>\n",
              "      <td>8.00</td>\n",
              "      <td>1</td>\n",
              "      <td>0.65</td>\n",
              "    </tr>\n",
              "    <tr>\n",
              "      <th>18</th>\n",
              "      <td>19</td>\n",
              "      <td>318</td>\n",
              "      <td>110</td>\n",
              "      <td>3</td>\n",
              "      <td>4.0</td>\n",
              "      <td>8.80</td>\n",
              "      <td>0</td>\n",
              "      <td>0.63</td>\n",
              "    </tr>\n",
              "    <tr>\n",
              "      <th>19</th>\n",
              "      <td>20</td>\n",
              "      <td>303</td>\n",
              "      <td>102</td>\n",
              "      <td>3</td>\n",
              "      <td>3.5</td>\n",
              "      <td>8.50</td>\n",
              "      <td>0</td>\n",
              "      <td>0.62</td>\n",
              "    </tr>\n",
              "  </tbody>\n",
              "</table>\n",
              "</div>\n",
              "      <button class=\"colab-df-convert\" onclick=\"convertToInteractive('df-09577a04-7fa8-4214-a737-b8705e0436a7')\"\n",
              "              title=\"Convert this dataframe to an interactive table.\"\n",
              "              style=\"display:none;\">\n",
              "        \n",
              "  <svg xmlns=\"http://www.w3.org/2000/svg\" height=\"24px\"viewBox=\"0 0 24 24\"\n",
              "       width=\"24px\">\n",
              "    <path d=\"M0 0h24v24H0V0z\" fill=\"none\"/>\n",
              "    <path d=\"M18.56 5.44l.94 2.06.94-2.06 2.06-.94-2.06-.94-.94-2.06-.94 2.06-2.06.94zm-11 1L8.5 8.5l.94-2.06 2.06-.94-2.06-.94L8.5 2.5l-.94 2.06-2.06.94zm10 10l.94 2.06.94-2.06 2.06-.94-2.06-.94-.94-2.06-.94 2.06-2.06.94z\"/><path d=\"M17.41 7.96l-1.37-1.37c-.4-.4-.92-.59-1.43-.59-.52 0-1.04.2-1.43.59L10.3 9.45l-7.72 7.72c-.78.78-.78 2.05 0 2.83L4 21.41c.39.39.9.59 1.41.59.51 0 1.02-.2 1.41-.59l7.78-7.78 2.81-2.81c.8-.78.8-2.07 0-2.86zM5.41 20L4 18.59l7.72-7.72 1.47 1.35L5.41 20z\"/>\n",
              "  </svg>\n",
              "      </button>\n",
              "      \n",
              "  <style>\n",
              "    .colab-df-container {\n",
              "      display:flex;\n",
              "      flex-wrap:wrap;\n",
              "      gap: 12px;\n",
              "    }\n",
              "\n",
              "    .colab-df-convert {\n",
              "      background-color: #E8F0FE;\n",
              "      border: none;\n",
              "      border-radius: 50%;\n",
              "      cursor: pointer;\n",
              "      display: none;\n",
              "      fill: #1967D2;\n",
              "      height: 32px;\n",
              "      padding: 0 0 0 0;\n",
              "      width: 32px;\n",
              "    }\n",
              "\n",
              "    .colab-df-convert:hover {\n",
              "      background-color: #E2EBFA;\n",
              "      box-shadow: 0px 1px 2px rgba(60, 64, 67, 0.3), 0px 1px 3px 1px rgba(60, 64, 67, 0.15);\n",
              "      fill: #174EA6;\n",
              "    }\n",
              "\n",
              "    [theme=dark] .colab-df-convert {\n",
              "      background-color: #3B4455;\n",
              "      fill: #D2E3FC;\n",
              "    }\n",
              "\n",
              "    [theme=dark] .colab-df-convert:hover {\n",
              "      background-color: #434B5C;\n",
              "      box-shadow: 0px 1px 3px 1px rgba(0, 0, 0, 0.15);\n",
              "      filter: drop-shadow(0px 1px 2px rgba(0, 0, 0, 0.3));\n",
              "      fill: #FFFFFF;\n",
              "    }\n",
              "  </style>\n",
              "\n",
              "      <script>\n",
              "        const buttonEl =\n",
              "          document.querySelector('#df-09577a04-7fa8-4214-a737-b8705e0436a7 button.colab-df-convert');\n",
              "        buttonEl.style.display =\n",
              "          google.colab.kernel.accessAllowed ? 'block' : 'none';\n",
              "\n",
              "        async function convertToInteractive(key) {\n",
              "          const element = document.querySelector('#df-09577a04-7fa8-4214-a737-b8705e0436a7');\n",
              "          const dataTable =\n",
              "            await google.colab.kernel.invokeFunction('convertToInteractive',\n",
              "                                                     [key], {});\n",
              "          if (!dataTable) return;\n",
              "\n",
              "          const docLinkHtml = 'Like what you see? Visit the ' +\n",
              "            '<a target=\"_blank\" href=https://colab.research.google.com/notebooks/data_table.ipynb>data table notebook</a>'\n",
              "            + ' to learn more about interactive tables.';\n",
              "          element.innerHTML = '';\n",
              "          dataTable['output_type'] = 'display_data';\n",
              "          await google.colab.output.renderOutput(dataTable, element);\n",
              "          const docLink = document.createElement('div');\n",
              "          docLink.innerHTML = docLinkHtml;\n",
              "          element.appendChild(docLink);\n",
              "        }\n",
              "      </script>\n",
              "    </div>\n",
              "  </div>\n",
              "  "
            ]
          },
          "metadata": {},
          "execution_count": 105
        }
      ]
    },
    {
      "cell_type": "markdown",
      "source": [
        "# Correlation Table for Admission Data"
      ],
      "metadata": {
        "id": "_o74v9zX8dz4"
      }
    },
    {
      "cell_type": "code",
      "source": [
        "simpleDF.corr()"
      ],
      "metadata": {
        "colab": {
          "base_uri": "https://localhost:8080/"
        },
        "id": "IyC9QuOh8i_Q",
        "outputId": "a7ed97de-edbb-4db7-97e4-b840e110ebab"
      },
      "execution_count": null,
      "outputs": [
        {
          "output_type": "execute_result",
          "data": {
            "text/plain": [
              "                   Serial No.  GRE Score  TOEFL Score  University Rating  \\\n",
              "Serial No.           1.000000  -0.103839    -0.141696          -0.067641   \n",
              "GRE Score           -0.103839   1.000000     0.827200           0.635376   \n",
              "TOEFL Score         -0.141696   0.827200     1.000000           0.649799   \n",
              "University Rating   -0.067641   0.635376     0.649799           1.000000   \n",
              "SOP                 -0.137352   0.613498     0.644410           0.728024   \n",
              "CGPA                -0.074289   0.825878     0.810574           0.705254   \n",
              "Research            -0.005332   0.563398     0.467012           0.427047   \n",
              "Chance of Admit      0.008505   0.810351     0.792228           0.690132   \n",
              "\n",
              "                        SOP      CGPA  Research  Chance of Admit   \n",
              "Serial No.        -0.137352 -0.074289 -0.005332          0.008505  \n",
              "GRE Score          0.613498  0.825878  0.563398          0.810351  \n",
              "TOEFL Score        0.644410  0.810574  0.467012          0.792228  \n",
              "University Rating  0.728024  0.705254  0.427047          0.690132  \n",
              "SOP                1.000000  0.712154  0.408116          0.684137  \n",
              "CGPA               0.712154  1.000000  0.501311          0.882413  \n",
              "Research           0.408116  0.501311  1.000000          0.545871  \n",
              "Chance of Admit    0.684137  0.882413  0.545871          1.000000  "
            ],
            "text/html": [
              "\n",
              "  <div id=\"df-bcdd2497-73da-4b71-8930-5491910962d0\">\n",
              "    <div class=\"colab-df-container\">\n",
              "      <div>\n",
              "<style scoped>\n",
              "    .dataframe tbody tr th:only-of-type {\n",
              "        vertical-align: middle;\n",
              "    }\n",
              "\n",
              "    .dataframe tbody tr th {\n",
              "        vertical-align: top;\n",
              "    }\n",
              "\n",
              "    .dataframe thead th {\n",
              "        text-align: right;\n",
              "    }\n",
              "</style>\n",
              "<table border=\"1\" class=\"dataframe\">\n",
              "  <thead>\n",
              "    <tr style=\"text-align: right;\">\n",
              "      <th></th>\n",
              "      <th>Serial No.</th>\n",
              "      <th>GRE Score</th>\n",
              "      <th>TOEFL Score</th>\n",
              "      <th>University Rating</th>\n",
              "      <th>SOP</th>\n",
              "      <th>CGPA</th>\n",
              "      <th>Research</th>\n",
              "      <th>Chance of Admit</th>\n",
              "    </tr>\n",
              "  </thead>\n",
              "  <tbody>\n",
              "    <tr>\n",
              "      <th>Serial No.</th>\n",
              "      <td>1.000000</td>\n",
              "      <td>-0.103839</td>\n",
              "      <td>-0.141696</td>\n",
              "      <td>-0.067641</td>\n",
              "      <td>-0.137352</td>\n",
              "      <td>-0.074289</td>\n",
              "      <td>-0.005332</td>\n",
              "      <td>0.008505</td>\n",
              "    </tr>\n",
              "    <tr>\n",
              "      <th>GRE Score</th>\n",
              "      <td>-0.103839</td>\n",
              "      <td>1.000000</td>\n",
              "      <td>0.827200</td>\n",
              "      <td>0.635376</td>\n",
              "      <td>0.613498</td>\n",
              "      <td>0.825878</td>\n",
              "      <td>0.563398</td>\n",
              "      <td>0.810351</td>\n",
              "    </tr>\n",
              "    <tr>\n",
              "      <th>TOEFL Score</th>\n",
              "      <td>-0.141696</td>\n",
              "      <td>0.827200</td>\n",
              "      <td>1.000000</td>\n",
              "      <td>0.649799</td>\n",
              "      <td>0.644410</td>\n",
              "      <td>0.810574</td>\n",
              "      <td>0.467012</td>\n",
              "      <td>0.792228</td>\n",
              "    </tr>\n",
              "    <tr>\n",
              "      <th>University Rating</th>\n",
              "      <td>-0.067641</td>\n",
              "      <td>0.635376</td>\n",
              "      <td>0.649799</td>\n",
              "      <td>1.000000</td>\n",
              "      <td>0.728024</td>\n",
              "      <td>0.705254</td>\n",
              "      <td>0.427047</td>\n",
              "      <td>0.690132</td>\n",
              "    </tr>\n",
              "    <tr>\n",
              "      <th>SOP</th>\n",
              "      <td>-0.137352</td>\n",
              "      <td>0.613498</td>\n",
              "      <td>0.644410</td>\n",
              "      <td>0.728024</td>\n",
              "      <td>1.000000</td>\n",
              "      <td>0.712154</td>\n",
              "      <td>0.408116</td>\n",
              "      <td>0.684137</td>\n",
              "    </tr>\n",
              "    <tr>\n",
              "      <th>CGPA</th>\n",
              "      <td>-0.074289</td>\n",
              "      <td>0.825878</td>\n",
              "      <td>0.810574</td>\n",
              "      <td>0.705254</td>\n",
              "      <td>0.712154</td>\n",
              "      <td>1.000000</td>\n",
              "      <td>0.501311</td>\n",
              "      <td>0.882413</td>\n",
              "    </tr>\n",
              "    <tr>\n",
              "      <th>Research</th>\n",
              "      <td>-0.005332</td>\n",
              "      <td>0.563398</td>\n",
              "      <td>0.467012</td>\n",
              "      <td>0.427047</td>\n",
              "      <td>0.408116</td>\n",
              "      <td>0.501311</td>\n",
              "      <td>1.000000</td>\n",
              "      <td>0.545871</td>\n",
              "    </tr>\n",
              "    <tr>\n",
              "      <th>Chance of Admit</th>\n",
              "      <td>0.008505</td>\n",
              "      <td>0.810351</td>\n",
              "      <td>0.792228</td>\n",
              "      <td>0.690132</td>\n",
              "      <td>0.684137</td>\n",
              "      <td>0.882413</td>\n",
              "      <td>0.545871</td>\n",
              "      <td>1.000000</td>\n",
              "    </tr>\n",
              "  </tbody>\n",
              "</table>\n",
              "</div>\n",
              "      <button class=\"colab-df-convert\" onclick=\"convertToInteractive('df-bcdd2497-73da-4b71-8930-5491910962d0')\"\n",
              "              title=\"Convert this dataframe to an interactive table.\"\n",
              "              style=\"display:none;\">\n",
              "        \n",
              "  <svg xmlns=\"http://www.w3.org/2000/svg\" height=\"24px\"viewBox=\"0 0 24 24\"\n",
              "       width=\"24px\">\n",
              "    <path d=\"M0 0h24v24H0V0z\" fill=\"none\"/>\n",
              "    <path d=\"M18.56 5.44l.94 2.06.94-2.06 2.06-.94-2.06-.94-.94-2.06-.94 2.06-2.06.94zm-11 1L8.5 8.5l.94-2.06 2.06-.94-2.06-.94L8.5 2.5l-.94 2.06-2.06.94zm10 10l.94 2.06.94-2.06 2.06-.94-2.06-.94-.94-2.06-.94 2.06-2.06.94z\"/><path d=\"M17.41 7.96l-1.37-1.37c-.4-.4-.92-.59-1.43-.59-.52 0-1.04.2-1.43.59L10.3 9.45l-7.72 7.72c-.78.78-.78 2.05 0 2.83L4 21.41c.39.39.9.59 1.41.59.51 0 1.02-.2 1.41-.59l7.78-7.78 2.81-2.81c.8-.78.8-2.07 0-2.86zM5.41 20L4 18.59l7.72-7.72 1.47 1.35L5.41 20z\"/>\n",
              "  </svg>\n",
              "      </button>\n",
              "      \n",
              "  <style>\n",
              "    .colab-df-container {\n",
              "      display:flex;\n",
              "      flex-wrap:wrap;\n",
              "      gap: 12px;\n",
              "    }\n",
              "\n",
              "    .colab-df-convert {\n",
              "      background-color: #E8F0FE;\n",
              "      border: none;\n",
              "      border-radius: 50%;\n",
              "      cursor: pointer;\n",
              "      display: none;\n",
              "      fill: #1967D2;\n",
              "      height: 32px;\n",
              "      padding: 0 0 0 0;\n",
              "      width: 32px;\n",
              "    }\n",
              "\n",
              "    .colab-df-convert:hover {\n",
              "      background-color: #E2EBFA;\n",
              "      box-shadow: 0px 1px 2px rgba(60, 64, 67, 0.3), 0px 1px 3px 1px rgba(60, 64, 67, 0.15);\n",
              "      fill: #174EA6;\n",
              "    }\n",
              "\n",
              "    [theme=dark] .colab-df-convert {\n",
              "      background-color: #3B4455;\n",
              "      fill: #D2E3FC;\n",
              "    }\n",
              "\n",
              "    [theme=dark] .colab-df-convert:hover {\n",
              "      background-color: #434B5C;\n",
              "      box-shadow: 0px 1px 3px 1px rgba(0, 0, 0, 0.15);\n",
              "      filter: drop-shadow(0px 1px 2px rgba(0, 0, 0, 0.3));\n",
              "      fill: #FFFFFF;\n",
              "    }\n",
              "  </style>\n",
              "\n",
              "      <script>\n",
              "        const buttonEl =\n",
              "          document.querySelector('#df-bcdd2497-73da-4b71-8930-5491910962d0 button.colab-df-convert');\n",
              "        buttonEl.style.display =\n",
              "          google.colab.kernel.accessAllowed ? 'block' : 'none';\n",
              "\n",
              "        async function convertToInteractive(key) {\n",
              "          const element = document.querySelector('#df-bcdd2497-73da-4b71-8930-5491910962d0');\n",
              "          const dataTable =\n",
              "            await google.colab.kernel.invokeFunction('convertToInteractive',\n",
              "                                                     [key], {});\n",
              "          if (!dataTable) return;\n",
              "\n",
              "          const docLinkHtml = 'Like what you see? Visit the ' +\n",
              "            '<a target=\"_blank\" href=https://colab.research.google.com/notebooks/data_table.ipynb>data table notebook</a>'\n",
              "            + ' to learn more about interactive tables.';\n",
              "          element.innerHTML = '';\n",
              "          dataTable['output_type'] = 'display_data';\n",
              "          await google.colab.output.renderOutput(dataTable, element);\n",
              "          const docLink = document.createElement('div');\n",
              "          docLink.innerHTML = docLinkHtml;\n",
              "          element.appendChild(docLink);\n",
              "        }\n",
              "      </script>\n",
              "    </div>\n",
              "  </div>\n",
              "  "
            ]
          },
          "metadata": {},
          "execution_count": 106
        }
      ]
    },
    {
      "cell_type": "markdown",
      "source": [
        "# Simple Linear Regression\n",
        "GRE Score (Independent) vs Chance of Admit (Dependent)\n",
        "\n",
        "GRE Score is normalized before any calculations are done."
      ],
      "metadata": {
        "id": "m2AQ6vN88xh2"
      }
    },
    {
      "cell_type": "code",
      "source": [
        "simpleDF = simpleDF.filter(['GRE Score','Chance of Admit '])\n",
        "# normalizing input (independent variable)\n",
        "normalize_numeric_minmax(simpleDF,'GRE Score')\n",
        "\n",
        "x3,y3=to_xy(simpleDF,'Chance of Admit ')\n",
        "\n",
        "x3_train, x3_test, y3_train, y3_test = train_test_split(x3,y3,test_size=0.3, random_state=42)\n",
        "\n",
        "plt.scatter(x3_train,y3_train, color='black')\n",
        "plt.xlabel('GRE Score (train)')\n",
        "plt.ylabel('Chance of Admission (train)')\n",
        "plt.title('GRE Score vs Admission Chance for Train Data')"
      ],
      "metadata": {
        "colab": {
          "base_uri": "https://localhost:8080/"
        },
        "id": "ncdoa9zxKa7h",
        "outputId": "8d8d3266-1278-4e8d-c8c2-b0eaa417a484"
      },
      "execution_count": null,
      "outputs": [
        {
          "output_type": "execute_result",
          "data": {
            "text/plain": [
              "Text(0.5, 1.0, 'GRE Score vs Admission Chance for Train Data')"
            ]
          },
          "metadata": {},
          "execution_count": 107
        },
        {
          "output_type": "display_data",
          "data": {
            "text/plain": [
              "<Figure size 432x288 with 1 Axes>"
            ],
            "image/png": "[encoded data removed]"
          },
          "metadata": {
            "needs_background": "light"
          }
        }
      ]
    },
    {
      "cell_type": "code",
      "source": [
        "chance_regr = linear_model.LinearRegression()\n",
        "chance_regr.fit(x3_train, y3_train)\n",
        "\n",
        "y3_pred = chance_regr.predict(x3_test)\n",
        "print('Predicted Function: y = %.2fX + %.2f' % (chance_regr.coef_, chance_regr.intercept_))\n",
        "for i in range(10):\n",
        "  print(\"True Admission Chance: \", y3_test[i], \"Prediction: \",y3_pred[i])"
      ],
      "metadata": {
        "colab": {
          "base_uri": "https://localhost:8080/"
        },
        "id": "d9ktox_pL4Mb",
        "outputId": "8e02842d-6f40-4635-b075-e185903c5209"
      },
      "execution_count": null,
      "outputs": [
        {
          "output_type": "stream",
          "name": "stdout",
          "text": [
            "Predicted Function: y = 0.52X + 0.45\n",
            "True Admission Chance:  0.93 Prediction:  0.9048516\n",
            "True Admission Chance:  0.84 Prediction:  0.6966988\n",
            "True Admission Chance:  0.39 Prediction:  0.7071064\n",
            "True Admission Chance:  0.77 Prediction:  0.6758835\n",
            "True Admission Chance:  0.74 Prediction:  0.8215905\n",
            "True Admission Chance:  0.89 Prediction:  0.85281336\n",
            "True Admission Chance:  0.47 Prediction:  0.44691536\n",
            "True Admission Chance:  0.57 Prediction:  0.5613994\n",
            "True Admission Chance:  0.68 Prediction:  0.73832935\n",
            "True Admission Chance:  0.82 Prediction:  0.75914466\n"
          ]
        }
      ]
    },
    {
      "cell_type": "code",
      "source": [
        "# Comparing true versus predicted values\n",
        "plt.scatter(y3_test, y3_pred, color='black')\n",
        "plt.title('Comparing true and predicted values for test set')\n",
        "plt.xlabel('True values for y')\n",
        "plt.ylabel('Predicted values for y')\n",
        "\n",
        "# Model evaluation\n",
        "print(\"Root mean squared error = %.4f\" % np.sqrt(mean_squared_error(y3_test, y3_pred)))\n",
        "print('R-squared = %.4f' % r2_score(y3_test, y3_pred))"
      ],
      "metadata": {
        "colab": {
          "base_uri": "https://localhost:8080/"
        },
        "id": "RqeL2jQDMZ5c",
        "outputId": "0a6911fa-8e88-41b8-f5af-194ad559b7f8"
      },
      "execution_count": null,
      "outputs": [
        {
          "output_type": "stream",
          "name": "stdout",
          "text": [
            "Root mean squared error = 0.0871\n",
            "R-squared = 0.6357\n"
          ]
        },
        {
          "output_type": "display_data",
          "data": {
            "text/plain": [
              "<Figure size 432x288 with 1 Axes>"
            ],
            "image/png": "[encoded data removed]"
          },
          "metadata": {
            "needs_background": "light"
          }
        }
      ]
    },
    {
      "cell_type": "code",
      "source": [
        "chart_regression(y3_pred,y3_test)"
      ],
      "metadata": {
        "colab": {
          "base_uri": "https://localhost:8080/"
        },
        "id": "JNQdoOWnM4O8",
        "outputId": "70464cbd-95aa-4f65-dc83-8bb1c119e819"
      },
      "execution_count": null,
      "outputs": [
        {
          "output_type": "display_data",
          "data": {
            "text/plain": [
              "<Figure size 432x288 with 1 Axes>"
            ],
            "image/png": "[encoded data removed]"
          },
          "metadata": {
            "needs_background": "light"
          }
        }
      ]
    },
    {
      "cell_type": "code",
      "source": [
        "print('Slope = ', chance_regr.coef_)\n",
        "print('Intercept = ', chance_regr.intercept_)\n",
        "\n",
        "plt.scatter(x3_test, y3_test,color='black')\n",
        "plt.plot(x3_test, y3_pred,color='purple',linewidth=3)\n",
        "titlestr = 'Predicted Function: y = %.2fX + %.2f' % (chance_regr.coef_, chance_regr.intercept_)\n",
        "plt.title(titlestr)\n",
        "plt.xlabel('GRE Score (test)')\n",
        "plt.ylabel('Chance of Admission (test)')"
      ],
      "metadata": {
        "colab": {
          "base_uri": "https://localhost:8080/"
        },
        "id": "8tqzOU1TNeuc",
        "outputId": "be5197d0-4a1d-43a7-c68f-21486365f613"
      },
      "execution_count": null,
      "outputs": [
        {
          "output_type": "stream",
          "name": "stdout",
          "text": [
            "Slope =  [0.5203821]\n",
            "Intercept =  0.44691536\n"
          ]
        },
        {
          "output_type": "execute_result",
          "data": {
            "text/plain": [
              "Text(0, 0.5, 'Chance of Admission (test)')"
            ]
          },
          "metadata": {},
          "execution_count": 111
        },
        {
          "output_type": "display_data",
          "data": {
            "text/plain": [
              "<Figure size 432x288 with 1 Axes>"
            ],
            "image/png": "[encoded data removed]"
          },
          "metadata": {
            "needs_background": "light"
          }
        }
      ]
    },
    {
      "cell_type": "markdown",
      "source": [
        "### Prediction of Value Outside Range\n",
        "Greater than 2, since the data was already normalized using min-max."
      ],
      "metadata": {
        "id": "1rJKyECnQAK8"
      }
    },
    {
      "cell_type": "code",
      "source": [
        "outside_value = np.array([[3]])\n",
        "pred_outside = chance_regr.predict(outside_value)\n",
        "print(\"Prediction : \", pred_outside)"
      ],
      "metadata": {
        "colab": {
          "base_uri": "https://localhost:8080/"
        },
        "id": "cwWQjJcxQCJ0",
        "outputId": "477dfaf3-bbb3-45a6-a00d-547ba8a9f27c"
      },
      "execution_count": null,
      "outputs": [
        {
          "output_type": "stream",
          "name": "stdout",
          "text": [
            "Prediction :  [2.00806168]\n"
          ]
        }
      ]
    },
    {
      "cell_type": "markdown",
      "source": [
        "Prediction Function with Test and Training data swapped"
      ],
      "metadata": {
        "id": "IIFQHw10RtlI"
      }
    },
    {
      "cell_type": "code",
      "source": [
        "chance_regr_testdata = linear_model.LinearRegression()\n",
        "chance_regr_testdata.fit(x3_test, y3_test)\n",
        "\n",
        "y3_pred_testdata = chance_regr_testdata.predict(x3_test)\n",
        "print('Predicted Function: y = %.2fX + %.2f' % (chance_regr_testdata.coef_, chance_regr_testdata.intercept_))\n",
        "for i in range(10):\n",
        "    print(\"True MPG: \",y3_train[i],\"Prediction : \", y3_pred_testdata[i])"
      ],
      "metadata": {
        "colab": {
          "base_uri": "https://localhost:8080/"
        },
        "id": "z25vUwzGRtMI",
        "outputId": "91532900-d847-4f02-baa0-61c82c99d25a"
      },
      "execution_count": null,
      "outputs": [
        {
          "output_type": "stream",
          "name": "stdout",
          "text": [
            "Predicted Function: y = 0.48X + 0.47\n",
            "True MPG:  0.9 Prediction :  0.8877468\n",
            "True MPG:  0.56 Prediction :  0.69614893\n",
            "True MPG:  0.88 Prediction :  0.7057288\n",
            "True MPG:  0.66 Prediction :  0.67698914\n",
            "True MPG:  0.62 Prediction :  0.81110764\n",
            "True MPG:  0.68 Prediction :  0.8398473\n",
            "True MPG:  0.8 Prediction :  0.46623144\n",
            "True MPG:  0.84 Prediction :  0.5716103\n",
            "True MPG:  0.52 Prediction :  0.73446846\n",
            "True MPG:  0.48 Prediction :  0.7536283\n"
          ]
        }
      ]
    },
    {
      "cell_type": "markdown",
      "source": [
        "# Multiple Linear Regression\n",
        "GRE Score and CGPA (Independent) vs Chance of Admit (Dependent)"
      ],
      "metadata": {
        "id": "kDnKkz92DH4t"
      }
    },
    {
      "cell_type": "code",
      "source": [
        "multDF = mainDF\n",
        "multDF = multDF.filter(['GRE Score','Chance of Admit ','CGPA'])\n",
        "\n",
        "normalize_numeric_minmax(multDF,'GRE Score')\n",
        "normalize_numeric_minmax(multDF,'CGPA')\n",
        "multDF.head()"
      ],
      "metadata": {
        "colab": {
          "base_uri": "https://localhost:8080/"
        },
        "id": "g-rBFTJkDp_9",
        "outputId": "ad50fd9b-e7ab-4473-c90b-8a10db8204f7"
      },
      "execution_count": null,
      "outputs": [
        {
          "output_type": "execute_result",
          "data": {
            "text/plain": [
              "   GRE Score  Chance of Admit       CGPA\n",
              "0       0.94              0.92  0.913462\n",
              "1       0.68              0.76  0.663462\n",
              "2       0.52              0.72  0.384615\n",
              "3       0.64              0.80  0.599359\n",
              "4       0.48              0.65  0.451923"
            ],
            "text/html": [
              "\n",
              "  <div id=\"df-c6921e3b-f015-4f4f-ae32-50ed8d7eaa33\">\n",
              "    <div class=\"colab-df-container\">\n",
              "      <div>\n",
              "<style scoped>\n",
              "    .dataframe tbody tr th:only-of-type {\n",
              "        vertical-align: middle;\n",
              "    }\n",
              "\n",
              "    .dataframe tbody tr th {\n",
              "        vertical-align: top;\n",
              "    }\n",
              "\n",
              "    .dataframe thead th {\n",
              "        text-align: right;\n",
              "    }\n",
              "</style>\n",
              "<table border=\"1\" class=\"dataframe\">\n",
              "  <thead>\n",
              "    <tr style=\"text-align: right;\">\n",
              "      <th></th>\n",
              "      <th>GRE Score</th>\n",
              "      <th>Chance of Admit</th>\n",
              "      <th>CGPA</th>\n",
              "    </tr>\n",
              "  </thead>\n",
              "  <tbody>\n",
              "    <tr>\n",
              "      <th>0</th>\n",
              "      <td>0.94</td>\n",
              "      <td>0.92</td>\n",
              "      <td>0.913462</td>\n",
              "    </tr>\n",
              "    <tr>\n",
              "      <th>1</th>\n",
              "      <td>0.68</td>\n",
              "      <td>0.76</td>\n",
              "      <td>0.663462</td>\n",
              "    </tr>\n",
              "    <tr>\n",
              "      <th>2</th>\n",
              "      <td>0.52</td>\n",
              "      <td>0.72</td>\n",
              "      <td>0.384615</td>\n",
              "    </tr>\n",
              "    <tr>\n",
              "      <th>3</th>\n",
              "      <td>0.64</td>\n",
              "      <td>0.80</td>\n",
              "      <td>0.599359</td>\n",
              "    </tr>\n",
              "    <tr>\n",
              "      <th>4</th>\n",
              "      <td>0.48</td>\n",
              "      <td>0.65</td>\n",
              "      <td>0.451923</td>\n",
              "    </tr>\n",
              "  </tbody>\n",
              "</table>\n",
              "</div>\n",
              "      <button class=\"colab-df-convert\" onclick=\"convertToInteractive('df-c6921e3b-f015-4f4f-ae32-50ed8d7eaa33')\"\n",
              "              title=\"Convert this dataframe to an interactive table.\"\n",
              "              style=\"display:none;\">\n",
              "        \n",
              "  <svg xmlns=\"http://www.w3.org/2000/svg\" height=\"24px\"viewBox=\"0 0 24 24\"\n",
              "       width=\"24px\">\n",
              "    <path d=\"M0 0h24v24H0V0z\" fill=\"none\"/>\n",
              "    <path d=\"M18.56 5.44l.94 2.06.94-2.06 2.06-.94-2.06-.94-.94-2.06-.94 2.06-2.06.94zm-11 1L8.5 8.5l.94-2.06 2.06-.94-2.06-.94L8.5 2.5l-.94 2.06-2.06.94zm10 10l.94 2.06.94-2.06 2.06-.94-2.06-.94-.94-2.06-.94 2.06-2.06.94z\"/><path d=\"M17.41 7.96l-1.37-1.37c-.4-.4-.92-.59-1.43-.59-.52 0-1.04.2-1.43.59L10.3 9.45l-7.72 7.72c-.78.78-.78 2.05 0 2.83L4 21.41c.39.39.9.59 1.41.59.51 0 1.02-.2 1.41-.59l7.78-7.78 2.81-2.81c.8-.78.8-2.07 0-2.86zM5.41 20L4 18.59l7.72-7.72 1.47 1.35L5.41 20z\"/>\n",
              "  </svg>\n",
              "      </button>\n",
              "      \n",
              "  <style>\n",
              "    .colab-df-container {\n",
              "      display:flex;\n",
              "      flex-wrap:wrap;\n",
              "      gap: 12px;\n",
              "    }\n",
              "\n",
              "    .colab-df-convert {\n",
              "      background-color: #E8F0FE;\n",
              "      border: none;\n",
              "      border-radius: 50%;\n",
              "      cursor: pointer;\n",
              "      display: none;\n",
              "      fill: #1967D2;\n",
              "      height: 32px;\n",
              "      padding: 0 0 0 0;\n",
              "      width: 32px;\n",
              "    }\n",
              "\n",
              "    .colab-df-convert:hover {\n",
              "      background-color: #E2EBFA;\n",
              "      box-shadow: 0px 1px 2px rgba(60, 64, 67, 0.3), 0px 1px 3px 1px rgba(60, 64, 67, 0.15);\n",
              "      fill: #174EA6;\n",
              "    }\n",
              "\n",
              "    [theme=dark] .colab-df-convert {\n",
              "      background-color: #3B4455;\n",
              "      fill: #D2E3FC;\n",
              "    }\n",
              "\n",
              "    [theme=dark] .colab-df-convert:hover {\n",
              "      background-color: #434B5C;\n",
              "      box-shadow: 0px 1px 3px 1px rgba(0, 0, 0, 0.15);\n",
              "      filter: drop-shadow(0px 1px 2px rgba(0, 0, 0, 0.3));\n",
              "      fill: #FFFFFF;\n",
              "    }\n",
              "  </style>\n",
              "\n",
              "      <script>\n",
              "        const buttonEl =\n",
              "          document.querySelector('#df-c6921e3b-f015-4f4f-ae32-50ed8d7eaa33 button.colab-df-convert');\n",
              "        buttonEl.style.display =\n",
              "          google.colab.kernel.accessAllowed ? 'block' : 'none';\n",
              "\n",
              "        async function convertToInteractive(key) {\n",
              "          const element = document.querySelector('#df-c6921e3b-f015-4f4f-ae32-50ed8d7eaa33');\n",
              "          const dataTable =\n",
              "            await google.colab.kernel.invokeFunction('convertToInteractive',\n",
              "                                                     [key], {});\n",
              "          if (!dataTable) return;\n",
              "\n",
              "          const docLinkHtml = 'Like what you see? Visit the ' +\n",
              "            '<a target=\"_blank\" href=https://colab.research.google.com/notebooks/data_table.ipynb>data table notebook</a>'\n",
              "            + ' to learn more about interactive tables.';\n",
              "          element.innerHTML = '';\n",
              "          dataTable['output_type'] = 'display_data';\n",
              "          await google.colab.output.renderOutput(dataTable, element);\n",
              "          const docLink = document.createElement('div');\n",
              "          docLink.innerHTML = docLinkHtml;\n",
              "          element.appendChild(docLink);\n",
              "        }\n",
              "      </script>\n",
              "    </div>\n",
              "  </div>\n",
              "  "
            ]
          },
          "metadata": {},
          "execution_count": 114
        }
      ]
    },
    {
      "cell_type": "code",
      "source": [
        "x3,y3=to_xy(multDF,'Chance of Admit ')\n",
        "#print(x3,y3)\n",
        "# 30% test, 70% train\n",
        "x3_train, x3_test, y3_train, y3_test = train_test_split(x3,y3, test_size=0.3, random_state=42)\n",
        "\n",
        "greTest = x3_test[:, 0]\n",
        "greTrain = x3_train[:, 0]\n",
        "cgpaTest = x3_test[:, 1]\n",
        "cgpaTrain = x3_train[:, 1]\n",
        "\n",
        "# create linear regression object\n",
        "admitMLR_regr = linear_model.LinearRegression()\n",
        "gre_regr = linear_model.LinearRegression()\n",
        "cgpa_regr = linear_model.LinearRegression()\n",
        "admitMLR_regr_testdata = linear_model.LinearRegression()\n",
        "\n",
        "# fit regression model to training set\n",
        "admitMLR_regr.fit(x3_train,y3_train)\n",
        "gre_regr.fit(greTrain.reshape(-1,1),y3_train)\n",
        "cgpa_regr.fit(cgpaTrain.reshape(-1,1),y3_train)\n",
        "admitMLR_regr_testdata.fit(x3_test,y3_test)\n",
        "\n",
        "# prediction set\n",
        "y3_pred = admitMLR_regr.predict(x3_test)\n",
        "grey2_pred = gre_regr.predict(greTest.reshape(-1,1))\n",
        "cgpay2_pred = cgpa_regr.predict(cgpaTest.reshape(-1,1))\n",
        "y3_pred_testdata = admitMLR_regr_testdata.predict(x3_train)"
      ],
      "metadata": {
        "id": "REFUdoD6Gle9"
      },
      "execution_count": null,
      "outputs": []
    },
    {
      "cell_type": "code",
      "source": [
        "print('Intercept: \\n', admitMLR_regr.intercept_)\n",
        "print('Coefficients: \\n', admitMLR_regr.coef_)"
      ],
      "metadata": {
        "colab": {
          "base_uri": "https://localhost:8080/"
        },
        "id": "-6ATMLjteTrh",
        "outputId": "6fb19e9e-f94a-47ef-ae1c-9020f7943694"
      },
      "execution_count": null,
      "outputs": [
        {
          "output_type": "stream",
          "name": "stdout",
          "text": [
            "Intercept: \n",
            " 0.35868654\n",
            "Coefficients: \n",
            " [0.18452081 0.469171  ]\n"
          ]
        }
      ]
    },
    {
      "cell_type": "code",
      "source": [
        "fig, ax = plt.subplots(2, figsize=(20,10))\n",
        "ax[0].scatter(greTest,y3_test, color='black')\n",
        "ax[0].set_xlabel('GRE Score')\n",
        "ax[0].set_ylabel('Chance of Admit')\n",
        "ax[0].plot(greTest, grey2_pred , color='blue', linewidth=3)\n",
        "titlestr = 'Predicted Function: y = %.2fx + %.2f' % (gre_regr.coef_[0],gre_regr.intercept_)\n",
        "#titlestr = 'Predicted Function: y = %.2fx + %.2f' % (admitMLR_regr.coef_[0],mpgMLR_regr.intercept_)\n",
        "ax[0].set_title(titlestr)\n",
        "\n",
        "ax[1].scatter(cgpaTest,y3_test, color='black')\n",
        "ax[1].set_xlabel('CGPA')\n",
        "ax[1].set_ylabel('Chance of Admit')\n",
        "ax[1].plot(cgpaTest, cgpay2_pred, color='purple', linewidth=3)\n",
        "titlestr = 'Predicted Function: y = %.2fx + %.2f' % (cgpa_regr.coef_[0],cgpa_regr.intercept_)\n",
        "#titlestr = 'Predicted Function: y = %.2fx + %.2f' % (admitMLR_regr.coef_[1],mpgMLR_regr.intercept_)\n",
        "ax[1].set_title(titlestr)"
      ],
      "metadata": {
        "colab": {
          "base_uri": "https://localhost:8080/"
        },
        "id": "m_f_vnJseUEn",
        "outputId": "e76a2cb6-d537-4862-e265-2f589422ddf2"
      },
      "execution_count": null,
      "outputs": [
        {
          "output_type": "execute_result",
          "data": {
            "text/plain": [
              "Text(0.5, 1.0, 'Predicted Function: y = 0.64x + 0.36')"
            ]
          },
          "metadata": {},
          "execution_count": 117
        },
        {
          "output_type": "display_data",
          "data": {
            "text/plain": [
              "<Figure size 1440x720 with 2 Axes>"
            ],
            "image/png": "[encoded data removed]"
          },
          "metadata": {
            "needs_background": "light"
          }
        }
      ]
    },
    {
      "cell_type": "code",
      "source": [
        "print(\"\\nPrediction Table for Chance of Admit based off GRE Score\")\n",
        "print('Predicted Function: y = %.2fx + %.2f' % (gre_regr.coef_[0],gre_regr.intercept_))\n",
        "for i in range(3):\n",
        "    print(\"True Chance of Admit : \",y3_test[i],\"| Prediction : \", grey2_pred[i],\"| GRE Score : \", greTest[i])\n",
        "print(\"\\nPrediction Table for Chance of Admit based off CGPA\")\n",
        "print('Predicted Function: y = %.2fx + %.2f' % (cgpa_regr.coef_[0],cgpa_regr.intercept_))\n",
        "for i in range(3):\n",
        "    print(\"True Chance of Admit : \",y3_test[i],\"| Prediction : \", cgpay2_pred[i],\"| CGPA : \", cgpaTest[i])\n",
        "print(\"\\nPrediction Table for Chance of Admit based off GRE Score and CGPA\")\n",
        "print('Predicted Function: y = %.2fx1 + %.2fx2 + %.2f' % (admitMLR_regr.coef_[1],admitMLR_regr.coef_[0],admitMLR_regr.intercept_))\n",
        "for i in range(3):\n",
        "    print(\"True Chance of Admit : \",y3_test[i],\"| Prediction : \", y3_pred[i],\"| GRE Score : \", greTest[i], \"and CGPA : \", cgpaTest[i])"
      ],
      "metadata": {
        "colab": {
          "base_uri": "https://localhost:8080/"
        },
        "id": "DcFv3NejgAX1",
        "outputId": "4e5e0c4b-84c4-443e-8c26-c0844525d2e3"
      },
      "execution_count": null,
      "outputs": [
        {
          "output_type": "stream",
          "name": "stdout",
          "text": [
            "\n",
            "Prediction Table for Chance of Admit based off GRE Score\n",
            "Predicted Function: y = 0.52x + 0.45\n",
            "True Chance of Admit :  0.93 | Prediction :  0.9048516 | GRE Score :  0.88\n",
            "True Chance of Admit :  0.84 | Prediction :  0.6966988 | GRE Score :  0.48\n",
            "True Chance of Admit :  0.39 | Prediction :  0.7071064 | GRE Score :  0.5\n",
            "\n",
            "Prediction Table for Chance of Admit based off CGPA\n",
            "Predicted Function: y = 0.64x + 0.36\n",
            "True Chance of Admit :  0.93 | Prediction :  0.92276704 | CGPA :  0.8782051\n",
            "True Chance of Admit :  0.84 | Prediction :  0.8196799 | CGPA :  0.71794873\n",
            "True Chance of Admit :  0.39 | Prediction :  0.53309774 | CGPA :  0.2724359\n",
            "\n",
            "Prediction Table for Chance of Admit based off GRE Score and CGPA\n",
            "Predicted Function: y = 0.47x1 + 0.18x2 + 0.36\n",
            "True Chance of Admit :  0.93 | Prediction :  0.9330932 | GRE Score :  0.88 and CGPA :  0.8782051\n",
            "True Chance of Admit :  0.84 | Prediction :  0.7840972 | GRE Score :  0.48 and CGPA :  0.71794873\n",
            "True Chance of Admit :  0.39 | Prediction :  0.578766 | GRE Score :  0.5 and CGPA :  0.2724359\n"
          ]
        }
      ]
    },
    {
      "cell_type": "code",
      "source": [
        "# Comparing true versus predicted values\n",
        "plt.scatter(y3_test, y3_pred, color='black')\n",
        "plt.title('Comparing true and predicted values for test set')\n",
        "plt.xlabel('True values for y')\n",
        "plt.ylabel('Predicted values for y')\n",
        "\n",
        "# Model evaluation\n",
        "print(\"Root mean squared error = %.4f\" % np.sqrt(mean_squared_error(y3_test, y3_pred)))\n",
        "print('R-squared = %.4f' % r2_score(y3_test, y3_pred))"
      ],
      "metadata": {
        "colab": {
          "base_uri": "https://localhost:8080/"
        },
        "id": "rt9gDwyXfEql",
        "outputId": "1b23d8a9-91b7-43bc-f01d-d9bebe36cd38"
      },
      "execution_count": null,
      "outputs": [
        {
          "output_type": "stream",
          "name": "stdout",
          "text": [
            "Root mean squared error = 0.0646\n",
            "R-squared = 0.7997\n"
          ]
        },
        {
          "output_type": "display_data",
          "data": {
            "text/plain": [
              "<Figure size 432x288 with 1 Axes>"
            ],
            "image/png": "[encoded data removed]"
          },
          "metadata": {
            "needs_background": "light"
          }
        }
      ]
    },
    {
      "cell_type": "code",
      "source": [
        "chart_regression(y3_pred,y3_test)"
      ],
      "metadata": {
        "colab": {
          "base_uri": "https://localhost:8080/"
        },
        "id": "0U8rDw4kfXq9",
        "outputId": "b990403f-5a27-400a-e5cd-c4e99159ba92"
      },
      "execution_count": null,
      "outputs": [
        {
          "output_type": "display_data",
          "data": {
            "text/plain": [
              "<Figure size 432x288 with 1 Axes>"
            ],
            "image/png": "[encoded data removed]"
          },
          "metadata": {
            "needs_background": "light"
          }
        }
      ]
    },
    {
      "cell_type": "markdown",
      "source": [
        "### Prediction of Value Outside Range\n",
        "Greater than 2, since the data was already normalized using min-max. Deciding attribute is CGPA.\n",
        "\n"
      ],
      "metadata": {
        "id": "6gVvS9mjPgOI"
      }
    },
    {
      "cell_type": "code",
      "source": [
        "outside_value = np.array([[3]])\n",
        "pred_outside = cgpa_regr.predict(outside_value)\n",
        "print(\"Prediction : \", pred_outside)"
      ],
      "metadata": {
        "colab": {
          "base_uri": "https://localhost:8080/"
        },
        "id": "9jfGHvauPko2",
        "outputId": "917eea08-7b9f-4c1b-96fb-6484491c5427"
      },
      "execution_count": null,
      "outputs": [
        {
          "output_type": "stream",
          "name": "stdout",
          "text": [
            "Prediction :  [2.28764024]\n"
          ]
        }
      ]
    },
    {
      "cell_type": "markdown",
      "source": [
        "Prediction Function with Test and Training data swapped"
      ],
      "metadata": {
        "id": "qxrC5AzROi0e"
      }
    },
    {
      "cell_type": "code",
      "source": [
        "print('Slope = ', admitMLR_regr_testdata.coef_)\n",
        "print('Intercept = ', admitMLR_regr_testdata.intercept_)\n",
        "\n",
        "print(\"\\nPrediction Table for Chance of Admit based off GRE Score and CGPA\")\n",
        "print('Predicted Function: y = %.2fx1 + %.2fx2 + %.2f' % (admitMLR_regr_testdata.coef_[1],admitMLR_regr_testdata.coef_[0],admitMLR_regr_testdata.intercept_))\n",
        "for i in range(10):\n",
        "    print(\"True Chance of Admit : \",y3_train[i],\"| Prediction : \", y3_pred_testdata[i],\"| GRE Score : \", greTrain[i], \"and CGPA : \", cgpaTrain[i])"
      ],
      "metadata": {
        "colab": {
          "base_uri": "https://localhost:8080/"
        },
        "id": "QqhTvY_FNNVQ",
        "outputId": "216debbd-64d2-4238-bc86-494dff53e6e5"
      },
      "execution_count": null,
      "outputs": [
        {
          "output_type": "stream",
          "name": "stdout",
          "text": [
            "Slope =  [0.10907015 0.5315402 ]\n",
            "Intercept =  0.35664952\n",
            "\n",
            "Prediction Table for Chance of Admit based off GRE Score and CGPA\n",
            "Predicted Function: y = 0.53x1 + 0.11x2 + 0.36\n",
            "True Chance of Admit :  0.9 | Prediction :  0.8766339 | GRE Score :  0.8 and CGPA :  0.8141026\n",
            "True Chance of Admit :  0.56 | Prediction :  0.68634725 | GRE Score :  0.18 and CGPA :  0.5833333\n",
            "True Chance of Admit :  0.88 | Prediction :  0.81829494 | GRE Score :  0.64 and CGPA :  0.73717946\n",
            "True Chance of Admit :  0.66 | Prediction :  0.7392417 | GRE Score :  0.54 and CGPA :  0.60897434\n",
            "True Chance of Admit :  0.62 | Prediction :  0.58795 | GRE Score :  0.34 and CGPA :  0.3653846\n",
            "True Chance of Admit :  0.68 | Prediction :  0.5663433 | GRE Score :  0.22 and CGPA :  0.34935898\n",
            "True Chance of Admit :  0.8 | Prediction :  0.7450378 | GRE Score :  0.64 and CGPA :  0.599359\n",
            "True Chance of Admit :  0.84 | Prediction :  0.8005103 | GRE Score :  0.68 and CGPA :  0.69551283\n",
            "True Chance of Admit :  0.52 | Prediction :  0.4935639 | GRE Score :  0.24 and CGPA :  0.20833333\n",
            "True Chance of Admit :  0.48 | Prediction :  0.61957127 | GRE Score :  0.38 and CGPA :  0.41666666\n"
          ]
        }
      ]
    }
  ],
  "metadata": {
    "colab": {
      "provenance": []
    },
    "kernelspec": {
      "display_name": "Python 3",
      "name": "python3"
    },
    "language_info": {
      "name": "python"
    }
  },
  "nbformat": 4,
  "nbformat_minor": 0
}