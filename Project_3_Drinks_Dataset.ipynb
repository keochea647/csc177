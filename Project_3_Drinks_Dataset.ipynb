{
  "nbformat": 4,
  "nbformat_minor": 0,
  "metadata": {
    "colab": {
      "provenance": []
    },
    "kernelspec": {
      "name": "python3",
      "display_name": "Python 3"
    },
    "language_info": {
      "name": "python"
    }
  },
  "cells": [
    {
      "cell_type": "code",
      "execution_count": null,
      "metadata": {
        "colab": {
          "base_uri": "https://localhost:8080/",
          "height": 270
        },
        "id": "KvFgv2auRbiV",
        "outputId": "2f43cc21-dea5-4a43-ca04-50ec26b5242d"
      },
      "outputs": [
        {
          "output_type": "execute_result",
          "data": {
            "text/plain": [
              "       country  beer_servings  spirit_servings  wine_servings  \\\n",
              "0  Afghanistan            0.0              0.0            0.0   \n",
              "1      Albania           89.0            132.0           54.0   \n",
              "2      Algeria           25.0              0.0           14.0   \n",
              "3      Andorra          245.0            138.0          312.0   \n",
              "4       Angola            NaN             57.0           45.0   \n",
              "\n",
              "   total_litres_of_pure_alcohol continent  \n",
              "0                           0.0      Asia  \n",
              "1                           4.9    Europe  \n",
              "2                           0.7    Africa  \n",
              "3                          12.4    Europe  \n",
              "4                           5.9    Africa  "
            ],
            "text/html": [
              "\n",
              "  <div id=\"df-13fff178-f7ff-4f95-a2fe-46c39e4e175f\">\n",
              "    <div class=\"colab-df-container\">\n",
              "      <div>\n",
              "<style scoped>\n",
              "    .dataframe tbody tr th:only-of-type {\n",
              "        vertical-align: middle;\n",
              "    }\n",
              "\n",
              "    .dataframe tbody tr th {\n",
              "        vertical-align: top;\n",
              "    }\n",
              "\n",
              "    .dataframe thead th {\n",
              "        text-align: right;\n",
              "    }\n",
              "</style>\n",
              "<table border=\"1\" class=\"dataframe\">\n",
              "  <thead>\n",
              "    <tr style=\"text-align: right;\">\n",
              "      <th></th>\n",
              "      <th>country</th>\n",
              "      <th>beer_servings</th>\n",
              "      <th>spirit_servings</th>\n",
              "      <th>wine_servings</th>\n",
              "      <th>total_litres_of_pure_alcohol</th>\n",
              "      <th>continent</th>\n",
              "    </tr>\n",
              "  </thead>\n",
              "  <tbody>\n",
              "    <tr>\n",
              "      <th>0</th>\n",
              "      <td>Afghanistan</td>\n",
              "      <td>0.0</td>\n",
              "      <td>0.0</td>\n",
              "      <td>0.0</td>\n",
              "      <td>0.0</td>\n",
              "      <td>Asia</td>\n",
              "    </tr>\n",
              "    <tr>\n",
              "      <th>1</th>\n",
              "      <td>Albania</td>\n",
              "      <td>89.0</td>\n",
              "      <td>132.0</td>\n",
              "      <td>54.0</td>\n",
              "      <td>4.9</td>\n",
              "      <td>Europe</td>\n",
              "    </tr>\n",
              "    <tr>\n",
              "      <th>2</th>\n",
              "      <td>Algeria</td>\n",
              "      <td>25.0</td>\n",
              "      <td>0.0</td>\n",
              "      <td>14.0</td>\n",
              "      <td>0.7</td>\n",
              "      <td>Africa</td>\n",
              "    </tr>\n",
              "    <tr>\n",
              "      <th>3</th>\n",
              "      <td>Andorra</td>\n",
              "      <td>245.0</td>\n",
              "      <td>138.0</td>\n",
              "      <td>312.0</td>\n",
              "      <td>12.4</td>\n",
              "      <td>Europe</td>\n",
              "    </tr>\n",
              "    <tr>\n",
              "      <th>4</th>\n",
              "      <td>Angola</td>\n",
              "      <td>NaN</td>\n",
              "      <td>57.0</td>\n",
              "      <td>45.0</td>\n",
              "      <td>5.9</td>\n",
              "      <td>Africa</td>\n",
              "    </tr>\n",
              "  </tbody>\n",
              "</table>\n",
              "</div>\n",
              "      <button class=\"colab-df-convert\" onclick=\"convertToInteractive('df-13fff178-f7ff-4f95-a2fe-46c39e4e175f')\"\n",
              "              title=\"Convert this dataframe to an interactive table.\"\n",
              "              style=\"display:none;\">\n",
              "        \n",
              "  <svg xmlns=\"http://www.w3.org/2000/svg\" height=\"24px\"viewBox=\"0 0 24 24\"\n",
              "       width=\"24px\">\n",
              "    <path d=\"M0 0h24v24H0V0z\" fill=\"none\"/>\n",
              "    <path d=\"M18.56 5.44l.94 2.06.94-2.06 2.06-.94-2.06-.94-.94-2.06-.94 2.06-2.06.94zm-11 1L8.5 8.5l.94-2.06 2.06-.94-2.06-.94L8.5 2.5l-.94 2.06-2.06.94zm10 10l.94 2.06.94-2.06 2.06-.94-2.06-.94-.94-2.06-.94 2.06-2.06.94z\"/><path d=\"M17.41 7.96l-1.37-1.37c-.4-.4-.92-.59-1.43-.59-.52 0-1.04.2-1.43.59L10.3 9.45l-7.72 7.72c-.78.78-.78 2.05 0 2.83L4 21.41c.39.39.9.59 1.41.59.51 0 1.02-.2 1.41-.59l7.78-7.78 2.81-2.81c.8-.78.8-2.07 0-2.86zM5.41 20L4 18.59l7.72-7.72 1.47 1.35L5.41 20z\"/>\n",
              "  </svg>\n",
              "      </button>\n",
              "      \n",
              "  <style>\n",
              "    .colab-df-container {\n",
              "      display:flex;\n",
              "      flex-wrap:wrap;\n",
              "      gap: 12px;\n",
              "    }\n",
              "\n",
              "    .colab-df-convert {\n",
              "      background-color: #E8F0FE;\n",
              "      border: none;\n",
              "      border-radius: 50%;\n",
              "      cursor: pointer;\n",
              "      display: none;\n",
              "      fill: #1967D2;\n",
              "      height: 32px;\n",
              "      padding: 0 0 0 0;\n",
              "      width: 32px;\n",
              "    }\n",
              "\n",
              "    .colab-df-convert:hover {\n",
              "      background-color: #E2EBFA;\n",
              "      box-shadow: 0px 1px 2px rgba(60, 64, 67, 0.3), 0px 1px 3px 1px rgba(60, 64, 67, 0.15);\n",
              "      fill: #174EA6;\n",
              "    }\n",
              "\n",
              "    [theme=dark] .colab-df-convert {\n",
              "      background-color: #3B4455;\n",
              "      fill: #D2E3FC;\n",
              "    }\n",
              "\n",
              "    [theme=dark] .colab-df-convert:hover {\n",
              "      background-color: #434B5C;\n",
              "      box-shadow: 0px 1px 3px 1px rgba(0, 0, 0, 0.15);\n",
              "      filter: drop-shadow(0px 1px 2px rgba(0, 0, 0, 0.3));\n",
              "      fill: #FFFFFF;\n",
              "    }\n",
              "  </style>\n",
              "\n",
              "      <script>\n",
              "        const buttonEl =\n",
              "          document.querySelector('#df-13fff178-f7ff-4f95-a2fe-46c39e4e175f button.colab-df-convert');\n",
              "        buttonEl.style.display =\n",
              "          google.colab.kernel.accessAllowed ? 'block' : 'none';\n",
              "\n",
              "        async function convertToInteractive(key) {\n",
              "          const element = document.querySelector('#df-13fff178-f7ff-4f95-a2fe-46c39e4e175f');\n",
              "          const dataTable =\n",
              "            await google.colab.kernel.invokeFunction('convertToInteractive',\n",
              "                                                     [key], {});\n",
              "          if (!dataTable) return;\n",
              "\n",
              "          const docLinkHtml = 'Like what you see? Visit the ' +\n",
              "            '<a target=\"_blank\" href=https://colab.research.google.com/notebooks/data_table.ipynb>data table notebook</a>'\n",
              "            + ' to learn more about interactive tables.';\n",
              "          element.innerHTML = '';\n",
              "          dataTable['output_type'] = 'display_data';\n",
              "          await google.colab.output.renderOutput(dataTable, element);\n",
              "          const docLink = document.createElement('div');\n",
              "          docLink.innerHTML = docLinkHtml;\n",
              "          element.appendChild(docLink);\n",
              "        }\n",
              "      </script>\n",
              "    </div>\n",
              "  </div>\n",
              "  "
            ]
          },
          "metadata": {},
          "execution_count": 6
        }
      ],
      "source": [
        "import os\n",
        "import pandas as pd\n",
        "import numpy as np\n",
        "%matplotlib inline\n",
        "import matplotlib.pyplot as plt\n",
        "from sklearn import linear_model\n",
        "\n",
        "path = \"./data/\"\n",
        "filename_read = os.path.join(path,\"drinks.csv\")\n",
        "ddf = pd.read_csv(filename_read, na_values=['NA','?'])\n",
        "\n",
        "# for test & splitting set\n",
        "drinksNoProcessing = ddf\n",
        "\n",
        "ddf.head()"
      ]
    },
    {
      "cell_type": "code",
      "source": [
        "print(ddf['continent'].value_counts().sort_values(ascending=False).head())"
      ],
      "metadata": {
        "colab": {
          "base_uri": "https://localhost:8080/"
        },
        "id": "3jpEf0JUR-5G",
        "outputId": "1cfd7e1b-5182-46a5-a1b2-60a4c3582073"
      },
      "execution_count": null,
      "outputs": [
        {
          "output_type": "stream",
          "name": "stdout",
          "text": [
            "Africa           52\n",
            "Asia             41\n",
            "Europe           41\n",
            "North America    22\n",
            "Oceania          16\n",
            "Name: continent, dtype: int64\n"
          ]
        }
      ]
    },
    {
      "cell_type": "code",
      "source": [
        "ddf.drop(['country'],inplace=True,axis=1)\n",
        "coolcontinent = ['Asia','Europe']\n",
        "ddf = ddf[ddf['continent'].isin(coolcontinent) == True]\n",
        "print(ddf['continent'].value_counts().sort_values(ascending=False))"
      ],
      "metadata": {
        "colab": {
          "base_uri": "https://localhost:8080/"
        },
        "id": "7JsE6xm4V9nc",
        "outputId": "258b0a49-4bef-4e10-a2cd-da93566d9794"
      },
      "execution_count": null,
      "outputs": [
        {
          "output_type": "stream",
          "name": "stdout",
          "text": [
            "Asia      41\n",
            "Europe    41\n",
            "Name: continent, dtype: int64\n"
          ]
        }
      ]
    },
    {
      "cell_type": "code",
      "source": [
        "ddf = ddf.reset_index(drop=True)\n",
        "ddf.head(83) #some asian countries have 0 for all attributes. Don't know if i should drop"
      ],
      "metadata": {
        "colab": {
          "base_uri": "https://localhost:8080/",
          "height": 488
        },
        "id": "XNcMCDKVXKee",
        "outputId": "064521c0-c93c-487d-dcba-ae251a30362d"
      },
      "execution_count": null,
      "outputs": [
        {
          "output_type": "execute_result",
          "data": {
            "text/plain": [
              "    beer_servings  spirit_servings  wine_servings  \\\n",
              "0             0.0              0.0            0.0   \n",
              "1            89.0            132.0           54.0   \n",
              "2           245.0            138.0          312.0   \n",
              "3            21.0            179.0           11.0   \n",
              "4           279.0             75.0          191.0   \n",
              "..            ...              ...            ...   \n",
              "77           16.0            135.0            5.0   \n",
              "78          219.0            126.0          195.0   \n",
              "79           25.0            101.0            8.0   \n",
              "80            NaN              2.0            1.0   \n",
              "81            6.0              0.0            0.0   \n",
              "\n",
              "    total_litres_of_pure_alcohol continent  \n",
              "0                            0.0      Asia  \n",
              "1                            4.9    Europe  \n",
              "2                           12.4    Europe  \n",
              "3                            3.8    Europe  \n",
              "4                            9.7    Europe  \n",
              "..                           ...       ...  \n",
              "77                           2.8      Asia  \n",
              "78                          10.4    Europe  \n",
              "79                           2.4      Asia  \n",
              "80                           2.0      Asia  \n",
              "81                           0.1      Asia  \n",
              "\n",
              "[82 rows x 5 columns]"
            ],
            "text/html": [
              "\n",
              "  <div id=\"df-78c04eaa-fa03-4d64-b0db-5597964718c6\">\n",
              "    <div class=\"colab-df-container\">\n",
              "      <div>\n",
              "<style scoped>\n",
              "    .dataframe tbody tr th:only-of-type {\n",
              "        vertical-align: middle;\n",
              "    }\n",
              "\n",
              "    .dataframe tbody tr th {\n",
              "        vertical-align: top;\n",
              "    }\n",
              "\n",
              "    .dataframe thead th {\n",
              "        text-align: right;\n",
              "    }\n",
              "</style>\n",
              "<table border=\"1\" class=\"dataframe\">\n",
              "  <thead>\n",
              "    <tr style=\"text-align: right;\">\n",
              "      <th></th>\n",
              "      <th>beer_servings</th>\n",
              "      <th>spirit_servings</th>\n",
              "      <th>wine_servings</th>\n",
              "      <th>total_litres_of_pure_alcohol</th>\n",
              "      <th>continent</th>\n",
              "    </tr>\n",
              "  </thead>\n",
              "  <tbody>\n",
              "    <tr>\n",
              "      <th>0</th>\n",
              "      <td>0.0</td>\n",
              "      <td>0.0</td>\n",
              "      <td>0.0</td>\n",
              "      <td>0.0</td>\n",
              "      <td>Asia</td>\n",
              "    </tr>\n",
              "    <tr>\n",
              "      <th>1</th>\n",
              "      <td>89.0</td>\n",
              "      <td>132.0</td>\n",
              "      <td>54.0</td>\n",
              "      <td>4.9</td>\n",
              "      <td>Europe</td>\n",
              "    </tr>\n",
              "    <tr>\n",
              "      <th>2</th>\n",
              "      <td>245.0</td>\n",
              "      <td>138.0</td>\n",
              "      <td>312.0</td>\n",
              "      <td>12.4</td>\n",
              "      <td>Europe</td>\n",
              "    </tr>\n",
              "    <tr>\n",
              "      <th>3</th>\n",
              "      <td>21.0</td>\n",
              "      <td>179.0</td>\n",
              "      <td>11.0</td>\n",
              "      <td>3.8</td>\n",
              "      <td>Europe</td>\n",
              "    </tr>\n",
              "    <tr>\n",
              "      <th>4</th>\n",
              "      <td>279.0</td>\n",
              "      <td>75.0</td>\n",
              "      <td>191.0</td>\n",
              "      <td>9.7</td>\n",
              "      <td>Europe</td>\n",
              "    </tr>\n",
              "    <tr>\n",
              "      <th>...</th>\n",
              "      <td>...</td>\n",
              "      <td>...</td>\n",
              "      <td>...</td>\n",
              "      <td>...</td>\n",
              "      <td>...</td>\n",
              "    </tr>\n",
              "    <tr>\n",
              "      <th>77</th>\n",
              "      <td>16.0</td>\n",
              "      <td>135.0</td>\n",
              "      <td>5.0</td>\n",
              "      <td>2.8</td>\n",
              "      <td>Asia</td>\n",
              "    </tr>\n",
              "    <tr>\n",
              "      <th>78</th>\n",
              "      <td>219.0</td>\n",
              "      <td>126.0</td>\n",
              "      <td>195.0</td>\n",
              "      <td>10.4</td>\n",
              "      <td>Europe</td>\n",
              "    </tr>\n",
              "    <tr>\n",
              "      <th>79</th>\n",
              "      <td>25.0</td>\n",
              "      <td>101.0</td>\n",
              "      <td>8.0</td>\n",
              "      <td>2.4</td>\n",
              "      <td>Asia</td>\n",
              "    </tr>\n",
              "    <tr>\n",
              "      <th>80</th>\n",
              "      <td>NaN</td>\n",
              "      <td>2.0</td>\n",
              "      <td>1.0</td>\n",
              "      <td>2.0</td>\n",
              "      <td>Asia</td>\n",
              "    </tr>\n",
              "    <tr>\n",
              "      <th>81</th>\n",
              "      <td>6.0</td>\n",
              "      <td>0.0</td>\n",
              "      <td>0.0</td>\n",
              "      <td>0.1</td>\n",
              "      <td>Asia</td>\n",
              "    </tr>\n",
              "  </tbody>\n",
              "</table>\n",
              "<p>82 rows × 5 columns</p>\n",
              "</div>\n",
              "      <button class=\"colab-df-convert\" onclick=\"convertToInteractive('df-78c04eaa-fa03-4d64-b0db-5597964718c6')\"\n",
              "              title=\"Convert this dataframe to an interactive table.\"\n",
              "              style=\"display:none;\">\n",
              "        \n",
              "  <svg xmlns=\"http://www.w3.org/2000/svg\" height=\"24px\"viewBox=\"0 0 24 24\"\n",
              "       width=\"24px\">\n",
              "    <path d=\"M0 0h24v24H0V0z\" fill=\"none\"/>\n",
              "    <path d=\"M18.56 5.44l.94 2.06.94-2.06 2.06-.94-2.06-.94-.94-2.06-.94 2.06-2.06.94zm-11 1L8.5 8.5l.94-2.06 2.06-.94-2.06-.94L8.5 2.5l-.94 2.06-2.06.94zm10 10l.94 2.06.94-2.06 2.06-.94-2.06-.94-.94-2.06-.94 2.06-2.06.94z\"/><path d=\"M17.41 7.96l-1.37-1.37c-.4-.4-.92-.59-1.43-.59-.52 0-1.04.2-1.43.59L10.3 9.45l-7.72 7.72c-.78.78-.78 2.05 0 2.83L4 21.41c.39.39.9.59 1.41.59.51 0 1.02-.2 1.41-.59l7.78-7.78 2.81-2.81c.8-.78.8-2.07 0-2.86zM5.41 20L4 18.59l7.72-7.72 1.47 1.35L5.41 20z\"/>\n",
              "  </svg>\n",
              "      </button>\n",
              "      \n",
              "  <style>\n",
              "    .colab-df-container {\n",
              "      display:flex;\n",
              "      flex-wrap:wrap;\n",
              "      gap: 12px;\n",
              "    }\n",
              "\n",
              "    .colab-df-convert {\n",
              "      background-color: #E8F0FE;\n",
              "      border: none;\n",
              "      border-radius: 50%;\n",
              "      cursor: pointer;\n",
              "      display: none;\n",
              "      fill: #1967D2;\n",
              "      height: 32px;\n",
              "      padding: 0 0 0 0;\n",
              "      width: 32px;\n",
              "    }\n",
              "\n",
              "    .colab-df-convert:hover {\n",
              "      background-color: #E2EBFA;\n",
              "      box-shadow: 0px 1px 2px rgba(60, 64, 67, 0.3), 0px 1px 3px 1px rgba(60, 64, 67, 0.15);\n",
              "      fill: #174EA6;\n",
              "    }\n",
              "\n",
              "    [theme=dark] .colab-df-convert {\n",
              "      background-color: #3B4455;\n",
              "      fill: #D2E3FC;\n",
              "    }\n",
              "\n",
              "    [theme=dark] .colab-df-convert:hover {\n",
              "      background-color: #434B5C;\n",
              "      box-shadow: 0px 1px 3px 1px rgba(0, 0, 0, 0.15);\n",
              "      filter: drop-shadow(0px 1px 2px rgba(0, 0, 0, 0.3));\n",
              "      fill: #FFFFFF;\n",
              "    }\n",
              "  </style>\n",
              "\n",
              "      <script>\n",
              "        const buttonEl =\n",
              "          document.querySelector('#df-78c04eaa-fa03-4d64-b0db-5597964718c6 button.colab-df-convert');\n",
              "        buttonEl.style.display =\n",
              "          google.colab.kernel.accessAllowed ? 'block' : 'none';\n",
              "\n",
              "        async function convertToInteractive(key) {\n",
              "          const element = document.querySelector('#df-78c04eaa-fa03-4d64-b0db-5597964718c6');\n",
              "          const dataTable =\n",
              "            await google.colab.kernel.invokeFunction('convertToInteractive',\n",
              "                                                     [key], {});\n",
              "          if (!dataTable) return;\n",
              "\n",
              "          const docLinkHtml = 'Like what you see? Visit the ' +\n",
              "            '<a target=\"_blank\" href=https://colab.research.google.com/notebooks/data_table.ipynb>data table notebook</a>'\n",
              "            + ' to learn more about interactive tables.';\n",
              "          element.innerHTML = '';\n",
              "          dataTable['output_type'] = 'display_data';\n",
              "          await google.colab.output.renderOutput(dataTable, element);\n",
              "          const docLink = document.createElement('div');\n",
              "          docLink.innerHTML = docLinkHtml;\n",
              "          element.appendChild(docLink);\n",
              "        }\n",
              "      </script>\n",
              "    </div>\n",
              "  </div>\n",
              "  "
            ]
          },
          "metadata": {},
          "execution_count": 9
        }
      ]
    },
    {
      "cell_type": "markdown",
      "source": [
        "# Filter Decision"
      ],
      "metadata": {
        "id": "Sfp-UqRJDcuT"
      }
    },
    {
      "cell_type": "code",
      "source": [
        "print('Number of missing values:')\n",
        "print(ddf.isna().sum())"
      ],
      "metadata": {
        "colab": {
          "base_uri": "https://localhost:8080/"
        },
        "id": "YohMz-MzSFeN",
        "outputId": "7eecaa97-22c8-48f2-831c-5a2ab1c95f97"
      },
      "execution_count": null,
      "outputs": [
        {
          "output_type": "stream",
          "name": "stdout",
          "text": [
            "Number of missing values:\n",
            "beer_servings                   7\n",
            "spirit_servings                 5\n",
            "wine_servings                   3\n",
            "total_litres_of_pure_alcohol    0\n",
            "continent                       0\n",
            "dtype: int64\n"
          ]
        }
      ]
    },
    {
      "cell_type": "code",
      "source": [
        "def missing_median(df, name):\n",
        "    med = df[name].median()\n",
        "    df[name] = df[name].fillna(med)"
      ],
      "metadata": {
        "id": "nJdOdKi7U__n"
      },
      "execution_count": null,
      "outputs": []
    },
    {
      "cell_type": "code",
      "source": [
        "missing_median(ddf,'beer_servings')\n",
        "missing_median(ddf,'spirit_servings')\n",
        "missing_median(ddf,'wine_servings')\n",
        "\n",
        "print(ddf.isna().sum())"
      ],
      "metadata": {
        "colab": {
          "base_uri": "https://localhost:8080/"
        },
        "id": "JkX-x85OSG1W",
        "outputId": "8900cb37-a865-4d1a-8e9e-01bfdb4007a5"
      },
      "execution_count": null,
      "outputs": [
        {
          "output_type": "stream",
          "name": "stdout",
          "text": [
            "beer_servings                   0\n",
            "spirit_servings                 0\n",
            "wine_servings                   0\n",
            "total_litres_of_pure_alcohol    0\n",
            "continent                       0\n",
            "dtype: int64\n"
          ]
        }
      ]
    },
    {
      "cell_type": "markdown",
      "source": [
        "# Correlation Checking\n",
        "Some attributes are correlated with each other. We decided to drop total_litres_of_pure_alcohol since it was highly correlated with beer and wine servings."
      ],
      "metadata": {
        "id": "UqM32HecflU5"
      }
    },
    {
      "cell_type": "code",
      "source": [
        "ddfCorrelCheck = ddf;\n",
        "ddfCorrelCheck.corr()"
      ],
      "metadata": {
        "colab": {
          "base_uri": "https://localhost:8080/",
          "height": 239
        },
        "id": "099bMkVaaOe8",
        "outputId": "b699df4d-4670-401f-bb41-22c7b20f6f9e"
      },
      "execution_count": null,
      "outputs": [
        {
          "output_type": "execute_result",
          "data": {
            "text/plain": [
              "                              beer_servings  spirit_servings  wine_servings  \\\n",
              "beer_servings                      1.000000         0.522559       0.651517   \n",
              "spirit_servings                    0.522559         1.000000       0.204778   \n",
              "wine_servings                      0.651517         0.204778       1.000000   \n",
              "total_litres_of_pure_alcohol       0.878188         0.658840       0.745136   \n",
              "\n",
              "                              total_litres_of_pure_alcohol  \n",
              "beer_servings                                     0.878188  \n",
              "spirit_servings                                   0.658840  \n",
              "wine_servings                                     0.745136  \n",
              "total_litres_of_pure_alcohol                      1.000000  "
            ],
            "text/html": [
              "\n",
              "  <div id=\"df-bfc0d48f-4878-4871-8bac-7d8fda17fd88\">\n",
              "    <div class=\"colab-df-container\">\n",
              "      <div>\n",
              "<style scoped>\n",
              "    .dataframe tbody tr th:only-of-type {\n",
              "        vertical-align: middle;\n",
              "    }\n",
              "\n",
              "    .dataframe tbody tr th {\n",
              "        vertical-align: top;\n",
              "    }\n",
              "\n",
              "    .dataframe thead th {\n",
              "        text-align: right;\n",
              "    }\n",
              "</style>\n",
              "<table border=\"1\" class=\"dataframe\">\n",
              "  <thead>\n",
              "    <tr style=\"text-align: right;\">\n",
              "      <th></th>\n",
              "      <th>beer_servings</th>\n",
              "      <th>spirit_servings</th>\n",
              "      <th>wine_servings</th>\n",
              "      <th>total_litres_of_pure_alcohol</th>\n",
              "    </tr>\n",
              "  </thead>\n",
              "  <tbody>\n",
              "    <tr>\n",
              "      <th>beer_servings</th>\n",
              "      <td>1.000000</td>\n",
              "      <td>0.522559</td>\n",
              "      <td>0.651517</td>\n",
              "      <td>0.878188</td>\n",
              "    </tr>\n",
              "    <tr>\n",
              "      <th>spirit_servings</th>\n",
              "      <td>0.522559</td>\n",
              "      <td>1.000000</td>\n",
              "      <td>0.204778</td>\n",
              "      <td>0.658840</td>\n",
              "    </tr>\n",
              "    <tr>\n",
              "      <th>wine_servings</th>\n",
              "      <td>0.651517</td>\n",
              "      <td>0.204778</td>\n",
              "      <td>1.000000</td>\n",
              "      <td>0.745136</td>\n",
              "    </tr>\n",
              "    <tr>\n",
              "      <th>total_litres_of_pure_alcohol</th>\n",
              "      <td>0.878188</td>\n",
              "      <td>0.658840</td>\n",
              "      <td>0.745136</td>\n",
              "      <td>1.000000</td>\n",
              "    </tr>\n",
              "  </tbody>\n",
              "</table>\n",
              "</div>\n",
              "      <button class=\"colab-df-convert\" onclick=\"convertToInteractive('df-bfc0d48f-4878-4871-8bac-7d8fda17fd88')\"\n",
              "              title=\"Convert this dataframe to an interactive table.\"\n",
              "              style=\"display:none;\">\n",
              "        \n",
              "  <svg xmlns=\"http://www.w3.org/2000/svg\" height=\"24px\"viewBox=\"0 0 24 24\"\n",
              "       width=\"24px\">\n",
              "    <path d=\"M0 0h24v24H0V0z\" fill=\"none\"/>\n",
              "    <path d=\"M18.56 5.44l.94 2.06.94-2.06 2.06-.94-2.06-.94-.94-2.06-.94 2.06-2.06.94zm-11 1L8.5 8.5l.94-2.06 2.06-.94-2.06-.94L8.5 2.5l-.94 2.06-2.06.94zm10 10l.94 2.06.94-2.06 2.06-.94-2.06-.94-.94-2.06-.94 2.06-2.06.94z\"/><path d=\"M17.41 7.96l-1.37-1.37c-.4-.4-.92-.59-1.43-.59-.52 0-1.04.2-1.43.59L10.3 9.45l-7.72 7.72c-.78.78-.78 2.05 0 2.83L4 21.41c.39.39.9.59 1.41.59.51 0 1.02-.2 1.41-.59l7.78-7.78 2.81-2.81c.8-.78.8-2.07 0-2.86zM5.41 20L4 18.59l7.72-7.72 1.47 1.35L5.41 20z\"/>\n",
              "  </svg>\n",
              "      </button>\n",
              "      \n",
              "  <style>\n",
              "    .colab-df-container {\n",
              "      display:flex;\n",
              "      flex-wrap:wrap;\n",
              "      gap: 12px;\n",
              "    }\n",
              "\n",
              "    .colab-df-convert {\n",
              "      background-color: #E8F0FE;\n",
              "      border: none;\n",
              "      border-radius: 50%;\n",
              "      cursor: pointer;\n",
              "      display: none;\n",
              "      fill: #1967D2;\n",
              "      height: 32px;\n",
              "      padding: 0 0 0 0;\n",
              "      width: 32px;\n",
              "    }\n",
              "\n",
              "    .colab-df-convert:hover {\n",
              "      background-color: #E2EBFA;\n",
              "      box-shadow: 0px 1px 2px rgba(60, 64, 67, 0.3), 0px 1px 3px 1px rgba(60, 64, 67, 0.15);\n",
              "      fill: #174EA6;\n",
              "    }\n",
              "\n",
              "    [theme=dark] .colab-df-convert {\n",
              "      background-color: #3B4455;\n",
              "      fill: #D2E3FC;\n",
              "    }\n",
              "\n",
              "    [theme=dark] .colab-df-convert:hover {\n",
              "      background-color: #434B5C;\n",
              "      box-shadow: 0px 1px 3px 1px rgba(0, 0, 0, 0.15);\n",
              "      filter: drop-shadow(0px 1px 2px rgba(0, 0, 0, 0.3));\n",
              "      fill: #FFFFFF;\n",
              "    }\n",
              "  </style>\n",
              "\n",
              "      <script>\n",
              "        const buttonEl =\n",
              "          document.querySelector('#df-bfc0d48f-4878-4871-8bac-7d8fda17fd88 button.colab-df-convert');\n",
              "        buttonEl.style.display =\n",
              "          google.colab.kernel.accessAllowed ? 'block' : 'none';\n",
              "\n",
              "        async function convertToInteractive(key) {\n",
              "          const element = document.querySelector('#df-bfc0d48f-4878-4871-8bac-7d8fda17fd88');\n",
              "          const dataTable =\n",
              "            await google.colab.kernel.invokeFunction('convertToInteractive',\n",
              "                                                     [key], {});\n",
              "          if (!dataTable) return;\n",
              "\n",
              "          const docLinkHtml = 'Like what you see? Visit the ' +\n",
              "            '<a target=\"_blank\" href=https://colab.research.google.com/notebooks/data_table.ipynb>data table notebook</a>'\n",
              "            + ' to learn more about interactive tables.';\n",
              "          element.innerHTML = '';\n",
              "          dataTable['output_type'] = 'display_data';\n",
              "          await google.colab.output.renderOutput(dataTable, element);\n",
              "          const docLink = document.createElement('div');\n",
              "          docLink.innerHTML = docLinkHtml;\n",
              "          element.appendChild(docLink);\n",
              "        }\n",
              "      </script>\n",
              "    </div>\n",
              "  </div>\n",
              "  "
            ]
          },
          "metadata": {},
          "execution_count": 13
        }
      ]
    },
    {
      "cell_type": "code",
      "source": [
        "continentMapping={'Asia':0,'Europe':1}\n",
        "ddf['continent'] = ddf['continent'].map(continentMapping)"
      ],
      "metadata": {
        "id": "kvyzLidLY3lR"
      },
      "execution_count": null,
      "outputs": []
    },
    {
      "cell_type": "markdown",
      "source": [
        "###Train and Test Data"
      ],
      "metadata": {
        "id": "8jg8Kd9SfUZJ"
      }
    },
    {
      "cell_type": "code",
      "source": [
        "from sklearn import linear_model\n",
        "from sklearn.metrics import mean_squared_error, r2_score\n",
        "from sklearn.model_selection import train_test_split\n",
        "from sklearn import preprocessing\n",
        "\n",
        "Y = pd.DataFrame(ddf, columns=['continent'])\n",
        "#'spirit_servings','beer_servings','wine_servings','total_litres_of_pure_alcohol'\n",
        "X = ddf.filter(['spirit_servings','beer_servings','wine_servings'])\n",
        "\n",
        "x_train, x_test, y_train, y_test, = train_test_split(X,Y,test_size=0.20, random_state=69)\n",
        "\n",
        "print(y_train);"
      ],
      "metadata": {
        "colab": {
          "base_uri": "https://localhost:8080/"
        },
        "id": "ELJYHOcza-lE",
        "outputId": "8ef491de-2478-42ed-87e6-1ce5275be578"
      },
      "execution_count": null,
      "outputs": [
        {
          "output_type": "stream",
          "name": "stdout",
          "text": [
            "    continent\n",
            "72          0\n",
            "32          0\n",
            "74          0\n",
            "4           1\n",
            "34          0\n",
            "..        ...\n",
            "20          1\n",
            "55          1\n",
            "73          1\n",
            "75          0\n",
            "54          0\n",
            "\n",
            "[65 rows x 1 columns]\n"
          ]
        }
      ]
    },
    {
      "cell_type": "markdown",
      "source": [
        "# Decision Tree (DT)"
      ],
      "metadata": {
        "id": "AisEbUNGJD1f"
      }
    },
    {
      "cell_type": "code",
      "source": [
        "from sklearn import tree\n",
        "\n",
        "clf = tree.DecisionTreeClassifier(criterion='entropy',max_depth=7)\n",
        "clf=clf.fit(x_train,y_train)\n"
      ],
      "metadata": {
        "id": "-N5Ijqr2hfoC"
      },
      "execution_count": null,
      "outputs": []
    },
    {
      "cell_type": "code",
      "source": [
        "import graphviz  \n",
        "\n",
        "dot_data = tree.export_graphviz(clf, out_file =None,feature_names =x_train.columns,class_names=['Asia','Europe'], filled=True, rounded=True, special_characters=True)  \n",
        "\n",
        "graph = graphviz.Source(dot_data) \n",
        "graph "
      ],
      "metadata": {
        "id": "2CsBA_si7Inl",
        "colab": {
          "base_uri": "https://localhost:8080/",
          "height": 1000
        },
        "outputId": "34242496-f211-4cdd-ca04-9c0adf81d892"
      },
      "execution_count": null,
      "outputs": [
        {
          "output_type": "execute_result",
          "data": {
            "text/plain": [
              "<graphviz.files.Source at 0x7fa9a46c0610>"
            ],
            "image/svg+xml": "<?xml version=\"1.0\" encoding=\"UTF-8\" standalone=\"no\"?>\n<!DOCTYPE svg PUBLIC \"-//W3C//DTD SVG 1.1//EN\"\n \"http://www.w3.org/Graphics/SVG/1.1/DTD/svg11.dtd\">\n<!-- Generated by graphviz version 2.40.1 (20161225.0304)\n -->\n<!-- Title: Tree Pages: 1 -->\n<svg width=\"1056pt\" height=\"909pt\"\n viewBox=\"0.00 0.00 1055.50 909.00\" xmlns=\"http://www.w3.org/2000/svg\" xmlns:xlink=\"http://www.w3.org/1999/xlink\">\n<g id=\"graph0\" class=\"graph\" transform=\"scale(1 1) rotate(0) translate(4 905)\">\n<title>Tree</title>\n<polygon fill=\"#ffffff\" stroke=\"transparent\" points=\"-4,4 -4,-905 1051.5,-905 1051.5,4 -4,4\"/>\n<!-- 0 -->\n<g id=\"node1\" class=\"node\">\n<title>0</title>\n<path fill=\"#fdf4ee\" stroke=\"#000000\" d=\"M774.5,-901C774.5,-901 645.5,-901 645.5,-901 639.5,-901 633.5,-895 633.5,-889 633.5,-889 633.5,-830 633.5,-830 633.5,-824 639.5,-818 645.5,-818 645.5,-818 774.5,-818 774.5,-818 780.5,-818 786.5,-824 786.5,-830 786.5,-830 786.5,-889 786.5,-889 786.5,-895 780.5,-901 774.5,-901\"/>\n<text text-anchor=\"start\" x=\"641.5\" y=\"-885.8\" font-family=\"Helvetica,sans-Serif\" font-size=\"14.00\" fill=\"#000000\">wine_servings ≤ 37.0</text>\n<text text-anchor=\"start\" x=\"659\" y=\"-870.8\" font-family=\"Helvetica,sans-Serif\" font-size=\"14.00\" fill=\"#000000\">entropy = 0.998</text>\n<text text-anchor=\"start\" x=\"666\" y=\"-855.8\" font-family=\"Helvetica,sans-Serif\" font-size=\"14.00\" fill=\"#000000\">samples = 65</text>\n<text text-anchor=\"start\" x=\"660\" y=\"-840.8\" font-family=\"Helvetica,sans-Serif\" font-size=\"14.00\" fill=\"#000000\">value = [34, 31]</text>\n<text text-anchor=\"start\" x=\"671\" y=\"-825.8\" font-family=\"Helvetica,sans-Serif\" font-size=\"14.00\" fill=\"#000000\">class = Asia</text>\n</g>\n<!-- 1 -->\n<g id=\"node2\" class=\"node\">\n<title>1</title>\n<path fill=\"#e89152\" stroke=\"#000000\" d=\"M691.5,-782C691.5,-782 554.5,-782 554.5,-782 548.5,-782 542.5,-776 542.5,-770 542.5,-770 542.5,-711 542.5,-711 542.5,-705 548.5,-699 554.5,-699 554.5,-699 691.5,-699 691.5,-699 697.5,-699 703.5,-705 703.5,-711 703.5,-711 703.5,-770 703.5,-770 703.5,-776 697.5,-782 691.5,-782\"/>\n<text text-anchor=\"start\" x=\"550.5\" y=\"-766.8\" font-family=\"Helvetica,sans-Serif\" font-size=\"14.00\" fill=\"#000000\">beer_servings ≤ 104.0</text>\n<text text-anchor=\"start\" x=\"572\" y=\"-751.8\" font-family=\"Helvetica,sans-Serif\" font-size=\"14.00\" fill=\"#000000\">entropy = 0.503</text>\n<text text-anchor=\"start\" x=\"579\" y=\"-736.8\" font-family=\"Helvetica,sans-Serif\" font-size=\"14.00\" fill=\"#000000\">samples = 36</text>\n<text text-anchor=\"start\" x=\"577.5\" y=\"-721.8\" font-family=\"Helvetica,sans-Serif\" font-size=\"14.00\" fill=\"#000000\">value = [32, 4]</text>\n<text text-anchor=\"start\" x=\"584\" y=\"-706.8\" font-family=\"Helvetica,sans-Serif\" font-size=\"14.00\" fill=\"#000000\">class = Asia</text>\n</g>\n<!-- 0&#45;&gt;1 -->\n<g id=\"edge1\" class=\"edge\">\n<title>0&#45;&gt;1</title>\n<path fill=\"none\" stroke=\"#000000\" d=\"M679.5716,-817.8796C673.1189,-809.0534 666.243,-799.6485 659.5887,-790.5466\"/>\n<polygon fill=\"#000000\" stroke=\"#000000\" points=\"662.2856,-788.3051 653.5583,-782.2981 656.6347,-792.4364 662.2856,-788.3051\"/>\n<text text-anchor=\"middle\" x=\"649.7208\" y=\"-803.3018\" font-family=\"Helvetica,sans-Serif\" font-size=\"14.00\" fill=\"#000000\">True</text>\n</g>\n<!-- 16 -->\n<g id=\"node17\" class=\"node\">\n<title>16</title>\n<path fill=\"#48a4e7\" stroke=\"#000000\" d=\"M862.5,-782C862.5,-782 733.5,-782 733.5,-782 727.5,-782 721.5,-776 721.5,-770 721.5,-770 721.5,-711 721.5,-711 721.5,-705 727.5,-699 733.5,-699 733.5,-699 862.5,-699 862.5,-699 868.5,-699 874.5,-705 874.5,-711 874.5,-711 874.5,-770 874.5,-770 874.5,-776 868.5,-782 862.5,-782\"/>\n<text text-anchor=\"start\" x=\"729.5\" y=\"-766.8\" font-family=\"Helvetica,sans-Serif\" font-size=\"14.00\" fill=\"#000000\">spirit_servings ≤ 13.5</text>\n<text text-anchor=\"start\" x=\"747\" y=\"-751.8\" font-family=\"Helvetica,sans-Serif\" font-size=\"14.00\" fill=\"#000000\">entropy = 0.362</text>\n<text text-anchor=\"start\" x=\"754\" y=\"-736.8\" font-family=\"Helvetica,sans-Serif\" font-size=\"14.00\" fill=\"#000000\">samples = 29</text>\n<text text-anchor=\"start\" x=\"752.5\" y=\"-721.8\" font-family=\"Helvetica,sans-Serif\" font-size=\"14.00\" fill=\"#000000\">value = [2, 27]</text>\n<text text-anchor=\"start\" x=\"749.5\" y=\"-706.8\" font-family=\"Helvetica,sans-Serif\" font-size=\"14.00\" fill=\"#000000\">class = Europe</text>\n</g>\n<!-- 0&#45;&gt;16 -->\n<g id=\"edge16\" class=\"edge\">\n<title>0&#45;&gt;16</title>\n<path fill=\"none\" stroke=\"#000000\" d=\"M740.7781,-817.8796C747.3051,-809.0534 754.2599,-799.6485 760.9908,-790.5466\"/>\n<polygon fill=\"#000000\" stroke=\"#000000\" points=\"763.9588,-792.4195 767.0905,-782.2981 758.3305,-788.2574 763.9588,-792.4195\"/>\n<text text-anchor=\"middle\" x=\"770.7932\" y=\"-803.3224\" font-family=\"Helvetica,sans-Serif\" font-size=\"14.00\" fill=\"#000000\">False</text>\n</g>\n<!-- 2 -->\n<g id=\"node3\" class=\"node\">\n<title>2</title>\n<path fill=\"#e78d4c\" stroke=\"#000000\" d=\"M549.5,-663C549.5,-663 420.5,-663 420.5,-663 414.5,-663 408.5,-657 408.5,-651 408.5,-651 408.5,-592 408.5,-592 408.5,-586 414.5,-580 420.5,-580 420.5,-580 549.5,-580 549.5,-580 555.5,-580 561.5,-586 561.5,-592 561.5,-592 561.5,-651 561.5,-651 561.5,-657 555.5,-663 549.5,-663\"/>\n<text text-anchor=\"start\" x=\"416.5\" y=\"-647.8\" font-family=\"Helvetica,sans-Serif\" font-size=\"14.00\" fill=\"#000000\">wine_servings ≤ 13.5</text>\n<text text-anchor=\"start\" x=\"434\" y=\"-632.8\" font-family=\"Helvetica,sans-Serif\" font-size=\"14.00\" fill=\"#000000\">entropy = 0.422</text>\n<text text-anchor=\"start\" x=\"441\" y=\"-617.8\" font-family=\"Helvetica,sans-Serif\" font-size=\"14.00\" fill=\"#000000\">samples = 35</text>\n<text text-anchor=\"start\" x=\"439.5\" y=\"-602.8\" font-family=\"Helvetica,sans-Serif\" font-size=\"14.00\" fill=\"#000000\">value = [32, 3]</text>\n<text text-anchor=\"start\" x=\"446\" y=\"-587.8\" font-family=\"Helvetica,sans-Serif\" font-size=\"14.00\" fill=\"#000000\">class = Asia</text>\n</g>\n<!-- 1&#45;&gt;2 -->\n<g id=\"edge2\" class=\"edge\">\n<title>1&#45;&gt;2</title>\n<path fill=\"none\" stroke=\"#000000\" d=\"M574.7343,-698.8796C563.8722,-689.513 552.2544,-679.4948 541.1027,-669.8784\"/>\n<polygon fill=\"#000000\" stroke=\"#000000\" points=\"543.3306,-667.178 533.4717,-663.2981 538.7592,-672.4792 543.3306,-667.178\"/>\n</g>\n<!-- 15 -->\n<g id=\"node16\" class=\"node\">\n<title>15</title>\n<path fill=\"#399de5\" stroke=\"#000000\" d=\"M680.5,-655.5C680.5,-655.5 591.5,-655.5 591.5,-655.5 585.5,-655.5 579.5,-649.5 579.5,-643.5 579.5,-643.5 579.5,-599.5 579.5,-599.5 579.5,-593.5 585.5,-587.5 591.5,-587.5 591.5,-587.5 680.5,-587.5 680.5,-587.5 686.5,-587.5 692.5,-593.5 692.5,-599.5 692.5,-599.5 692.5,-643.5 692.5,-643.5 692.5,-649.5 686.5,-655.5 680.5,-655.5\"/>\n<text text-anchor=\"start\" x=\"593.5\" y=\"-640.3\" font-family=\"Helvetica,sans-Serif\" font-size=\"14.00\" fill=\"#000000\">entropy = 0.0</text>\n<text text-anchor=\"start\" x=\"596.5\" y=\"-625.3\" font-family=\"Helvetica,sans-Serif\" font-size=\"14.00\" fill=\"#000000\">samples = 1</text>\n<text text-anchor=\"start\" x=\"594.5\" y=\"-610.3\" font-family=\"Helvetica,sans-Serif\" font-size=\"14.00\" fill=\"#000000\">value = [0, 1]</text>\n<text text-anchor=\"start\" x=\"587.5\" y=\"-595.3\" font-family=\"Helvetica,sans-Serif\" font-size=\"14.00\" fill=\"#000000\">class = Europe</text>\n</g>\n<!-- 1&#45;&gt;15 -->\n<g id=\"edge15\" class=\"edge\">\n<title>1&#45;&gt;15</title>\n<path fill=\"none\" stroke=\"#000000\" d=\"M627.5468,-698.8796C628.712,-688.2134 629.9695,-676.7021 631.1494,-665.9015\"/>\n<polygon fill=\"#000000\" stroke=\"#000000\" points=\"634.6445,-666.1359 632.2513,-655.8149 627.6859,-665.3757 634.6445,-666.1359\"/>\n</g>\n<!-- 3 -->\n<g id=\"node4\" class=\"node\">\n<title>3</title>\n<path fill=\"#e88f4f\" stroke=\"#000000\" d=\"M475.5,-544C475.5,-544 354.5,-544 354.5,-544 348.5,-544 342.5,-538 342.5,-532 342.5,-532 342.5,-473 342.5,-473 342.5,-467 348.5,-461 354.5,-461 354.5,-461 475.5,-461 475.5,-461 481.5,-461 487.5,-467 487.5,-473 487.5,-473 487.5,-532 487.5,-532 487.5,-538 481.5,-544 475.5,-544\"/>\n<text text-anchor=\"start\" x=\"350.5\" y=\"-528.8\" font-family=\"Helvetica,sans-Serif\" font-size=\"14.00\" fill=\"#000000\">wine_servings ≤ 9.5</text>\n<text text-anchor=\"start\" x=\"364\" y=\"-513.8\" font-family=\"Helvetica,sans-Serif\" font-size=\"14.00\" fill=\"#000000\">entropy = 0.469</text>\n<text text-anchor=\"start\" x=\"371\" y=\"-498.8\" font-family=\"Helvetica,sans-Serif\" font-size=\"14.00\" fill=\"#000000\">samples = 30</text>\n<text text-anchor=\"start\" x=\"369.5\" y=\"-483.8\" font-family=\"Helvetica,sans-Serif\" font-size=\"14.00\" fill=\"#000000\">value = [27, 3]</text>\n<text text-anchor=\"start\" x=\"376\" y=\"-468.8\" font-family=\"Helvetica,sans-Serif\" font-size=\"14.00\" fill=\"#000000\">class = Asia</text>\n</g>\n<!-- 2&#45;&gt;3 -->\n<g id=\"edge3\" class=\"edge\">\n<title>2&#45;&gt;3</title>\n<path fill=\"none\" stroke=\"#000000\" d=\"M460.5174,-579.8796C455.4315,-571.2335 450.0189,-562.0322 444.7672,-553.1042\"/>\n<polygon fill=\"#000000\" stroke=\"#000000\" points=\"447.6741,-551.1428 439.5871,-544.2981 441.6406,-554.692 447.6741,-551.1428\"/>\n</g>\n<!-- 14 -->\n<g id=\"node15\" class=\"node\">\n<title>14</title>\n<path fill=\"#e58139\" stroke=\"#000000\" d=\"M594.5,-536.5C594.5,-536.5 517.5,-536.5 517.5,-536.5 511.5,-536.5 505.5,-530.5 505.5,-524.5 505.5,-524.5 505.5,-480.5 505.5,-480.5 505.5,-474.5 511.5,-468.5 517.5,-468.5 517.5,-468.5 594.5,-468.5 594.5,-468.5 600.5,-468.5 606.5,-474.5 606.5,-480.5 606.5,-480.5 606.5,-524.5 606.5,-524.5 606.5,-530.5 600.5,-536.5 594.5,-536.5\"/>\n<text text-anchor=\"start\" x=\"513.5\" y=\"-521.3\" font-family=\"Helvetica,sans-Serif\" font-size=\"14.00\" fill=\"#000000\">entropy = 0.0</text>\n<text text-anchor=\"start\" x=\"516.5\" y=\"-506.3\" font-family=\"Helvetica,sans-Serif\" font-size=\"14.00\" fill=\"#000000\">samples = 5</text>\n<text text-anchor=\"start\" x=\"514.5\" y=\"-491.3\" font-family=\"Helvetica,sans-Serif\" font-size=\"14.00\" fill=\"#000000\">value = [5, 0]</text>\n<text text-anchor=\"start\" x=\"517\" y=\"-476.3\" font-family=\"Helvetica,sans-Serif\" font-size=\"14.00\" fill=\"#000000\">class = Asia</text>\n</g>\n<!-- 2&#45;&gt;14 -->\n<g id=\"edge14\" class=\"edge\">\n<title>2&#45;&gt;14</title>\n<path fill=\"none\" stroke=\"#000000\" d=\"M509.8324,-579.8796C516.4587,-568.7735 523.6316,-556.7513 530.3033,-545.5691\"/>\n<polygon fill=\"#000000\" stroke=\"#000000\" points=\"533.4083,-547.1959 535.5264,-536.8149 527.3969,-543.6093 533.4083,-547.1959\"/>\n</g>\n<!-- 4 -->\n<g id=\"node5\" class=\"node\">\n<title>4</title>\n<path fill=\"#e78b48\" stroke=\"#000000\" d=\"M394.5,-425C394.5,-425 265.5,-425 265.5,-425 259.5,-425 253.5,-419 253.5,-413 253.5,-413 253.5,-354 253.5,-354 253.5,-348 259.5,-342 265.5,-342 265.5,-342 394.5,-342 394.5,-342 400.5,-342 406.5,-348 406.5,-354 406.5,-354 406.5,-413 406.5,-413 406.5,-419 400.5,-425 394.5,-425\"/>\n<text text-anchor=\"start\" x=\"261.5\" y=\"-409.8\" font-family=\"Helvetica,sans-Serif\" font-size=\"14.00\" fill=\"#000000\">spirit_servings ≤ 54.5</text>\n<text text-anchor=\"start\" x=\"279\" y=\"-394.8\" font-family=\"Helvetica,sans-Serif\" font-size=\"14.00\" fill=\"#000000\">entropy = 0.371</text>\n<text text-anchor=\"start\" x=\"286\" y=\"-379.8\" font-family=\"Helvetica,sans-Serif\" font-size=\"14.00\" fill=\"#000000\">samples = 28</text>\n<text text-anchor=\"start\" x=\"284.5\" y=\"-364.8\" font-family=\"Helvetica,sans-Serif\" font-size=\"14.00\" fill=\"#000000\">value = [26, 2]</text>\n<text text-anchor=\"start\" x=\"291\" y=\"-349.8\" font-family=\"Helvetica,sans-Serif\" font-size=\"14.00\" fill=\"#000000\">class = Asia</text>\n</g>\n<!-- 3&#45;&gt;4 -->\n<g id=\"edge4\" class=\"edge\">\n<title>3&#45;&gt;4</title>\n<path fill=\"none\" stroke=\"#000000\" d=\"M385.2711,-460.8796C378.9667,-452.0534 372.249,-442.6485 365.7476,-433.5466\"/>\n<polygon fill=\"#000000\" stroke=\"#000000\" points=\"368.5163,-431.4011 359.8558,-425.2981 362.8201,-435.4698 368.5163,-431.4011\"/>\n</g>\n<!-- 11 -->\n<g id=\"node12\" class=\"node\">\n<title>11</title>\n<path fill=\"#ffffff\" stroke=\"#000000\" d=\"M565,-425C565,-425 437,-425 437,-425 431,-425 425,-419 425,-413 425,-413 425,-354 425,-354 425,-348 431,-342 437,-342 437,-342 565,-342 565,-342 571,-342 577,-348 577,-354 577,-354 577,-413 577,-413 577,-419 571,-425 565,-425\"/>\n<text text-anchor=\"start\" x=\"433\" y=\"-409.8\" font-family=\"Helvetica,sans-Serif\" font-size=\"14.00\" fill=\"#000000\">beer_servings ≤ 40.5</text>\n<text text-anchor=\"start\" x=\"458.5\" y=\"-394.8\" font-family=\"Helvetica,sans-Serif\" font-size=\"14.00\" fill=\"#000000\">entropy = 1.0</text>\n<text text-anchor=\"start\" x=\"461.5\" y=\"-379.8\" font-family=\"Helvetica,sans-Serif\" font-size=\"14.00\" fill=\"#000000\">samples = 2</text>\n<text text-anchor=\"start\" x=\"459.5\" y=\"-364.8\" font-family=\"Helvetica,sans-Serif\" font-size=\"14.00\" fill=\"#000000\">value = [1, 1]</text>\n<text text-anchor=\"start\" x=\"462\" y=\"-349.8\" font-family=\"Helvetica,sans-Serif\" font-size=\"14.00\" fill=\"#000000\">class = Asia</text>\n</g>\n<!-- 3&#45;&gt;11 -->\n<g id=\"edge11\" class=\"edge\">\n<title>3&#45;&gt;11</title>\n<path fill=\"none\" stroke=\"#000000\" d=\"M445.0786,-460.8796C451.4572,-452.0534 458.254,-442.6485 464.8319,-433.5466\"/>\n<polygon fill=\"#000000\" stroke=\"#000000\" points=\"467.7723,-435.4532 470.793,-425.2981 462.0988,-431.353 467.7723,-435.4532\"/>\n</g>\n<!-- 5 -->\n<g id=\"node6\" class=\"node\">\n<title>5</title>\n<path fill=\"#e88f4f\" stroke=\"#000000\" d=\"M261.5,-306C261.5,-306 132.5,-306 132.5,-306 126.5,-306 120.5,-300 120.5,-294 120.5,-294 120.5,-235 120.5,-235 120.5,-229 126.5,-223 132.5,-223 132.5,-223 261.5,-223 261.5,-223 267.5,-223 273.5,-229 273.5,-235 273.5,-235 273.5,-294 273.5,-294 273.5,-300 267.5,-306 261.5,-306\"/>\n<text text-anchor=\"start\" x=\"128.5\" y=\"-290.8\" font-family=\"Helvetica,sans-Serif\" font-size=\"14.00\" fill=\"#000000\">spirit_servings ≤ 44.0</text>\n<text text-anchor=\"start\" x=\"146\" y=\"-275.8\" font-family=\"Helvetica,sans-Serif\" font-size=\"14.00\" fill=\"#000000\">entropy = 0.469</text>\n<text text-anchor=\"start\" x=\"153\" y=\"-260.8\" font-family=\"Helvetica,sans-Serif\" font-size=\"14.00\" fill=\"#000000\">samples = 20</text>\n<text text-anchor=\"start\" x=\"151.5\" y=\"-245.8\" font-family=\"Helvetica,sans-Serif\" font-size=\"14.00\" fill=\"#000000\">value = [18, 2]</text>\n<text text-anchor=\"start\" x=\"158\" y=\"-230.8\" font-family=\"Helvetica,sans-Serif\" font-size=\"14.00\" fill=\"#000000\">class = Asia</text>\n</g>\n<!-- 4&#45;&gt;5 -->\n<g id=\"edge5\" class=\"edge\">\n<title>4&#45;&gt;5</title>\n<path fill=\"none\" stroke=\"#000000\" d=\"M283.4831,-341.8796C273.1152,-332.6031 262.0329,-322.6874 251.3801,-313.1559\"/>\n<polygon fill=\"#000000\" stroke=\"#000000\" points=\"253.5017,-310.3577 243.7155,-306.2981 248.8341,-315.5744 253.5017,-310.3577\"/>\n</g>\n<!-- 10 -->\n<g id=\"node11\" class=\"node\">\n<title>10</title>\n<path fill=\"#e58139\" stroke=\"#000000\" d=\"M380.5,-298.5C380.5,-298.5 303.5,-298.5 303.5,-298.5 297.5,-298.5 291.5,-292.5 291.5,-286.5 291.5,-286.5 291.5,-242.5 291.5,-242.5 291.5,-236.5 297.5,-230.5 303.5,-230.5 303.5,-230.5 380.5,-230.5 380.5,-230.5 386.5,-230.5 392.5,-236.5 392.5,-242.5 392.5,-242.5 392.5,-286.5 392.5,-286.5 392.5,-292.5 386.5,-298.5 380.5,-298.5\"/>\n<text text-anchor=\"start\" x=\"299.5\" y=\"-283.3\" font-family=\"Helvetica,sans-Serif\" font-size=\"14.00\" fill=\"#000000\">entropy = 0.0</text>\n<text text-anchor=\"start\" x=\"302.5\" y=\"-268.3\" font-family=\"Helvetica,sans-Serif\" font-size=\"14.00\" fill=\"#000000\">samples = 8</text>\n<text text-anchor=\"start\" x=\"300.5\" y=\"-253.3\" font-family=\"Helvetica,sans-Serif\" font-size=\"14.00\" fill=\"#000000\">value = [8, 0]</text>\n<text text-anchor=\"start\" x=\"303\" y=\"-238.3\" font-family=\"Helvetica,sans-Serif\" font-size=\"14.00\" fill=\"#000000\">class = Asia</text>\n</g>\n<!-- 4&#45;&gt;10 -->\n<g id=\"edge10\" class=\"edge\">\n<title>4&#45;&gt;10</title>\n<path fill=\"none\" stroke=\"#000000\" d=\"M334.197,-341.8796C335.2726,-331.2134 336.4334,-319.7021 337.5225,-308.9015\"/>\n<polygon fill=\"#000000\" stroke=\"#000000\" points=\"341.0186,-309.1157 338.5397,-298.8149 334.0539,-308.4133 341.0186,-309.1157\"/>\n</g>\n<!-- 6 -->\n<g id=\"node7\" class=\"node\">\n<title>6</title>\n<path fill=\"#e68844\" stroke=\"#000000\" d=\"M184.5,-187C184.5,-187 63.5,-187 63.5,-187 57.5,-187 51.5,-181 51.5,-175 51.5,-175 51.5,-116 51.5,-116 51.5,-110 57.5,-104 63.5,-104 63.5,-104 184.5,-104 184.5,-104 190.5,-104 196.5,-110 196.5,-116 196.5,-116 196.5,-175 196.5,-175 196.5,-181 190.5,-187 184.5,-187\"/>\n<text text-anchor=\"start\" x=\"59.5\" y=\"-171.8\" font-family=\"Helvetica,sans-Serif\" font-size=\"14.00\" fill=\"#000000\">spirit_servings ≤ 0.5</text>\n<text text-anchor=\"start\" x=\"73\" y=\"-156.8\" font-family=\"Helvetica,sans-Serif\" font-size=\"14.00\" fill=\"#000000\">entropy = 0.297</text>\n<text text-anchor=\"start\" x=\"80\" y=\"-141.8\" font-family=\"Helvetica,sans-Serif\" font-size=\"14.00\" fill=\"#000000\">samples = 19</text>\n<text text-anchor=\"start\" x=\"78.5\" y=\"-126.8\" font-family=\"Helvetica,sans-Serif\" font-size=\"14.00\" fill=\"#000000\">value = [18, 1]</text>\n<text text-anchor=\"start\" x=\"85\" y=\"-111.8\" font-family=\"Helvetica,sans-Serif\" font-size=\"14.00\" fill=\"#000000\">class = Asia</text>\n</g>\n<!-- 5&#45;&gt;6 -->\n<g id=\"edge6\" class=\"edge\">\n<title>5&#45;&gt;6</title>\n<path fill=\"none\" stroke=\"#000000\" d=\"M171.4681,-222.8796C166.109,-214.1434 160.4021,-204.8404 154.8718,-195.8253\"/>\n<polygon fill=\"#000000\" stroke=\"#000000\" points=\"157.8533,-193.9919 149.6408,-187.2981 151.8865,-197.6522 157.8533,-193.9919\"/>\n</g>\n<!-- 9 -->\n<g id=\"node10\" class=\"node\">\n<title>9</title>\n<path fill=\"#399de5\" stroke=\"#000000\" d=\"M315.5,-179.5C315.5,-179.5 226.5,-179.5 226.5,-179.5 220.5,-179.5 214.5,-173.5 214.5,-167.5 214.5,-167.5 214.5,-123.5 214.5,-123.5 214.5,-117.5 220.5,-111.5 226.5,-111.5 226.5,-111.5 315.5,-111.5 315.5,-111.5 321.5,-111.5 327.5,-117.5 327.5,-123.5 327.5,-123.5 327.5,-167.5 327.5,-167.5 327.5,-173.5 321.5,-179.5 315.5,-179.5\"/>\n<text text-anchor=\"start\" x=\"228.5\" y=\"-164.3\" font-family=\"Helvetica,sans-Serif\" font-size=\"14.00\" fill=\"#000000\">entropy = 0.0</text>\n<text text-anchor=\"start\" x=\"231.5\" y=\"-149.3\" font-family=\"Helvetica,sans-Serif\" font-size=\"14.00\" fill=\"#000000\">samples = 1</text>\n<text text-anchor=\"start\" x=\"229.5\" y=\"-134.3\" font-family=\"Helvetica,sans-Serif\" font-size=\"14.00\" fill=\"#000000\">value = [0, 1]</text>\n<text text-anchor=\"start\" x=\"222.5\" y=\"-119.3\" font-family=\"Helvetica,sans-Serif\" font-size=\"14.00\" fill=\"#000000\">class = Europe</text>\n</g>\n<!-- 5&#45;&gt;9 -->\n<g id=\"edge9\" class=\"edge\">\n<title>5&#45;&gt;9</title>\n<path fill=\"none\" stroke=\"#000000\" d=\"M222.8816,-222.8796C229.7879,-211.7735 237.2639,-199.7513 244.2175,-188.5691\"/>\n<polygon fill=\"#000000\" stroke=\"#000000\" points=\"247.3527,-190.1552 249.6613,-179.8149 241.4083,-186.4587 247.3527,-190.1552\"/>\n</g>\n<!-- 7 -->\n<g id=\"node8\" class=\"node\">\n<title>7</title>\n<path fill=\"#e89152\" stroke=\"#000000\" d=\"M106,-68C106,-68 12,-68 12,-68 6,-68 0,-62 0,-56 0,-56 0,-12 0,-12 0,-6 6,0 12,0 12,0 106,0 106,0 112,0 118,-6 118,-12 118,-12 118,-56 118,-56 118,-62 112,-68 106,-68\"/>\n<text text-anchor=\"start\" x=\"8\" y=\"-52.8\" font-family=\"Helvetica,sans-Serif\" font-size=\"14.00\" fill=\"#000000\">entropy = 0.503</text>\n<text text-anchor=\"start\" x=\"19.5\" y=\"-37.8\" font-family=\"Helvetica,sans-Serif\" font-size=\"14.00\" fill=\"#000000\">samples = 9</text>\n<text text-anchor=\"start\" x=\"17.5\" y=\"-22.8\" font-family=\"Helvetica,sans-Serif\" font-size=\"14.00\" fill=\"#000000\">value = [8, 1]</text>\n<text text-anchor=\"start\" x=\"20\" y=\"-7.8\" font-family=\"Helvetica,sans-Serif\" font-size=\"14.00\" fill=\"#000000\">class = Asia</text>\n</g>\n<!-- 6&#45;&gt;7 -->\n<g id=\"edge7\" class=\"edge\">\n<title>6&#45;&gt;7</title>\n<path fill=\"none\" stroke=\"#000000\" d=\"M99.7964,-103.9815C94.6529,-95.1585 89.2123,-85.8258 84.0384,-76.9506\"/>\n<polygon fill=\"#000000\" stroke=\"#000000\" points=\"87.0344,-75.1402 78.9743,-68.2637 80.987,-78.6656 87.0344,-75.1402\"/>\n</g>\n<!-- 8 -->\n<g id=\"node9\" class=\"node\">\n<title>8</title>\n<path fill=\"#e58139\" stroke=\"#000000\" d=\"M231.5,-68C231.5,-68 148.5,-68 148.5,-68 142.5,-68 136.5,-62 136.5,-56 136.5,-56 136.5,-12 136.5,-12 136.5,-6 142.5,0 148.5,0 148.5,0 231.5,0 231.5,0 237.5,0 243.5,-6 243.5,-12 243.5,-12 243.5,-56 243.5,-56 243.5,-62 237.5,-68 231.5,-68\"/>\n<text text-anchor=\"start\" x=\"147.5\" y=\"-52.8\" font-family=\"Helvetica,sans-Serif\" font-size=\"14.00\" fill=\"#000000\">entropy = 0.0</text>\n<text text-anchor=\"start\" x=\"146\" y=\"-37.8\" font-family=\"Helvetica,sans-Serif\" font-size=\"14.00\" fill=\"#000000\">samples = 10</text>\n<text text-anchor=\"start\" x=\"144.5\" y=\"-22.8\" font-family=\"Helvetica,sans-Serif\" font-size=\"14.00\" fill=\"#000000\">value = [10, 0]</text>\n<text text-anchor=\"start\" x=\"151\" y=\"-7.8\" font-family=\"Helvetica,sans-Serif\" font-size=\"14.00\" fill=\"#000000\">class = Asia</text>\n</g>\n<!-- 6&#45;&gt;8 -->\n<g id=\"edge8\" class=\"edge\">\n<title>6&#45;&gt;8</title>\n<path fill=\"none\" stroke=\"#000000\" d=\"M148.576,-103.9815C153.7986,-95.1585 159.3229,-85.8258 164.5763,-76.9506\"/>\n<polygon fill=\"#000000\" stroke=\"#000000\" points=\"167.6364,-78.652 169.7184,-68.2637 161.6126,-75.0863 167.6364,-78.652\"/>\n</g>\n<!-- 12 -->\n<g id=\"node13\" class=\"node\">\n<title>12</title>\n<path fill=\"#399de5\" stroke=\"#000000\" d=\"M534.5,-298.5C534.5,-298.5 445.5,-298.5 445.5,-298.5 439.5,-298.5 433.5,-292.5 433.5,-286.5 433.5,-286.5 433.5,-242.5 433.5,-242.5 433.5,-236.5 439.5,-230.5 445.5,-230.5 445.5,-230.5 534.5,-230.5 534.5,-230.5 540.5,-230.5 546.5,-236.5 546.5,-242.5 546.5,-242.5 546.5,-286.5 546.5,-286.5 546.5,-292.5 540.5,-298.5 534.5,-298.5\"/>\n<text text-anchor=\"start\" x=\"447.5\" y=\"-283.3\" font-family=\"Helvetica,sans-Serif\" font-size=\"14.00\" fill=\"#000000\">entropy = 0.0</text>\n<text text-anchor=\"start\" x=\"450.5\" y=\"-268.3\" font-family=\"Helvetica,sans-Serif\" font-size=\"14.00\" fill=\"#000000\">samples = 1</text>\n<text text-anchor=\"start\" x=\"448.5\" y=\"-253.3\" font-family=\"Helvetica,sans-Serif\" font-size=\"14.00\" fill=\"#000000\">value = [0, 1]</text>\n<text text-anchor=\"start\" x=\"441.5\" y=\"-238.3\" font-family=\"Helvetica,sans-Serif\" font-size=\"14.00\" fill=\"#000000\">class = Europe</text>\n</g>\n<!-- 11&#45;&gt;12 -->\n<g id=\"edge12\" class=\"edge\">\n<title>11&#45;&gt;12</title>\n<path fill=\"none\" stroke=\"#000000\" d=\"M497.1527,-341.8796C496.1668,-331.2134 495.1027,-319.7021 494.1043,-308.9015\"/>\n<polygon fill=\"#000000\" stroke=\"#000000\" points=\"497.5776,-308.4503 493.172,-298.8149 490.6074,-309.0947 497.5776,-308.4503\"/>\n</g>\n<!-- 13 -->\n<g id=\"node14\" class=\"node\">\n<title>13</title>\n<path fill=\"#e58139\" stroke=\"#000000\" d=\"M653.5,-298.5C653.5,-298.5 576.5,-298.5 576.5,-298.5 570.5,-298.5 564.5,-292.5 564.5,-286.5 564.5,-286.5 564.5,-242.5 564.5,-242.5 564.5,-236.5 570.5,-230.5 576.5,-230.5 576.5,-230.5 653.5,-230.5 653.5,-230.5 659.5,-230.5 665.5,-236.5 665.5,-242.5 665.5,-242.5 665.5,-286.5 665.5,-286.5 665.5,-292.5 659.5,-298.5 653.5,-298.5\"/>\n<text text-anchor=\"start\" x=\"572.5\" y=\"-283.3\" font-family=\"Helvetica,sans-Serif\" font-size=\"14.00\" fill=\"#000000\">entropy = 0.0</text>\n<text text-anchor=\"start\" x=\"575.5\" y=\"-268.3\" font-family=\"Helvetica,sans-Serif\" font-size=\"14.00\" fill=\"#000000\">samples = 1</text>\n<text text-anchor=\"start\" x=\"573.5\" y=\"-253.3\" font-family=\"Helvetica,sans-Serif\" font-size=\"14.00\" fill=\"#000000\">value = [1, 0]</text>\n<text text-anchor=\"start\" x=\"576\" y=\"-238.3\" font-family=\"Helvetica,sans-Serif\" font-size=\"14.00\" fill=\"#000000\">class = Asia</text>\n</g>\n<!-- 11&#45;&gt;13 -->\n<g id=\"edge13\" class=\"edge\">\n<title>11&#45;&gt;13</title>\n<path fill=\"none\" stroke=\"#000000\" d=\"M540.8717,-341.8796C551.9324,-330.3337 563.9418,-317.7976 575.0094,-306.2446\"/>\n<polygon fill=\"#000000\" stroke=\"#000000\" points=\"577.7365,-308.4573 582.1269,-298.8149 572.6817,-303.6149 577.7365,-308.4573\"/>\n</g>\n<!-- 17 -->\n<g id=\"node18\" class=\"node\">\n<title>17</title>\n<path fill=\"#e58139\" stroke=\"#000000\" d=\"M824.5,-655.5C824.5,-655.5 747.5,-655.5 747.5,-655.5 741.5,-655.5 735.5,-649.5 735.5,-643.5 735.5,-643.5 735.5,-599.5 735.5,-599.5 735.5,-593.5 741.5,-587.5 747.5,-587.5 747.5,-587.5 824.5,-587.5 824.5,-587.5 830.5,-587.5 836.5,-593.5 836.5,-599.5 836.5,-599.5 836.5,-643.5 836.5,-643.5 836.5,-649.5 830.5,-655.5 824.5,-655.5\"/>\n<text text-anchor=\"start\" x=\"743.5\" y=\"-640.3\" font-family=\"Helvetica,sans-Serif\" font-size=\"14.00\" fill=\"#000000\">entropy = 0.0</text>\n<text text-anchor=\"start\" x=\"746.5\" y=\"-625.3\" font-family=\"Helvetica,sans-Serif\" font-size=\"14.00\" fill=\"#000000\">samples = 1</text>\n<text text-anchor=\"start\" x=\"744.5\" y=\"-610.3\" font-family=\"Helvetica,sans-Serif\" font-size=\"14.00\" fill=\"#000000\">value = [1, 0]</text>\n<text text-anchor=\"start\" x=\"747\" y=\"-595.3\" font-family=\"Helvetica,sans-Serif\" font-size=\"14.00\" fill=\"#000000\">class = Asia</text>\n</g>\n<!-- 16&#45;&gt;17 -->\n<g id=\"edge17\" class=\"edge\">\n<title>16&#45;&gt;17</title>\n<path fill=\"none\" stroke=\"#000000\" d=\"M793.803,-698.8796C792.7274,-688.2134 791.5666,-676.7021 790.4775,-665.9015\"/>\n<polygon fill=\"#000000\" stroke=\"#000000\" points=\"793.9461,-665.4133 789.4603,-655.8149 786.9814,-666.1157 793.9461,-665.4133\"/>\n</g>\n<!-- 18 -->\n<g id=\"node19\" class=\"node\">\n<title>18</title>\n<path fill=\"#40a1e6\" stroke=\"#000000\" d=\"M1003.5,-663C1003.5,-663 866.5,-663 866.5,-663 860.5,-663 854.5,-657 854.5,-651 854.5,-651 854.5,-592 854.5,-592 854.5,-586 860.5,-580 866.5,-580 866.5,-580 1003.5,-580 1003.5,-580 1009.5,-580 1015.5,-586 1015.5,-592 1015.5,-592 1015.5,-651 1015.5,-651 1015.5,-657 1009.5,-663 1003.5,-663\"/>\n<text text-anchor=\"start\" x=\"862.5\" y=\"-647.8\" font-family=\"Helvetica,sans-Serif\" font-size=\"14.00\" fill=\"#000000\">spirit_servings ≤ 289.0</text>\n<text text-anchor=\"start\" x=\"884\" y=\"-632.8\" font-family=\"Helvetica,sans-Serif\" font-size=\"14.00\" fill=\"#000000\">entropy = 0.222</text>\n<text text-anchor=\"start\" x=\"891\" y=\"-617.8\" font-family=\"Helvetica,sans-Serif\" font-size=\"14.00\" fill=\"#000000\">samples = 28</text>\n<text text-anchor=\"start\" x=\"889.5\" y=\"-602.8\" font-family=\"Helvetica,sans-Serif\" font-size=\"14.00\" fill=\"#000000\">value = [1, 27]</text>\n<text text-anchor=\"start\" x=\"886.5\" y=\"-587.8\" font-family=\"Helvetica,sans-Serif\" font-size=\"14.00\" fill=\"#000000\">class = Europe</text>\n</g>\n<!-- 16&#45;&gt;18 -->\n<g id=\"edge18\" class=\"edge\">\n<title>16&#45;&gt;18</title>\n<path fill=\"none\" stroke=\"#000000\" d=\"M845.916,-698.8796C856.6993,-689.513 868.2329,-679.4948 879.3039,-669.8784\"/>\n<polygon fill=\"#000000\" stroke=\"#000000\" points=\"881.6251,-672.4982 886.8795,-663.2981 877.0347,-667.2134 881.6251,-672.4982\"/>\n</g>\n<!-- 19 -->\n<g id=\"node20\" class=\"node\">\n<title>19</title>\n<path fill=\"#399de5\" stroke=\"#000000\" d=\"M916.5,-536.5C916.5,-536.5 827.5,-536.5 827.5,-536.5 821.5,-536.5 815.5,-530.5 815.5,-524.5 815.5,-524.5 815.5,-480.5 815.5,-480.5 815.5,-474.5 821.5,-468.5 827.5,-468.5 827.5,-468.5 916.5,-468.5 916.5,-468.5 922.5,-468.5 928.5,-474.5 928.5,-480.5 928.5,-480.5 928.5,-524.5 928.5,-524.5 928.5,-530.5 922.5,-536.5 916.5,-536.5\"/>\n<text text-anchor=\"start\" x=\"829.5\" y=\"-521.3\" font-family=\"Helvetica,sans-Serif\" font-size=\"14.00\" fill=\"#000000\">entropy = 0.0</text>\n<text text-anchor=\"start\" x=\"828\" y=\"-506.3\" font-family=\"Helvetica,sans-Serif\" font-size=\"14.00\" fill=\"#000000\">samples = 27</text>\n<text text-anchor=\"start\" x=\"826.5\" y=\"-491.3\" font-family=\"Helvetica,sans-Serif\" font-size=\"14.00\" fill=\"#000000\">value = [0, 27]</text>\n<text text-anchor=\"start\" x=\"823.5\" y=\"-476.3\" font-family=\"Helvetica,sans-Serif\" font-size=\"14.00\" fill=\"#000000\">class = Europe</text>\n</g>\n<!-- 18&#45;&gt;19 -->\n<g id=\"edge19\" class=\"edge\">\n<title>18&#45;&gt;19</title>\n<path fill=\"none\" stroke=\"#000000\" d=\"M912.9657,-579.8796C907.1442,-568.8835 900.8473,-556.9893 894.9773,-545.9015\"/>\n<polygon fill=\"#000000\" stroke=\"#000000\" points=\"897.9389,-544.0152 890.1667,-536.8149 891.7524,-547.2905 897.9389,-544.0152\"/>\n</g>\n<!-- 20 -->\n<g id=\"node21\" class=\"node\">\n<title>20</title>\n<path fill=\"#e58139\" stroke=\"#000000\" d=\"M1035.5,-536.5C1035.5,-536.5 958.5,-536.5 958.5,-536.5 952.5,-536.5 946.5,-530.5 946.5,-524.5 946.5,-524.5 946.5,-480.5 946.5,-480.5 946.5,-474.5 952.5,-468.5 958.5,-468.5 958.5,-468.5 1035.5,-468.5 1035.5,-468.5 1041.5,-468.5 1047.5,-474.5 1047.5,-480.5 1047.5,-480.5 1047.5,-524.5 1047.5,-524.5 1047.5,-530.5 1041.5,-536.5 1035.5,-536.5\"/>\n<text text-anchor=\"start\" x=\"954.5\" y=\"-521.3\" font-family=\"Helvetica,sans-Serif\" font-size=\"14.00\" fill=\"#000000\">entropy = 0.0</text>\n<text text-anchor=\"start\" x=\"957.5\" y=\"-506.3\" font-family=\"Helvetica,sans-Serif\" font-size=\"14.00\" fill=\"#000000\">samples = 1</text>\n<text text-anchor=\"start\" x=\"955.5\" y=\"-491.3\" font-family=\"Helvetica,sans-Serif\" font-size=\"14.00\" fill=\"#000000\">value = [1, 0]</text>\n<text text-anchor=\"start\" x=\"958\" y=\"-476.3\" font-family=\"Helvetica,sans-Serif\" font-size=\"14.00\" fill=\"#000000\">class = Asia</text>\n</g>\n<!-- 18&#45;&gt;20 -->\n<g id=\"edge20\" class=\"edge\">\n<title>18&#45;&gt;20</title>\n<path fill=\"none\" stroke=\"#000000\" d=\"M956.6846,-579.8796C962.4136,-568.8835 968.6106,-556.9893 974.3874,-545.9015\"/>\n<polygon fill=\"#000000\" stroke=\"#000000\" points=\"977.605,-547.3007 979.1216,-536.8149 971.397,-544.0662 977.605,-547.3007\"/>\n</g>\n</g>\n</svg>\n"
          },
          "metadata": {},
          "execution_count": 17
        }
      ]
    },
    {
      "cell_type": "code",
      "source": [
        "from sklearn.metrics import accuracy_score, confusion_matrix, f1_score, precision_score,recall_score,classification_report\n",
        "\n",
        "# Plot a confusion matrix.\n",
        "# cm is the confusion matrix, names are the names of the classes.\n",
        "def plot_confusion_matrix(cm, names, title='Confusion matrix', cmap=plt.cm.Blues):\n",
        "    plt.imshow(cm, interpolation='nearest', cmap=cmap)\n",
        "    plt.title(title)\n",
        "    plt.colorbar()\n",
        "    tick_marks = np.arange(len(names))\n",
        "    plt.xticks(tick_marks, names, rotation=45)\n",
        "    plt.yticks(tick_marks, names)\n",
        "    plt.tight_layout()\n",
        "    plt.ylabel('True label')\n",
        "    plt.xlabel('Predicted label')\n",
        "\n",
        "predClassY = clf.predict(x_test)\n",
        "testY = y_test['continent']\n",
        "print('Accuracy on test data is %.2f' % (accuracy_score(testY, predClassY)))"
      ],
      "metadata": {
        "colab": {
          "base_uri": "https://localhost:8080/"
        },
        "id": "SGWWThtqje3v",
        "outputId": "e1896781-7578-4a6b-9389-4d41448ffe52"
      },
      "execution_count": null,
      "outputs": [
        {
          "output_type": "stream",
          "name": "stdout",
          "text": [
            "Accuracy on test data is 0.76\n"
          ]
        }
      ]
    },
    {
      "cell_type": "code",
      "source": [
        "confusion = confusion_matrix(testY, predClassY)\n",
        "print(confusion)\n",
        "\n",
        "plot_confusion_matrix(confusion, ['Asia','Europe'], title='Confusion matrix', cmap=plt.cm.Blues)\n",
        "\n",
        "print('Accuracy on test data is %.2f' % (accuracy_score(testY, predClassY)))\n",
        "print('F1 score on test data is %.2f' % (f1_score(testY, predClassY, average='weighted')))\n",
        "print('Precision Score on test data is %.2f' % (precision_score(testY, predClassY, average='weighted')))\n",
        "print('Recall score on test data is %.2f' % (recall_score(testY, predClassY, average='weighted')))\n",
        "print( classification_report(testY,predClassY))"
      ],
      "metadata": {
        "colab": {
          "base_uri": "https://localhost:8080/",
          "height": 579
        },
        "id": "viiZuah_ttbD",
        "outputId": "ce6ecef2-89b7-46dd-9442-714751dd82fa"
      },
      "execution_count": null,
      "outputs": [
        {
          "output_type": "stream",
          "name": "stdout",
          "text": [
            "[[6 1]\n",
            " [3 7]]\n",
            "Accuracy on test data is 0.76\n",
            "F1 score on test data is 0.77\n",
            "Precision Score on test data is 0.79\n",
            "Recall score on test data is 0.76\n",
            "              precision    recall  f1-score   support\n",
            "\n",
            "           0       0.67      0.86      0.75         7\n",
            "           1       0.88      0.70      0.78        10\n",
            "\n",
            "    accuracy                           0.76        17\n",
            "   macro avg       0.77      0.78      0.76        17\n",
            "weighted avg       0.79      0.76      0.77        17\n",
            "\n"
          ]
        },
        {
          "output_type": "display_data",
          "data": {
            "text/plain": [
              "<Figure size 432x288 with 2 Axes>"
            ],
            "image/png": "[encoded data removed]"
          },
          "metadata": {
            "needs_background": "light"
          }
        }
      ]
    },
    {
      "cell_type": "markdown",
      "source": [
        "# Logistic Regression (Logit)"
      ],
      "metadata": {
        "id": "YZBZyw_iJHOT"
      }
    },
    {
      "cell_type": "code",
      "source": [
        "from sklearn.linear_model import LogisticRegression\n",
        "from sklearn.metrics import accuracy_score, confusion_matrix, f1_score, precision_score,recall_score,classification_report\n",
        "\n",
        "C = [0.01, 0.1, 0.2, 0.5, 0.8, 1, 5, 10, 20, 50]\n",
        "\n",
        "LRtestAcc = []\n",
        "LRtrainAcc = []\n",
        "\n",
        "for param in C:\n",
        "    clf = LogisticRegression(C=param)\n",
        "    clf.fit(X,Y)\n",
        "    log_reg_pred = clf.predict(x_test)\n",
        "    log_reg_pred_train = clf.predict(X)\n",
        "    print(log_reg_pred)\n",
        "    LRtestAcc.append(accuracy_score(y_test, log_reg_pred))\n",
        "    LRtrainAcc.append(accuracy_score(Y,log_reg_pred_train))\n",
        "\n",
        "plt.plot(C, LRtestAcc,'bv--',C,LRtrainAcc,'ro--')\n",
        "plt.legend(['Test Accuracy','Train Accuracy'])\n",
        "plt.xlabel('C')\n",
        "plt.xscale('log')\n",
        "plt.ylabel('Accuracy') "
      ],
      "metadata": {
        "id": "oqW9AQ8sBIko",
        "colab": {
          "base_uri": "https://localhost:8080/",
          "height": 857
        },
        "outputId": "bf85b966-0868-4eea-c519-809fe871a194"
      },
      "execution_count": null,
      "outputs": [
        {
          "output_type": "stream",
          "name": "stdout",
          "text": [
            "[1 1 0 1 0 0 1 1 1 0 0 0 1 0 1 0 0]\n",
            "[1 1 0 1 0 0 1 1 1 0 0 0 1 0 1 0 0]\n",
            "[1 1 0 1 0 0 1 1 1 0 0 0 1 0 1 0 0]\n",
            "[1 1 0 1 0 0 1 1 1 0 0 0 1 0 1 0 0]\n",
            "[1 1 0 1 0 0 1 1 1 0 0 0 1 0 1 0 0]\n",
            "[1 1 0 1 0 0 1 1 1 0 0 0 1 0 1 0 0]\n",
            "[1 1 0 1 0 0 1 1 1 0 0 0 1 0 1 0 0]\n",
            "[1 1 0 1 0 0 1 1 1 0 0 0 1 0 1 0 0]\n",
            "[1 1 0 1 0 0 1 1 1 0 0 0 1 0 1 0 0]\n",
            "[1 1 0 1 0 0 1 1 1 0 0 0 1 0 1 0 0]\n"
          ]
        },
        {
          "output_type": "stream",
          "name": "stderr",
          "text": [
            "/usr/local/lib/python3.7/dist-packages/sklearn/utils/validation.py:993: DataConversionWarning: A column-vector y was passed when a 1d array was expected. Please change the shape of y to (n_samples, ), for example using ravel().\n",
            "  y = column_or_1d(y, warn=True)\n",
            "/usr/local/lib/python3.7/dist-packages/sklearn/utils/validation.py:993: DataConversionWarning: A column-vector y was passed when a 1d array was expected. Please change the shape of y to (n_samples, ), for example using ravel().\n",
            "  y = column_or_1d(y, warn=True)\n",
            "/usr/local/lib/python3.7/dist-packages/sklearn/utils/validation.py:993: DataConversionWarning: A column-vector y was passed when a 1d array was expected. Please change the shape of y to (n_samples, ), for example using ravel().\n",
            "  y = column_or_1d(y, warn=True)\n",
            "/usr/local/lib/python3.7/dist-packages/sklearn/utils/validation.py:993: DataConversionWarning: A column-vector y was passed when a 1d array was expected. Please change the shape of y to (n_samples, ), for example using ravel().\n",
            "  y = column_or_1d(y, warn=True)\n",
            "/usr/local/lib/python3.7/dist-packages/sklearn/utils/validation.py:993: DataConversionWarning: A column-vector y was passed when a 1d array was expected. Please change the shape of y to (n_samples, ), for example using ravel().\n",
            "  y = column_or_1d(y, warn=True)\n",
            "/usr/local/lib/python3.7/dist-packages/sklearn/utils/validation.py:993: DataConversionWarning: A column-vector y was passed when a 1d array was expected. Please change the shape of y to (n_samples, ), for example using ravel().\n",
            "  y = column_or_1d(y, warn=True)\n",
            "/usr/local/lib/python3.7/dist-packages/sklearn/utils/validation.py:993: DataConversionWarning: A column-vector y was passed when a 1d array was expected. Please change the shape of y to (n_samples, ), for example using ravel().\n",
            "  y = column_or_1d(y, warn=True)\n",
            "/usr/local/lib/python3.7/dist-packages/sklearn/utils/validation.py:993: DataConversionWarning: A column-vector y was passed when a 1d array was expected. Please change the shape of y to (n_samples, ), for example using ravel().\n",
            "  y = column_or_1d(y, warn=True)\n",
            "/usr/local/lib/python3.7/dist-packages/sklearn/utils/validation.py:993: DataConversionWarning: A column-vector y was passed when a 1d array was expected. Please change the shape of y to (n_samples, ), for example using ravel().\n",
            "  y = column_or_1d(y, warn=True)\n",
            "/usr/local/lib/python3.7/dist-packages/sklearn/utils/validation.py:993: DataConversionWarning: A column-vector y was passed when a 1d array was expected. Please change the shape of y to (n_samples, ), for example using ravel().\n",
            "  y = column_or_1d(y, warn=True)\n"
          ]
        },
        {
          "output_type": "execute_result",
          "data": {
            "text/plain": [
              "Text(0, 0.5, 'Accuracy')"
            ]
          },
          "metadata": {},
          "execution_count": 20
        },
        {
          "output_type": "display_data",
          "data": {
            "text/plain": [
              "<Figure size 432x288 with 1 Axes>"
            ],
            "image/png": "[encoded data removed]"
          },
          "metadata": {
            "needs_background": "light"
          }
        }
      ]
    },
    {
      "cell_type": "code",
      "source": [
        "# test accuracy score\n",
        "print(accuracy_score(y_test, log_reg_pred))\n",
        "# train accuracy score\n",
        "print(accuracy_score(Y, log_reg_pred_train))"
      ],
      "metadata": {
        "colab": {
          "base_uri": "https://localhost:8080/"
        },
        "id": "zyTdzQmnGmjr",
        "outputId": "8ab6a33b-50e7-495a-d044-a41122e4df95"
      },
      "execution_count": null,
      "outputs": [
        {
          "output_type": "stream",
          "name": "stdout",
          "text": [
            "0.8823529411764706\n",
            "0.8902439024390244\n"
          ]
        }
      ]
    },
    {
      "cell_type": "markdown",
      "source": [
        "# Naive Baynes"
      ],
      "metadata": {
        "id": "ok-z_b57JMu7"
      }
    },
    {
      "cell_type": "code",
      "source": [
        "from sklearn.naive_bayes import GaussianNB\n",
        "\n",
        "clf_NB = GaussianNB()\n",
        "clf_NB.fit(X,Y)\n",
        "NB_pred = clf_NB.predict(x_test)\n",
        "print(NB_pred)\n",
        "\n",
        "print('Accuracy on test data is %.2f' % (accuracy_score(y_test, NB_pred)))"
      ],
      "metadata": {
        "id": "HCroNzsYIdRd",
        "colab": {
          "base_uri": "https://localhost:8080/"
        },
        "outputId": "159df14f-47d5-47d4-e7f4-39df4f38ff46"
      },
      "execution_count": null,
      "outputs": [
        {
          "output_type": "stream",
          "name": "stdout",
          "text": [
            "[1 1 0 1 0 0 1 1 1 0 0 0 1 0 1 0 0]\n",
            "Accuracy on test data is 0.88\n"
          ]
        },
        {
          "output_type": "stream",
          "name": "stderr",
          "text": [
            "/usr/local/lib/python3.7/dist-packages/sklearn/utils/validation.py:993: DataConversionWarning: A column-vector y was passed when a 1d array was expected. Please change the shape of y to (n_samples, ), for example using ravel().\n",
            "  y = column_or_1d(y, warn=True)\n"
          ]
        }
      ]
    },
    {
      "cell_type": "markdown",
      "source": [
        "# K-Nearest Neighbor (KNN)"
      ],
      "metadata": {
        "id": "WqV5LsVfJRUt"
      }
    },
    {
      "cell_type": "code",
      "source": [
        "from sklearn.neighbors import KNeighborsClassifier\n",
        "\n",
        "numNeighbors = [1, 5, 10]\n",
        "testAcc = []\n",
        "trainAcc = []\n",
        "\n",
        "for k in numNeighbors:\n",
        "    clf = KNeighborsClassifier(n_neighbors=k, metric='minkowski', p=2)\n",
        "    clf.fit(X, Y)\n",
        "    knn_pred = clf.predict(x_test)\n",
        "    knn_pred_train = clf.predict(X)\n",
        "    print(knn_pred)\n",
        "    testAcc.append(accuracy_score(y_test, knn_pred))\n",
        "    trainAcc.append(accuracy_score(Y,knn_pred_train))\n",
        "\n",
        "plt.plot(numNeighbors, testAcc,'bv--',numNeighbors, trainAcc, 'ro--')\n",
        "plt.legend(['Test Accuracy','Train Accuracy'])\n",
        "plt.xlabel('Number of neighbors')\n",
        "plt.ylabel('Accuracy')"
      ],
      "metadata": {
        "id": "b5j6okxiIq8V",
        "colab": {
          "base_uri": "https://localhost:8080/",
          "height": 478
        },
        "outputId": "ecd0a312-65da-46ef-d57e-ebe9d00bc1fd"
      },
      "execution_count": null,
      "outputs": [
        {
          "output_type": "stream",
          "name": "stdout",
          "text": [
            "[1 1 0 1 0 0 1 1 1 1 0 0 1 0 1 0 0]\n",
            "[1 1 0 1 0 0 1 1 1 0 0 0 1 0 0 0 0]\n",
            "[1 1 0 1 0 0 0 1 1 0 0 0 1 0 0 0 0]\n"
          ]
        },
        {
          "output_type": "stream",
          "name": "stderr",
          "text": [
            "/usr/local/lib/python3.7/dist-packages/sklearn/neighbors/_classification.py:198: DataConversionWarning: A column-vector y was passed when a 1d array was expected. Please change the shape of y to (n_samples,), for example using ravel().\n",
            "  return self._fit(X, y)\n",
            "/usr/local/lib/python3.7/dist-packages/sklearn/neighbors/_classification.py:198: DataConversionWarning: A column-vector y was passed when a 1d array was expected. Please change the shape of y to (n_samples,), for example using ravel().\n",
            "  return self._fit(X, y)\n",
            "/usr/local/lib/python3.7/dist-packages/sklearn/neighbors/_classification.py:198: DataConversionWarning: A column-vector y was passed when a 1d array was expected. Please change the shape of y to (n_samples,), for example using ravel().\n",
            "  return self._fit(X, y)\n"
          ]
        },
        {
          "output_type": "execute_result",
          "data": {
            "text/plain": [
              "Text(0, 0.5, 'Accuracy')"
            ]
          },
          "metadata": {},
          "execution_count": 31
        },
        {
          "output_type": "display_data",
          "data": {
            "text/plain": [
              "<Figure size 432x288 with 1 Axes>"
            ],
            "image/png": "[encoded data removed]"
          },
          "metadata": {
            "needs_background": "light"
          }
        }
      ]
    },
    {
      "cell_type": "code",
      "source": [
        "# test accuracy score\n",
        "print(accuracy_score(y_test, knn_pred))\n",
        "# train accuracy score\n",
        "print(accuracy_score(Y,knn_pred_train))"
      ],
      "metadata": {
        "colab": {
          "base_uri": "https://localhost:8080/"
        },
        "id": "YetHoV8-EiY_",
        "outputId": "b72a8b18-1504-4361-893b-ce40703c93df"
      },
      "execution_count": null,
      "outputs": [
        {
          "output_type": "stream",
          "name": "stdout",
          "text": [
            "0.7647058823529411\n",
            "0.8658536585365854\n"
          ]
        }
      ]
    },
    {
      "cell_type": "markdown",
      "source": [
        "# Support Vector Machine (SVM) Classifier"
      ],
      "metadata": {
        "id": "n7eKqQuQJnWN"
      }
    },
    {
      "cell_type": "markdown",
      "source": [
        "### Linear Decision Boundary\n",
        "Code runs quickly, so we can separate the groups using a linear line function."
      ],
      "metadata": {
        "id": "qyg1TjXHJ0eG"
      }
    },
    {
      "cell_type": "code",
      "source": [
        "from sklearn.svm import SVC\n",
        "\n",
        "C = [0.01, 0.1, 0.2, 0.5, 0.8, 1, 5]\n",
        "\n",
        "SVMLtestAcc = []\n",
        "SVMLtrainAcc = []\n",
        "\n",
        "\n",
        "\n",
        "for param in C:\n",
        "    clf = SVC(C=param,kernel='linear')\n",
        "    clf.fit(X,Y)\n",
        "    svml_pred = clf.predict(x_test)\n",
        "    svml_pred_train = clf.predict(X)\n",
        "    print(svml_pred)\n",
        "    SVMLtestAcc.append(accuracy_score(y_test, svml_pred))\n",
        "    SVMLtrainAcc.append(accuracy_score(Y,svml_pred_train))\n",
        "\n",
        "plt.plot(C, SVMLtestAcc,'ro--', C,SVMLtrainAcc,'bv--')\n",
        "plt.legend(['Test Accuracy','Train Accuracy'])\n",
        "plt.xlabel('C')\n",
        "plt.xscale('log')\n",
        "plt.ylabel('Accuracy')"
      ],
      "metadata": {
        "id": "xJJnmKUjJtpb",
        "colab": {
          "base_uri": "https://localhost:8080/",
          "height": 696
        },
        "outputId": "813b2e2d-7c49-4645-f7e5-7f496714dfb0"
      },
      "execution_count": null,
      "outputs": [
        {
          "output_type": "stream",
          "name": "stderr",
          "text": [
            "/usr/local/lib/python3.7/dist-packages/sklearn/utils/validation.py:993: DataConversionWarning: A column-vector y was passed when a 1d array was expected. Please change the shape of y to (n_samples, ), for example using ravel().\n",
            "  y = column_or_1d(y, warn=True)\n",
            "/usr/local/lib/python3.7/dist-packages/sklearn/utils/validation.py:993: DataConversionWarning: A column-vector y was passed when a 1d array was expected. Please change the shape of y to (n_samples, ), for example using ravel().\n",
            "  y = column_or_1d(y, warn=True)\n",
            "/usr/local/lib/python3.7/dist-packages/sklearn/utils/validation.py:993: DataConversionWarning: A column-vector y was passed when a 1d array was expected. Please change the shape of y to (n_samples, ), for example using ravel().\n",
            "  y = column_or_1d(y, warn=True)\n",
            "/usr/local/lib/python3.7/dist-packages/sklearn/utils/validation.py:993: DataConversionWarning: A column-vector y was passed when a 1d array was expected. Please change the shape of y to (n_samples, ), for example using ravel().\n",
            "  y = column_or_1d(y, warn=True)\n",
            "/usr/local/lib/python3.7/dist-packages/sklearn/utils/validation.py:993: DataConversionWarning: A column-vector y was passed when a 1d array was expected. Please change the shape of y to (n_samples, ), for example using ravel().\n",
            "  y = column_or_1d(y, warn=True)\n"
          ]
        },
        {
          "output_type": "stream",
          "name": "stdout",
          "text": [
            "[1 1 0 1 0 0 1 1 1 0 0 0 1 0 1 0 0]\n",
            "[1 1 0 1 0 0 1 1 1 0 0 0 1 0 1 0 0]\n",
            "[1 1 0 1 0 0 1 1 1 0 0 0 1 0 1 0 0]\n",
            "[1 1 0 1 0 0 1 1 1 0 0 0 1 0 1 0 0]\n",
            "[1 1 0 1 0 0 1 1 1 0 0 0 1 0 1 0 0]\n"
          ]
        },
        {
          "output_type": "stream",
          "name": "stderr",
          "text": [
            "/usr/local/lib/python3.7/dist-packages/sklearn/utils/validation.py:993: DataConversionWarning: A column-vector y was passed when a 1d array was expected. Please change the shape of y to (n_samples, ), for example using ravel().\n",
            "  y = column_or_1d(y, warn=True)\n",
            "/usr/local/lib/python3.7/dist-packages/sklearn/utils/validation.py:993: DataConversionWarning: A column-vector y was passed when a 1d array was expected. Please change the shape of y to (n_samples, ), for example using ravel().\n",
            "  y = column_or_1d(y, warn=True)\n"
          ]
        },
        {
          "output_type": "stream",
          "name": "stdout",
          "text": [
            "[1 1 0 1 0 0 1 1 1 0 0 0 1 0 1 0 0]\n",
            "[1 1 0 1 0 0 1 1 1 0 0 0 1 0 1 0 0]\n"
          ]
        },
        {
          "output_type": "execute_result",
          "data": {
            "text/plain": [
              "Text(0, 0.5, 'Accuracy')"
            ]
          },
          "metadata": {},
          "execution_count": 28
        },
        {
          "output_type": "display_data",
          "data": {
            "text/plain": [
              "<Figure size 432x288 with 1 Axes>"
            ],
            "image/png": "[encoded data removed]"
          },
          "metadata": {
            "needs_background": "light"
          }
        }
      ]
    },
    {
      "cell_type": "code",
      "source": [
        "# test accuracy score\n",
        "print(accuracy_score(y_test, svml_pred))\n",
        "# train accuracy score\n",
        "print(accuracy_score(Y, svml_pred_train))"
      ],
      "metadata": {
        "colab": {
          "base_uri": "https://localhost:8080/"
        },
        "id": "6ZBZoaMkKmZ4",
        "outputId": "d739e783-fe86-4b41-a9a1-e57cee2333f2"
      },
      "execution_count": null,
      "outputs": [
        {
          "output_type": "stream",
          "name": "stdout",
          "text": [
            "0.8823529411764706\n",
            "0.8902439024390244\n"
          ]
        }
      ]
    },
    {
      "cell_type": "markdown",
      "source": [
        "### Non Linear Decision Boundary\n",
        "Code also runs quickly, so non-linear kernel can be used."
      ],
      "metadata": {
        "id": "3F5k8SVzJ4L0"
      }
    },
    {
      "cell_type": "code",
      "source": [
        "from sklearn.svm import SVC\n",
        "C = [0.01, 0.1, 0.2, 0.5, 0.8, 1, 5, 10, 20, 50]\n",
        "\n",
        "SVMLtestAcc = []\n",
        "SVMLtrainAcc = []\n",
        "\n",
        "for param in C:\n",
        "    clf = SVC(C=param,kernel='rbf',gamma='auto')\n",
        "    clf.fit(X,Y)\n",
        "    svml_pred = clf.predict(x_test)\n",
        "    svml_pred_train = clf.predict(X)\n",
        "    print(svml_pred)\n",
        "    SVMLtestAcc.append(accuracy_score(y_test, svml_pred))\n",
        "    SVMLtrainAcc.append(accuracy_score(Y,svml_pred_train))\n",
        "\n",
        "plt.plot(C, SVMLtestAcc,'ro--', C,SVMLtrainAcc,'bv--')\n",
        "plt.legend(['Test Accuracy','Train Accuracy'])\n",
        "plt.xlabel('C')\n",
        "plt.xscale('log')\n",
        "plt.ylabel('Accuracy')  "
      ],
      "metadata": {
        "colab": {
          "base_uri": "https://localhost:8080/",
          "height": 857
        },
        "id": "xKU8EnBUJ7sx",
        "outputId": "3602d355-45b6-4a5b-f6cb-2fbd3c57283c"
      },
      "execution_count": null,
      "outputs": [
        {
          "output_type": "stream",
          "name": "stdout",
          "text": [
            "[1 1 1 1 1 0 1 1 1 1 1 0 1 1 1 1 1]\n",
            "[1 1 1 1 1 0 1 1 1 1 1 0 1 1 1 1 1]\n",
            "[1 1 1 1 1 0 1 1 1 1 1 0 1 1 1 1 1]\n",
            "[1 1 1 1 1 0 1 1 1 1 0 0 1 1 1 1 1]\n",
            "[1 1 0 1 0 0 1 1 1 1 0 0 1 0 1 0 0]\n",
            "[1 1 0 1 0 0 1 1 1 1 0 0 1 0 1 0 0]\n",
            "[1 1 0 1 0 0 1 1 1 1 0 0 1 0 1 0 0]\n",
            "[1 1 0 1 0 0 1 1 1 1 0 0 1 0 1 0 0]\n",
            "[1 1 0 1 0 0 1 1 1 1 0 0 1 0 1 0 0]\n",
            "[1 1 0 1 0 0 1 1 1 1 0 0 1 0 1 0 0]\n"
          ]
        },
        {
          "output_type": "stream",
          "name": "stderr",
          "text": [
            "/usr/local/lib/python3.7/dist-packages/sklearn/utils/validation.py:993: DataConversionWarning: A column-vector y was passed when a 1d array was expected. Please change the shape of y to (n_samples, ), for example using ravel().\n",
            "  y = column_or_1d(y, warn=True)\n",
            "/usr/local/lib/python3.7/dist-packages/sklearn/utils/validation.py:993: DataConversionWarning: A column-vector y was passed when a 1d array was expected. Please change the shape of y to (n_samples, ), for example using ravel().\n",
            "  y = column_or_1d(y, warn=True)\n",
            "/usr/local/lib/python3.7/dist-packages/sklearn/utils/validation.py:993: DataConversionWarning: A column-vector y was passed when a 1d array was expected. Please change the shape of y to (n_samples, ), for example using ravel().\n",
            "  y = column_or_1d(y, warn=True)\n",
            "/usr/local/lib/python3.7/dist-packages/sklearn/utils/validation.py:993: DataConversionWarning: A column-vector y was passed when a 1d array was expected. Please change the shape of y to (n_samples, ), for example using ravel().\n",
            "  y = column_or_1d(y, warn=True)\n",
            "/usr/local/lib/python3.7/dist-packages/sklearn/utils/validation.py:993: DataConversionWarning: A column-vector y was passed when a 1d array was expected. Please change the shape of y to (n_samples, ), for example using ravel().\n",
            "  y = column_or_1d(y, warn=True)\n",
            "/usr/local/lib/python3.7/dist-packages/sklearn/utils/validation.py:993: DataConversionWarning: A column-vector y was passed when a 1d array was expected. Please change the shape of y to (n_samples, ), for example using ravel().\n",
            "  y = column_or_1d(y, warn=True)\n",
            "/usr/local/lib/python3.7/dist-packages/sklearn/utils/validation.py:993: DataConversionWarning: A column-vector y was passed when a 1d array was expected. Please change the shape of y to (n_samples, ), for example using ravel().\n",
            "  y = column_or_1d(y, warn=True)\n",
            "/usr/local/lib/python3.7/dist-packages/sklearn/utils/validation.py:993: DataConversionWarning: A column-vector y was passed when a 1d array was expected. Please change the shape of y to (n_samples, ), for example using ravel().\n",
            "  y = column_or_1d(y, warn=True)\n",
            "/usr/local/lib/python3.7/dist-packages/sklearn/utils/validation.py:993: DataConversionWarning: A column-vector y was passed when a 1d array was expected. Please change the shape of y to (n_samples, ), for example using ravel().\n",
            "  y = column_or_1d(y, warn=True)\n",
            "/usr/local/lib/python3.7/dist-packages/sklearn/utils/validation.py:993: DataConversionWarning: A column-vector y was passed when a 1d array was expected. Please change the shape of y to (n_samples, ), for example using ravel().\n",
            "  y = column_or_1d(y, warn=True)\n"
          ]
        },
        {
          "output_type": "execute_result",
          "data": {
            "text/plain": [
              "Text(0, 0.5, 'Accuracy')"
            ]
          },
          "metadata": {},
          "execution_count": 26
        },
        {
          "output_type": "display_data",
          "data": {
            "text/plain": [
              "<Figure size 432x288 with 1 Axes>"
            ],
            "image/png": "[encoded data removed]"
          },
          "metadata": {
            "needs_background": "light"
          }
        }
      ]
    },
    {
      "cell_type": "code",
      "source": [
        "# test accuracy score\n",
        "print(accuracy_score(y_test, svml_pred))\n",
        "# train accuracy score\n",
        "print(accuracy_score(Y, svml_pred_train))"
      ],
      "metadata": {
        "colab": {
          "base_uri": "https://localhost:8080/"
        },
        "id": "ikGftlcrKWls",
        "outputId": "3b1368b3-3178-410d-db34-66c42ce978c4"
      },
      "execution_count": null,
      "outputs": [
        {
          "output_type": "stream",
          "name": "stdout",
          "text": [
            "0.9411764705882353\n",
            "0.975609756097561\n"
          ]
        }
      ]
    }
  ]
}